{
    "metadata": {
        "kernelspec": {
            "name": "SQL",
            "display_name": "SQL",
            "language": "sql"
        },
        "language_info": {
            "name": "sql",
            "version": ""
        }
    },
    "nbformat_minor": 2,
    "nbformat": 4,
    "cells": [
        {
            "cell_type": "markdown",
            "source": [
                "Ebben  a mezőben azt vizsgáltam meg, hogy melyik egységárból hány darab van:\n",
                "\n",
                "![](data:image/png;base64,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)"
            ],
            "metadata": {
                "azdata_cell_guid": "bb53e16d-a1e2-484b-a976-84d2138d5e60"
            },
            "attachments": {}
        },
        {
            "cell_type": "code",
            "source": [
                "SELECT Egysegar, COUNT(Egysegar) AS 'Milyen eységárak vannak'\r\n",
                "FROM Nyersanyagok\r\n",
                "GROUP BY Egysegar\r\n",
                "ORDER BY Egysegar DESC\r\n",
                "\r\n",
                "\r\n",
                ""
            ],
            "metadata": {
                "azdata_cell_guid": "983c3fc1-7a76-435a-94db-a0f57aa4cac6",
                "language": "sql",
                "tags": []
            },
            "outputs": [
                {
                    "output_type": "display_data",
                    "data": {
                        "text/html": "Warning: Null value is eliminated by an aggregate or other SET operation."
                    },
                    "metadata": {}
                },
                {
                    "output_type": "display_data",
                    "data": {
                        "text/html": "(32 rows affected)"
                    },
                    "metadata": {}
                },
                {
                    "output_type": "display_data",
                    "data": {
                        "text/html": "Total execution time: 00:00:00.104"
                    },
                    "metadata": {}
                },
                {
                    "output_type": "execute_result",
                    "metadata": {},
                    "execution_count": 20,
                    "data": {
                        "application/vnd.dataresource+json": {
                            "schema": {
                                "fields": [
                                    {
                                        "name": "Egysegar"
                                    },
                                    {
                                        "name": "Milyen eységárak vannak"
                                    }
                                ]
                            },
                            "data": [
                                {
                                    "Egysegar": "2010,00",
                                    "Milyen eységárak vannak": "1"
                                },
                                {
                                    "Egysegar": "2000,00",
                                    "Milyen eységárak vannak": "2"
                                },
                                {
                                    "Egysegar": "1900,00",
                                    "Milyen eységárak vannak": "1"
                                },
                                {
                                    "Egysegar": "1800,00",
                                    "Milyen eységárak vannak": "2"
                                },
                                {
                                    "Egysegar": "1700,00",
                                    "Milyen eységárak vannak": "1"
                                },
                                {
                                    "Egysegar": "1500,00",
                                    "Milyen eységárak vannak": "3"
                                },
                                {
                                    "Egysegar": "1200,00",
                                    "Milyen eységárak vannak": "1"
                                },
                                {
                                    "Egysegar": "1000,00",
                                    "Milyen eységárak vannak": "1"
                                },
                                {
                                    "Egysegar": "800,00",
                                    "Milyen eységárak vannak": "1"
                                },
                                {
                                    "Egysegar": "700,00",
                                    "Milyen eységárak vannak": "1"
                                },
                                {
                                    "Egysegar": "600,00",
                                    "Milyen eységárak vannak": "1"
                                },
                                {
                                    "Egysegar": "500,00",
                                    "Milyen eységárak vannak": "2"
                                },
                                {
                                    "Egysegar": "400,00",
                                    "Milyen eységárak vannak": "6"
                                },
                                {
                                    "Egysegar": "350,00",
                                    "Milyen eységárak vannak": "3"
                                },
                                {
                                    "Egysegar": "320,00",
                                    "Milyen eységárak vannak": "1"
                                },
                                {
                                    "Egysegar": "300,00",
                                    "Milyen eységárak vannak": "4"
                                },
                                {
                                    "Egysegar": "250,00",
                                    "Milyen eységárak vannak": "5"
                                },
                                {
                                    "Egysegar": "200,00",
                                    "Milyen eységárak vannak": "12"
                                },
                                {
                                    "Egysegar": "180,00",
                                    "Milyen eységárak vannak": "4"
                                },
                                {
                                    "Egysegar": "150,00",
                                    "Milyen eységárak vannak": "5"
                                },
                                {
                                    "Egysegar": "100,00",
                                    "Milyen eységárak vannak": "3"
                                },
                                {
                                    "Egysegar": "75,00",
                                    "Milyen eységárak vannak": "1"
                                },
                                {
                                    "Egysegar": "70,00",
                                    "Milyen eységárak vannak": "1"
                                },
                                {
                                    "Egysegar": "50,00",
                                    "Milyen eységárak vannak": "2"
                                },
                                {
                                    "Egysegar": "40,00",
                                    "Milyen eységárak vannak": "1"
                                },
                                {
                                    "Egysegar": "25,00",
                                    "Milyen eységárak vannak": "2"
                                },
                                {
                                    "Egysegar": "20,00",
                                    "Milyen eységárak vannak": "2"
                                },
                                {
                                    "Egysegar": "15,00",
                                    "Milyen eységárak vannak": "3"
                                },
                                {
                                    "Egysegar": "10,00",
                                    "Milyen eységárak vannak": "2"
                                },
                                {
                                    "Egysegar": "5,00",
                                    "Milyen eységárak vannak": "7"
                                },
                                {
                                    "Egysegar": "0,00",
                                    "Milyen eységárak vannak": "3"
                                },
                                {
                                    "Egysegar": "NULL",
                                    "Milyen eységárak vannak": "0"
                                }
                            ]
                        },
                        "text/html": [
                            "<table>",
                            "<tr><th>Egysegar</th><th>Milyen eységárak vannak</th></tr>",
                            "<tr><td>2010,00</td><td>1</td></tr>",
                            "<tr><td>2000,00</td><td>2</td></tr>",
                            "<tr><td>1900,00</td><td>1</td></tr>",
                            "<tr><td>1800,00</td><td>2</td></tr>",
                            "<tr><td>1700,00</td><td>1</td></tr>",
                            "<tr><td>1500,00</td><td>3</td></tr>",
                            "<tr><td>1200,00</td><td>1</td></tr>",
                            "<tr><td>1000,00</td><td>1</td></tr>",
                            "<tr><td>800,00</td><td>1</td></tr>",
                            "<tr><td>700,00</td><td>1</td></tr>",
                            "<tr><td>600,00</td><td>1</td></tr>",
                            "<tr><td>500,00</td><td>2</td></tr>",
                            "<tr><td>400,00</td><td>6</td></tr>",
                            "<tr><td>350,00</td><td>3</td></tr>",
                            "<tr><td>320,00</td><td>1</td></tr>",
                            "<tr><td>300,00</td><td>4</td></tr>",
                            "<tr><td>250,00</td><td>5</td></tr>",
                            "<tr><td>200,00</td><td>12</td></tr>",
                            "<tr><td>180,00</td><td>4</td></tr>",
                            "<tr><td>150,00</td><td>5</td></tr>",
                            "<tr><td>100,00</td><td>3</td></tr>",
                            "<tr><td>75,00</td><td>1</td></tr>",
                            "<tr><td>70,00</td><td>1</td></tr>",
                            "<tr><td>50,00</td><td>2</td></tr>",
                            "<tr><td>40,00</td><td>1</td></tr>",
                            "<tr><td>25,00</td><td>2</td></tr>",
                            "<tr><td>20,00</td><td>2</td></tr>",
                            "<tr><td>15,00</td><td>3</td></tr>",
                            "<tr><td>10,00</td><td>2</td></tr>",
                            "<tr><td>5,00</td><td>7</td></tr>",
                            "<tr><td>0,00</td><td>3</td></tr>",
                            "<tr><td>NULL</td><td>0</td></tr>",
                            "</table>"
                        ]
                    }
                }
            ],
            "execution_count": 20
        },
        {
            "cell_type": "markdown",
            "source": [
                "Itt megvizsgáltam hogy összesen hány rekord van, ebből hány különböző, mi az átlaguk, minimumuk és maximumuk."
            ],
            "metadata": {
                "azdata_cell_guid": "e6fea8ac-a41e-49a8-a48c-ce3b365bd498"
            },
            "attachments": {}
        },
        {
            "cell_type": "code",
            "source": [
                "SELECT MAX(Egysegar) AS 'maximum', MIN(Egysegar) as 'minimum', AVG(Egysegar) AS 'Átlagosan', COUNT(Egysegar) AS 'Összes rekord (null érték nincs beleszámolva)', APPROX_COUNT_DISTINCT(Egysegar) AS 'különböző rekordok'\r\n",
                "FROM Nyersanyagok\r\n",
                "\r\n",
                "\r\n",
                "\r\n",
                ""
            ],
            "metadata": {
                "azdata_cell_guid": "c4f17034-5603-4396-89ca-4b9dd88ae995",
                "language": "sql",
                "tags": []
            },
            "outputs": [
                {
                    "output_type": "display_data",
                    "data": {
                        "text/html": "Warning: Null value is eliminated by an aggregate or other SET operation."
                    },
                    "metadata": {}
                },
                {
                    "output_type": "display_data",
                    "data": {
                        "text/html": "(1 row affected)"
                    },
                    "metadata": {}
                },
                {
                    "output_type": "display_data",
                    "data": {
                        "text/html": "Total execution time: 00:00:00.023"
                    },
                    "metadata": {}
                },
                {
                    "output_type": "execute_result",
                    "metadata": {},
                    "execution_count": 35,
                    "data": {
                        "application/vnd.dataresource+json": {
                            "schema": {
                                "fields": [
                                    {
                                        "name": "maximum"
                                    },
                                    {
                                        "name": "minimum"
                                    },
                                    {
                                        "name": "Átlagosan"
                                    },
                                    {
                                        "name": "Összes rekord (null érték nincs beleszámolva)"
                                    },
                                    {
                                        "name": "különböző rekordok"
                                    }
                                ]
                            },
                            "data": [
                                {
                                    "maximum": "2010,00",
                                    "minimum": "0,00",
                                    "Átlagosan": "403,2738",
                                    "Összes rekord (null érték nincs beleszámolva)": "84",
                                    "különböző rekordok": "31"
                                }
                            ]
                        },
                        "text/html": [
                            "<table>",
                            "<tr><th>maximum</th><th>minimum</th><th>Átlagosan</th><th>Összes rekord (null érték nincs beleszámolva)</th><th>különböző rekordok</th></tr>",
                            "<tr><td>2010,00</td><td>0,00</td><td>403,2738</td><td>84</td><td>31</td></tr>",
                            "</table>"
                        ]
                    }
                }
            ],
            "execution_count": 35
        },
        {
            "cell_type": "markdown",
            "source": [
                "Itt a null értékeket vizsgáltam meg a valódi rekordokkal szemben.\n",
                "\n",
                " ![](data:image/png;base64,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)"
            ],
            "metadata": {
                "azdata_cell_guid": "168aac2e-1a45-4768-a24e-44ae33d14f13"
            },
            "attachments": {}
        },
        {
            "cell_type": "code",
            "source": [
                "SELECT COUNT(NyersanyagID) AS 'Null rekordok száma', 84 + COUNT(NyersanyagID) AS 'Összes rekord (null érték is beleszámolva)'\r\n",
                "FROM Nyersanyagok\r\n",
                "WHERE Egysegar IS NULL\r\n",
                "\r\n",
                ""
            ],
            "metadata": {
                "azdata_cell_guid": "91f373e0-e3af-401e-8c87-413e1ff06650",
                "language": "sql",
                "tags": []
            },
            "outputs": [
                {
                    "output_type": "display_data",
                    "data": {
                        "text/html": "(1 row affected)"
                    },
                    "metadata": {}
                },
                {
                    "output_type": "display_data",
                    "data": {
                        "text/html": "Total execution time: 00:00:00.027"
                    },
                    "metadata": {}
                },
                {
                    "output_type": "execute_result",
                    "metadata": {},
                    "execution_count": 39,
                    "data": {
                        "application/vnd.dataresource+json": {
                            "schema": {
                                "fields": [
                                    {
                                        "name": "Null rekordok száma"
                                    },
                                    {
                                        "name": "Összes rekord (null érték is beleszámolva)"
                                    }
                                ]
                            },
                            "data": [
                                {
                                    "Null rekordok száma": "123",
                                    "Összes rekord (null érték is beleszámolva)": "207"
                                }
                            ]
                        },
                        "text/html": [
                            "<table>",
                            "<tr><th>Null rekordok száma</th><th>Összes rekord (null érték is beleszámolva)</th></tr>",
                            "<tr><td>123</td><td>207</td></tr>",
                            "</table>"
                        ]
                    }
                }
            ],
            "execution_count": 39
        },
        {
            "cell_type": "markdown",
            "source": [
                "Itt azt vizsgáltam hogy hány rekord van, hány null érték és hány különböző"
            ],
            "metadata": {
                "azdata_cell_guid": "65ad95da-7dc7-4633-9093-bea7c707fba3"
            },
            "attachments": {}
        },
        {
            "cell_type": "code",
            "source": [
                "SELECT COUNT(NyersanyagNev) AS 'összes rekord (null értékkel nélkül)', APPROX_COUNT_DISTINCT(NyersanyagNev) 'különböző rekordok száma'\r\n",
                "FROM Nyersanyagok\r\n",
                "\r\n",
                "\r\n",
                "\r\n",
                "SELECT COUNT(NyersanyagID) AS 'Null rekordok száma'\r\n",
                "FROM Nyersanyagok\r\n",
                "WHERE NyersanyagNev IS NULL"
            ],
            "metadata": {
                "azdata_cell_guid": "9ee77613-0044-4b8f-84b5-288b70888a88",
                "language": "sql",
                "tags": []
            },
            "outputs": [
                {
                    "output_type": "display_data",
                    "data": {
                        "text/html": "Warning: Null value is eliminated by an aggregate or other SET operation."
                    },
                    "metadata": {}
                },
                {
                    "output_type": "display_data",
                    "data": {
                        "text/html": "(1 row affected)"
                    },
                    "metadata": {}
                },
                {
                    "output_type": "display_data",
                    "data": {
                        "text/html": "(1 row affected)"
                    },
                    "metadata": {}
                },
                {
                    "output_type": "display_data",
                    "data": {
                        "text/html": "Total execution time: 00:00:00.027"
                    },
                    "metadata": {}
                },
                {
                    "output_type": "execute_result",
                    "metadata": {},
                    "execution_count": 57,
                    "data": {
                        "application/vnd.dataresource+json": {
                            "schema": {
                                "fields": [
                                    {
                                        "name": "összes rekord (null értékkel nélkül)"
                                    },
                                    {
                                        "name": "különböző rekordok száma"
                                    }
                                ]
                            },
                            "data": [
                                {
                                    "összes rekord (null értékkel nélkül)": "206",
                                    "különböző rekordok száma": "175"
                                }
                            ]
                        },
                        "text/html": [
                            "<table>",
                            "<tr><th>összes rekord (null értékkel nélkül)</th><th>különböző rekordok száma</th></tr>",
                            "<tr><td>206</td><td>175</td></tr>",
                            "</table>"
                        ]
                    }
                },
                {
                    "output_type": "execute_result",
                    "metadata": {},
                    "execution_count": 57,
                    "data": {
                        "application/vnd.dataresource+json": {
                            "schema": {
                                "fields": [
                                    {
                                        "name": "Null rekordok száma"
                                    }
                                ]
                            },
                            "data": [
                                {
                                    "Null rekordok száma": "1"
                                }
                            ]
                        },
                        "text/html": [
                            "<table>",
                            "<tr><th>Null rekordok száma</th></tr>",
                            "<tr><td>1</td></tr>",
                            "</table>"
                        ]
                    }
                }
            ],
            "execution_count": 57
        },
        {
            "cell_type": "markdown",
            "source": [
                "Azt vizsgáltam hány olyan mező van ami igaz nem null érték, de üres"
            ],
            "metadata": {
                "azdata_cell_guid": "10f2757b-e61c-448a-a02a-7f177946bb6e"
            },
            "attachments": {}
        },
        {
            "cell_type": "code",
            "source": [
                "SELECT COUNT(NyersanyagID) AS 'Üres mezők száma'\r\n",
                "FROM Nyersanyagok\r\n",
                "WHERE NyersanyagNev = ''\r\n",
                ""
            ],
            "metadata": {
                "azdata_cell_guid": "8db6ed45-dbff-416e-a4ea-86db705af694",
                "language": "sql"
            },
            "outputs": [
                {
                    "output_type": "display_data",
                    "data": {
                        "text/html": "(1 row affected)"
                    },
                    "metadata": {}
                },
                {
                    "output_type": "display_data",
                    "data": {
                        "text/html": "Total execution time: 00:00:00.036"
                    },
                    "metadata": {}
                },
                {
                    "output_type": "execute_result",
                    "metadata": {},
                    "execution_count": 63,
                    "data": {
                        "application/vnd.dataresource+json": {
                            "schema": {
                                "fields": [
                                    {
                                        "name": "Üres mezők száma"
                                    }
                                ]
                            },
                            "data": [
                                {
                                    "Üres mezők száma": "18"
                                }
                            ]
                        },
                        "text/html": [
                            "<table>",
                            "<tr><th>Üres mezők száma</th></tr>",
                            "<tr><td>18</td></tr>",
                            "</table>"
                        ]
                    }
                }
            ],
            "execution_count": 63
        },
        {
            "cell_type": "markdown",
            "source": [
                "Az előző kettő vizsgálat eredménye diagrammban: \n",
                "\n",
                "![](data:image/png;base64,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)"
            ],
            "metadata": {
                "azdata_cell_guid": "59764de3-85ca-4f9e-b4ee-8dac4ef67226"
            },
            "attachments": {}
        },
        {
            "cell_type": "code",
            "source": [
                "SELECT LEN(NyersanyagNev) AS 'karakterek hossza',count(NyersanyagNev) AS 'hány darab ilyen hosszuságú krakterlánc van'\r\n",
                "FROM Nyersanyagok\r\n",
                "GROUP BY LEN(NyersanyagNev)\r\n",
                "HAVING LEN(NyersanyagNev) IS NOT NULL\r\n",
                "\r\n",
                ""
            ],
            "metadata": {
                "azdata_cell_guid": "aa7027a9-c27c-4cce-8a09-bab02c9b709a",
                "language": "sql"
            },
            "outputs": [
                {
                    "output_type": "display_data",
                    "data": {
                        "text/html": "(20 rows affected)"
                    },
                    "metadata": {}
                },
                {
                    "output_type": "display_data",
                    "data": {
                        "text/html": "Total execution time: 00:00:00.042"
                    },
                    "metadata": {}
                },
                {
                    "output_type": "execute_result",
                    "metadata": {},
                    "execution_count": 69,
                    "data": {
                        "application/vnd.dataresource+json": {
                            "schema": {
                                "fields": [
                                    {
                                        "name": "karakterek hossza"
                                    },
                                    {
                                        "name": "hány darab ilyen hosszuságú krakterlánc van"
                                    }
                                ]
                            },
                            "data": [
                                {
                                    "karakterek hossza": "0",
                                    "hány darab ilyen hosszuságú krakterlánc van": "18"
                                },
                                {
                                    "karakterek hossza": "1",
                                    "hány darab ilyen hosszuságú krakterlánc van": "3"
                                },
                                {
                                    "karakterek hossza": "2",
                                    "hány darab ilyen hosszuságú krakterlánc van": "14"
                                },
                                {
                                    "karakterek hossza": "3",
                                    "hány darab ilyen hosszuságú krakterlánc van": "16"
                                },
                                {
                                    "karakterek hossza": "4",
                                    "hány darab ilyen hosszuságú krakterlánc van": "26"
                                },
                                {
                                    "karakterek hossza": "5",
                                    "hány darab ilyen hosszuságú krakterlánc van": "24"
                                },
                                {
                                    "karakterek hossza": "6",
                                    "hány darab ilyen hosszuságú krakterlánc van": "26"
                                },
                                {
                                    "karakterek hossza": "7",
                                    "hány darab ilyen hosszuságú krakterlánc van": "12"
                                },
                                {
                                    "karakterek hossza": "8",
                                    "hány darab ilyen hosszuságú krakterlánc van": "13"
                                },
                                {
                                    "karakterek hossza": "9",
                                    "hány darab ilyen hosszuságú krakterlánc van": "10"
                                },
                                {
                                    "karakterek hossza": "10",
                                    "hány darab ilyen hosszuságú krakterlánc van": "7"
                                },
                                {
                                    "karakterek hossza": "11",
                                    "hány darab ilyen hosszuságú krakterlánc van": "5"
                                },
                                {
                                    "karakterek hossza": "12",
                                    "hány darab ilyen hosszuságú krakterlánc van": "15"
                                },
                                {
                                    "karakterek hossza": "13",
                                    "hány darab ilyen hosszuságú krakterlánc van": "4"
                                },
                                {
                                    "karakterek hossza": "14",
                                    "hány darab ilyen hosszuságú krakterlánc van": "6"
                                },
                                {
                                    "karakterek hossza": "15",
                                    "hány darab ilyen hosszuságú krakterlánc van": "2"
                                },
                                {
                                    "karakterek hossza": "16",
                                    "hány darab ilyen hosszuságú krakterlánc van": "1"
                                },
                                {
                                    "karakterek hossza": "17",
                                    "hány darab ilyen hosszuságú krakterlánc van": "2"
                                },
                                {
                                    "karakterek hossza": "19",
                                    "hány darab ilyen hosszuságú krakterlánc van": "1"
                                },
                                {
                                    "karakterek hossza": "26",
                                    "hány darab ilyen hosszuságú krakterlánc van": "1"
                                }
                            ]
                        },
                        "text/html": [
                            "<table>",
                            "<tr><th>karakterek hossza</th><th>hány darab ilyen hosszuságú krakterlánc van</th></tr>",
                            "<tr><td>0</td><td>18</td></tr>",
                            "<tr><td>1</td><td>3</td></tr>",
                            "<tr><td>2</td><td>14</td></tr>",
                            "<tr><td>3</td><td>16</td></tr>",
                            "<tr><td>4</td><td>26</td></tr>",
                            "<tr><td>5</td><td>24</td></tr>",
                            "<tr><td>6</td><td>26</td></tr>",
                            "<tr><td>7</td><td>12</td></tr>",
                            "<tr><td>8</td><td>13</td></tr>",
                            "<tr><td>9</td><td>10</td></tr>",
                            "<tr><td>10</td><td>7</td></tr>",
                            "<tr><td>11</td><td>5</td></tr>",
                            "<tr><td>12</td><td>15</td></tr>",
                            "<tr><td>13</td><td>4</td></tr>",
                            "<tr><td>14</td><td>6</td></tr>",
                            "<tr><td>15</td><td>2</td></tr>",
                            "<tr><td>16</td><td>1</td></tr>",
                            "<tr><td>17</td><td>2</td></tr>",
                            "<tr><td>19</td><td>1</td></tr>",
                            "<tr><td>26</td><td>1</td></tr>",
                            "</table>"
                        ]
                    }
                }
            ],
            "execution_count": 69
        },
        {
            "cell_type": "markdown",
            "source": [
                "Utoljára pedig azt vizsgáltam meg hogy mennyi a karakterláncok darabszáma hosszúság szerint:\n",
                "\n",
                "![](data:image/png;base64,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)"
            ],
            "metadata": {
                "azdata_cell_guid": "91e09b0b-3d52-4a01-966d-e8acc30441db"
            },
            "attachments": {}
        }
    ]
}