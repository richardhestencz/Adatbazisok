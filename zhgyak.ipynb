{
    "metadata": {
        "kernelspec": {
            "name": "SQL",
            "display_name": "SQL",
            "language": "sql"
        },
        "language_info": {
            "name": "sql",
            "version": ""
        }
    },
    "nbformat_minor": 2,
    "nbformat": 4,
    "cells": [
        {
            "cell_type": "markdown",
            "source": [
                "Listázzuk \"laszlo2\" vendég gyermek nélküli foglalásainak adatait!\n",
                "\n",
                "a. Egy új oszlopban jelenítsük meg, hogy a foglalás a nyári szezonban (június, július, augusztus) történt-e (Igen/Nem). \n",
                "\n",
                "b. A foglalás dátumánál a METTOL oszlopot vegyük figyelembe"
            ],
            "metadata": {
                "azdata_cell_guid": "98e80bc4-334a-41ed-9237-0aa1403bab42"
            },
            "attachments": {}
        },
        {
            "cell_type": "code",
            "source": [
                "SELECT FOGLALAS_PK, UGYFEL_FK, SZOBA_FK, METTOL,MEDDIG, FELNOTT_SZAM, GYERMEK_SZAM, IIF(month(METTOL) BETWEEN 6 AND 8, 'igen','nem') AS 'Nyári hónapban? '\r\n",
                "FROM Foglalas\r\n",
                "WHERE UGYFEL_FK = 'laszlo2' AND GYERMEK_SZAM = 0"
            ],
            "metadata": {
                "azdata_cell_guid": "9ce268aa-87d8-4fe9-af61-c4534666018e",
                "language": "sql"
            },
            "outputs": [
                {
                    "output_type": "display_data",
                    "data": {
                        "text/html": "(1 row affected)"
                    },
                    "metadata": {}
                },
                {
                    "output_type": "display_data",
                    "data": {
                        "text/html": "Total execution time: 00:00:00.012"
                    },
                    "metadata": {}
                },
                {
                    "output_type": "execute_result",
                    "metadata": {},
                    "execution_count": 6,
                    "data": {
                        "application/vnd.dataresource+json": {
                            "schema": {
                                "fields": [
                                    {
                                        "name": "FOGLALAS_PK"
                                    },
                                    {
                                        "name": "UGYFEL_FK"
                                    },
                                    {
                                        "name": "SZOBA_FK"
                                    },
                                    {
                                        "name": "METTOL"
                                    },
                                    {
                                        "name": "MEDDIG"
                                    },
                                    {
                                        "name": "FELNOTT_SZAM"
                                    },
                                    {
                                        "name": "GYERMEK_SZAM"
                                    },
                                    {
                                        "name": "Nyári hónapban? "
                                    }
                                ]
                            },
                            "data": [
                                {
                                    "FOGLALAS_PK": "561",
                                    "UGYFEL_FK": "laszlo2",
                                    "SZOBA_FK": "42",
                                    "METTOL": "2016-04-06",
                                    "MEDDIG": "2016-04-10",
                                    "FELNOTT_SZAM": "2",
                                    "GYERMEK_SZAM": "0",
                                    "Nyári hónapban? ": "nem"
                                }
                            ]
                        },
                        "text/html": [
                            "<table>",
                            "<tr><th>FOGLALAS_PK</th><th>UGYFEL_FK</th><th>SZOBA_FK</th><th>METTOL</th><th>MEDDIG</th><th>FELNOTT_SZAM</th><th>GYERMEK_SZAM</th><th>Nyári hónapban? </th></tr>",
                            "<tr><td>561</td><td>laszlo2</td><td>42</td><td>2016-04-06</td><td>2016-04-10</td><td>2</td><td>0</td><td>nem</td></tr>",
                            "</table>"
                        ]
                    }
                }
            ],
            "execution_count": 6
        },
        {
            "cell_type": "markdown",
            "source": [
                "Egészítsük ki a megkezdett lekérdezést, amely listázza, hogy szálláshely típusonként, azon belül éves és havi bontában hány foglalás történt!\n",
                "\n",
                "  \n",
                "\n",
                " a. Az év és hónap megjelenítésénél a foglalás tábla METTOL oszlopát használjuk!\n",
                "\n",
                "  \n",
                "\n",
                " b. A számolásnál csak a legalább <span style=\"color: #09885a;\">5</span> napos foglalásokat vegyük figyelembe!"
            ],
            "metadata": {
                "azdata_cell_guid": "406be848-4427-4eaf-805a-f758820a6582"
            },
            "attachments": {}
        },
        {
            "cell_type": "code",
            "source": [
                "\r\n",
                "\r\n",
                " SELECT szh.TIPUS, YEAR(f.METTOL) AS 'Év', MONTH(f.METTOL) AS 'Hónap', COUNT(METTOL) AS 'Foglalások száma'\r\n",
                " \r\n",
                " FROM Foglalas f JOIN Szoba sz ON f.SZOBA_FK = sz.SZOBA_ID \r\n",
                "\r\n",
                "                JOIN Szallashely szh ON sz.SZALLAS_FK = szh.SZALLAS_ID\r\n",
                " \r\n",
                "\r\n",
                "WHERE DATEDIFF(DAY,METTOL,MEDDIG) >= 5 \r\n",
                "\r\n",
                "GROUP BY szh.TIPUS, YEAR(f.METTOL),  MONTH(f.METTOL)\r\n",
                ""
            ],
            "metadata": {
                "azdata_cell_guid": "dd4e9dde-dcbf-4da7-b4dc-3d4d6b5f6c5a",
                "language": "sql"
            },
            "outputs": [
                {
                    "output_type": "display_data",
                    "data": {
                        "text/html": "(45 rows affected)"
                    },
                    "metadata": {}
                },
                {
                    "output_type": "display_data",
                    "data": {
                        "text/html": "Total execution time: 00:00:00.068"
                    },
                    "metadata": {}
                },
                {
                    "output_type": "execute_result",
                    "metadata": {},
                    "execution_count": 12,
                    "data": {
                        "application/vnd.dataresource+json": {
                            "schema": {
                                "fields": [
                                    {
                                        "name": "TIPUS"
                                    },
                                    {
                                        "name": "Év"
                                    },
                                    {
                                        "name": "Hónap"
                                    },
                                    {
                                        "name": "Foglalások száma"
                                    }
                                ]
                            },
                            "data": [
                                {
                                    "TIPUS": "Apartman",
                                    "Év": "2016",
                                    "Hónap": "4",
                                    "Foglalások száma": "2"
                                },
                                {
                                    "TIPUS": "Apartman",
                                    "Év": "2016",
                                    "Hónap": "5",
                                    "Foglalások száma": "1"
                                },
                                {
                                    "TIPUS": "Apartman",
                                    "Év": "2016",
                                    "Hónap": "6",
                                    "Foglalások száma": "1"
                                },
                                {
                                    "TIPUS": "Apartman",
                                    "Év": "2016",
                                    "Hónap": "7",
                                    "Foglalások száma": "1"
                                },
                                {
                                    "TIPUS": "Apartman",
                                    "Év": "2016",
                                    "Hónap": "8",
                                    "Foglalások száma": "2"
                                },
                                {
                                    "TIPUS": "Apartman",
                                    "Év": "2016",
                                    "Hónap": "9",
                                    "Foglalások száma": "3"
                                },
                                {
                                    "TIPUS": "Apartman",
                                    "Év": "2016",
                                    "Hónap": "10",
                                    "Foglalások száma": "9"
                                },
                                {
                                    "TIPUS": "Apartman",
                                    "Év": "2016",
                                    "Hónap": "11",
                                    "Foglalások száma": "3"
                                },
                                {
                                    "TIPUS": "Apartman",
                                    "Év": "2016",
                                    "Hónap": "12",
                                    "Foglalások száma": "2"
                                },
                                {
                                    "TIPUS": "Apartman",
                                    "Év": "2017",
                                    "Hónap": "1",
                                    "Foglalások száma": "1"
                                },
                                {
                                    "TIPUS": "Apartman",
                                    "Év": "2017",
                                    "Hónap": "2",
                                    "Foglalások száma": "5"
                                },
                                {
                                    "TIPUS": "Hotel",
                                    "Év": "2016",
                                    "Hónap": "4",
                                    "Foglalások száma": "16"
                                },
                                {
                                    "TIPUS": "Hotel",
                                    "Év": "2016",
                                    "Hónap": "5",
                                    "Foglalások száma": "32"
                                },
                                {
                                    "TIPUS": "Hotel",
                                    "Év": "2016",
                                    "Hónap": "6",
                                    "Foglalások száma": "29"
                                },
                                {
                                    "TIPUS": "Hotel",
                                    "Év": "2016",
                                    "Hónap": "7",
                                    "Foglalások száma": "30"
                                },
                                {
                                    "TIPUS": "Hotel",
                                    "Év": "2016",
                                    "Hónap": "8",
                                    "Foglalások száma": "22"
                                },
                                {
                                    "TIPUS": "Hotel",
                                    "Év": "2016",
                                    "Hónap": "9",
                                    "Foglalások száma": "19"
                                },
                                {
                                    "TIPUS": "Hotel",
                                    "Év": "2016",
                                    "Hónap": "10",
                                    "Foglalások száma": "36"
                                },
                                {
                                    "TIPUS": "Hotel",
                                    "Év": "2016",
                                    "Hónap": "11",
                                    "Foglalások száma": "27"
                                },
                                {
                                    "TIPUS": "Hotel",
                                    "Év": "2016",
                                    "Hónap": "12",
                                    "Foglalások száma": "25"
                                },
                                {
                                    "TIPUS": "Hotel",
                                    "Év": "2017",
                                    "Hónap": "1",
                                    "Foglalások száma": "28"
                                },
                                {
                                    "TIPUS": "Hotel",
                                    "Év": "2017",
                                    "Hónap": "2",
                                    "Foglalások száma": "21"
                                },
                                {
                                    "TIPUS": "Hotel",
                                    "Év": "2017",
                                    "Hónap": "3",
                                    "Foglalások száma": "1"
                                },
                                {
                                    "TIPUS": "panzió",
                                    "Év": "2016",
                                    "Hónap": "4",
                                    "Foglalások száma": "2"
                                },
                                {
                                    "TIPUS": "panzió",
                                    "Év": "2016",
                                    "Hónap": "5",
                                    "Foglalások száma": "9"
                                },
                                {
                                    "TIPUS": "panzió",
                                    "Év": "2016",
                                    "Hónap": "6",
                                    "Foglalások száma": "10"
                                },
                                {
                                    "TIPUS": "panzió",
                                    "Év": "2016",
                                    "Hónap": "7",
                                    "Foglalások száma": "7"
                                },
                                {
                                    "TIPUS": "panzió",
                                    "Év": "2016",
                                    "Hónap": "8",
                                    "Foglalások száma": "6"
                                },
                                {
                                    "TIPUS": "panzió",
                                    "Év": "2016",
                                    "Hónap": "9",
                                    "Foglalások száma": "6"
                                },
                                {
                                    "TIPUS": "panzió",
                                    "Év": "2016",
                                    "Hónap": "10",
                                    "Foglalások száma": "11"
                                },
                                {
                                    "TIPUS": "panzió",
                                    "Év": "2016",
                                    "Hónap": "11",
                                    "Foglalások száma": "3"
                                },
                                {
                                    "TIPUS": "panzió",
                                    "Év": "2016",
                                    "Hónap": "12",
                                    "Foglalások száma": "6"
                                },
                                {
                                    "TIPUS": "panzió",
                                    "Év": "2017",
                                    "Hónap": "1",
                                    "Foglalások száma": "5"
                                },
                                {
                                    "TIPUS": "panzió",
                                    "Év": "2017",
                                    "Hónap": "2",
                                    "Foglalások száma": "5"
                                },
                                {
                                    "TIPUS": "panzió",
                                    "Év": "2017",
                                    "Hónap": "3",
                                    "Foglalások száma": "1"
                                },
                                {
                                    "TIPUS": "vendégház",
                                    "Év": "2016",
                                    "Hónap": "4",
                                    "Foglalások száma": "2"
                                },
                                {
                                    "TIPUS": "vendégház",
                                    "Év": "2016",
                                    "Hónap": "5",
                                    "Foglalások száma": "5"
                                },
                                {
                                    "TIPUS": "vendégház",
                                    "Év": "2016",
                                    "Hónap": "6",
                                    "Foglalások száma": "3"
                                },
                                {
                                    "TIPUS": "vendégház",
                                    "Év": "2016",
                                    "Hónap": "7",
                                    "Foglalások száma": "5"
                                },
                                {
                                    "TIPUS": "vendégház",
                                    "Év": "2016",
                                    "Hónap": "8",
                                    "Foglalások száma": "5"
                                },
                                {
                                    "TIPUS": "vendégház",
                                    "Év": "2016",
                                    "Hónap": "9",
                                    "Foglalások száma": "4"
                                },
                                {
                                    "TIPUS": "vendégház",
                                    "Év": "2016",
                                    "Hónap": "10",
                                    "Foglalások száma": "7"
                                },
                                {
                                    "TIPUS": "vendégház",
                                    "Év": "2016",
                                    "Hónap": "11",
                                    "Foglalások száma": "4"
                                },
                                {
                                    "TIPUS": "vendégház",
                                    "Év": "2017",
                                    "Hónap": "1",
                                    "Foglalások száma": "1"
                                },
                                {
                                    "TIPUS": "vendégház",
                                    "Év": "2017",
                                    "Hónap": "2",
                                    "Foglalások száma": "3"
                                }
                            ]
                        },
                        "text/html": [
                            "<table>",
                            "<tr><th>TIPUS</th><th>Év</th><th>Hónap</th><th>Foglalások száma</th></tr>",
                            "<tr><td>Apartman</td><td>2016</td><td>4</td><td>2</td></tr>",
                            "<tr><td>Apartman</td><td>2016</td><td>5</td><td>1</td></tr>",
                            "<tr><td>Apartman</td><td>2016</td><td>6</td><td>1</td></tr>",
                            "<tr><td>Apartman</td><td>2016</td><td>7</td><td>1</td></tr>",
                            "<tr><td>Apartman</td><td>2016</td><td>8</td><td>2</td></tr>",
                            "<tr><td>Apartman</td><td>2016</td><td>9</td><td>3</td></tr>",
                            "<tr><td>Apartman</td><td>2016</td><td>10</td><td>9</td></tr>",
                            "<tr><td>Apartman</td><td>2016</td><td>11</td><td>3</td></tr>",
                            "<tr><td>Apartman</td><td>2016</td><td>12</td><td>2</td></tr>",
                            "<tr><td>Apartman</td><td>2017</td><td>1</td><td>1</td></tr>",
                            "<tr><td>Apartman</td><td>2017</td><td>2</td><td>5</td></tr>",
                            "<tr><td>Hotel</td><td>2016</td><td>4</td><td>16</td></tr>",
                            "<tr><td>Hotel</td><td>2016</td><td>5</td><td>32</td></tr>",
                            "<tr><td>Hotel</td><td>2016</td><td>6</td><td>29</td></tr>",
                            "<tr><td>Hotel</td><td>2016</td><td>7</td><td>30</td></tr>",
                            "<tr><td>Hotel</td><td>2016</td><td>8</td><td>22</td></tr>",
                            "<tr><td>Hotel</td><td>2016</td><td>9</td><td>19</td></tr>",
                            "<tr><td>Hotel</td><td>2016</td><td>10</td><td>36</td></tr>",
                            "<tr><td>Hotel</td><td>2016</td><td>11</td><td>27</td></tr>",
                            "<tr><td>Hotel</td><td>2016</td><td>12</td><td>25</td></tr>",
                            "<tr><td>Hotel</td><td>2017</td><td>1</td><td>28</td></tr>",
                            "<tr><td>Hotel</td><td>2017</td><td>2</td><td>21</td></tr>",
                            "<tr><td>Hotel</td><td>2017</td><td>3</td><td>1</td></tr>",
                            "<tr><td>panzió</td><td>2016</td><td>4</td><td>2</td></tr>",
                            "<tr><td>panzió</td><td>2016</td><td>5</td><td>9</td></tr>",
                            "<tr><td>panzió</td><td>2016</td><td>6</td><td>10</td></tr>",
                            "<tr><td>panzió</td><td>2016</td><td>7</td><td>7</td></tr>",
                            "<tr><td>panzió</td><td>2016</td><td>8</td><td>6</td></tr>",
                            "<tr><td>panzió</td><td>2016</td><td>9</td><td>6</td></tr>",
                            "<tr><td>panzió</td><td>2016</td><td>10</td><td>11</td></tr>",
                            "<tr><td>panzió</td><td>2016</td><td>11</td><td>3</td></tr>",
                            "<tr><td>panzió</td><td>2016</td><td>12</td><td>6</td></tr>",
                            "<tr><td>panzió</td><td>2017</td><td>1</td><td>5</td></tr>",
                            "<tr><td>panzió</td><td>2017</td><td>2</td><td>5</td></tr>",
                            "<tr><td>panzió</td><td>2017</td><td>3</td><td>1</td></tr>",
                            "<tr><td>vendégház</td><td>2016</td><td>4</td><td>2</td></tr>",
                            "<tr><td>vendégház</td><td>2016</td><td>5</td><td>5</td></tr>",
                            "<tr><td>vendégház</td><td>2016</td><td>6</td><td>3</td></tr>",
                            "<tr><td>vendégház</td><td>2016</td><td>7</td><td>5</td></tr>",
                            "<tr><td>vendégház</td><td>2016</td><td>8</td><td>5</td></tr>",
                            "<tr><td>vendégház</td><td>2016</td><td>9</td><td>4</td></tr>",
                            "<tr><td>vendégház</td><td>2016</td><td>10</td><td>7</td></tr>",
                            "<tr><td>vendégház</td><td>2016</td><td>11</td><td>4</td></tr>",
                            "<tr><td>vendégház</td><td>2017</td><td>1</td><td>1</td></tr>",
                            "<tr><td>vendégház</td><td>2017</td><td>2</td><td>3</td></tr>",
                            "</table>"
                        ]
                    }
                }
            ],
            "execution_count": 12
        },
        {
            "cell_type": "markdown",
            "source": [
                "Jelenítsük meg azon szobák adatait, amelyeket még egyszer sem adtak ki!\n",
                "\n",
                "a. Minden szoba alapára naponta 20 ezer Ft. Ha a szoba még klímás is, akkor a napi felár 5000 Ft. \n",
                "\n",
                "b. Egy új oszlopban jelenítsük meg a ki nem adott szobák napi árát is!\n",
                "\n",
                "c. Az oszlop neve legyen 'Napi ár'"
            ],
            "metadata": {
                "azdata_cell_guid": "501bf485-a06c-40b3-934c-dcb02d7206cf"
            },
            "attachments": {}
        },
        {
            "cell_type": "code",
            "source": [
                "SELECT SZOBA_ID,\r\n",
                "CASE \r\n",
                "WHEN sz.KLIMAS = 'I' THEN 25000 \r\n",
                "ELSE 20000\r\n",
                "End AS 'Szoba ára'\r\n",
                "FROM Foglalas f RIGHT JOIN Szoba sz ON f.SZOBA_FK = sz.SZOBA_ID\r\n",
                "WHERE f.SZOBA_FK IS NULL\r\n",
                ""
            ],
            "metadata": {
                "azdata_cell_guid": "93481f06-c4ef-414e-86da-b2575a452f33",
                "language": "sql"
            },
            "outputs": [
                {
                    "output_type": "display_data",
                    "data": {
                        "text/html": "(97 rows affected)"
                    },
                    "metadata": {}
                },
                {
                    "output_type": "display_data",
                    "data": {
                        "text/html": "Total execution time: 00:00:00.025"
                    },
                    "metadata": {}
                },
                {
                    "output_type": "execute_result",
                    "metadata": {},
                    "execution_count": 31,
                    "data": {
                        "application/vnd.dataresource+json": {
                            "schema": {
                                "fields": [
                                    {
                                        "name": "SZOBA_ID"
                                    },
                                    {
                                        "name": "Szoba ára"
                                    }
                                ]
                            },
                            "data": [
                                {
                                    "SZOBA_ID": "261",
                                    "Szoba ára": "20000"
                                },
                                {
                                    "SZOBA_ID": "238",
                                    "Szoba ára": "25000"
                                },
                                {
                                    "SZOBA_ID": "215",
                                    "Szoba ára": "25000"
                                },
                                {
                                    "SZOBA_ID": "209",
                                    "Szoba ára": "20000"
                                },
                                {
                                    "SZOBA_ID": "284",
                                    "Szoba ára": "25000"
                                },
                                {
                                    "SZOBA_ID": "232",
                                    "Szoba ára": "25000"
                                },
                                {
                                    "SZOBA_ID": "278",
                                    "Szoba ára": "25000"
                                },
                                {
                                    "SZOBA_ID": "221",
                                    "Szoba ára": "25000"
                                },
                                {
                                    "SZOBA_ID": "201",
                                    "Szoba ára": "20000"
                                },
                                {
                                    "SZOBA_ID": "244",
                                    "Szoba ára": "25000"
                                },
                                {
                                    "SZOBA_ID": "252",
                                    "Szoba ára": "25000"
                                },
                                {
                                    "SZOBA_ID": "258",
                                    "Szoba ára": "25000"
                                },
                                {
                                    "SZOBA_ID": "264",
                                    "Szoba ára": "25000"
                                },
                                {
                                    "SZOBA_ID": "281",
                                    "Szoba ára": "20000"
                                },
                                {
                                    "SZOBA_ID": "212",
                                    "Szoba ára": "20000"
                                },
                                {
                                    "SZOBA_ID": "235",
                                    "Szoba ára": "25000"
                                },
                                {
                                    "SZOBA_ID": "218",
                                    "Szoba ára": "25000"
                                },
                                {
                                    "SZOBA_ID": "229",
                                    "Szoba ára": "25000"
                                },
                                {
                                    "SZOBA_ID": "275",
                                    "Szoba ára": "20000"
                                },
                                {
                                    "SZOBA_ID": "272",
                                    "Szoba ára": "25000"
                                },
                                {
                                    "SZOBA_ID": "255",
                                    "Szoba ára": "20000"
                                },
                                {
                                    "SZOBA_ID": "292",
                                    "Szoba ára": "25000"
                                },
                                {
                                    "SZOBA_ID": "241",
                                    "Szoba ára": "25000"
                                },
                                {
                                    "SZOBA_ID": "213",
                                    "Szoba ára": "25000"
                                },
                                {
                                    "SZOBA_ID": "236",
                                    "Szoba ára": "20000"
                                },
                                {
                                    "SZOBA_ID": "259",
                                    "Szoba ára": "25000"
                                },
                                {
                                    "SZOBA_ID": "267",
                                    "Szoba ára": "20000"
                                },
                                {
                                    "SZOBA_ID": "230",
                                    "Szoba ára": "25000"
                                },
                                {
                                    "SZOBA_ID": "276",
                                    "Szoba ára": "25000"
                                },
                                {
                                    "SZOBA_ID": "273",
                                    "Szoba ára": "25000"
                                },
                                {
                                    "SZOBA_ID": "250",
                                    "Szoba ára": "20000"
                                },
                                {
                                    "SZOBA_ID": "207",
                                    "Szoba ára": "25000"
                                },
                                {
                                    "SZOBA_ID": "256",
                                    "Szoba ára": "25000"
                                },
                                {
                                    "SZOBA_ID": "293",
                                    "Szoba ára": "25000"
                                },
                                {
                                    "SZOBA_ID": "239",
                                    "Szoba ára": "25000"
                                },
                                {
                                    "SZOBA_ID": "216",
                                    "Szoba ára": "25000"
                                },
                                {
                                    "SZOBA_ID": "287",
                                    "Szoba ára": "20000"
                                },
                                {
                                    "SZOBA_ID": "233",
                                    "Szoba ára": "20000"
                                },
                                {
                                    "SZOBA_ID": "210",
                                    "Szoba ára": "25000"
                                },
                                {
                                    "SZOBA_ID": "279",
                                    "Szoba ára": "25000"
                                },
                                {
                                    "SZOBA_ID": "270",
                                    "Szoba ára": "20000"
                                },
                                {
                                    "SZOBA_ID": "224",
                                    "Szoba ára": "25000"
                                },
                                {
                                    "SZOBA_ID": "227",
                                    "Szoba ára": "25000"
                                },
                                {
                                    "SZOBA_ID": "204",
                                    "Szoba ára": "25000"
                                },
                                {
                                    "SZOBA_ID": "253",
                                    "Szoba ára": "25000"
                                },
                                {
                                    "SZOBA_ID": "290",
                                    "Szoba ára": "25000"
                                },
                                {
                                    "SZOBA_ID": "247",
                                    "Szoba ára": "25000"
                                },
                                {
                                    "SZOBA_ID": "211",
                                    "Szoba ára": "25000"
                                },
                                {
                                    "SZOBA_ID": "282",
                                    "Szoba ára": "25000"
                                },
                                {
                                    "SZOBA_ID": "288",
                                    "Szoba ára": "25000"
                                },
                                {
                                    "SZOBA_ID": "234",
                                    "Szoba ára": "25000"
                                },
                                {
                                    "SZOBA_ID": "219",
                                    "Szoba ára": "20000"
                                },
                                {
                                    "SZOBA_ID": "265",
                                    "Szoba ára": "25000"
                                },
                                {
                                    "SZOBA_ID": "271",
                                    "Szoba ára": "25000"
                                },
                                {
                                    "SZOBA_ID": "228",
                                    "Szoba ára": "25000"
                                },
                                {
                                    "SZOBA_ID": "205",
                                    "Szoba ára": "25000"
                                },
                                {
                                    "SZOBA_ID": "291",
                                    "Szoba ára": "25000"
                                },
                                {
                                    "SZOBA_ID": "242",
                                    "Szoba ára": "25000"
                                },
                                {
                                    "SZOBA_ID": "254",
                                    "Szoba ára": "25000"
                                },
                                {
                                    "SZOBA_ID": "199",
                                    "Szoba ára": "25000"
                                },
                                {
                                    "SZOBA_ID": "248",
                                    "Szoba ára": "25000"
                                },
                                {
                                    "SZOBA_ID": "285",
                                    "Szoba ára": "25000"
                                },
                                {
                                    "SZOBA_ID": "262",
                                    "Szoba ára": "20000"
                                },
                                {
                                    "SZOBA_ID": "231",
                                    "Szoba ára": "25000"
                                },
                                {
                                    "SZOBA_ID": "268",
                                    "Szoba ára": "20000"
                                },
                                {
                                    "SZOBA_ID": "222",
                                    "Szoba ára": "20000"
                                },
                                {
                                    "SZOBA_ID": "202",
                                    "Szoba ára": "25000"
                                },
                                {
                                    "SZOBA_ID": "225",
                                    "Szoba ára": "25000"
                                },
                                {
                                    "SZOBA_ID": "274",
                                    "Szoba ára": "25000"
                                },
                                {
                                    "SZOBA_ID": "251",
                                    "Szoba ára": "20000"
                                },
                                {
                                    "SZOBA_ID": "159",
                                    "Szoba ára": "20000"
                                },
                                {
                                    "SZOBA_ID": "208",
                                    "Szoba ára": "25000"
                                },
                                {
                                    "SZOBA_ID": "294",
                                    "Szoba ára": "25000"
                                },
                                {
                                    "SZOBA_ID": "245",
                                    "Szoba ára": "25000"
                                },
                                {
                                    "SZOBA_ID": "286",
                                    "Szoba ára": "25000"
                                },
                                {
                                    "SZOBA_ID": "263",
                                    "Szoba ára": "25000"
                                },
                                {
                                    "SZOBA_ID": "240",
                                    "Szoba ára": "25000"
                                },
                                {
                                    "SZOBA_ID": "257",
                                    "Szoba ára": "25000"
                                },
                                {
                                    "SZOBA_ID": "280",
                                    "Szoba ára": "20000"
                                },
                                {
                                    "SZOBA_ID": "217",
                                    "Szoba ára": "20000"
                                },
                                {
                                    "SZOBA_ID": "223",
                                    "Szoba ára": "25000"
                                },
                                {
                                    "SZOBA_ID": "269",
                                    "Szoba ára": "25000"
                                },
                                {
                                    "SZOBA_ID": "226",
                                    "Szoba ára": "20000"
                                },
                                {
                                    "SZOBA_ID": "203",
                                    "Szoba ára": "25000"
                                },
                                {
                                    "SZOBA_ID": "289",
                                    "Szoba ára": "25000"
                                },
                                {
                                    "SZOBA_ID": "246",
                                    "Szoba ára": "25000"
                                },
                                {
                                    "SZOBA_ID": "214",
                                    "Szoba ára": "25000"
                                },
                                {
                                    "SZOBA_ID": "237",
                                    "Szoba ára": "20000"
                                },
                                {
                                    "SZOBA_ID": "260",
                                    "Szoba ára": "25000"
                                },
                                {
                                    "SZOBA_ID": "283",
                                    "Szoba ára": "20000"
                                },
                                {
                                    "SZOBA_ID": "220",
                                    "Szoba ára": "25000"
                                },
                                {
                                    "SZOBA_ID": "266",
                                    "Szoba ára": "25000"
                                },
                                {
                                    "SZOBA_ID": "277",
                                    "Szoba ára": "25000"
                                },
                                {
                                    "SZOBA_ID": "249",
                                    "Szoba ára": "20000"
                                },
                                {
                                    "SZOBA_ID": "206",
                                    "Szoba ára": "25000"
                                },
                                {
                                    "SZOBA_ID": "243",
                                    "Szoba ára": "25000"
                                },
                                {
                                    "SZOBA_ID": "200",
                                    "Szoba ára": "25000"
                                }
                            ]
                        },
                        "text/html": [
                            "<table>",
                            "<tr><th>SZOBA_ID</th><th>Szoba ára</th></tr>",
                            "<tr><td>261</td><td>20000</td></tr>",
                            "<tr><td>238</td><td>25000</td></tr>",
                            "<tr><td>215</td><td>25000</td></tr>",
                            "<tr><td>209</td><td>20000</td></tr>",
                            "<tr><td>284</td><td>25000</td></tr>",
                            "<tr><td>232</td><td>25000</td></tr>",
                            "<tr><td>278</td><td>25000</td></tr>",
                            "<tr><td>221</td><td>25000</td></tr>",
                            "<tr><td>201</td><td>20000</td></tr>",
                            "<tr><td>244</td><td>25000</td></tr>",
                            "<tr><td>252</td><td>25000</td></tr>",
                            "<tr><td>258</td><td>25000</td></tr>",
                            "<tr><td>264</td><td>25000</td></tr>",
                            "<tr><td>281</td><td>20000</td></tr>",
                            "<tr><td>212</td><td>20000</td></tr>",
                            "<tr><td>235</td><td>25000</td></tr>",
                            "<tr><td>218</td><td>25000</td></tr>",
                            "<tr><td>229</td><td>25000</td></tr>",
                            "<tr><td>275</td><td>20000</td></tr>",
                            "<tr><td>272</td><td>25000</td></tr>",
                            "<tr><td>255</td><td>20000</td></tr>",
                            "<tr><td>292</td><td>25000</td></tr>",
                            "<tr><td>241</td><td>25000</td></tr>",
                            "<tr><td>213</td><td>25000</td></tr>",
                            "<tr><td>236</td><td>20000</td></tr>",
                            "<tr><td>259</td><td>25000</td></tr>",
                            "<tr><td>267</td><td>20000</td></tr>",
                            "<tr><td>230</td><td>25000</td></tr>",
                            "<tr><td>276</td><td>25000</td></tr>",
                            "<tr><td>273</td><td>25000</td></tr>",
                            "<tr><td>250</td><td>20000</td></tr>",
                            "<tr><td>207</td><td>25000</td></tr>",
                            "<tr><td>256</td><td>25000</td></tr>",
                            "<tr><td>293</td><td>25000</td></tr>",
                            "<tr><td>239</td><td>25000</td></tr>",
                            "<tr><td>216</td><td>25000</td></tr>",
                            "<tr><td>287</td><td>20000</td></tr>",
                            "<tr><td>233</td><td>20000</td></tr>",
                            "<tr><td>210</td><td>25000</td></tr>",
                            "<tr><td>279</td><td>25000</td></tr>",
                            "<tr><td>270</td><td>20000</td></tr>",
                            "<tr><td>224</td><td>25000</td></tr>",
                            "<tr><td>227</td><td>25000</td></tr>",
                            "<tr><td>204</td><td>25000</td></tr>",
                            "<tr><td>253</td><td>25000</td></tr>",
                            "<tr><td>290</td><td>25000</td></tr>",
                            "<tr><td>247</td><td>25000</td></tr>",
                            "<tr><td>211</td><td>25000</td></tr>",
                            "<tr><td>282</td><td>25000</td></tr>",
                            "<tr><td>288</td><td>25000</td></tr>",
                            "<tr><td>234</td><td>25000</td></tr>",
                            "<tr><td>219</td><td>20000</td></tr>",
                            "<tr><td>265</td><td>25000</td></tr>",
                            "<tr><td>271</td><td>25000</td></tr>",
                            "<tr><td>228</td><td>25000</td></tr>",
                            "<tr><td>205</td><td>25000</td></tr>",
                            "<tr><td>291</td><td>25000</td></tr>",
                            "<tr><td>242</td><td>25000</td></tr>",
                            "<tr><td>254</td><td>25000</td></tr>",
                            "<tr><td>199</td><td>25000</td></tr>",
                            "<tr><td>248</td><td>25000</td></tr>",
                            "<tr><td>285</td><td>25000</td></tr>",
                            "<tr><td>262</td><td>20000</td></tr>",
                            "<tr><td>231</td><td>25000</td></tr>",
                            "<tr><td>268</td><td>20000</td></tr>",
                            "<tr><td>222</td><td>20000</td></tr>",
                            "<tr><td>202</td><td>25000</td></tr>",
                            "<tr><td>225</td><td>25000</td></tr>",
                            "<tr><td>274</td><td>25000</td></tr>",
                            "<tr><td>251</td><td>20000</td></tr>",
                            "<tr><td>159</td><td>20000</td></tr>",
                            "<tr><td>208</td><td>25000</td></tr>",
                            "<tr><td>294</td><td>25000</td></tr>",
                            "<tr><td>245</td><td>25000</td></tr>",
                            "<tr><td>286</td><td>25000</td></tr>",
                            "<tr><td>263</td><td>25000</td></tr>",
                            "<tr><td>240</td><td>25000</td></tr>",
                            "<tr><td>257</td><td>25000</td></tr>",
                            "<tr><td>280</td><td>20000</td></tr>",
                            "<tr><td>217</td><td>20000</td></tr>",
                            "<tr><td>223</td><td>25000</td></tr>",
                            "<tr><td>269</td><td>25000</td></tr>",
                            "<tr><td>226</td><td>20000</td></tr>",
                            "<tr><td>203</td><td>25000</td></tr>",
                            "<tr><td>289</td><td>25000</td></tr>",
                            "<tr><td>246</td><td>25000</td></tr>",
                            "<tr><td>214</td><td>25000</td></tr>",
                            "<tr><td>237</td><td>20000</td></tr>",
                            "<tr><td>260</td><td>25000</td></tr>",
                            "<tr><td>283</td><td>20000</td></tr>",
                            "<tr><td>220</td><td>25000</td></tr>",
                            "<tr><td>266</td><td>25000</td></tr>",
                            "<tr><td>277</td><td>25000</td></tr>",
                            "<tr><td>249</td><td>20000</td></tr>",
                            "<tr><td>206</td><td>25000</td></tr>",
                            "<tr><td>243</td><td>25000</td></tr>",
                            "<tr><td>200</td><td>25000</td></tr>",
                            "</table>"
                        ]
                    }
                }
            ],
            "execution_count": 31
        },
        {
            "cell_type": "markdown",
            "source": [
                "# **Kis gyak**"
            ],
            "metadata": {
                "azdata_cell_guid": "0da8005e-d5eb-42cb-8c4b-77ffcca1e267"
            },
            "attachments": {}
        },
        {
            "cell_type": "code",
            "source": [
                "--Hany napja mukodik, kiveve feltetel\r\n",
                "SELECT SZALLAS_ID, SZALLAS_NEV, HELY, DATEDIFF(day,ROGZ_IDO,GETDATE()) AS 'Működés (nap db)'\r\n",
                "FROM szallashely\r\n",
                "WHERE TIPUS not in ('vendégház','panzió')\r\n",
                "\r\n",
                "--Emese, kezdo datum eltolas 1honappal\r\n",
                "SELECT FOGLALAS_PK, UGYFEL_FK, SZOBA_FK, METTOL, DATEADD(month,1,METTOL) as 'Módósított kezdődátum'\r\n",
                "FROM Foglalas\r\n",
                "WHERE UGYFEL_FK = 'emese'\r\n",
                "\r\n",
                "--Jelenítsük meg azon szobák adatait, amelyeket még egyszer sem adtak ki!\r\n",
                "--a. Minden szoba alapára naponta 20 ezer Ft. Ha a szoba még klímás is, akkor a napi felár 5000 Ft.\r\n",
                "SELECT\r\n",
                "  szoba.SZOBA_ID,\r\n",
                "  szoba.KLIMAS,\r\n",
                "  CASE WHEN szoba.KLIMAS = 'I' THEN 25000 ELSE 20000 END AS napi_ar\r\n",
                "FROM szoba\r\n",
                "LEFT JOIN foglalas ON szoba.szoba_id = foglalas.SZOBA_FK\r\n",
                "WHERE foglalas.SZOBA_FK IS NULL\r\n",
                "\r\n",
                "\r\n",
                "--Egészítsük ki a megkezdett lekérdezést, amely listázza, hogy szálláshely típusonként, azon belül éves és havi bontában hány foglalás történt! \r\n",
                "SELECT szh.TIPUS, YEAR(f.METTOL) AS 'Év',MONTH(f.METTOL) AS 'Hónap',count(f.FOGLALAS_PK) as 'DB'\r\n",
                "FROM Foglalas f JOIN Szoba sz ON f.SZOBA_FK = sz.SZOBA_ID \r\n",
                "                JOIN Szallashely szh ON szh.SZALLAS_ID = sz.SZALLAS_FK\r\n",
                "WHERE DATEDIFF(day,f.METTOL,F.MEDDIG)>=5 \r\n",
                "GROUP BY szh.TIPUS, year(f.mettol),month(f.mettol)\r\n",
                "\r\n",
                "\r\n",
                "-- László 2 feladat\r\n",
                "SELECT UGYFEL_FK, SZOBA_FK, IIF(MONTH(METTOL) IN (6,7,8), 'Igen', 'NEM') AS 'NYári szezon'\r\n",
                "FROM Foglalas\r\n",
                "WHERE UGYFEL_FK = 'laszlo2' And GYERMEK_SZAM = 0\r\n",
                "\r\n",
                "--sose volt foglalas vagy 2napnal rovidebb\r\n",
                "select distinct v.NEV\r\n",
                "from Foglalas f\r\n",
                "right join Vendeg v on f.UGYFEL_FK = v.USERNEV\r\n",
                "where f.FOGLALAS_PK is null\r\n",
                "\r\n",
                "union\r\n",
                "\r\n",
                "select v.NEV\r\n",
                "from Foglalas f\r\n",
                "join Vendeg v on f.UGYFEL_FK = v.USERNEV\r\n",
                "group by v.NEV\r\n",
                "\r\n",
                "EXCEPT\r\n",
                "\r\n",
                "select v.NEV\r\n",
                "from Foglalas f join Vendeg v on f.UGYFEL_FK = v.USERNEV\r\n",
                "where DATEDIFF(day, METTOL, MEDDIG) > 2\r\n",
                "group by v.NEV\r\n",
                "\r\n",
                "--hanyszor foglalt 2015 es 2016 kozott\r\n",
                "SELECT v.nev, COUNT(*) AS \"db\"\r\n",
                "FROM Foglalas f\r\n",
                "JOIN Vendeg v ON f.UGYFEL_FK = v.USERNEV\r\n",
                "WHERE f.METTOL BETWEEN '2015-01-01' AND '2016-12-31'\r\n",
                "GROUP BY v.nev\r\n",
                "HAVING COUNT(*) > 2\r\n",
                "ORDER BY db DESC;\r\n",
                ""
            ],
            "metadata": {
                "azdata_cell_guid": "515bc4ef-beeb-45e9-b671-d7b8ccff1869",
                "language": "sql"
            },
            "outputs": [],
            "execution_count": null
        }
    ]
}