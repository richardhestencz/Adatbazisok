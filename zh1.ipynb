{
    "metadata": {
        "kernelspec": {
            "name": "SQL",
            "display_name": "SQL",
            "language": "sql"
        },
        "language_info": {
            "name": "sql",
            "version": ""
        }
    },
    "nbformat_minor": 2,
    "nbformat": 4,
    "cells": [
        {
            "cell_type": "markdown",
            "source": [
                "Listázzuk azon vendégek nevét és email-címét, akik az 1990-es év második felében születtek! \n",
                "\n",
                "a. Rendezzük a listát a születés hónapja szerint növekvő sorrendbe!"
            ],
            "metadata": {
                "azdata_cell_guid": "58da9965-73fc-402f-8666-1864a889c0a4"
            },
            "attachments": {}
        },
        {
            "cell_type": "code",
            "source": [
                "SELECT NEV, EMAIL\r\n",
                "FROM Vendeg\r\n",
                "WHERE MONTH(SZUL_DAT) BETWEEN 7 AND 12 AND YEAR(SZUL_DAT) = 1990\r\n",
                "ORDER BY MONTH(SZUL_DAT) ASC"
            ],
            "metadata": {
                "azdata_cell_guid": "b6c2e730-2886-4907-a27d-d284422323fc",
                "language": "sql"
            },
            "outputs": [
                {
                    "output_type": "display_data",
                    "data": {
                        "text/html": "(4 rows affected)"
                    },
                    "metadata": {}
                },
                {
                    "output_type": "display_data",
                    "data": {
                        "text/html": "Total execution time: 00:00:00.007"
                    },
                    "metadata": {}
                },
                {
                    "output_type": "execute_result",
                    "metadata": {},
                    "execution_count": 6,
                    "data": {
                        "application/vnd.dataresource+json": {
                            "schema": {
                                "fields": [
                                    {
                                        "name": "NEV"
                                    },
                                    {
                                        "name": "EMAIL"
                                    },
                                    {
                                        "name": "SZUL_DAT"
                                    }
                                ]
                            },
                            "data": [
                                {
                                    "NEV": "Bodor Szabolcs",
                                    "EMAIL": "szabolcs.bodor@mail.hu",
                                    "SZUL_DAT": "1990-07-16"
                                },
                                {
                                    "NEV": "Bosnyák Ilona",
                                    "EMAIL": "ilona3@gmail.com",
                                    "SZUL_DAT": "1990-08-06"
                                },
                                {
                                    "NEV": "Szabó Julianna",
                                    "EMAIL": "julianna4@gmail.com",
                                    "SZUL_DAT": "1990-09-29"
                                },
                                {
                                    "NEV": "Berta Dávid",
                                    "EMAIL": "david4@gmail.com",
                                    "SZUL_DAT": "1990-10-08"
                                }
                            ]
                        },
                        "text/html": [
                            "<table>",
                            "<tr><th>NEV</th><th>EMAIL</th><th>SZUL_DAT</th></tr>",
                            "<tr><td>Bodor Szabolcs</td><td>szabolcs.bodor@mail.hu</td><td>1990-07-16</td></tr>",
                            "<tr><td>Bosnyák Ilona</td><td>ilona3@gmail.com</td><td>1990-08-06</td></tr>",
                            "<tr><td>Szabó Julianna</td><td>julianna4@gmail.com</td><td>1990-09-29</td></tr>",
                            "<tr><td>Berta Dávid</td><td>david4@gmail.com</td><td>1990-10-08</td></tr>",
                            "</table>"
                        ]
                    }
                }
            ],
            "execution_count": 6
        },
        {
            "cell_type": "markdown",
            "source": [
                ""
            ],
            "metadata": {
                "azdata_cell_guid": "0cc4661b-d4e0-40b8-bb89-673f3a59d2ae"
            }
        },
        {
            "cell_type": "code",
            "source": [
                ""
            ],
            "metadata": {
                "azdata_cell_guid": "f90bccc5-b64a-4a10-9837-636000de9a77",
                "language": "sql"
            },
            "outputs": [],
            "execution_count": null
        },
        {
            "cell_type": "markdown",
            "source": [
                ""
            ],
            "metadata": {
                "azdata_cell_guid": "58864cac-0bfd-4789-9d64-bfa1c6c7515c"
            }
        },
        {
            "cell_type": "code",
            "source": [
                ""
            ],
            "metadata": {
                "azdata_cell_guid": "f7791348-e944-4e88-84c4-67833b283196",
                "language": "sql"
            },
            "outputs": [],
            "execution_count": null
        }
    ]
}