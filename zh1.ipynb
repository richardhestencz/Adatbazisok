{
    "metadata": {
        "kernelspec": {
            "name": "SQL",
            "display_name": "SQL",
            "language": "sql"
        },
        "language_info": {
            "name": "sql",
            "version": ""
        }
    },
    "nbformat_minor": 2,
    "nbformat": 4,
    "cells": [
        {
            "cell_type": "markdown",
            "source": [
                "Listázzuk azon vendégek nevét és email-címét, akik az 1990-es év második felében születtek! \n",
                "\n",
                "a. Rendezzük a listát a születés hónapja szerint növekvő sorrendbe!"
            ],
            "metadata": {
                "azdata_cell_guid": "58da9965-73fc-402f-8666-1864a889c0a4"
            },
            "attachments": {}
        },
        {
            "cell_type": "code",
            "source": [
                "SELECT NEV AS 'Név', \r\n",
                "        EMAIL AS 'Email'\r\n",
                "FROM Vendeg\r\n",
                "WHERE MONTH(SZUL_DAT) BETWEEN 7 AND 12 AND YEAR(SZUL_DAT) = 1990\r\n",
                "ORDER BY MONTH(SZUL_DAT) ASC"
            ],
            "metadata": {
                "azdata_cell_guid": "b6c2e730-2886-4907-a27d-d284422323fc",
                "language": "sql"
            },
            "outputs": [
                {
                    "output_type": "display_data",
                    "data": {
                        "text/html": "(4 rows affected)"
                    },
                    "metadata": {}
                },
                {
                    "output_type": "display_data",
                    "data": {
                        "text/html": "Total execution time: 00:00:00.010"
                    },
                    "metadata": {}
                },
                {
                    "output_type": "execute_result",
                    "metadata": {},
                    "execution_count": 16,
                    "data": {
                        "application/vnd.dataresource+json": {
                            "schema": {
                                "fields": [
                                    {
                                        "name": "Név"
                                    },
                                    {
                                        "name": "Email"
                                    }
                                ]
                            },
                            "data": [
                                {
                                    "Név": "Bodor Szabolcs",
                                    "Email": "szabolcs.bodor@mail.hu"
                                },
                                {
                                    "Név": "Bosnyák Ilona",
                                    "Email": "ilona3@gmail.com"
                                },
                                {
                                    "Név": "Szabó Julianna",
                                    "Email": "julianna4@gmail.com"
                                },
                                {
                                    "Név": "Berta Dávid",
                                    "Email": "david4@gmail.com"
                                }
                            ]
                        },
                        "text/html": [
                            "<table>",
                            "<tr><th>Név</th><th>Email</th></tr>",
                            "<tr><td>Bodor Szabolcs</td><td>szabolcs.bodor@mail.hu</td></tr>",
                            "<tr><td>Bosnyák Ilona</td><td>ilona3@gmail.com</td></tr>",
                            "<tr><td>Szabó Julianna</td><td>julianna4@gmail.com</td></tr>",
                            "<tr><td>Berta Dávid</td><td>david4@gmail.com</td></tr>",
                            "</table>"
                        ]
                    }
                }
            ],
            "execution_count": 16
        },
        {
            "cell_type": "markdown",
            "source": [
                "Egészítse ki a megkezdett lekérdezést, amely megjeleníti, hogy szálláshely típusonként hány foglalás történt! \n",
                "\n",
                "a. A foglalásszámot minden esetben kerekítsük 100-ra! \n",
                "\n",
                "b. Az eredményt szűrjük azon szálláshely típusokra, ahol a kerekített foglalásszám 500 alatt van!"
            ],
            "metadata": {
                "azdata_cell_guid": "0cc4661b-d4e0-40b8-bb89-673f3a59d2ae"
            },
            "attachments": {}
        },
        {
            "cell_type": "code",
            "source": [
                "SELECT szh.TIPUS AS 'Típus', \r\n",
                "ROUND(COUNT(METTOL), -2) AS 'Foglalásszám kerekítve'\r\n",
                " \r\n",
                "FROM Foglalas f JOIN Szoba sz ON f.SZOBA_FK = sz.SZOBA_ID\r\n",
                "                JOIN Szallashely szh ON sz.SZALLAS_FK = szh.SZALLAS_ID\r\n",
                "GROUP BY szh.TIPUS \r\n",
                "HAVING ROUND(COUNT(METTOL), -2) < 500\r\n",
                ""
            ],
            "metadata": {
                "azdata_cell_guid": "f90bccc5-b64a-4a10-9837-636000de9a77",
                "language": "sql",
                "tags": []
            },
            "outputs": [
                {
                    "output_type": "display_data",
                    "data": {
                        "text/html": "(3 rows affected)"
                    },
                    "metadata": {}
                },
                {
                    "output_type": "display_data",
                    "data": {
                        "text/html": "Total execution time: 00:00:00.008"
                    },
                    "metadata": {}
                },
                {
                    "output_type": "execute_result",
                    "metadata": {},
                    "execution_count": 23,
                    "data": {
                        "application/vnd.dataresource+json": {
                            "schema": {
                                "fields": [
                                    {
                                        "name": "Típus"
                                    },
                                    {
                                        "name": "Foglalásszám kerekítve"
                                    }
                                ]
                            },
                            "data": [
                                {
                                    "Típus": "Apartman",
                                    "Foglalásszám kerekítve": "100"
                                },
                                {
                                    "Típus": "vendégház",
                                    "Foglalásszám kerekítve": "100"
                                },
                                {
                                    "Típus": "panzió",
                                    "Foglalásszám kerekítve": "200"
                                }
                            ]
                        },
                        "text/html": [
                            "<table>",
                            "<tr><th>Típus</th><th>Foglalásszám kerekítve</th></tr>",
                            "<tr><td>Apartman</td><td>100</td></tr>",
                            "<tr><td>vendégház</td><td>100</td></tr>",
                            "<tr><td>panzió</td><td>200</td></tr>",
                            "</table>"
                        ]
                    }
                }
            ],
            "execution_count": 23
        },
        {
            "cell_type": "markdown",
            "source": [
                "Jelenítsük meg, hogy az egyes szálláshelyeken összesen hány foglalás történt!\n",
                "\n",
                "a. Csak a szálláshely neve és a foglalásszám jelenjen meg\n",
                "\n",
                "b. Azok a szálláshelyek is jelenjenek meg, ahol nem történt foglalás (ha vannak ilyenek)"
            ],
            "metadata": {
                "azdata_cell_guid": "58864cac-0bfd-4789-9d64-bfa1c6c7515c"
            },
            "attachments": {}
        },
        {
            "cell_type": "code",
            "source": [
                "SELECT szh.SZALLAS_NEV AS 'Szálláshely neve',\r\n",
                "        COUNT(METTOL) AS 'Foglalászám'\r\n",
                "FROM Foglalas f RIGHT JOIN Szoba sz ON f.SZOBA_FK = sz.SZOBA_ID\r\n",
                "                JOIN Szallashely szh ON sz.SZALLAS_FK = szh.SZALLAS_ID\r\n",
                "\r\n",
                "GROUP BY szh.SZALLAS_NEV\r\n",
                ""
            ],
            "metadata": {
                "azdata_cell_guid": "f7791348-e944-4e88-84c4-67833b283196",
                "language": "sql",
                "tags": []
            },
            "outputs": [
                {
                    "output_type": "display_data",
                    "data": {
                        "text/html": "Warning: Null value is eliminated by an aggregate or other SET operation."
                    },
                    "metadata": {}
                },
                {
                    "output_type": "display_data",
                    "data": {
                        "text/html": "(17 rows affected)"
                    },
                    "metadata": {}
                },
                {
                    "output_type": "display_data",
                    "data": {
                        "text/html": "Total execution time: 00:00:00.014"
                    },
                    "metadata": {}
                },
                {
                    "output_type": "execute_result",
                    "metadata": {},
                    "execution_count": 18,
                    "data": {
                        "application/vnd.dataresource+json": {
                            "schema": {
                                "fields": [
                                    {
                                        "name": "Szálláshely neve"
                                    },
                                    {
                                        "name": "Foglalászám"
                                    }
                                ]
                            },
                            "data": [
                                {
                                    "Szálláshely neve": "Szieszta Apartmanház",
                                    "Foglalászám": "34"
                                },
                                {
                                    "Szálláshely neve": "Fortuna panzió",
                                    "Foglalászám": "126"
                                },
                                {
                                    "Szálláshely neve": "Nyárfás Vendégház",
                                    "Foglalászám": "0"
                                },
                                {
                                    "Szálláshely neve": "Kentaur Hotel",
                                    "Foglalászám": "179"
                                },
                                {
                                    "Szálláshely neve": "Partiszél Vendégház",
                                    "Foglalászám": "26"
                                },
                                {
                                    "Szálláshely neve": "Riviéra Panzió",
                                    "Foglalászám": "0"
                                },
                                {
                                    "Szálláshely neve": "Sába-Ház",
                                    "Foglalászám": "70"
                                },
                                {
                                    "Szálláshely neve": "Tímárház Panzió",
                                    "Foglalászám": "0"
                                },
                                {
                                    "Szálláshely neve": "Bagoly Hotel",
                                    "Foglalászám": "0"
                                },
                                {
                                    "Szálláshely neve": "Családi Ház",
                                    "Foglalászám": "18"
                                },
                                {
                                    "Szálláshely neve": "Fortuna Apartman",
                                    "Foglalászám": "39"
                                },
                                {
                                    "Szálláshely neve": "Szarvas Hotel",
                                    "Foglalászám": "0"
                                },
                                {
                                    "Szálláshely neve": "Hotel Három Hattyú",
                                    "Foglalászám": "204"
                                },
                                {
                                    "Szálláshely neve": "Jáde panzió",
                                    "Foglalászám": "29"
                                },
                                {
                                    "Szálláshely neve": "Lagúna Hotel",
                                    "Foglalászám": "123"
                                },
                                {
                                    "Szálláshely neve": "Gold Hotel",
                                    "Foglalászám": "179"
                                },
                                {
                                    "Szálláshely neve": "Kollégium",
                                    "Foglalászám": "0"
                                }
                            ]
                        },
                        "text/html": [
                            "<table>",
                            "<tr><th>Szálláshely neve</th><th>Foglalászám</th></tr>",
                            "<tr><td>Szieszta Apartmanház</td><td>34</td></tr>",
                            "<tr><td>Fortuna panzió</td><td>126</td></tr>",
                            "<tr><td>Nyárfás Vendégház</td><td>0</td></tr>",
                            "<tr><td>Kentaur Hotel</td><td>179</td></tr>",
                            "<tr><td>Partiszél Vendégház</td><td>26</td></tr>",
                            "<tr><td>Riviéra Panzió</td><td>0</td></tr>",
                            "<tr><td>Sába-Ház</td><td>70</td></tr>",
                            "<tr><td>Tímárház Panzió</td><td>0</td></tr>",
                            "<tr><td>Bagoly Hotel</td><td>0</td></tr>",
                            "<tr><td>Családi Ház</td><td>18</td></tr>",
                            "<tr><td>Fortuna Apartman</td><td>39</td></tr>",
                            "<tr><td>Szarvas Hotel</td><td>0</td></tr>",
                            "<tr><td>Hotel Három Hattyú</td><td>204</td></tr>",
                            "<tr><td>Jáde panzió</td><td>29</td></tr>",
                            "<tr><td>Lagúna Hotel</td><td>123</td></tr>",
                            "<tr><td>Gold Hotel</td><td>179</td></tr>",
                            "<tr><td>Kollégium</td><td>0</td></tr>",
                            "</table>"
                        ]
                    }
                }
            ],
            "execution_count": 18
        }
    ]
}