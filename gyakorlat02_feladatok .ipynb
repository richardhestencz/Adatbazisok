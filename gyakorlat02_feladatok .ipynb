{
    "metadata": {
        "kernelspec": {
            "name": "SQL",
            "display_name": "SQL",
            "language": "sql"
        },
        "language_info": {
            "name": "sql",
            "version": ""
        },
        "extensions": {
            "azuredatastudio": {
                "version": 1,
                "views": []
            }
        }
    },
    "nbformat_minor": 2,
    "nbformat": 4,
    "cells": [
        {
            "cell_type": "markdown",
            "source": [
                "1. <span style=\"color:rgb(36, 41, 47);font-family:-apple-system, BlinkMacSystemFont, &quot;Segoe UI&quot;, Helvetica, Arial, sans-serif, &quot;Apple Color Emoji&quot;, &quot;Segoe UI Emoji&quot;;font-size:16px;\">Készítsünk lekérdezést, amely listázza, hogy mely napokon hány db kölcsönzés történt!</span>\n",
                "\n",
                "<span style=\"font-size: 16px;\">a.&nbsp;</span> Az oszlopok neve legyen 'Dátum' és 'Kölcsönzések száma'  \n",
                "b. A listát rendezzük a kölcsönzés dátuma szerint csökkenő sorrendbe!"
            ],
            "metadata": {
                "azdata_cell_guid": "77f2d5b3-38e9-41cc-893f-f5afd02b97ef"
            },
            "attachments": {}
        },
        {
            "cell_type": "code",
            "source": [
                "SELECT ki_datum AS 'Dátum', \r\n",
                "    COUNT(ki) AS 'Kölcsönzések száma'\r\n",
                "FROM kolcsonzesek\r\n",
                "GROUP BY ki_datum"
            ],
            "metadata": {
                "azdata_cell_guid": "bd3cef1a-4e6e-4ece-9dc3-aaa9d2b5d66d",
                "language": "sql"
            },
            "outputs": [
                {
                    "output_type": "display_data",
                    "data": {
                        "text/html": "(3 rows affected)"
                    },
                    "metadata": {}
                },
                {
                    "output_type": "display_data",
                    "data": {
                        "text/html": "Total execution time: 00:00:00.010"
                    },
                    "metadata": {}
                },
                {
                    "output_type": "execute_result",
                    "metadata": {},
                    "execution_count": 5,
                    "data": {
                        "application/vnd.dataresource+json": {
                            "schema": {
                                "fields": [
                                    {
                                        "name": "Dátum"
                                    },
                                    {
                                        "name": "Kölcsönzések száma"
                                    }
                                ]
                            },
                            "data": [
                                {
                                    "Dátum": "2003-12-11",
                                    "Kölcsönzések száma": "3"
                                },
                                {
                                    "Dátum": "2006-10-01",
                                    "Kölcsönzések száma": "1"
                                },
                                {
                                    "Dátum": "2006-10-02",
                                    "Kölcsönzések száma": "1"
                                }
                            ]
                        },
                        "text/html": [
                            "<table>",
                            "<tr><th>Dátum</th><th>Kölcsönzések száma</th></tr>",
                            "<tr><td>2003-12-11</td><td>3</td></tr>",
                            "<tr><td>2006-10-01</td><td>1</td></tr>",
                            "<tr><td>2006-10-02</td><td>1</td></tr>",
                            "</table>"
                        ]
                    }
                }
            ],
            "execution_count": 5
        },
        {
            "cell_type": "markdown",
            "source": [
                "2. <span style=\"font-weight: 600; color: rgb(36, 41, 47); font-family: -apple-system, BlinkMacSystemFont, &quot;Segoe UI&quot;, Helvetica, Arial, sans-serif, &quot;Apple Color Emoji&quot;, &quot;Segoe UI Emoji&quot;; font-size: 16px;\">Mennyi a dvd-k átlagos ára stílusonkénti bontásban?</span>\n",
                "\n",
                "1. Csak azokat a stílusokat vegyük figyelembe, ahol az átlagos ár 4500 Ft feletti!\n",
                "2. Az oszlopokat nevezzük el értelemszerűen!\n",
                "3. A listát rendezzük átlagos ár szerint csökkenő sorrendbe!"
            ],
            "metadata": {
                "azdata_cell_guid": "88f5b4bb-f4c1-4bad-a0c7-b2592687b422"
            },
            "attachments": {}
        },
        {
            "cell_type": "code",
            "source": [
                "SELECT stilus, \r\n",
                "        AVG(nettoar) AS 'ár'\r\n",
                "FROM dvd\r\n",
                "GROUP BY stilus\r\n",
                "HAVING AVG(nettoar) > 4500\r\n",
                "\r\n",
                "\r\n",
                "\r\n",
                "\r\n",
                ""
            ],
            "metadata": {
                "azdata_cell_guid": "e9de5726-f036-4fb9-8c33-a873955ed886",
                "language": "sql",
                "tags": []
            },
            "outputs": [
                {
                    "output_type": "display_data",
                    "data": {
                        "text/html": "(30 rows affected)"
                    },
                    "metadata": {}
                },
                {
                    "output_type": "display_data",
                    "data": {
                        "text/html": "Total execution time: 00:00:00.055"
                    },
                    "metadata": {}
                },
                {
                    "output_type": "execute_result",
                    "metadata": {},
                    "execution_count": 14,
                    "data": {
                        "application/vnd.dataresource+json": {
                            "schema": {
                                "fields": [
                                    {
                                        "name": "stilus"
                                    },
                                    {
                                        "name": "ár"
                                    }
                                ]
                            },
                            "data": [
                                {
                                    "stilus": "állattan",
                                    "ár": "4783,666666666667"
                                },
                                {
                                    "stilus": "ásványtan",
                                    "ár": "5624"
                                },
                                {
                                    "stilus": "csillagászat",
                                    "ár": "4733,571428571428"
                                },
                                {
                                    "stilus": "felvételi",
                                    "ár": "4501,333333333333"
                                },
                                {
                                    "stilus": "festészet",
                                    "ár": "4901"
                                },
                                {
                                    "stilus": "fizika",
                                    "ár": "4769"
                                },
                                {
                                    "stilus": "fordító program",
                                    "ár": "5036"
                                },
                                {
                                    "stilus": "földrajz",
                                    "ár": "4580,0625"
                                },
                                {
                                    "stilus": "gasztronómia",
                                    "ár": "4691"
                                },
                                {
                                    "stilus": "humor",
                                    "ár": "5573"
                                },
                                {
                                    "stilus": "irodalom, nyelv",
                                    "ár": "4704"
                                },
                                {
                                    "stilus": "ismeretterjesztő",
                                    "ár": "4726,673913043478"
                                },
                                {
                                    "stilus": "játék",
                                    "ár": "4850,466666666666"
                                },
                                {
                                    "stilus": "játék (jégkorong)",
                                    "ár": "5242"
                                },
                                {
                                    "stilus": "játék (labdarúgás)",
                                    "ár": "4817,333333333333"
                                },
                                {
                                    "stilus": "játék (rodeó)",
                                    "ár": "5591"
                                },
                                {
                                    "stilus": "kémia",
                                    "ár": "5094"
                                },
                                {
                                    "stilus": "kerttervező",
                                    "ár": "4951"
                                },
                                {
                                    "stilus": "környezetvédelem",
                                    "ár": "5508"
                                },
                                {
                                    "stilus": "kresz",
                                    "ár": "5476"
                                },
                                {
                                    "stilus": "matematika",
                                    "ár": "4520,777777777777"
                                },
                                {
                                    "stilus": "múvészet",
                                    "ár": "5118"
                                },
                                {
                                    "stilus": "művészet",
                                    "ár": "4939,25"
                                },
                                {
                                    "stilus": "nyelvtan",
                                    "ár": "4770,666666666667"
                                },
                                {
                                    "stilus": "nyelvtanító",
                                    "ár": "4759,476190476191"
                                },
                                {
                                    "stilus": "sport",
                                    "ár": "4607"
                                },
                                {
                                    "stilus": "színház",
                                    "ár": "5158"
                                },
                                {
                                    "stilus": "szótár",
                                    "ár": "4624,428571428572"
                                },
                                {
                                    "stilus": "történelem",
                                    "ár": "4655,731707317073"
                                },
                                {
                                    "stilus": "zene",
                                    "ár": "4855,333333333333"
                                }
                            ]
                        },
                        "text/html": [
                            "<table>",
                            "<tr><th>stilus</th><th>ár</th></tr>",
                            "<tr><td>állattan</td><td>4783,666666666667</td></tr>",
                            "<tr><td>ásványtan</td><td>5624</td></tr>",
                            "<tr><td>csillagászat</td><td>4733,571428571428</td></tr>",
                            "<tr><td>felvételi</td><td>4501,333333333333</td></tr>",
                            "<tr><td>festészet</td><td>4901</td></tr>",
                            "<tr><td>fizika</td><td>4769</td></tr>",
                            "<tr><td>fordító program</td><td>5036</td></tr>",
                            "<tr><td>földrajz</td><td>4580,0625</td></tr>",
                            "<tr><td>gasztronómia</td><td>4691</td></tr>",
                            "<tr><td>humor</td><td>5573</td></tr>",
                            "<tr><td>irodalom, nyelv</td><td>4704</td></tr>",
                            "<tr><td>ismeretterjesztő</td><td>4726,673913043478</td></tr>",
                            "<tr><td>játék</td><td>4850,466666666666</td></tr>",
                            "<tr><td>játék (jégkorong)</td><td>5242</td></tr>",
                            "<tr><td>játék (labdarúgás)</td><td>4817,333333333333</td></tr>",
                            "<tr><td>játék (rodeó)</td><td>5591</td></tr>",
                            "<tr><td>kémia</td><td>5094</td></tr>",
                            "<tr><td>kerttervező</td><td>4951</td></tr>",
                            "<tr><td>környezetvédelem</td><td>5508</td></tr>",
                            "<tr><td>kresz</td><td>5476</td></tr>",
                            "<tr><td>matematika</td><td>4520,777777777777</td></tr>",
                            "<tr><td>múvészet</td><td>5118</td></tr>",
                            "<tr><td>művészet</td><td>4939,25</td></tr>",
                            "<tr><td>nyelvtan</td><td>4770,666666666667</td></tr>",
                            "<tr><td>nyelvtanító</td><td>4759,476190476191</td></tr>",
                            "<tr><td>sport</td><td>4607</td></tr>",
                            "<tr><td>színház</td><td>5158</td></tr>",
                            "<tr><td>szótár</td><td>4624,428571428572</td></tr>",
                            "<tr><td>történelem</td><td>4655,731707317073</td></tr>",
                            "<tr><td>zene</td><td>4855,333333333333</td></tr>",
                            "</table>"
                        ]
                    }
                }
            ],
            "execution_count": 14
        },
        {
            "cell_type": "markdown",
            "source": [
                "3. <span style=\"color:rgb(36, 41, 47);font-family:-apple-system, BlinkMacSystemFont, &quot;Segoe UI&quot;, Helvetica, Arial, sans-serif, &quot;Apple Color Emoji&quot;, &quot;Segoe UI Emoji&quot;;font-size:16px;\">Listázzuk nyelvenkénti, azon belül stílusonkénti bontásban, hogy mennyi a dvd-k legkisebb és legnagyobb ára!&nbsp;</span> \n",
                "\n",
                "<span style=\"font-size: 16px;\">a. Az oszlopok neve legyen 'Nyelv', 'Stílus', 'MinÁr' és 'MaxÁr'!<br>b.&nbsp;</span> A listából hagyjuk ki azokat a sorokat, ahol a nyelv vagy a stílus nincs megadva!  \n",
                "c. Szintén hagyjuk ki azokat a csoportokat, ahol a csoport elemszáma 3-nál kisebb!"
            ],
            "metadata": {
                "azdata_cell_guid": "9e7249de-1b59-43d8-84b1-26fa7d81fc5a"
            },
            "attachments": {}
        },
        {
            "cell_type": "code",
            "source": [
                "SELECT lang AS 'Nyelv',\r\n",
                "        stilus AS 'Stílus',\r\n",
                "        MIN(nettoar) AS 'MinÁr',\r\n",
                "        MAX(nettoar) AS 'MaxÁr'\r\n",
                "FROM dvd\r\n",
                "\r\n",
                "\r\n",
                "GROUP BY lang,stilus\r\n",
                "\r\n",
                "HAVING stilus IS NOT NULL AND lang IS NOT NULL "
            ],
            "metadata": {
                "azdata_cell_guid": "6405d3e8-a9b1-45d7-aa76-3b1e785ef6cc",
                "language": "sql"
            },
            "outputs": [
                {
                    "output_type": "display_data",
                    "data": {
                        "text/html": "(64 rows affected)"
                    },
                    "metadata": {}
                },
                {
                    "output_type": "display_data",
                    "data": {
                        "text/html": "Total execution time: 00:00:00.103"
                    },
                    "metadata": {}
                },
                {
                    "output_type": "execute_result",
                    "metadata": {},
                    "execution_count": 28,
                    "data": {
                        "application/vnd.dataresource+json": {
                            "schema": {
                                "fields": [
                                    {
                                        "name": "Nyelv"
                                    },
                                    {
                                        "name": "Stílus"
                                    },
                                    {
                                        "name": "MinÁr"
                                    },
                                    {
                                        "name": "MaxÁr"
                                    }
                                ]
                            },
                            "data": [
                                {
                                    "Nyelv": "1",
                                    "Stílus": "állattan",
                                    "MinÁr": "4153",
                                    "MaxÁr": "5235"
                                },
                                {
                                    "Nyelv": "1",
                                    "Stílus": "ásványtan",
                                    "MinÁr": "5624",
                                    "MaxÁr": "5624"
                                },
                                {
                                    "Nyelv": "1",
                                    "Stílus": "betűtípusok",
                                    "MinÁr": "3845",
                                    "MaxÁr": "3845"
                                },
                                {
                                    "Nyelv": "1",
                                    "Stílus": "biológia",
                                    "MinÁr": "3482",
                                    "MaxÁr": "5543"
                                },
                                {
                                    "Nyelv": "1",
                                    "Stílus": "csillagászat",
                                    "MinÁr": "3582",
                                    "MaxÁr": "5992"
                                },
                                {
                                    "Nyelv": "1",
                                    "Stílus": "felvételi",
                                    "MinÁr": "3215",
                                    "MaxÁr": "5955"
                                },
                                {
                                    "Nyelv": "2",
                                    "Stílus": "felvételi",
                                    "MinÁr": "3876",
                                    "MaxÁr": "3876"
                                },
                                {
                                    "Nyelv": "3",
                                    "Stílus": "felvételi",
                                    "MinÁr": "3102",
                                    "MaxÁr": "3102"
                                },
                                {
                                    "Nyelv": "1",
                                    "Stílus": "festészet",
                                    "MinÁr": "5408",
                                    "MaxÁr": "5408"
                                },
                                {
                                    "Nyelv": "2",
                                    "Stílus": "festészet",
                                    "MinÁr": "4394",
                                    "MaxÁr": "4394"
                                },
                                {
                                    "Nyelv": "1",
                                    "Stílus": "filmtörténet",
                                    "MinÁr": "3138",
                                    "MaxÁr": "4204"
                                },
                                {
                                    "Nyelv": "1",
                                    "Stílus": "fizika",
                                    "MinÁr": "3734",
                                    "MaxÁr": "5763"
                                },
                                {
                                    "Nyelv": "8",
                                    "Stílus": "fordító program",
                                    "MinÁr": "5036",
                                    "MaxÁr": "5036"
                                },
                                {
                                    "Nyelv": "1",
                                    "Stílus": "földrajz",
                                    "MinÁr": "3123",
                                    "MaxÁr": "6065"
                                },
                                {
                                    "Nyelv": "1",
                                    "Stílus": "gasztronómia",
                                    "MinÁr": "3258",
                                    "MaxÁr": "5706"
                                },
                                {
                                    "Nyelv": "1",
                                    "Stílus": "gépírás",
                                    "MinÁr": "3936",
                                    "MaxÁr": "3936"
                                },
                                {
                                    "Nyelv": "1",
                                    "Stílus": "hadtudomány",
                                    "MinÁr": "3515",
                                    "MaxÁr": "3515"
                                },
                                {
                                    "Nyelv": "1",
                                    "Stílus": "humor",
                                    "MinÁr": "5573",
                                    "MaxÁr": "5573"
                                },
                                {
                                    "Nyelv": "1",
                                    "Stílus": "irodalom",
                                    "MinÁr": "3391",
                                    "MaxÁr": "5654"
                                },
                                {
                                    "Nyelv": "1",
                                    "Stílus": "irodalom, nyelv",
                                    "MinÁr": "4704",
                                    "MaxÁr": "4704"
                                },
                                {
                                    "Nyelv": "1",
                                    "Stílus": "ismeretterjesztő",
                                    "MinÁr": "3256",
                                    "MaxÁr": "6072"
                                },
                                {
                                    "Nyelv": "2",
                                    "Stílus": "ismeretterjesztő",
                                    "MinÁr": "5334",
                                    "MaxÁr": "5900"
                                },
                                {
                                    "Nyelv": "1",
                                    "Stílus": "ismeretterjesztő + játék",
                                    "MinÁr": "3107",
                                    "MaxÁr": "3107"
                                },
                                {
                                    "Nyelv": "1",
                                    "Stílus": "játék",
                                    "MinÁr": "3110",
                                    "MaxÁr": "6078"
                                },
                                {
                                    "Nyelv": "2",
                                    "Stílus": "játék",
                                    "MinÁr": "3144",
                                    "MaxÁr": "6062"
                                },
                                {
                                    "Nyelv": "2",
                                    "Stílus": "játék - autós",
                                    "MinÁr": "3989",
                                    "MaxÁr": "3989"
                                },
                                {
                                    "Nyelv": "2",
                                    "Stílus": "játék (autóverseny)",
                                    "MinÁr": "3106",
                                    "MaxÁr": "5005"
                                },
                                {
                                    "Nyelv": "2",
                                    "Stílus": "játék (jégkorong)",
                                    "MinÁr": "5242",
                                    "MaxÁr": "5242"
                                },
                                {
                                    "Nyelv": "1",
                                    "Stílus": "játék (labdarúgás)",
                                    "MinÁr": "5522",
                                    "MaxÁr": "5522"
                                },
                                {
                                    "Nyelv": "2",
                                    "Stílus": "játék (labdarúgás)",
                                    "MinÁr": "3871",
                                    "MaxÁr": "5059"
                                },
                                {
                                    "Nyelv": "2",
                                    "Stílus": "játék (repülős)",
                                    "MinÁr": "4311",
                                    "MaxÁr": "4311"
                                },
                                {
                                    "Nyelv": "2",
                                    "Stílus": "játék (rodeó)",
                                    "MinÁr": "5591",
                                    "MaxÁr": "5591"
                                },
                                {
                                    "Nyelv": "2",
                                    "Stílus": "játék (történelmi)",
                                    "MinÁr": "3707",
                                    "MaxÁr": "3707"
                                },
                                {
                                    "Nyelv": "1",
                                    "Stílus": "játék, sakk",
                                    "MinÁr": "3644",
                                    "MaxÁr": "3644"
                                },
                                {
                                    "Nyelv": "1",
                                    "Stílus": "kémia",
                                    "MinÁr": "5094",
                                    "MaxÁr": "5094"
                                },
                                {
                                    "Nyelv": "2",
                                    "Stílus": "kerttervező",
                                    "MinÁr": "4951",
                                    "MaxÁr": "4951"
                                },
                                {
                                    "Nyelv": "1",
                                    "Stílus": "környezetvédelem",
                                    "MinÁr": "5508",
                                    "MaxÁr": "5508"
                                },
                                {
                                    "Nyelv": "1",
                                    "Stílus": "kresz",
                                    "MinÁr": "5476",
                                    "MaxÁr": "5476"
                                },
                                {
                                    "Nyelv": "2",
                                    "Stílus": "lakástervező",
                                    "MinÁr": "4287",
                                    "MaxÁr": "4287"
                                },
                                {
                                    "Nyelv": "1",
                                    "Stílus": "matematika",
                                    "MinÁr": "3105",
                                    "MaxÁr": "5995"
                                },
                                {
                                    "Nyelv": "1",
                                    "Stílus": "matematika, nyelvtan",
                                    "MinÁr": "4484",
                                    "MaxÁr": "4484"
                                },
                                {
                                    "Nyelv": "2",
                                    "Stílus": "múvészet",
                                    "MinÁr": "5118",
                                    "MaxÁr": "5118"
                                },
                                {
                                    "Nyelv": "1",
                                    "Stílus": "művészet",
                                    "MinÁr": "3490",
                                    "MaxÁr": "6098"
                                },
                                {
                                    "Nyelv": "1",
                                    "Stílus": "növénytan",
                                    "MinÁr": "4438",
                                    "MaxÁr": "4438"
                                },
                                {
                                    "Nyelv": "1",
                                    "Stílus": "nyelvtan",
                                    "MinÁr": "3688",
                                    "MaxÁr": "5845"
                                },
                                {
                                    "Nyelv": "2",
                                    "Stílus": "nyelvtanító",
                                    "MinÁr": "3115",
                                    "MaxÁr": "6068"
                                },
                                {
                                    "Nyelv": "3",
                                    "Stílus": "nyelvtanító",
                                    "MinÁr": "3313",
                                    "MaxÁr": "5990"
                                },
                                {
                                    "Nyelv": "4",
                                    "Stílus": "nyelvtanító",
                                    "MinÁr": "3419",
                                    "MaxÁr": "6082"
                                },
                                {
                                    "Nyelv": "5",
                                    "Stílus": "nyelvtanító",
                                    "MinÁr": "6009",
                                    "MaxÁr": "6009"
                                },
                                {
                                    "Nyelv": "6",
                                    "Stílus": "nyelvtanító",
                                    "MinÁr": "3775",
                                    "MaxÁr": "5882"
                                },
                                {
                                    "Nyelv": "7",
                                    "Stílus": "nyelvtanító",
                                    "MinÁr": "3770",
                                    "MaxÁr": "5619"
                                },
                                {
                                    "Nyelv": "2",
                                    "Stílus": "régészet",
                                    "MinÁr": "3773",
                                    "MaxÁr": "3773"
                                },
                                {
                                    "Nyelv": "1",
                                    "Stílus": "sport",
                                    "MinÁr": "4607",
                                    "MaxÁr": "4607"
                                },
                                {
                                    "Nyelv": "1",
                                    "Stílus": "számítástechnika",
                                    "MinÁr": "3277",
                                    "MaxÁr": "5260"
                                },
                                {
                                    "Nyelv": "1",
                                    "Stílus": "színház",
                                    "MinÁr": "5158",
                                    "MaxÁr": "5158"
                                },
                                {
                                    "Nyelv": "2",
                                    "Stílus": "szótár",
                                    "MinÁr": "3509",
                                    "MaxÁr": "5638"
                                },
                                {
                                    "Nyelv": "4",
                                    "Stílus": "szótár",
                                    "MinÁr": "4107",
                                    "MaxÁr": "4107"
                                },
                                {
                                    "Nyelv": "5",
                                    "Stílus": "szótár",
                                    "MinÁr": "4666",
                                    "MaxÁr": "4666"
                                },
                                {
                                    "Nyelv": "6",
                                    "Stílus": "szótár",
                                    "MinÁr": "5734",
                                    "MaxÁr": "5734"
                                },
                                {
                                    "Nyelv": "7",
                                    "Stílus": "szótár",
                                    "MinÁr": "3566",
                                    "MaxÁr": "3566"
                                },
                                {
                                    "Nyelv": "1",
                                    "Stílus": "történelem",
                                    "MinÁr": "3122",
                                    "MaxÁr": "6084"
                                },
                                {
                                    "Nyelv": "2",
                                    "Stílus": "történelem",
                                    "MinÁr": "5041",
                                    "MaxÁr": "5041"
                                },
                                {
                                    "Nyelv": "1",
                                    "Stílus": "zene",
                                    "MinÁr": "3391",
                                    "MaxÁr": "5730"
                                },
                                {
                                    "Nyelv": "2",
                                    "Stílus": "zene",
                                    "MinÁr": "5336",
                                    "MaxÁr": "5336"
                                }
                            ]
                        },
                        "text/html": [
                            "<table>",
                            "<tr><th>Nyelv</th><th>Stílus</th><th>MinÁr</th><th>MaxÁr</th></tr>",
                            "<tr><td>1</td><td>állattan</td><td>4153</td><td>5235</td></tr>",
                            "<tr><td>1</td><td>ásványtan</td><td>5624</td><td>5624</td></tr>",
                            "<tr><td>1</td><td>betűtípusok</td><td>3845</td><td>3845</td></tr>",
                            "<tr><td>1</td><td>biológia</td><td>3482</td><td>5543</td></tr>",
                            "<tr><td>1</td><td>csillagászat</td><td>3582</td><td>5992</td></tr>",
                            "<tr><td>1</td><td>felvételi</td><td>3215</td><td>5955</td></tr>",
                            "<tr><td>2</td><td>felvételi</td><td>3876</td><td>3876</td></tr>",
                            "<tr><td>3</td><td>felvételi</td><td>3102</td><td>3102</td></tr>",
                            "<tr><td>1</td><td>festészet</td><td>5408</td><td>5408</td></tr>",
                            "<tr><td>2</td><td>festészet</td><td>4394</td><td>4394</td></tr>",
                            "<tr><td>1</td><td>filmtörténet</td><td>3138</td><td>4204</td></tr>",
                            "<tr><td>1</td><td>fizika</td><td>3734</td><td>5763</td></tr>",
                            "<tr><td>8</td><td>fordító program</td><td>5036</td><td>5036</td></tr>",
                            "<tr><td>1</td><td>földrajz</td><td>3123</td><td>6065</td></tr>",
                            "<tr><td>1</td><td>gasztronómia</td><td>3258</td><td>5706</td></tr>",
                            "<tr><td>1</td><td>gépírás</td><td>3936</td><td>3936</td></tr>",
                            "<tr><td>1</td><td>hadtudomány</td><td>3515</td><td>3515</td></tr>",
                            "<tr><td>1</td><td>humor</td><td>5573</td><td>5573</td></tr>",
                            "<tr><td>1</td><td>irodalom</td><td>3391</td><td>5654</td></tr>",
                            "<tr><td>1</td><td>irodalom, nyelv</td><td>4704</td><td>4704</td></tr>",
                            "<tr><td>1</td><td>ismeretterjesztő</td><td>3256</td><td>6072</td></tr>",
                            "<tr><td>2</td><td>ismeretterjesztő</td><td>5334</td><td>5900</td></tr>",
                            "<tr><td>1</td><td>ismeretterjesztő + játék</td><td>3107</td><td>3107</td></tr>",
                            "<tr><td>1</td><td>játék</td><td>3110</td><td>6078</td></tr>",
                            "<tr><td>2</td><td>játék</td><td>3144</td><td>6062</td></tr>",
                            "<tr><td>2</td><td>játék - autós</td><td>3989</td><td>3989</td></tr>",
                            "<tr><td>2</td><td>játék (autóverseny)</td><td>3106</td><td>5005</td></tr>",
                            "<tr><td>2</td><td>játék (jégkorong)</td><td>5242</td><td>5242</td></tr>",
                            "<tr><td>1</td><td>játék (labdarúgás)</td><td>5522</td><td>5522</td></tr>",
                            "<tr><td>2</td><td>játék (labdarúgás)</td><td>3871</td><td>5059</td></tr>",
                            "<tr><td>2</td><td>játék (repülős)</td><td>4311</td><td>4311</td></tr>",
                            "<tr><td>2</td><td>játék (rodeó)</td><td>5591</td><td>5591</td></tr>",
                            "<tr><td>2</td><td>játék (történelmi)</td><td>3707</td><td>3707</td></tr>",
                            "<tr><td>1</td><td>játék, sakk</td><td>3644</td><td>3644</td></tr>",
                            "<tr><td>1</td><td>kémia</td><td>5094</td><td>5094</td></tr>",
                            "<tr><td>2</td><td>kerttervező</td><td>4951</td><td>4951</td></tr>",
                            "<tr><td>1</td><td>környezetvédelem</td><td>5508</td><td>5508</td></tr>",
                            "<tr><td>1</td><td>kresz</td><td>5476</td><td>5476</td></tr>",
                            "<tr><td>2</td><td>lakástervező</td><td>4287</td><td>4287</td></tr>",
                            "<tr><td>1</td><td>matematika</td><td>3105</td><td>5995</td></tr>",
                            "<tr><td>1</td><td>matematika, nyelvtan</td><td>4484</td><td>4484</td></tr>",
                            "<tr><td>2</td><td>múvészet</td><td>5118</td><td>5118</td></tr>",
                            "<tr><td>1</td><td>művészet</td><td>3490</td><td>6098</td></tr>",
                            "<tr><td>1</td><td>növénytan</td><td>4438</td><td>4438</td></tr>",
                            "<tr><td>1</td><td>nyelvtan</td><td>3688</td><td>5845</td></tr>",
                            "<tr><td>2</td><td>nyelvtanító</td><td>3115</td><td>6068</td></tr>",
                            "<tr><td>3</td><td>nyelvtanító</td><td>3313</td><td>5990</td></tr>",
                            "<tr><td>4</td><td>nyelvtanító</td><td>3419</td><td>6082</td></tr>",
                            "<tr><td>5</td><td>nyelvtanító</td><td>6009</td><td>6009</td></tr>",
                            "<tr><td>6</td><td>nyelvtanító</td><td>3775</td><td>5882</td></tr>",
                            "<tr><td>7</td><td>nyelvtanító</td><td>3770</td><td>5619</td></tr>",
                            "<tr><td>2</td><td>régészet</td><td>3773</td><td>3773</td></tr>",
                            "<tr><td>1</td><td>sport</td><td>4607</td><td>4607</td></tr>",
                            "<tr><td>1</td><td>számítástechnika</td><td>3277</td><td>5260</td></tr>",
                            "<tr><td>1</td><td>színház</td><td>5158</td><td>5158</td></tr>",
                            "<tr><td>2</td><td>szótár</td><td>3509</td><td>5638</td></tr>",
                            "<tr><td>4</td><td>szótár</td><td>4107</td><td>4107</td></tr>",
                            "<tr><td>5</td><td>szótár</td><td>4666</td><td>4666</td></tr>",
                            "<tr><td>6</td><td>szótár</td><td>5734</td><td>5734</td></tr>",
                            "<tr><td>7</td><td>szótár</td><td>3566</td><td>3566</td></tr>",
                            "<tr><td>1</td><td>történelem</td><td>3122</td><td>6084</td></tr>",
                            "<tr><td>2</td><td>történelem</td><td>5041</td><td>5041</td></tr>",
                            "<tr><td>1</td><td>zene</td><td>3391</td><td>5730</td></tr>",
                            "<tr><td>2</td><td>zene</td><td>5336</td><td>5336</td></tr>",
                            "</table>"
                        ]
                    }
                }
            ],
            "execution_count": 28
        },
        {
            "cell_type": "markdown",
            "source": [
                "4. <span style=\"color: rgb(36, 41, 47); font-family: -apple-system, BlinkMacSystemFont, &quot;Segoe UI&quot;, Helvetica, Arial, sans-serif, &quot;Apple Color Emoji&quot;, &quot;Segoe UI Emoji&quot;; font-size: 16px;\">Készítsünk listát, amely a csoportokat hoz létre aszerint, hogy a mai naptól számítva hány nap telt el a kölcsönzés kezdete óta. A lista jelenítse meg csoportonkénti bontásban a kikölcsönzött dvd-k számát!</span>\n",
                "\n",
                "1. Az oszlopokat nevezzük el értelemszerűen!\n",
                "2. A listát rendezzük az eltelt napok száma szerint csökkenő sorrendbe!"
            ],
            "metadata": {
                "azdata_cell_guid": "6478e469-c094-472c-a772-ccd5b5c61516"
            },
            "attachments": {}
        },
        {
            "cell_type": "code",
            "source": [
                "SELECT mit AS \"DVDneve\",\r\n",
                "    DATEDIFF(DAY,ki_datum,GETDATE()) AS 'időtáv'\r\n",
                "        \r\n",
                "FROM kolcsonzesek\r\n",
                "\r\n",
                "ORDER BY 'időtáv' DESC"
            ],
            "metadata": {
                "azdata_cell_guid": "02031ea2-3838-458d-839c-228e3b362b61",
                "language": "sql",
                "tags": []
            },
            "outputs": [
                {
                    "output_type": "display_data",
                    "data": {
                        "text/html": "(5 rows affected)"
                    },
                    "metadata": {}
                },
                {
                    "output_type": "display_data",
                    "data": {
                        "text/html": "Total execution time: 00:00:00.011"
                    },
                    "metadata": {}
                },
                {
                    "output_type": "execute_result",
                    "metadata": {},
                    "execution_count": 36,
                    "data": {
                        "application/vnd.dataresource+json": {
                            "schema": {
                                "fields": [
                                    {
                                        "name": "DVDneve"
                                    },
                                    {
                                        "name": "időtáv"
                                    }
                                ]
                            },
                            "data": [
                                {
                                    "DVDneve": "5",
                                    "időtáv": "7390"
                                },
                                {
                                    "DVDneve": "2",
                                    "időtáv": "7390"
                                },
                                {
                                    "DVDneve": "6",
                                    "időtáv": "7390"
                                },
                                {
                                    "DVDneve": "3",
                                    "időtáv": "6365"
                                },
                                {
                                    "DVDneve": "3",
                                    "időtáv": "6364"
                                }
                            ]
                        },
                        "text/html": [
                            "<table>",
                            "<tr><th>DVDneve</th><th>időtáv</th></tr>",
                            "<tr><td>5</td><td>7390</td></tr>",
                            "<tr><td>2</td><td>7390</td></tr>",
                            "<tr><td>6</td><td>7390</td></tr>",
                            "<tr><td>3</td><td>6365</td></tr>",
                            "<tr><td>3</td><td>6364</td></tr>",
                            "</table>"
                        ]
                    }
                }
            ],
            "execution_count": 36
        },
        {
            "cell_type": "markdown",
            "source": [
                "5. <span style=\"color: rgb(36, 41, 47); font-family: -apple-system, BlinkMacSystemFont, &quot;Segoe UI&quot;, Helvetica, Arial, sans-serif, &quot;Apple Color Emoji&quot;, &quot;Segoe UI Emoji&quot;; font-size: 16px;\">A kölcsönző tulajdonosa elhatározza, hogy ezentúl kerekebb árakat alkalmaz. Ezért minden dvd árát 1000 Ft-ra kerekíti. Készítsünk lekérdezést, amely megmutatja, hogy melyik 1000 Ft-ra kerekített ár szerint, azon belül stílus szerint hány db dvd összesen raktáron! **</span>\n",
                "\n",
                "1. Csak olyan csoportokat listázzunk, ahol a raktárkészlet legalább 30!\n",
                "2. A listát rendezzük kerekített ár szerint, azon belül raktárkészlet szerint növekvő sorrendbe!"
            ],
            "metadata": {
                "azdata_cell_guid": "9edbbaf9-c276-4898-9a01-e1b2993c089f"
            },
            "attachments": {}
        },
        {
            "cell_type": "code",
            "source": [
                "SELECT stilus,\r\n",
                "        SUM([raktár készlet]) AS 'Raktárkészlet',\r\n",
                "        ROUND(nettoar,-3) AS 'ár'\r\n",
                "\r\n",
                "FROM dvd\r\n",
                "\r\n",
                "GROUP BY stilus, ROUND(nettoar,-3)\r\n",
                "HAVING SUM([raktár készlet]) >=30\r\n",
                "ORDER BY ár ASC\r\n",
                ""
            ],
            "metadata": {
                "azdata_cell_guid": "5ad5fdcb-2878-4111-861a-833bcd50e935",
                "language": "sql"
            },
            "outputs": [
                {
                    "output_type": "display_data",
                    "data": {
                        "text/html": "(27 rows affected)"
                    },
                    "metadata": {}
                },
                {
                    "output_type": "display_data",
                    "data": {
                        "text/html": "Total execution time: 00:00:00.025"
                    },
                    "metadata": {}
                },
                {
                    "output_type": "execute_result",
                    "metadata": {},
                    "execution_count": 66,
                    "data": {
                        "application/vnd.dataresource+json": {
                            "schema": {
                                "fields": [
                                    {
                                        "name": "stilus"
                                    },
                                    {
                                        "name": "Raktárkészlet"
                                    },
                                    {
                                        "name": "ár"
                                    }
                                ]
                            },
                            "data": [
                                {
                                    "stilus": "földrajz",
                                    "Raktárkészlet": "30",
                                    "ár": "3000"
                                },
                                {
                                    "stilus": "ismeretterjesztő",
                                    "Raktárkészlet": "70",
                                    "ár": "3000"
                                },
                                {
                                    "stilus": "játék",
                                    "Raktárkészlet": "40",
                                    "ár": "3000"
                                },
                                {
                                    "stilus": "nyelvtanító",
                                    "Raktárkészlet": "30",
                                    "ár": "3000"
                                },
                                {
                                    "stilus": "történelem",
                                    "Raktárkészlet": "40",
                                    "ár": "3000"
                                },
                                {
                                    "stilus": "csillagászat",
                                    "Raktárkészlet": "40",
                                    "ár": "4000"
                                },
                                {
                                    "stilus": "földrajz",
                                    "Raktárkészlet": "50",
                                    "ár": "4000"
                                },
                                {
                                    "stilus": "irodalom",
                                    "Raktárkészlet": "90",
                                    "ár": "4000"
                                },
                                {
                                    "stilus": "ismeretterjesztő",
                                    "Raktárkészlet": "130",
                                    "ár": "4000"
                                },
                                {
                                    "stilus": "játék",
                                    "Raktárkészlet": "180",
                                    "ár": "4000"
                                },
                                {
                                    "stilus": "nyelvtanító",
                                    "Raktárkészlet": "140",
                                    "ár": "4000"
                                },
                                {
                                    "stilus": "szótár",
                                    "Raktárkészlet": "30",
                                    "ár": "4000"
                                },
                                {
                                    "stilus": "történelem",
                                    "Raktárkészlet": "160",
                                    "ár": "4000"
                                },
                                {
                                    "stilus": "földrajz",
                                    "Raktárkészlet": "60",
                                    "ár": "5000"
                                },
                                {
                                    "stilus": "irodalom",
                                    "Raktárkészlet": "30",
                                    "ár": "5000"
                                },
                                {
                                    "stilus": "ismeretterjesztő",
                                    "Raktárkészlet": "170",
                                    "ár": "5000"
                                },
                                {
                                    "stilus": "játék",
                                    "Raktárkészlet": "210",
                                    "ár": "5000"
                                },
                                {
                                    "stilus": "matematika",
                                    "Raktárkészlet": "30",
                                    "ár": "5000"
                                },
                                {
                                    "stilus": "nyelvtanító",
                                    "Raktárkészlet": "140",
                                    "ár": "5000"
                                },
                                {
                                    "stilus": "történelem",
                                    "Raktárkészlet": "120",
                                    "ár": "5000"
                                },
                                {
                                    "stilus": "zene",
                                    "Raktárkészlet": "30",
                                    "ár": "5000"
                                },
                                {
                                    "stilus": "csillagászat",
                                    "Raktárkészlet": "30",
                                    "ár": "6000"
                                },
                                {
                                    "stilus": "irodalom",
                                    "Raktárkészlet": "30",
                                    "ár": "6000"
                                },
                                {
                                    "stilus": "ismeretterjesztő",
                                    "Raktárkészlet": "90",
                                    "ár": "6000"
                                },
                                {
                                    "stilus": "játék",
                                    "Raktárkészlet": "170",
                                    "ár": "6000"
                                },
                                {
                                    "stilus": "nyelvtanító",
                                    "Raktárkészlet": "110",
                                    "ár": "6000"
                                },
                                {
                                    "stilus": "történelem",
                                    "Raktárkészlet": "88",
                                    "ár": "6000"
                                }
                            ]
                        },
                        "text/html": [
                            "<table>",
                            "<tr><th>stilus</th><th>Raktárkészlet</th><th>ár</th></tr>",
                            "<tr><td>földrajz</td><td>30</td><td>3000</td></tr>",
                            "<tr><td>ismeretterjesztő</td><td>70</td><td>3000</td></tr>",
                            "<tr><td>játék</td><td>40</td><td>3000</td></tr>",
                            "<tr><td>nyelvtanító</td><td>30</td><td>3000</td></tr>",
                            "<tr><td>történelem</td><td>40</td><td>3000</td></tr>",
                            "<tr><td>csillagászat</td><td>40</td><td>4000</td></tr>",
                            "<tr><td>földrajz</td><td>50</td><td>4000</td></tr>",
                            "<tr><td>irodalom</td><td>90</td><td>4000</td></tr>",
                            "<tr><td>ismeretterjesztő</td><td>130</td><td>4000</td></tr>",
                            "<tr><td>játék</td><td>180</td><td>4000</td></tr>",
                            "<tr><td>nyelvtanító</td><td>140</td><td>4000</td></tr>",
                            "<tr><td>szótár</td><td>30</td><td>4000</td></tr>",
                            "<tr><td>történelem</td><td>160</td><td>4000</td></tr>",
                            "<tr><td>földrajz</td><td>60</td><td>5000</td></tr>",
                            "<tr><td>irodalom</td><td>30</td><td>5000</td></tr>",
                            "<tr><td>ismeretterjesztő</td><td>170</td><td>5000</td></tr>",
                            "<tr><td>játék</td><td>210</td><td>5000</td></tr>",
                            "<tr><td>matematika</td><td>30</td><td>5000</td></tr>",
                            "<tr><td>nyelvtanító</td><td>140</td><td>5000</td></tr>",
                            "<tr><td>történelem</td><td>120</td><td>5000</td></tr>",
                            "<tr><td>zene</td><td>30</td><td>5000</td></tr>",
                            "<tr><td>csillagászat</td><td>30</td><td>6000</td></tr>",
                            "<tr><td>irodalom</td><td>30</td><td>6000</td></tr>",
                            "<tr><td>ismeretterjesztő</td><td>90</td><td>6000</td></tr>",
                            "<tr><td>játék</td><td>170</td><td>6000</td></tr>",
                            "<tr><td>nyelvtanító</td><td>110</td><td>6000</td></tr>",
                            "<tr><td>történelem</td><td>88</td><td>6000</td></tr>",
                            "</table>"
                        ]
                    }
                }
            ],
            "execution_count": 66
        },
        {
            "cell_type": "markdown",
            "source": [
                "6. <span style=\"font-weight: 600; color: rgb(36, 41, 47); font-family: -apple-system, BlinkMacSystemFont, &quot;Segoe UI&quot;, Helvetica, Arial, sans-serif, &quot;Apple Color Emoji&quot;, &quot;Segoe UI Emoji&quot;; font-size: 16px;\">A dvd-ket csoportosíthatjuk aszerint, hogy milyen hosszú a címük. Amelyiknél a cím hosszúsága 10 karakter alatt van, az legyen Rövid, 10-20-ig Átlagos, 20 felett Hosszú. Hány Rövid, Átlagos, illetve Hosszú dvd-van összesen raktáron?</span>\n",
                "\n",
                "1. Az oszlopok neve legyen 'Cím hosszúság' és 'Darabszám"
            ],
            "metadata": {
                "azdata_cell_guid": "5fe65c1c-2479-45ac-ad03-ec99d12eae21"
            },
            "attachments": {}
        },
        {
            "cell_type": "code",
            "source": [
                "SELECT CASE\r\n",
                "        WHEN LEN(cim) < 10 THEN 'Rövid'\r\n",
                "        WHEN LEN(cim) BETWEEN 10 AND 20 THEN 'Átlagos'\r\n",
                "        ELSE 'Hosszú'\r\n",
                "    END AS \"Cím hosszúság\",\r\n",
                "        SUM([raktár készlet])\r\n",
                "\r\n",
                "FROM dvd\r\n",
                "\r\n",
                "GROUP BY CASE\r\n",
                "        WHEN LEN(cim) < 10 THEN 'Rövid'\r\n",
                "        WHEN LEN(cim) BETWEEN 10 AND 20 THEN 'Átlagos'\r\n",
                "        ELSE 'Hosszú'\r\n",
                "        END;"
            ],
            "metadata": {
                "azdata_cell_guid": "924f2dde-f1c2-4def-a7f9-dbf4bace7735",
                "language": "sql"
            },
            "outputs": [
                {
                    "output_type": "display_data",
                    "data": {
                        "text/html": "(3 rows affected)"
                    },
                    "metadata": {}
                },
                {
                    "output_type": "display_data",
                    "data": {
                        "text/html": "Total execution time: 00:00:00.027"
                    },
                    "metadata": {}
                },
                {
                    "output_type": "execute_result",
                    "metadata": {},
                    "execution_count": 78,
                    "data": {
                        "application/vnd.dataresource+json": {
                            "schema": {
                                "fields": [
                                    {
                                        "name": "Cím hosszúság"
                                    },
                                    {
                                        "name": "(No column name)"
                                    }
                                ]
                            },
                            "data": [
                                {
                                    "Cím hosszúság": "Átlagos",
                                    "(No column name)": "930"
                                },
                                {
                                    "Cím hosszúság": "Hosszú",
                                    "(No column name)": "2128"
                                },
                                {
                                    "Cím hosszúság": "Rövid",
                                    "(No column name)": "120"
                                }
                            ]
                        },
                        "text/html": [
                            "<table>",
                            "<tr><th>Cím hosszúság</th><th>(No column name)</th></tr>",
                            "<tr><td>Átlagos</td><td>930</td></tr>",
                            "<tr><td>Hosszú</td><td>2128</td></tr>",
                            "<tr><td>Rövid</td><td>120</td></tr>",
                            "</table>"
                        ]
                    }
                }
            ],
            "execution_count": 78
        },
        {
            "cell_type": "markdown",
            "source": [
                "7. <span style=\"color: rgb(36, 41, 47); font-family: -apple-system, BlinkMacSystemFont, &quot;Segoe UI&quot;, Helvetica, Arial, sans-serif, &quot;Apple Color Emoji&quot;, &quot;Segoe UI Emoji&quot;; font-size: 16px;\">Készítsünk listát arról, hogy melyik teremben hány óra van!</span>\n",
                "\n",
                "1. Jelenítsük meg a termek azonosítóit és a teremben tartott órák számát!\n",
                "2. Az oszlopokat nevezzük el értelemszerűen!\n",
                "3. Szűrjünk azokra a termekre, ahol az órák száma legalább 3!"
            ],
            "metadata": {
                "azdata_cell_guid": "3aeb6bf5-b111-40d5-92b2-9712ce335696"
            },
            "attachments": {}
        },
        {
            "cell_type": "code",
            "source": [
                "SELECT t.Tkód, t.Terem,\r\n",
                "        COUNT(o.ora_id) AS 'Órák száma'\r\n",
                "FROM Termek t JOIN Orak o ON t.Tkód = o.terem\r\n",
                " \r\n",
                "\r\n",
                "GROUP BY t.Terem, t.Tkód\r\n",
                "HAVING COUNT(o.ora_id) > 3"
            ],
            "metadata": {
                "azdata_cell_guid": "3e89b651-f56f-4102-af52-30eb2bbe360d",
                "language": "sql"
            },
            "outputs": [
                {
                    "output_type": "display_data",
                    "data": {
                        "text/html": "(8 rows affected)"
                    },
                    "metadata": {}
                },
                {
                    "output_type": "display_data",
                    "data": {
                        "text/html": "Total execution time: 00:00:00.026"
                    },
                    "metadata": {}
                },
                {
                    "output_type": "execute_result",
                    "metadata": {},
                    "execution_count": 89,
                    "data": {
                        "application/vnd.dataresource+json": {
                            "schema": {
                                "fields": [
                                    {
                                        "name": "Tkód"
                                    },
                                    {
                                        "name": "Terem"
                                    },
                                    {
                                        "name": "Órák száma"
                                    }
                                ]
                            },
                            "data": [
                                {
                                    "Tkód": "2",
                                    "Terem": "118",
                                    "Órák száma": "5"
                                },
                                {
                                    "Tkód": "3",
                                    "Terem": "119",
                                    "Órák száma": "11"
                                },
                                {
                                    "Tkód": "4",
                                    "Terem": "120",
                                    "Órák száma": "8"
                                },
                                {
                                    "Tkód": "5",
                                    "Terem": "217",
                                    "Órák száma": "5"
                                },
                                {
                                    "Tkód": "6",
                                    "Terem": "218",
                                    "Órák száma": "6"
                                },
                                {
                                    "Tkód": "7",
                                    "Terem": "219",
                                    "Órák száma": "6"
                                },
                                {
                                    "Tkód": "8",
                                    "Terem": "220",
                                    "Órák száma": "6"
                                },
                                {
                                    "Tkód": "13",
                                    "Terem": "VP 203.",
                                    "Órák száma": "5"
                                }
                            ]
                        },
                        "text/html": [
                            "<table>",
                            "<tr><th>Tkód</th><th>Terem</th><th>Órák száma</th></tr>",
                            "<tr><td>2</td><td>118</td><td>5</td></tr>",
                            "<tr><td>3</td><td>119</td><td>11</td></tr>",
                            "<tr><td>4</td><td>120</td><td>8</td></tr>",
                            "<tr><td>5</td><td>217</td><td>5</td></tr>",
                            "<tr><td>6</td><td>218</td><td>6</td></tr>",
                            "<tr><td>7</td><td>219</td><td>6</td></tr>",
                            "<tr><td>8</td><td>220</td><td>6</td></tr>",
                            "<tr><td>13</td><td>VP 203.</td><td>5</td></tr>",
                            "</table>"
                        ]
                    }
                }
            ],
            "execution_count": 89
        },
        {
            "cell_type": "markdown",
            "source": [
                "8. <span style=\"color: rgb(36, 41, 47); font-family: -apple-system, BlinkMacSystemFont, &quot;Segoe UI&quot;, Helvetica, Arial, sans-serif, &quot;Apple Color Emoji&quot;, &quot;Segoe UI Emoji&quot;; font-size: 16px;\">Készítsünk lekérdezést, amely megadja, hogy minimálian és maximálisan hány kreditet ér egy tantárgy!</span>\n",
                "\n",
                "1. Az oszlopokat nevezzük el értelemszerűen!\n",
                "2. Ne vegyük figyelembe azokat a tantárgyakat, amelyek nevében az „alapjai” szó szerepel, vagy a tantárgy neve 10 karakternél rövidebb!"
            ],
            "metadata": {
                "azdata_cell_guid": "26a504dc-ff6a-439f-94c0-4580eca3eacf"
            },
            "attachments": {}
        },
        {
            "cell_type": "code",
            "source": [
                "SELECT Tantárgynév,Kredit\r\n",
                "FROM Tantárgyak\r\n",
                "\r\n",
                "WHERE Tantárgynév NOT LIKE '%alapjai%' AND LEN(Tantárgynév) > 9"
            ],
            "metadata": {
                "azdata_cell_guid": "1cbb8aeb-78b5-4350-aa45-e3202fdab85b",
                "language": "sql"
            },
            "outputs": [
                {
                    "output_type": "display_data",
                    "data": {
                        "text/html": "(8 rows affected)"
                    },
                    "metadata": {}
                },
                {
                    "output_type": "display_data",
                    "data": {
                        "text/html": "Total execution time: 00:00:00.024"
                    },
                    "metadata": {}
                },
                {
                    "output_type": "execute_result",
                    "metadata": {},
                    "execution_count": 103,
                    "data": {
                        "application/vnd.dataresource+json": {
                            "schema": {
                                "fields": [
                                    {
                                        "name": "Tantárgynév"
                                    },
                                    {
                                        "name": "Kredit"
                                    }
                                ]
                            },
                            "data": [
                                {
                                    "Tantárgynév": "Bevezetés az ürgeöntésbe",
                                    "Kredit": "3"
                                },
                                {
                                    "Tantárgynév": "Az ürge anatómiája",
                                    "Kredit": "5"
                                },
                                {
                                    "Tantárgynév": "Ürgeöntés az EU-ban",
                                    "Kredit": "1"
                                },
                                {
                                    "Tantárgynév": "Fejezetek az ürgék jogaiból",
                                    "Kredit": "3"
                                },
                                {
                                    "Tantárgynév": "Folyami gáttan",
                                    "Kredit": "2"
                                },
                                {
                                    "Tantárgynév": "ü-business",
                                    "Kredit": "2"
                                },
                                {
                                    "Tantárgynév": "Öntési gyakorlat",
                                    "Kredit": "1"
                                },
                                {
                                    "Tantárgynév": "Az öntés elmélete",
                                    "Kredit": "4"
                                }
                            ]
                        },
                        "text/html": [
                            "<table>",
                            "<tr><th>Tantárgynév</th><th>Kredit</th></tr>",
                            "<tr><td>Bevezetés az ürgeöntésbe</td><td>3</td></tr>",
                            "<tr><td>Az ürge anatómiája</td><td>5</td></tr>",
                            "<tr><td>Ürgeöntés az EU-ban</td><td>1</td></tr>",
                            "<tr><td>Fejezetek az ürgék jogaiból</td><td>3</td></tr>",
                            "<tr><td>Folyami gáttan</td><td>2</td></tr>",
                            "<tr><td>ü-business</td><td>2</td></tr>",
                            "<tr><td>Öntési gyakorlat</td><td>1</td></tr>",
                            "<tr><td>Az öntés elmélete</td><td>4</td></tr>",
                            "</table>"
                        ]
                    }
                }
            ],
            "execution_count": 103
        },
        {
            "cell_type": "markdown",
            "source": [
                "9. <span style=\"color: rgb(36, 41, 47); font-family: -apple-system, BlinkMacSystemFont, &quot;Segoe UI&quot;, Helvetica, Arial, sans-serif, &quot;Apple Color Emoji&quot;, &quot;Segoe UI Emoji&quot;; font-size: 16px;\">A tapasztalat alapján a tanársegédeknek 8, az óraadóknak 10 órájuk van egy héten. A többiek annyi órát tartanak, amennyi az elvárt óraszámuk. Készítsünk lekérdezést, amely minden beosztáshoz megjeleníti, hogy hetente hány túlóra tartozik hozzá!</span>\n",
                "\n",
                "1. A lekérdezés csak a beosztások nevét és a heti túlórák számát jelenítse meg!"
            ],
            "metadata": {
                "azdata_cell_guid": "435e2860-2dd5-4877-90f4-34a43baeb53c"
            },
            "attachments": {}
        },
        {
            "cell_type": "code",
            "source": [
                "SELECT b.beosztasnev, \r\n",
                "CASE\r\n",
                "        WHEN b.beosztasnev = 'tanársegéd' THEN COUNT(r.ora_id) - 8\r\n",
                "        WHEN b.beosztasnev = 'óraadó' THEN COUNT(r.ora_id) - 10\r\n",
                "        ELSE COUNT(r.ora_id) - b.elvart\r\n",
                "    END AS \"Túlórák\"\r\n",
                "       \r\n",
                "FROM Beosztasok b JOIN Oktatok o ON b.beosztas_id = o.beosztás\r\n",
                "                  JOIN Orak r ON b.beosztas_id = o.beosztás\r\n",
                "\r\n",
                "GROUP BY b.beosztasnev, b.elvart\r\n",
                "\r\n",
                ""
            ],
            "metadata": {
                "azdata_cell_guid": "ce846351-ddbe-4d8e-b8fb-2a92c73ac80b",
                "language": "sql",
                "tags": []
            },
            "outputs": [
                {
                    "output_type": "display_data",
                    "data": {
                        "text/html": "(6 rows affected)"
                    },
                    "metadata": {}
                },
                {
                    "output_type": "display_data",
                    "data": {
                        "text/html": "Total execution time: 00:00:00.023"
                    },
                    "metadata": {}
                },
                {
                    "output_type": "execute_result",
                    "metadata": {},
                    "execution_count": 131,
                    "data": {
                        "application/vnd.dataresource+json": {
                            "schema": {
                                "fields": [
                                    {
                                        "name": "beosztasnev"
                                    },
                                    {
                                        "name": "Túlórák"
                                    }
                                ]
                            },
                            "data": [
                                {
                                    "beosztasnev": "Egyetemi tanár",
                                    "Túlórák": "266"
                                },
                                {
                                    "beosztasnev": "Professzor",
                                    "Túlórák": "64"
                                },
                                {
                                    "beosztasnev": "Docens",
                                    "Túlórák": "264"
                                },
                                {
                                    "beosztasnev": "Adjunktus",
                                    "Túlórák": "196"
                                },
                                {
                                    "beosztasnev": "Óraadó",
                                    "Túlórák": "526"
                                },
                                {
                                    "beosztasnev": "Tanársegéd",
                                    "Túlórák": "327"
                                }
                            ]
                        },
                        "text/html": [
                            "<table>",
                            "<tr><th>beosztasnev</th><th>Túlórák</th></tr>",
                            "<tr><td>Egyetemi tanár</td><td>266</td></tr>",
                            "<tr><td>Professzor</td><td>64</td></tr>",
                            "<tr><td>Docens</td><td>264</td></tr>",
                            "<tr><td>Adjunktus</td><td>196</td></tr>",
                            "<tr><td>Óraadó</td><td>526</td></tr>",
                            "<tr><td>Tanársegéd</td><td>327</td></tr>",
                            "</table>"
                        ]
                    }
                }
            ],
            "execution_count": 131
        },
        {
            "cell_type": "markdown",
            "source": [
                "10. <span style=\"font-weight: 600; color: rgb(36, 41, 47); font-family: -apple-system, BlinkMacSystemFont, &quot;Segoe UI&quot;, Helvetica, Arial, sans-serif, &quot;Apple Color Emoji&quot;, &quot;Segoe UI Emoji&quot;; font-size: 16px;\">Melyek azok az oktatók, akiknek nincs órájuk?</span>\n",
                "\n",
                "1. Csak az oktatók neve jelenjen meg!\n",
                "2. ÖTLET: használjunk LEFT JOIN-t, és szűrjünk azokra a rekordokra, ahol NULL érték van a JOIN utáni feltétel jobb oldalán!"
            ],
            "metadata": {
                "azdata_cell_guid": "217c5772-afe2-4a7c-b913-e3a3e09d6411"
            },
            "attachments": {}
        },
        {
            "cell_type": "code",
            "source": [
                ""
            ],
            "metadata": {
                "azdata_cell_guid": "a9cc0926-3dbd-4ed8-8179-1c39d64a0762",
                "language": "sql"
            },
            "outputs": [],
            "execution_count": null
        },
        {
            "cell_type": "markdown",
            "source": [
                "11. <span style=\"font-weight: 600; color: rgb(36, 41, 47); font-family: -apple-system, BlinkMacSystemFont, &quot;Segoe UI&quot;, Helvetica, Arial, sans-serif, &quot;Apple Color Emoji&quot;, &quot;Segoe UI Emoji&quot;; font-size: 16px;\">Készítsünk lekérdezést, amely részletesen megjeleníti az egyes órák fontosabb adatait, azaz</span>\n",
                "\n",
                "1. Az órák azonosítóit, a tanár nevét, a tantárgy nevét, a terem nevét és a kezdési időpontot!\n",
                "2. Az oszlopokat nevezzük el értelemszerűen!"
            ],
            "metadata": {
                "azdata_cell_guid": "d2340f5f-1614-473c-b937-85740d67f7c1"
            },
            "attachments": {}
        },
        {
            "cell_type": "code",
            "source": [
                "SELECT ok.nev, t.Tantárgynév, o.terem, s.Időpont\r\n",
                "FROM Orak o JOIN Oktatok ok ON o.tanar = ok.oktato_id\r\n",
                "            JOIN Tantárgyak t ON o.targy = t.Tkód\r\n",
                "            JOIN Savok s ON o.Sav = s.Sav_id"
            ],
            "metadata": {
                "azdata_cell_guid": "e99c2c53-898f-4787-b0e6-182d106dc16f",
                "language": "sql"
            },
            "outputs": [
                {
                    "output_type": "display_data",
                    "data": {
                        "text/html": "(67 rows affected)"
                    },
                    "metadata": {}
                },
                {
                    "output_type": "display_data",
                    "data": {
                        "text/html": "Total execution time: 00:00:00.035"
                    },
                    "metadata": {}
                },
                {
                    "output_type": "execute_result",
                    "metadata": {},
                    "execution_count": 134,
                    "data": {
                        "application/vnd.dataresource+json": {
                            "schema": {
                                "fields": [
                                    {
                                        "name": "nev"
                                    },
                                    {
                                        "name": "Tantárgynév"
                                    },
                                    {
                                        "name": "terem"
                                    },
                                    {
                                        "name": "Időpont"
                                    }
                                ]
                            },
                            "data": [
                                {
                                    "nev": "Ujfalussi István",
                                    "Tantárgynév": "Az ürgeöntés alapjai",
                                    "terem": "1",
                                    "Időpont": "8.00"
                                },
                                {
                                    "nev": "Pelikán József",
                                    "Tantárgynév": "Az ürgeöntés alapjai",
                                    "terem": "2",
                                    "Időpont": "14.00"
                                },
                                {
                                    "nev": "Pelikán József",
                                    "Tantárgynév": "Az ürgeöntés alapjai",
                                    "terem": "2",
                                    "Időpont": "9.30"
                                },
                                {
                                    "nev": "Kovács András",
                                    "Tantárgynév": "Az ürgeöntés alapjai",
                                    "terem": "3",
                                    "Időpont": "12.30"
                                },
                                {
                                    "nev": "Szerb László",
                                    "Tantárgynév": "Az ürgeöntés alapjai",
                                    "terem": "4",
                                    "Időpont": "9.30"
                                },
                                {
                                    "nev": "Kiss János",
                                    "Tantárgynév": "Az ürgeöntés alapjai",
                                    "terem": "3",
                                    "Időpont": "11.00"
                                },
                                {
                                    "nev": "Szerb László",
                                    "Tantárgynév": "Az ürgeöntés alapjai",
                                    "terem": "3",
                                    "Időpont": "11.00"
                                },
                                {
                                    "nev": "Szerb László",
                                    "Tantárgynév": "Az ürgeöntés alapjai",
                                    "terem": "3",
                                    "Időpont": "12.30"
                                },
                                {
                                    "nev": "Szentágotai Istvás",
                                    "Tantárgynév": "Az ürgeöntés alapjai",
                                    "terem": "4",
                                    "Időpont": "12.30"
                                },
                                {
                                    "nev": "Ujfalussi István",
                                    "Tantárgynév": "Az ürgeöntés alapjai",
                                    "terem": "5",
                                    "Időpont": "11.00"
                                },
                                {
                                    "nev": "Kovács András",
                                    "Tantárgynév": "Az ürgeöntés alapjai",
                                    "terem": "6",
                                    "Időpont": "9.30"
                                },
                                {
                                    "nev": "Ludas Mátyás",
                                    "Tantárgynév": "Az ürgeöntés alapjai",
                                    "terem": "4",
                                    "Időpont": "9.30"
                                },
                                {
                                    "nev": "Szénási ászló",
                                    "Tantárgynév": "Az ürgeöntés alapjai",
                                    "terem": "8",
                                    "Időpont": "9.30"
                                },
                                {
                                    "nev": "Kiss János",
                                    "Tantárgynév": "Az ürgeöntés alapjai",
                                    "terem": "3",
                                    "Időpont": "9.30"
                                },
                                {
                                    "nev": "Kovács András",
                                    "Tantárgynév": "Az ürgeöntés alapjai",
                                    "terem": "3",
                                    "Időpont": "11.00"
                                },
                                {
                                    "nev": "Ludas Mátyás",
                                    "Tantárgynév": "Az ürgeöntés alapjai",
                                    "terem": "7",
                                    "Időpont": "11.00"
                                },
                                {
                                    "nev": "Szénási ászló",
                                    "Tantárgynév": "Az ürgeöntés alapjai",
                                    "terem": "4",
                                    "Időpont": "12.30"
                                },
                                {
                                    "nev": "Kovács András",
                                    "Tantárgynév": "Az ürgeöntés alapjai",
                                    "terem": "2",
                                    "Időpont": "12.30"
                                },
                                {
                                    "nev": "Szentágotai Istvás",
                                    "Tantárgynév": "Az ürgeöntés alapjai",
                                    "terem": "3",
                                    "Időpont": "14.00"
                                },
                                {
                                    "nev": "Vitéz János",
                                    "Tantárgynév": "Az ürgeöntés alapjai",
                                    "terem": "8",
                                    "Időpont": "14.00"
                                },
                                {
                                    "nev": "Szentágotai Istvás",
                                    "Tantárgynév": "Az ürgeöntés alapjai",
                                    "terem": "4",
                                    "Időpont": "15.30"
                                },
                                {
                                    "nev": "Vitéz János",
                                    "Tantárgynév": "Az ürgeöntés alapjai",
                                    "terem": "3",
                                    "Időpont": "15.30"
                                },
                                {
                                    "nev": "Szentágotai Istvás",
                                    "Tantárgynév": "Az ürgeöntés alapjai",
                                    "terem": "2",
                                    "Időpont": "8.00"
                                },
                                {
                                    "nev": "Vitéz János",
                                    "Tantárgynév": "Az ürgeöntés alapjai",
                                    "terem": "7",
                                    "Időpont": "8.00"
                                },
                                {
                                    "nev": "Szentágotai Istvás",
                                    "Tantárgynév": "Az ürgeöntés alapjai",
                                    "terem": "8",
                                    "Időpont": "9.30"
                                },
                                {
                                    "nev": "Vitéz János",
                                    "Tantárgynév": "Az ürgeöntés alapjai",
                                    "terem": "6",
                                    "Időpont": "9.30"
                                },
                                {
                                    "nev": "Szentágotai Istvás",
                                    "Tantárgynév": "Az ürgeöntés alapjai",
                                    "terem": "4",
                                    "Időpont": "11.00"
                                },
                                {
                                    "nev": "Nógrádi Kata",
                                    "Tantárgynév": "ü-business",
                                    "terem": "7",
                                    "Időpont": "12.30"
                                },
                                {
                                    "nev": "Balkán András",
                                    "Tantárgynév": "Bevezetés az ürgeöntésbe",
                                    "terem": "5",
                                    "Időpont": "9.30"
                                },
                                {
                                    "nev": "Farkasos Piroska",
                                    "Tantárgynév": "Bevezetés az ürgeöntésbe",
                                    "terem": "13",
                                    "Időpont": "15.30"
                                },
                                {
                                    "nev": "Farkasos Piroska",
                                    "Tantárgynév": "Bevezetés az ürgeöntésbe",
                                    "terem": "13",
                                    "Időpont": "9.30"
                                },
                                {
                                    "nev": "Farkasos Piroska",
                                    "Tantárgynév": "Bevezetés az ürgeöntésbe",
                                    "terem": "14",
                                    "Időpont": "11.00"
                                },
                                {
                                    "nev": "Varga Kata",
                                    "Tantárgynév": "Az ürgeöntés hydrológiai alapjai II.",
                                    "terem": "8",
                                    "Időpont": "14.00"
                                },
                                {
                                    "nev": "Varga Kata",
                                    "Tantárgynév": "Az ürgeöntés hydrológiai alapjai II.",
                                    "terem": "3",
                                    "Időpont": "15.30"
                                },
                                {
                                    "nev": "Farkasos Piroska",
                                    "Tantárgynév": "Az ürgeöntés hydrológiai alapjai II.",
                                    "terem": "5",
                                    "Időpont": "14.00"
                                },
                                {
                                    "nev": "Farkasos Piroska",
                                    "Tantárgynév": "Az ürgeöntés hydrológiai alapjai II.",
                                    "terem": "11",
                                    "Időpont": "15.30"
                                },
                                {
                                    "nev": "Balkán András",
                                    "Tantárgynév": "Az ürgeöntés hydrológiai alapjai II.",
                                    "terem": "12",
                                    "Időpont": "14.00"
                                },
                                {
                                    "nev": "Balkán András",
                                    "Tantárgynév": "Az ürgeöntés hydrológiai alapjai II.",
                                    "terem": "6",
                                    "Időpont": "15.30"
                                },
                                {
                                    "nev": "Farkasos Piroska",
                                    "Tantárgynév": "Az ürgeöntés hydrológiai alapjai II.",
                                    "terem": "16",
                                    "Időpont": "8.00"
                                },
                                {
                                    "nev": "Farkasos Piroska",
                                    "Tantárgynév": "Az ürgeöntés hydrológiai alapjai II.",
                                    "terem": "3",
                                    "Időpont": "9.30"
                                },
                                {
                                    "nev": "Szabó Andrera",
                                    "Tantárgynév": "Az ürgeöntés hydrológiai alapjai II.",
                                    "terem": "6",
                                    "Időpont": "8.00"
                                },
                                {
                                    "nev": "Szabó Andrera",
                                    "Tantárgynév": "Az ürgeöntés hydrológiai alapjai II.",
                                    "terem": "8",
                                    "Időpont": "9.30"
                                },
                                {
                                    "nev": "Juhász András",
                                    "Tantárgynév": "Öntési gyakorlat",
                                    "terem": "14",
                                    "Időpont": "12.30"
                                },
                                {
                                    "nev": "Juhász András",
                                    "Tantárgynév": "Öntési gyakorlat",
                                    "terem": "15",
                                    "Időpont": "14.00"
                                },
                                {
                                    "nev": "Aranyi Mária",
                                    "Tantárgynév": "Az ürgeöntés hydrológiai alapjai I.",
                                    "terem": "10",
                                    "Időpont": "12.30"
                                },
                                {
                                    "nev": "Róbert Gida",
                                    "Tantárgynév": "Az ürgeöntés hydrológiai alapjai I.",
                                    "terem": "4",
                                    "Időpont": "14.00"
                                },
                                {
                                    "nev": "Ujfalussi István",
                                    "Tantárgynév": "Az öntés elmélete",
                                    "terem": "8",
                                    "Időpont": "12.30"
                                },
                                {
                                    "nev": "Varga Kata",
                                    "Tantárgynév": "Az öntés elmélete",
                                    "terem": "10",
                                    "Időpont": "8.00"
                                },
                                {
                                    "nev": "Varga Kata",
                                    "Tantárgynév": "Az öntés elmélete",
                                    "terem": "7",
                                    "Időpont": "12.30"
                                },
                                {
                                    "nev": "Jogrerős Pál",
                                    "Tantárgynév": "Ürgevitel",
                                    "terem": "13",
                                    "Időpont": "8.00"
                                },
                                {
                                    "nev": "Jogrerős Pál",
                                    "Tantárgynév": "Ürgevitel",
                                    "terem": "13",
                                    "Időpont": "9.30"
                                },
                                {
                                    "nev": "Szép llonka",
                                    "Tantárgynév": "Ürgeöntés az EU-ban",
                                    "terem": "14",
                                    "Időpont": "15.30"
                                },
                                {
                                    "nev": "Szép llonka",
                                    "Tantárgynév": "Ürgeöntés az EU-ban",
                                    "terem": "5",
                                    "Időpont": "17.00"
                                },
                                {
                                    "nev": "Kiss János",
                                    "Tantárgynév": "Ürgeöntés az EU-ban",
                                    "terem": "4",
                                    "Időpont": "18.30"
                                },
                                {
                                    "nev": "Kiss János",
                                    "Tantárgynév": "Ürgeöntés az EU-ban",
                                    "terem": "6",
                                    "Időpont": "20.00"
                                },
                                {
                                    "nev": "Pelikán József",
                                    "Tantárgynév": "Az ürge anatómiája",
                                    "terem": "7",
                                    "Időpont": "11.00"
                                },
                                {
                                    "nev": "Pelikán József",
                                    "Tantárgynév": "Az ürge anatómiája",
                                    "terem": "9",
                                    "Időpont": "12.30"
                                },
                                {
                                    "nev": "Szép llonka",
                                    "Tantárgynév": "Az ürge anatómiája",
                                    "terem": "6",
                                    "Időpont": "11.00"
                                },
                                {
                                    "nev": "Szép llonka",
                                    "Tantárgynév": "Az ürge anatómiája",
                                    "terem": "5",
                                    "Időpont": "12.30"
                                },
                                {
                                    "nev": "Pelikán József",
                                    "Tantárgynév": "Az ürge anatómiája",
                                    "terem": "2",
                                    "Időpont": "15.30"
                                },
                                {
                                    "nev": "Pelikán József",
                                    "Tantárgynév": "Az ürge anatómiája",
                                    "terem": "7",
                                    "Időpont": "17.00"
                                },
                                {
                                    "nev": "Kovács László",
                                    "Tantárgynév": "Fejezetek az ürgék jogaiból",
                                    "terem": "3",
                                    "Időpont": "11.00"
                                },
                                {
                                    "nev": "Kovács László",
                                    "Tantárgynév": "Fejezetek az ürgék jogaiból",
                                    "terem": "13",
                                    "Időpont": "11.00"
                                },
                                {
                                    "nev": "Kovács László",
                                    "Tantárgynév": "Fejezetek az ürgék jogaiból",
                                    "terem": "12",
                                    "Időpont": "14.00"
                                },
                                {
                                    "nev": "Kovács László",
                                    "Tantárgynév": "Fejezetek az ürgék jogaiból",
                                    "terem": "10",
                                    "Időpont": "8.00"
                                },
                                {
                                    "nev": "Szentágotai Istvás",
                                    "Tantárgynév": "ürgefőzés",
                                    "terem": "1",
                                    "Időpont": "11.00"
                                },
                                {
                                    "nev": "Szentágotai Istvás",
                                    "Tantárgynév": "Az ürgeöntés hydrológiai alapjai I.",
                                    "terem": "12",
                                    "Időpont": "14.00"
                                }
                            ]
                        },
                        "text/html": [
                            "<table>",
                            "<tr><th>nev</th><th>Tantárgynév</th><th>terem</th><th>Időpont</th></tr>",
                            "<tr><td>Ujfalussi István</td><td>Az ürgeöntés alapjai</td><td>1</td><td>8.00</td></tr>",
                            "<tr><td>Pelikán József</td><td>Az ürgeöntés alapjai</td><td>2</td><td>14.00</td></tr>",
                            "<tr><td>Pelikán József</td><td>Az ürgeöntés alapjai</td><td>2</td><td>9.30</td></tr>",
                            "<tr><td>Kovács András</td><td>Az ürgeöntés alapjai</td><td>3</td><td>12.30</td></tr>",
                            "<tr><td>Szerb László</td><td>Az ürgeöntés alapjai</td><td>4</td><td>9.30</td></tr>",
                            "<tr><td>Kiss János</td><td>Az ürgeöntés alapjai</td><td>3</td><td>11.00</td></tr>",
                            "<tr><td>Szerb László</td><td>Az ürgeöntés alapjai</td><td>3</td><td>11.00</td></tr>",
                            "<tr><td>Szerb László</td><td>Az ürgeöntés alapjai</td><td>3</td><td>12.30</td></tr>",
                            "<tr><td>Szentágotai Istvás</td><td>Az ürgeöntés alapjai</td><td>4</td><td>12.30</td></tr>",
                            "<tr><td>Ujfalussi István</td><td>Az ürgeöntés alapjai</td><td>5</td><td>11.00</td></tr>",
                            "<tr><td>Kovács András</td><td>Az ürgeöntés alapjai</td><td>6</td><td>9.30</td></tr>",
                            "<tr><td>Ludas Mátyás</td><td>Az ürgeöntés alapjai</td><td>4</td><td>9.30</td></tr>",
                            "<tr><td>Szénási ászló</td><td>Az ürgeöntés alapjai</td><td>8</td><td>9.30</td></tr>",
                            "<tr><td>Kiss János</td><td>Az ürgeöntés alapjai</td><td>3</td><td>9.30</td></tr>",
                            "<tr><td>Kovács András</td><td>Az ürgeöntés alapjai</td><td>3</td><td>11.00</td></tr>",
                            "<tr><td>Ludas Mátyás</td><td>Az ürgeöntés alapjai</td><td>7</td><td>11.00</td></tr>",
                            "<tr><td>Szénási ászló</td><td>Az ürgeöntés alapjai</td><td>4</td><td>12.30</td></tr>",
                            "<tr><td>Kovács András</td><td>Az ürgeöntés alapjai</td><td>2</td><td>12.30</td></tr>",
                            "<tr><td>Szentágotai Istvás</td><td>Az ürgeöntés alapjai</td><td>3</td><td>14.00</td></tr>",
                            "<tr><td>Vitéz János</td><td>Az ürgeöntés alapjai</td><td>8</td><td>14.00</td></tr>",
                            "<tr><td>Szentágotai Istvás</td><td>Az ürgeöntés alapjai</td><td>4</td><td>15.30</td></tr>",
                            "<tr><td>Vitéz János</td><td>Az ürgeöntés alapjai</td><td>3</td><td>15.30</td></tr>",
                            "<tr><td>Szentágotai Istvás</td><td>Az ürgeöntés alapjai</td><td>2</td><td>8.00</td></tr>",
                            "<tr><td>Vitéz János</td><td>Az ürgeöntés alapjai</td><td>7</td><td>8.00</td></tr>",
                            "<tr><td>Szentágotai Istvás</td><td>Az ürgeöntés alapjai</td><td>8</td><td>9.30</td></tr>",
                            "<tr><td>Vitéz János</td><td>Az ürgeöntés alapjai</td><td>6</td><td>9.30</td></tr>",
                            "<tr><td>Szentágotai Istvás</td><td>Az ürgeöntés alapjai</td><td>4</td><td>11.00</td></tr>",
                            "<tr><td>Nógrádi Kata</td><td>ü-business</td><td>7</td><td>12.30</td></tr>",
                            "<tr><td>Balkán András</td><td>Bevezetés az ürgeöntésbe</td><td>5</td><td>9.30</td></tr>",
                            "<tr><td>Farkasos Piroska</td><td>Bevezetés az ürgeöntésbe</td><td>13</td><td>15.30</td></tr>",
                            "<tr><td>Farkasos Piroska</td><td>Bevezetés az ürgeöntésbe</td><td>13</td><td>9.30</td></tr>",
                            "<tr><td>Farkasos Piroska</td><td>Bevezetés az ürgeöntésbe</td><td>14</td><td>11.00</td></tr>",
                            "<tr><td>Varga Kata</td><td>Az ürgeöntés hydrológiai alapjai II.</td><td>8</td><td>14.00</td></tr>",
                            "<tr><td>Varga Kata</td><td>Az ürgeöntés hydrológiai alapjai II.</td><td>3</td><td>15.30</td></tr>",
                            "<tr><td>Farkasos Piroska</td><td>Az ürgeöntés hydrológiai alapjai II.</td><td>5</td><td>14.00</td></tr>",
                            "<tr><td>Farkasos Piroska</td><td>Az ürgeöntés hydrológiai alapjai II.</td><td>11</td><td>15.30</td></tr>",
                            "<tr><td>Balkán András</td><td>Az ürgeöntés hydrológiai alapjai II.</td><td>12</td><td>14.00</td></tr>",
                            "<tr><td>Balkán András</td><td>Az ürgeöntés hydrológiai alapjai II.</td><td>6</td><td>15.30</td></tr>",
                            "<tr><td>Farkasos Piroska</td><td>Az ürgeöntés hydrológiai alapjai II.</td><td>16</td><td>8.00</td></tr>",
                            "<tr><td>Farkasos Piroska</td><td>Az ürgeöntés hydrológiai alapjai II.</td><td>3</td><td>9.30</td></tr>",
                            "<tr><td>Szabó Andrera</td><td>Az ürgeöntés hydrológiai alapjai II.</td><td>6</td><td>8.00</td></tr>",
                            "<tr><td>Szabó Andrera</td><td>Az ürgeöntés hydrológiai alapjai II.</td><td>8</td><td>9.30</td></tr>",
                            "<tr><td>Juhász András</td><td>Öntési gyakorlat</td><td>14</td><td>12.30</td></tr>",
                            "<tr><td>Juhász András</td><td>Öntési gyakorlat</td><td>15</td><td>14.00</td></tr>",
                            "<tr><td>Aranyi Mária</td><td>Az ürgeöntés hydrológiai alapjai I.</td><td>10</td><td>12.30</td></tr>",
                            "<tr><td>Róbert Gida</td><td>Az ürgeöntés hydrológiai alapjai I.</td><td>4</td><td>14.00</td></tr>",
                            "<tr><td>Ujfalussi István</td><td>Az öntés elmélete</td><td>8</td><td>12.30</td></tr>",
                            "<tr><td>Varga Kata</td><td>Az öntés elmélete</td><td>10</td><td>8.00</td></tr>",
                            "<tr><td>Varga Kata</td><td>Az öntés elmélete</td><td>7</td><td>12.30</td></tr>",
                            "<tr><td>Jogrerős Pál</td><td>Ürgevitel</td><td>13</td><td>8.00</td></tr>",
                            "<tr><td>Jogrerős Pál</td><td>Ürgevitel</td><td>13</td><td>9.30</td></tr>",
                            "<tr><td>Szép llonka</td><td>Ürgeöntés az EU-ban</td><td>14</td><td>15.30</td></tr>",
                            "<tr><td>Szép llonka</td><td>Ürgeöntés az EU-ban</td><td>5</td><td>17.00</td></tr>",
                            "<tr><td>Kiss János</td><td>Ürgeöntés az EU-ban</td><td>4</td><td>18.30</td></tr>",
                            "<tr><td>Kiss János</td><td>Ürgeöntés az EU-ban</td><td>6</td><td>20.00</td></tr>",
                            "<tr><td>Pelikán József</td><td>Az ürge anatómiája</td><td>7</td><td>11.00</td></tr>",
                            "<tr><td>Pelikán József</td><td>Az ürge anatómiája</td><td>9</td><td>12.30</td></tr>",
                            "<tr><td>Szép llonka</td><td>Az ürge anatómiája</td><td>6</td><td>11.00</td></tr>",
                            "<tr><td>Szép llonka</td><td>Az ürge anatómiája</td><td>5</td><td>12.30</td></tr>",
                            "<tr><td>Pelikán József</td><td>Az ürge anatómiája</td><td>2</td><td>15.30</td></tr>",
                            "<tr><td>Pelikán József</td><td>Az ürge anatómiája</td><td>7</td><td>17.00</td></tr>",
                            "<tr><td>Kovács László</td><td>Fejezetek az ürgék jogaiból</td><td>3</td><td>11.00</td></tr>",
                            "<tr><td>Kovács László</td><td>Fejezetek az ürgék jogaiból</td><td>13</td><td>11.00</td></tr>",
                            "<tr><td>Kovács László</td><td>Fejezetek az ürgék jogaiból</td><td>12</td><td>14.00</td></tr>",
                            "<tr><td>Kovács László</td><td>Fejezetek az ürgék jogaiból</td><td>10</td><td>8.00</td></tr>",
                            "<tr><td>Szentágotai Istvás</td><td>ürgefőzés</td><td>1</td><td>11.00</td></tr>",
                            "<tr><td>Szentágotai Istvás</td><td>Az ürgeöntés hydrológiai alapjai I.</td><td>12</td><td>14.00</td></tr>",
                            "</table>"
                        ]
                    }
                }
            ],
            "execution_count": 134
        },
        {
            "cell_type": "markdown",
            "source": [
                "12. <span style=\"color: rgb(36, 41, 47); font-family: -apple-system, BlinkMacSystemFont, &quot;Segoe UI&quot;, Helvetica, Arial, sans-serif, &quot;Apple Color Emoji&quot;, &quot;Segoe UI Emoji&quot;; font-size: 16px;\">Készítsünk listát, amely tartalmazza az egyes órák azonosítóit, és az órán oktatott tantárgy felelősének nevét!</span>\n",
                "\n",
                "1. Rendezzük a listát a tantárgyfelelős neve szerint csökkenő sorrendbe!"
            ],
            "metadata": {
                "azdata_cell_guid": "a765e9d6-58b3-4171-872a-78f3118fd6e3"
            },
            "attachments": {}
        },
        {
            "cell_type": "code",
            "source": [
                "SELECT o.ora_id , ok.nev\r\n",
                "FROM Orak o JOIN Tantárgyak t ON o.targy = t.Tkód\r\n",
                "            JOIN Oktatok ok ON o.tanar = ok.oktato_id"
            ],
            "metadata": {
                "azdata_cell_guid": "422e8127-b652-4d3a-bfd7-9b1637b5781e",
                "language": "sql"
            },
            "outputs": [
                {
                    "output_type": "display_data",
                    "data": {
                        "text/html": "(67 rows affected)"
                    },
                    "metadata": {}
                },
                {
                    "output_type": "display_data",
                    "data": {
                        "text/html": "Total execution time: 00:00:00.024"
                    },
                    "metadata": {}
                },
                {
                    "output_type": "execute_result",
                    "metadata": {},
                    "execution_count": 141,
                    "data": {
                        "application/vnd.dataresource+json": {
                            "schema": {
                                "fields": [
                                    {
                                        "name": "ora_id"
                                    },
                                    {
                                        "name": "nev"
                                    }
                                ]
                            },
                            "data": [
                                {
                                    "ora_id": "159",
                                    "nev": "Ujfalussi István"
                                },
                                {
                                    "ora_id": "160",
                                    "nev": "Pelikán József"
                                },
                                {
                                    "ora_id": "161",
                                    "nev": "Pelikán József"
                                },
                                {
                                    "ora_id": "162",
                                    "nev": "Kovács András"
                                },
                                {
                                    "ora_id": "163",
                                    "nev": "Szerb László"
                                },
                                {
                                    "ora_id": "164",
                                    "nev": "Kiss János"
                                },
                                {
                                    "ora_id": "165",
                                    "nev": "Szerb László"
                                },
                                {
                                    "ora_id": "166",
                                    "nev": "Szerb László"
                                },
                                {
                                    "ora_id": "167",
                                    "nev": "Szentágotai Istvás"
                                },
                                {
                                    "ora_id": "168",
                                    "nev": "Ujfalussi István"
                                },
                                {
                                    "ora_id": "169",
                                    "nev": "Kovács András"
                                },
                                {
                                    "ora_id": "170",
                                    "nev": "Ludas Mátyás"
                                },
                                {
                                    "ora_id": "171",
                                    "nev": "Szénási ászló"
                                },
                                {
                                    "ora_id": "172",
                                    "nev": "Kiss János"
                                },
                                {
                                    "ora_id": "173",
                                    "nev": "Kovács András"
                                },
                                {
                                    "ora_id": "174",
                                    "nev": "Ludas Mátyás"
                                },
                                {
                                    "ora_id": "175",
                                    "nev": "Szénási ászló"
                                },
                                {
                                    "ora_id": "176",
                                    "nev": "Kovács András"
                                },
                                {
                                    "ora_id": "177",
                                    "nev": "Szentágotai Istvás"
                                },
                                {
                                    "ora_id": "178",
                                    "nev": "Vitéz János"
                                },
                                {
                                    "ora_id": "179",
                                    "nev": "Szentágotai Istvás"
                                },
                                {
                                    "ora_id": "180",
                                    "nev": "Vitéz János"
                                },
                                {
                                    "ora_id": "181",
                                    "nev": "Szentágotai Istvás"
                                },
                                {
                                    "ora_id": "182",
                                    "nev": "Vitéz János"
                                },
                                {
                                    "ora_id": "183",
                                    "nev": "Szentágotai Istvás"
                                },
                                {
                                    "ora_id": "184",
                                    "nev": "Vitéz János"
                                },
                                {
                                    "ora_id": "185",
                                    "nev": "Szentágotai Istvás"
                                },
                                {
                                    "ora_id": "186",
                                    "nev": "Nógrádi Kata"
                                },
                                {
                                    "ora_id": "187",
                                    "nev": "Balkán András"
                                },
                                {
                                    "ora_id": "188",
                                    "nev": "Farkasos Piroska"
                                },
                                {
                                    "ora_id": "189",
                                    "nev": "Farkasos Piroska"
                                },
                                {
                                    "ora_id": "190",
                                    "nev": "Farkasos Piroska"
                                },
                                {
                                    "ora_id": "191",
                                    "nev": "Varga Kata"
                                },
                                {
                                    "ora_id": "192",
                                    "nev": "Varga Kata"
                                },
                                {
                                    "ora_id": "193",
                                    "nev": "Farkasos Piroska"
                                },
                                {
                                    "ora_id": "194",
                                    "nev": "Farkasos Piroska"
                                },
                                {
                                    "ora_id": "195",
                                    "nev": "Balkán András"
                                },
                                {
                                    "ora_id": "196",
                                    "nev": "Balkán András"
                                },
                                {
                                    "ora_id": "197",
                                    "nev": "Farkasos Piroska"
                                },
                                {
                                    "ora_id": "198",
                                    "nev": "Farkasos Piroska"
                                },
                                {
                                    "ora_id": "199",
                                    "nev": "Szabó Andrera"
                                },
                                {
                                    "ora_id": "200",
                                    "nev": "Szabó Andrera"
                                },
                                {
                                    "ora_id": "201",
                                    "nev": "Juhász András"
                                },
                                {
                                    "ora_id": "202",
                                    "nev": "Juhász András"
                                },
                                {
                                    "ora_id": "203",
                                    "nev": "Aranyi Mária"
                                },
                                {
                                    "ora_id": "204",
                                    "nev": "Róbert Gida"
                                },
                                {
                                    "ora_id": "205",
                                    "nev": "Ujfalussi István"
                                },
                                {
                                    "ora_id": "206",
                                    "nev": "Varga Kata"
                                },
                                {
                                    "ora_id": "207",
                                    "nev": "Varga Kata"
                                },
                                {
                                    "ora_id": "208",
                                    "nev": "Jogrerős Pál"
                                },
                                {
                                    "ora_id": "209",
                                    "nev": "Jogrerős Pál"
                                },
                                {
                                    "ora_id": "210",
                                    "nev": "Szép llonka"
                                },
                                {
                                    "ora_id": "211",
                                    "nev": "Szép llonka"
                                },
                                {
                                    "ora_id": "212",
                                    "nev": "Kiss János"
                                },
                                {
                                    "ora_id": "213",
                                    "nev": "Kiss János"
                                },
                                {
                                    "ora_id": "214",
                                    "nev": "Pelikán József"
                                },
                                {
                                    "ora_id": "215",
                                    "nev": "Pelikán József"
                                },
                                {
                                    "ora_id": "216",
                                    "nev": "Szép llonka"
                                },
                                {
                                    "ora_id": "217",
                                    "nev": "Szép llonka"
                                },
                                {
                                    "ora_id": "218",
                                    "nev": "Pelikán József"
                                },
                                {
                                    "ora_id": "219",
                                    "nev": "Pelikán József"
                                },
                                {
                                    "ora_id": "220",
                                    "nev": "Kovács László"
                                },
                                {
                                    "ora_id": "221",
                                    "nev": "Kovács László"
                                },
                                {
                                    "ora_id": "222",
                                    "nev": "Kovács László"
                                },
                                {
                                    "ora_id": "223",
                                    "nev": "Kovács László"
                                },
                                {
                                    "ora_id": "226",
                                    "nev": "Szentágotai Istvás"
                                },
                                {
                                    "ora_id": "227",
                                    "nev": "Szentágotai Istvás"
                                }
                            ]
                        },
                        "text/html": [
                            "<table>",
                            "<tr><th>ora_id</th><th>nev</th></tr>",
                            "<tr><td>159</td><td>Ujfalussi István</td></tr>",
                            "<tr><td>160</td><td>Pelikán József</td></tr>",
                            "<tr><td>161</td><td>Pelikán József</td></tr>",
                            "<tr><td>162</td><td>Kovács András</td></tr>",
                            "<tr><td>163</td><td>Szerb László</td></tr>",
                            "<tr><td>164</td><td>Kiss János</td></tr>",
                            "<tr><td>165</td><td>Szerb László</td></tr>",
                            "<tr><td>166</td><td>Szerb László</td></tr>",
                            "<tr><td>167</td><td>Szentágotai Istvás</td></tr>",
                            "<tr><td>168</td><td>Ujfalussi István</td></tr>",
                            "<tr><td>169</td><td>Kovács András</td></tr>",
                            "<tr><td>170</td><td>Ludas Mátyás</td></tr>",
                            "<tr><td>171</td><td>Szénási ászló</td></tr>",
                            "<tr><td>172</td><td>Kiss János</td></tr>",
                            "<tr><td>173</td><td>Kovács András</td></tr>",
                            "<tr><td>174</td><td>Ludas Mátyás</td></tr>",
                            "<tr><td>175</td><td>Szénási ászló</td></tr>",
                            "<tr><td>176</td><td>Kovács András</td></tr>",
                            "<tr><td>177</td><td>Szentágotai Istvás</td></tr>",
                            "<tr><td>178</td><td>Vitéz János</td></tr>",
                            "<tr><td>179</td><td>Szentágotai Istvás</td></tr>",
                            "<tr><td>180</td><td>Vitéz János</td></tr>",
                            "<tr><td>181</td><td>Szentágotai Istvás</td></tr>",
                            "<tr><td>182</td><td>Vitéz János</td></tr>",
                            "<tr><td>183</td><td>Szentágotai Istvás</td></tr>",
                            "<tr><td>184</td><td>Vitéz János</td></tr>",
                            "<tr><td>185</td><td>Szentágotai Istvás</td></tr>",
                            "<tr><td>186</td><td>Nógrádi Kata</td></tr>",
                            "<tr><td>187</td><td>Balkán András</td></tr>",
                            "<tr><td>188</td><td>Farkasos Piroska</td></tr>",
                            "<tr><td>189</td><td>Farkasos Piroska</td></tr>",
                            "<tr><td>190</td><td>Farkasos Piroska</td></tr>",
                            "<tr><td>191</td><td>Varga Kata</td></tr>",
                            "<tr><td>192</td><td>Varga Kata</td></tr>",
                            "<tr><td>193</td><td>Farkasos Piroska</td></tr>",
                            "<tr><td>194</td><td>Farkasos Piroska</td></tr>",
                            "<tr><td>195</td><td>Balkán András</td></tr>",
                            "<tr><td>196</td><td>Balkán András</td></tr>",
                            "<tr><td>197</td><td>Farkasos Piroska</td></tr>",
                            "<tr><td>198</td><td>Farkasos Piroska</td></tr>",
                            "<tr><td>199</td><td>Szabó Andrera</td></tr>",
                            "<tr><td>200</td><td>Szabó Andrera</td></tr>",
                            "<tr><td>201</td><td>Juhász András</td></tr>",
                            "<tr><td>202</td><td>Juhász András</td></tr>",
                            "<tr><td>203</td><td>Aranyi Mária</td></tr>",
                            "<tr><td>204</td><td>Róbert Gida</td></tr>",
                            "<tr><td>205</td><td>Ujfalussi István</td></tr>",
                            "<tr><td>206</td><td>Varga Kata</td></tr>",
                            "<tr><td>207</td><td>Varga Kata</td></tr>",
                            "<tr><td>208</td><td>Jogrerős Pál</td></tr>",
                            "<tr><td>209</td><td>Jogrerős Pál</td></tr>",
                            "<tr><td>210</td><td>Szép llonka</td></tr>",
                            "<tr><td>211</td><td>Szép llonka</td></tr>",
                            "<tr><td>212</td><td>Kiss János</td></tr>",
                            "<tr><td>213</td><td>Kiss János</td></tr>",
                            "<tr><td>214</td><td>Pelikán József</td></tr>",
                            "<tr><td>215</td><td>Pelikán József</td></tr>",
                            "<tr><td>216</td><td>Szép llonka</td></tr>",
                            "<tr><td>217</td><td>Szép llonka</td></tr>",
                            "<tr><td>218</td><td>Pelikán József</td></tr>",
                            "<tr><td>219</td><td>Pelikán József</td></tr>",
                            "<tr><td>220</td><td>Kovács László</td></tr>",
                            "<tr><td>221</td><td>Kovács László</td></tr>",
                            "<tr><td>222</td><td>Kovács László</td></tr>",
                            "<tr><td>223</td><td>Kovács László</td></tr>",
                            "<tr><td>226</td><td>Szentágotai Istvás</td></tr>",
                            "<tr><td>227</td><td>Szentágotai Istvás</td></tr>",
                            "</table>"
                        ]
                    }
                }
            ],
            "execution_count": 141
        },
        {
            "cell_type": "markdown",
            "source": [
                "13. <span style=\"color: rgb(36, 41, 47); font-family: -apple-system, BlinkMacSystemFont, &quot;Segoe UI&quot;, Helvetica, Arial, sans-serif, &quot;Apple Color Emoji&quot;, &quot;Segoe UI Emoji&quot;; font-size: 16px;\">Készítsünk listát, amely megjeleníti, hogy az Orak táblában lévő órák közül hányat tart Dr., illetve nem Dr. titulusú tanár!</span>\n",
                "\n",
                "1. Az oszlopokat nevezzük el értelemszerűen!"
            ],
            "metadata": {
                "azdata_cell_guid": "3f9237ae-f109-401c-acb9-31d75e73331b"
            },
            "attachments": {}
        },
        {
            "cell_type": "code",
            "source": [
                "SELECT IIF(okt.titulus = 'Dr.' ,'ANYAÉKDPIHSIDNÉL', 'nem doktor') AS 'Doktor',\r\n",
                "COUNT(o.ora_id)\r\n",
                "\r\n",
                "\r\n",
                "FROM Orak o JOIN Oktatok okt ON o.tanar = okt.oktato_id\r\n",
                "\r\n",
                "GROUP BY IIF(okt.titulus = 'Dr.' ,'ANYAÉKDPIHSIDNÉL', 'nem doktor')"
            ],
            "metadata": {
                "azdata_cell_guid": "4b31bb89-cfbc-46b1-8639-85c462877786",
                "language": "sql"
            },
            "outputs": [
                {
                    "output_type": "display_data",
                    "data": {
                        "text/html": "(2 rows affected)"
                    },
                    "metadata": {}
                },
                {
                    "output_type": "display_data",
                    "data": {
                        "text/html": "Total execution time: 00:00:00.021"
                    },
                    "metadata": {}
                },
                {
                    "output_type": "execute_result",
                    "metadata": {},
                    "execution_count": 156,
                    "data": {
                        "application/vnd.dataresource+json": {
                            "schema": {
                                "fields": [
                                    {
                                        "name": "Doktor"
                                    },
                                    {
                                        "name": "(No column name)"
                                    }
                                ]
                            },
                            "data": [
                                {
                                    "Doktor": "ANYAÉKDPIHSIDNÉL",
                                    "(No column name)": "25"
                                },
                                {
                                    "Doktor": "nem doktor",
                                    "(No column name)": "42"
                                }
                            ]
                        },
                        "text/html": [
                            "<table>",
                            "<tr><th>Doktor</th><th>(No column name)</th></tr>",
                            "<tr><td>ANYAÉKDPIHSIDNÉL</td><td>25</td></tr>",
                            "<tr><td>nem doktor</td><td>42</td></tr>",
                            "</table>"
                        ]
                    }
                }
            ],
            "execution_count": 156
        },
        {
            "cell_type": "markdown",
            "source": [
                "14. <span style=\"color: rgb(36, 41, 47); font-family: -apple-system, BlinkMacSystemFont, &quot;Segoe UI&quot;, Helvetica, Arial, sans-serif, &quot;Apple Color Emoji&quot;, &quot;Segoe UI Emoji&quot;; font-size: 16px;\">Készítsünk listát arról, hogy beosztásonként hány óra szerepel az Orak táblában!</span>\n",
                "\n",
                "1. Jelenítsük meg a beosztások nevét és az órák számát!\n",
                "2. A listát szűrjük azokra a beosztásokra, ahol ez az óraszám 10 feletti!"
            ],
            "metadata": {
                "azdata_cell_guid": "f634e09a-85ef-4e70-8ec6-ef355dfddaa7"
            },
            "attachments": {}
        },
        {
            "cell_type": "code",
            "source": [
                "SELECT Beosztasok.beosztasnev,\r\n",
                "        COUNT(ora_id) \r\n",
                "      \r\n",
                "FROM Orak JOIN Oktatok ON Orak.tanar = Oktatok.Oktato_id\r\n",
                "          JOIN Beosztasok ON Oktatok.beosztás = Beosztasok.beosztas_id \r\n",
                "GROUP BY Beosztasok.beosztasnev\r\n",
                "HAVING COUNT(ora_id) >10"
            ],
            "metadata": {
                "azdata_cell_guid": "88abc55b-2c78-495b-a72f-3f8f4eb5fe70",
                "language": "sql",
                "tags": []
            },
            "outputs": [
                {
                    "output_type": "display_data",
                    "data": {
                        "text/html": "(3 rows affected)"
                    },
                    "metadata": {}
                },
                {
                    "output_type": "display_data",
                    "data": {
                        "text/html": "Total execution time: 00:00:00.010"
                    },
                    "metadata": {}
                },
                {
                    "output_type": "execute_result",
                    "execution_count": 24,
                    "data": {
                        "application/vnd.dataresource+json": {
                            "schema": {
                                "fields": [
                                    {
                                        "name": "beosztasnev"
                                    },
                                    {
                                        "name": "(No column name)"
                                    }
                                ]
                            },
                            "data": [
                                {
                                    "beosztasnev": "Adjunktus",
                                    "(No column name)": "14"
                                },
                                {
                                    "beosztasnev": "Egyetemi tanár",
                                    "(No column name)": "11"
                                },
                                {
                                    "beosztasnev": "Tanársegéd",
                                    "(No column name)": "22"
                                }
                            ]
                        },
                        "text/html": "<table><tr><th>beosztasnev</th><th>(No column name)</th></tr><tr><td>Adjunktus</td><td>14</td></tr><tr><td>Egyetemi tanár</td><td>11</td></tr><tr><td>Tanársegéd</td><td>22</td></tr></table>"
                    },
                    "metadata": {}
                }
            ],
            "execution_count": 24
        },
        {
            "cell_type": "markdown",
            "source": [
                "15. <span style=\"color: rgb(36, 41, 47); font-family: -apple-system, BlinkMacSystemFont, &quot;Segoe UI&quot;, Helvetica, Arial, sans-serif, &quot;Apple Color Emoji&quot;, &quot;Segoe UI Emoji&quot;; font-size: 16px;\">Melyek azok az órák, amelyek kezdési időpontja olyan sávba esik, amely a mostani időpont (óra:perc) után van?</span>\n",
                "\n",
                "1. Listázzuk az órák azonosítóit, valamint az órakezdés napját és időpontját!\n",
                "2. A listát rendezzük az időpont szerint növekvő sorrendbe!"
            ],
            "metadata": {
                "azdata_cell_guid": "4cbf2f0d-a65d-480a-8186-ccdb24498443"
            },
            "attachments": {}
        },
        {
            "cell_type": "code",
            "source": [
                "SELECT Sav\r\n",
                "FROM Orak"
            ],
            "metadata": {
                "azdata_cell_guid": "c148aee8-bc85-40bf-b80a-a4898a6c05cb",
                "language": "sql"
            },
            "outputs": [
{
    "output_type": "display_data",
    "data": {
        "text/html": "(67 rows affected)"
    },
    "metadata": {}
}, {
    "output_type": "error",
    "evalue": "Query failed: The operation was canceled.",
    "ename": "",
    "traceback": []
}, {
    "output_type": "display_data",
    "data": {
        "text/html": "Query was canceled by user"
    },
    "metadata": {}
}, {
    "output_type": "display_data",
    "data": {
        "text/html": "Total execution time: 00:00:21.423"
    },
    "metadata": {}
}
],
            "execution_count": 157
        }
    ]
}