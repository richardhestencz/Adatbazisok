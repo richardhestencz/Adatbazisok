{
    "metadata": {
        "kernelspec": {
            "name": "SQL",
            "display_name": "SQL",
            "language": "sql"
        },
        "language_info": {
            "name": "sql",
            "version": ""
        }
    },
    "nbformat_minor": 2,
    "nbformat": 4,
    "cells": [
        {
            "cell_type": "markdown",
            "source": [
                ""
            ],
            "metadata": {
                "azdata_cell_guid": "8843ffbd-b85e-4d9d-86e4-a53480a9f7b9"
            }
        },
        {
            "cell_type": "code",
            "source": [
                ""
            ],
            "metadata": {
                "azdata_cell_guid": "3f9a773c-7112-4e54-a7a3-fc1e7a1f9a82",
                "language": "sql"
            },
            "outputs": [],
            "execution_count": null
        },
        {
            "cell_type": "markdown",
            "source": [
                ""
            ],
            "metadata": {
                "azdata_cell_guid": "e8133571-827b-418d-a41b-4d4fa4f5782f"
            }
        },
        {
            "cell_type": "code",
            "source": [
                "a"
            ],
            "metadata": {
                "azdata_cell_guid": "a9f47cde-0508-488c-883e-a28d8b6f52c3",
                "language": "sql"
            },
            "outputs": [],
            "execution_count": null
        },
        {
            "cell_type": "markdown",
            "source": [
                ""
            ],
            "metadata": {
                "azdata_cell_guid": "c392b0e7-cc92-4f24-a716-880154de7304"
            }
        },
        {
            "cell_type": "code",
            "source": [
                ""
            ],
            "metadata": {
                "azdata_cell_guid": "871353e7-6a55-4177-8f0c-84bbd1a10c82",
                "language": "sql"
            },
            "outputs": [],
            "execution_count": null
        }
    ]
}