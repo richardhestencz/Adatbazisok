{
    "metadata": {
        "kernelspec": {
            "name": "SQL",
            "display_name": "SQL",
            "language": "sql"
        },
        "language_info": {
            "name": "sql",
            "version": ""
        }
    },
    "nbformat_minor": 2,
    "nbformat": 4,
    "cells": [
        {
            "cell_type": "markdown",
            "source": [
                "![](data:image/png;base64,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)"
            ],
            "metadata": {
                "azdata_cell_guid": "f09fe7b5-9a11-4557-b6e0-d580d0fe0473"
            },
            "attachments": {}
        },
        {
            "cell_type": "code",
            "source": [
                "SELECT IIF(v.USERNEV IS NULL, 'végösszeg', v.usernev),\r\n",
                "       COUNT(DISTINCT szh.szallas_id) \r\n",
                "FROM Vendeg v\r\n",
                "     LEFT JOIN Foglalas f ON v.usernev = f.UGYFEL_FK\r\n",
                "     LEFT JOIN Szoba sz ON f.SZOBA_FK = sz.SZOBA_ID\r\n",
                "     LEFT JOIN Szallashely szh ON sz.SZALLAS_FK = szh.SZALLAS_ID\r\n",
                "\r\n",
                "GROUP BY ROLLUP(v.USERNEV)"
            ],
            "metadata": {
                "azdata_cell_guid": "f4d3c246-54e5-4e03-9c3e-addaecb139bf",
                "language": "sql"
            },
            "outputs": [
                {
                    "output_type": "display_data",
                    "data": {
                        "text/html": "Warning: Null value is eliminated by an aggregate or other SET operation."
                    },
                    "metadata": {}
                },
                {
                    "output_type": "display_data",
                    "data": {
                        "text/html": "(197 rows affected)"
                    },
                    "metadata": {}
                },
                {
                    "output_type": "display_data",
                    "data": {
                        "text/html": "Total execution time: 00:00:00.160"
                    },
                    "metadata": {}
                },
                {
                    "output_type": "execute_result",
                    "metadata": {},
                    "execution_count": 11,
                    "data": {
                        "application/vnd.dataresource+json": {
                            "schema": {
                                "fields": [
                                    {
                                        "name": "(No column name)"
                                    },
                                    {
                                        "name": "(No column name)"
                                    }
                                ]
                            },
                            "data": [
                                {
                                    "(No column name)": "2"
                                },
                                {
                                    "(No column name)": "2"
                                },
                                {
                                    "(No column name)": "5"
                                },
                                {
                                    "(No column name)": "4"
                                },
                                {
                                    "(No column name)": "3"
                                },
                                {
                                    "(No column name)": "5"
                                },
                                {
                                    "(No column name)": "3"
                                },
                                {
                                    "(No column name)": "7"
                                },
                                {
                                    "(No column name)": "3"
                                },
                                {
                                    "(No column name)": "6"
                                },
                                {
                                    "(No column name)": "4"
                                },
                                {
                                    "(No column name)": "3"
                                },
                                {
                                    "(No column name)": "6"
                                },
                                {
                                    "(No column name)": "5"
                                },
                                {
                                    "(No column name)": "2"
                                },
                                {
                                    "(No column name)": "5"
                                },
                                {
                                    "(No column name)": "3"
                                },
                                {
                                    "(No column name)": "1"
                                },
                                {
                                    "(No column name)": "4"
                                },
                                {
                                    "(No column name)": "1"
                                },
                                {
                                    "(No column name)": "2"
                                },
                                {
                                    "(No column name)": "2"
                                },
                                {
                                    "(No column name)": "6"
                                },
                                {
                                    "(No column name)": "3"
                                },
                                {
                                    "(No column name)": "3"
                                },
                                {
                                    "(No column name)": "6"
                                },
                                {
                                    "(No column name)": "4"
                                },
                                {
                                    "(No column name)": "1"
                                },
                                {
                                    "(No column name)": "5"
                                },
                                {
                                    "(No column name)": "5"
                                },
                                {
                                    "(No column name)": "8"
                                },
                                {
                                    "(No column name)": "4"
                                },
                                {
                                    "(No column name)": "3"
                                },
                                {
                                    "(No column name)": "5"
                                },
                                {
                                    "(No column name)": "3"
                                },
                                {
                                    "(No column name)": "5"
                                },
                                {
                                    "(No column name)": "3"
                                },
                                {
                                    "(No column name)": "2"
                                },
                                {
                                    "(No column name)": "6"
                                },
                                {
                                    "(No column name)": "8"
                                },
                                {
                                    "(No column name)": "4"
                                },
                                {
                                    "(No column name)": "3"
                                },
                                {
                                    "(No column name)": "9"
                                },
                                {
                                    "(No column name)": "1"
                                },
                                {
                                    "(No column name)": "2"
                                },
                                {
                                    "(No column name)": "4"
                                },
                                {
                                    "(No column name)": "7"
                                },
                                {
                                    "(No column name)": "5"
                                },
                                {
                                    "(No column name)": "3"
                                },
                                {
                                    "(No column name)": "6"
                                },
                                {
                                    "(No column name)": "4"
                                },
                                {
                                    "(No column name)": "5"
                                },
                                {
                                    "(No column name)": "5"
                                },
                                {
                                    "(No column name)": "6"
                                },
                                {
                                    "(No column name)": "4"
                                },
                                {
                                    "(No column name)": "4"
                                },
                                {
                                    "(No column name)": "4"
                                },
                                {
                                    "(No column name)": "6"
                                },
                                {
                                    "(No column name)": "6"
                                },
                                {
                                    "(No column name)": "5"
                                },
                                {
                                    "(No column name)": "5"
                                },
                                {
                                    "(No column name)": "6"
                                },
                                {
                                    "(No column name)": "5"
                                },
                                {
                                    "(No column name)": "1"
                                },
                                {
                                    "(No column name)": "4"
                                },
                                {
                                    "(No column name)": "3"
                                },
                                {
                                    "(No column name)": "4"
                                },
                                {
                                    "(No column name)": "5"
                                },
                                {
                                    "(No column name)": "3"
                                },
                                {
                                    "(No column name)": "4"
                                },
                                {
                                    "(No column name)": "5"
                                },
                                {
                                    "(No column name)": "3"
                                },
                                {
                                    "(No column name)": "3"
                                },
                                {
                                    "(No column name)": "2"
                                },
                                {
                                    "(No column name)": "3"
                                },
                                {
                                    "(No column name)": "4"
                                },
                                {
                                    "(No column name)": "4"
                                },
                                {
                                    "(No column name)": "5"
                                },
                                {
                                    "(No column name)": "5"
                                },
                                {
                                    "(No column name)": "4"
                                },
                                {
                                    "(No column name)": "0"
                                },
                                {
                                    "(No column name)": "4"
                                },
                                {
                                    "(No column name)": "1"
                                },
                                {
                                    "(No column name)": "4"
                                },
                                {
                                    "(No column name)": "5"
                                },
                                {
                                    "(No column name)": "7"
                                },
                                {
                                    "(No column name)": "3"
                                },
                                {
                                    "(No column name)": "3"
                                },
                                {
                                    "(No column name)": "2"
                                },
                                {
                                    "(No column name)": "2"
                                },
                                {
                                    "(No column name)": "2"
                                },
                                {
                                    "(No column name)": "4"
                                },
                                {
                                    "(No column name)": "3"
                                },
                                {
                                    "(No column name)": "4"
                                },
                                {
                                    "(No column name)": "2"
                                },
                                {
                                    "(No column name)": "5"
                                },
                                {
                                    "(No column name)": "3"
                                },
                                {
                                    "(No column name)": "3"
                                },
                                {
                                    "(No column name)": "3"
                                },
                                {
                                    "(No column name)": "3"
                                },
                                {
                                    "(No column name)": "5"
                                },
                                {
                                    "(No column name)": "3"
                                },
                                {
                                    "(No column name)": "2"
                                },
                                {
                                    "(No column name)": "2"
                                },
                                {
                                    "(No column name)": "4"
                                },
                                {
                                    "(No column name)": "5"
                                },
                                {
                                    "(No column name)": "6"
                                },
                                {
                                    "(No column name)": "3"
                                },
                                {
                                    "(No column name)": "4"
                                },
                                {
                                    "(No column name)": "4"
                                },
                                {
                                    "(No column name)": "3"
                                },
                                {
                                    "(No column name)": "3"
                                },
                                {
                                    "(No column name)": "2"
                                },
                                {
                                    "(No column name)": "6"
                                },
                                {
                                    "(No column name)": "6"
                                },
                                {
                                    "(No column name)": "6"
                                },
                                {
                                    "(No column name)": "5"
                                },
                                {
                                    "(No column name)": "4"
                                },
                                {
                                    "(No column name)": "5"
                                },
                                {
                                    "(No column name)": "3"
                                },
                                {
                                    "(No column name)": "5"
                                },
                                {
                                    "(No column name)": "1"
                                },
                                {
                                    "(No column name)": "5"
                                },
                                {
                                    "(No column name)": "3"
                                },
                                {
                                    "(No column name)": "5"
                                },
                                {
                                    "(No column name)": "6"
                                },
                                {
                                    "(No column name)": "3"
                                },
                                {
                                    "(No column name)": "2"
                                },
                                {
                                    "(No column name)": "6"
                                },
                                {
                                    "(No column name)": "3"
                                },
                                {
                                    "(No column name)": "2"
                                },
                                {
                                    "(No column name)": "5"
                                },
                                {
                                    "(No column name)": "4"
                                },
                                {
                                    "(No column name)": "3"
                                },
                                {
                                    "(No column name)": "3"
                                },
                                {
                                    "(No column name)": "5"
                                },
                                {
                                    "(No column name)": "2"
                                },
                                {
                                    "(No column name)": "4"
                                },
                                {
                                    "(No column name)": "4"
                                },
                                {
                                    "(No column name)": "4"
                                },
                                {
                                    "(No column name)": "4"
                                },
                                {
                                    "(No column name)": "5"
                                },
                                {
                                    "(No column name)": "5"
                                },
                                {
                                    "(No column name)": "2"
                                },
                                {
                                    "(No column name)": "3"
                                },
                                {
                                    "(No column name)": "3"
                                },
                                {
                                    "(No column name)": "4"
                                },
                                {
                                    "(No column name)": "3"
                                },
                                {
                                    "(No column name)": "7"
                                },
                                {
                                    "(No column name)": "3"
                                },
                                {
                                    "(No column name)": "4"
                                },
                                {
                                    "(No column name)": "4"
                                },
                                {
                                    "(No column name)": "4"
                                },
                                {
                                    "(No column name)": "5"
                                },
                                {
                                    "(No column name)": "3"
                                },
                                {
                                    "(No column name)": "4"
                                },
                                {
                                    "(No column name)": "4"
                                },
                                {
                                    "(No column name)": "2"
                                },
                                {
                                    "(No column name)": "3"
                                },
                                {
                                    "(No column name)": "4"
                                },
                                {
                                    "(No column name)": "3"
                                },
                                {
                                    "(No column name)": "4"
                                },
                                {
                                    "(No column name)": "3"
                                },
                                {
                                    "(No column name)": "3"
                                },
                                {
                                    "(No column name)": "9"
                                },
                                {
                                    "(No column name)": "3"
                                },
                                {
                                    "(No column name)": "2"
                                },
                                {
                                    "(No column name)": "1"
                                },
                                {
                                    "(No column name)": "4"
                                },
                                {
                                    "(No column name)": "5"
                                },
                                {
                                    "(No column name)": "6"
                                },
                                {
                                    "(No column name)": "2"
                                },
                                {
                                    "(No column name)": "4"
                                },
                                {
                                    "(No column name)": "6"
                                },
                                {
                                    "(No column name)": "2"
                                },
                                {
                                    "(No column name)": "1"
                                },
                                {
                                    "(No column name)": "4"
                                },
                                {
                                    "(No column name)": "1"
                                },
                                {
                                    "(No column name)": "5"
                                },
                                {
                                    "(No column name)": "7"
                                },
                                {
                                    "(No column name)": "5"
                                },
                                {
                                    "(No column name)": "4"
                                },
                                {
                                    "(No column name)": "4"
                                },
                                {
                                    "(No column name)": "2"
                                },
                                {
                                    "(No column name)": "5"
                                },
                                {
                                    "(No column name)": "2"
                                },
                                {
                                    "(No column name)": "5"
                                },
                                {
                                    "(No column name)": "3"
                                },
                                {
                                    "(No column name)": "2"
                                },
                                {
                                    "(No column name)": "2"
                                },
                                {
                                    "(No column name)": "2"
                                },
                                {
                                    "(No column name)": "6"
                                },
                                {
                                    "(No column name)": "2"
                                },
                                {
                                    "(No column name)": "4"
                                },
                                {
                                    "(No column name)": "4"
                                },
                                {
                                    "(No column name)": "5"
                                },
                                {
                                    "(No column name)": "12"
                                }
                            ]
                        },
                        "text/html": [
                            "<table>",
                            "<tr><th>(No column name)</th><th>(No column name)</th></tr>",
                            "<tr><td>adam1</td><td>2</td></tr>",
                            "<tr><td>adam3</td><td>2</td></tr>",
                            "<tr><td>adam4</td><td>5</td></tr>",
                            "<tr><td>agnes</td><td>4</td></tr>",
                            "<tr><td>agnes3</td><td>3</td></tr>",
                            "<tr><td>AGNESH</td><td>5</td></tr>",
                            "<tr><td>AGNESK</td><td>3</td></tr>",
                            "<tr><td>akos</td><td>7</td></tr>",
                            "<tr><td>aladar</td><td>3</td></tr>",
                            "<tr><td>alexandra</td><td>6</td></tr>",
                            "<tr><td>andi</td><td>4</td></tr>",
                            "<tr><td>andras2</td><td>3</td></tr>",
                            "<tr><td>andras21</td><td>6</td></tr>",
                            "<tr><td>andras3</td><td>5</td></tr>",
                            "<tr><td>andras4</td><td>2</td></tr>",
                            "<tr><td>andras41</td><td>5</td></tr>",
                            "<tr><td>ANDRASE</td><td>3</td></tr>",
                            "<tr><td>ANDRASN</td><td>1</td></tr>",
                            "<tr><td>andrea</td><td>4</td></tr>",
                            "<tr><td>andrea3</td><td>1</td></tr>",
                            "<tr><td>andrea4</td><td>2</td></tr>",
                            "<tr><td>ANDREAT</td><td>2</td></tr>",
                            "<tr><td>anett3</td><td>6</td></tr>",
                            "<tr><td>aniko</td><td>3</td></tr>",
                            "<tr><td>aniko4</td><td>3</td></tr>",
                            "<tr><td>ANIKOS</td><td>6</td></tr>",
                            "<tr><td>anita</td><td>4</td></tr>",
                            "<tr><td>annamaria1</td><td>1</td></tr>",
                            "<tr><td>ANNAMARIAR</td><td>5</td></tr>",
                            "<tr><td>aron2</td><td>5</td></tr>",
                            "<tr><td>ARONK</td><td>8</td></tr>",
                            "<tr><td>arpad2</td><td>4</td></tr>",
                            "<tr><td>ARPADH</td><td>3</td></tr>",
                            "<tr><td>ARPADM</td><td>5</td></tr>",
                            "<tr><td>attila</td><td>3</td></tr>",
                            "<tr><td>attila1</td><td>5</td></tr>",
                            "<tr><td>attila4</td><td>3</td></tr>",
                            "<tr><td>ATTILAO</td><td>2</td></tr>",
                            "<tr><td>balazs1</td><td>6</td></tr>",
                            "<tr><td>balazs2</td><td>8</td></tr>",
                            "<tr><td>balazs3</td><td>4</td></tr>",
                            "<tr><td>balint</td><td>3</td></tr>",
                            "<tr><td>balint1</td><td>9</td></tr>",
                            "<tr><td>balint2</td><td>1</td></tr>",
                            "<tr><td>balu</td><td>2</td></tr>",
                            "<tr><td>beata4</td><td>4</td></tr>",
                            "<tr><td>BEATRIXK</td><td>7</td></tr>",
                            "<tr><td>BEATRIXS</td><td>5</td></tr>",
                            "<tr><td>BELAF</td><td>3</td></tr>",
                            "<tr><td>bence</td><td>6</td></tr>",
                            "<tr><td>BENCEB</td><td>4</td></tr>",
                            "<tr><td>bernadett1</td><td>5</td></tr>",
                            "<tr><td>bernadett2</td><td>5</td></tr>",
                            "<tr><td>BERNADETTO</td><td>6</td></tr>",
                            "<tr><td>bertalan</td><td>4</td></tr>",
                            "<tr><td>brigitta</td><td>4</td></tr>",
                            "<tr><td>brigitta3</td><td>4</td></tr>",
                            "<tr><td>csongor3</td><td>6</td></tr>",
                            "<tr><td>dani</td><td>6</td></tr>",
                            "<tr><td>daniel</td><td>5</td></tr>",
                            "<tr><td>daniel1</td><td>5</td></tr>",
                            "<tr><td>david</td><td>6</td></tr>",
                            "<tr><td>david1</td><td>5</td></tr>",
                            "<tr><td>david4</td><td>1</td></tr>",
                            "<tr><td>debora</td><td>4</td></tr>",
                            "<tr><td>denes</td><td>3</td></tr>",
                            "<tr><td>dora3</td><td>4</td></tr>",
                            "<tr><td>edit</td><td>5</td></tr>",
                            "<tr><td>emese</td><td>3</td></tr>",
                            "<tr><td>eszter</td><td>4</td></tr>",
                            "<tr><td>eszter2</td><td>5</td></tr>",
                            "<tr><td>eszter4</td><td>3</td></tr>",
                            "<tr><td>ESZTERE</td><td>3</td></tr>",
                            "<tr><td>eva</td><td>2</td></tr>",
                            "<tr><td>eva2</td><td>3</td></tr>",
                            "<tr><td>EVAV</td><td>4</td></tr>",
                            "<tr><td>ferenc1</td><td>4</td></tr>",
                            "<tr><td>fruzsina4</td><td>5</td></tr>",
                            "<tr><td>gabor1</td><td>5</td></tr>",
                            "<tr><td>gabor4</td><td>4</td></tr>",
                            "<tr><td>GABORS</td><td>0</td></tr>",
                            "<tr><td>gabriella1</td><td>4</td></tr>",
                            "<tr><td>gabriella10</td><td>1</td></tr>",
                            "<tr><td>georgij</td><td>4</td></tr>",
                            "<tr><td>gusztav</td><td>5</td></tr>",
                            "<tr><td>GYONGYIK</td><td>7</td></tr>",
                            "<tr><td>GYORGYO</td><td>3</td></tr>",
                            "<tr><td>henrik3</td><td>3</td></tr>",
                            "<tr><td>IBOLYAA</td><td>2</td></tr>",
                            "<tr><td>ilona3</td><td>2</td></tr>",
                            "<tr><td>imre</td><td>2</td></tr>",
                            "<tr><td>imre1</td><td>4</td></tr>",
                            "<tr><td>istvan</td><td>3</td></tr>",
                            "<tr><td>istvan1</td><td>4</td></tr>",
                            "<tr><td>ISTVANV</td><td>2</td></tr>",
                            "<tr><td>janos3</td><td>5</td></tr>",
                            "<tr><td>JANOSG</td><td>3</td></tr>",
                            "<tr><td>JANOSP</td><td>3</td></tr>",
                            "<tr><td>jozsef</td><td>3</td></tr>",
                            "<tr><td>jozsef2</td><td>3</td></tr>",
                            "<tr><td>JOZSEFG</td><td>5</td></tr>",
                            "<tr><td>JUDITH</td><td>3</td></tr>",
                            "<tr><td>julia</td><td>2</td></tr>",
                            "<tr><td>julia4</td><td>2</td></tr>",
                            "<tr><td>julianna4</td><td>4</td></tr>",
                            "<tr><td>kata</td><td>5</td></tr>",
                            "<tr><td>katalin</td><td>6</td></tr>",
                            "<tr><td>katalin4</td><td>3</td></tr>",
                            "<tr><td>kati</td><td>4</td></tr>",
                            "<tr><td>katka</td><td>4</td></tr>",
                            "<tr><td>klaudia2</td><td>3</td></tr>",
                            "<tr><td>kornel4</td><td>3</td></tr>",
                            "<tr><td>kristof4</td><td>2</td></tr>",
                            "<tr><td>kriszti</td><td>6</td></tr>",
                            "<tr><td>krisztian4</td><td>6</td></tr>",
                            "<tr><td>KRISZTIANM</td><td>6</td></tr>",
                            "<tr><td>krisztina</td><td>5</td></tr>",
                            "<tr><td>krisztina1</td><td>4</td></tr>",
                            "<tr><td>KRISZTINAG</td><td>5</td></tr>",
                            "<tr><td>lajos</td><td>3</td></tr>",
                            "<tr><td>lala</td><td>5</td></tr>",
                            "<tr><td>laszlo1</td><td>1</td></tr>",
                            "<tr><td>laszlo2</td><td>5</td></tr>",
                            "<tr><td>LASZLOA</td><td>3</td></tr>",
                            "<tr><td>LASZLON</td><td>5</td></tr>",
                            "<tr><td>maria1</td><td>6</td></tr>",
                            "<tr><td>mark</td><td>3</td></tr>",
                            "<tr><td>MARKH</td><td>2</td></tr>",
                            "<tr><td>marton</td><td>6</td></tr>",
                            "<tr><td>MATEK</td><td>3</td></tr>",
                            "<tr><td>matyas2</td><td>2</td></tr>",
                            "<tr><td>MATYASS</td><td>5</td></tr>",
                            "<tr><td>MIHALYJ</td><td>4</td></tr>",
                            "<tr><td>miklos2</td><td>3</td></tr>",
                            "<tr><td>MIKLOSB</td><td>3</td></tr>",
                            "<tr><td>MONIKAM</td><td>5</td></tr>",
                            "<tr><td>NANDORF</td><td>2</td></tr>",
                            "<tr><td>nikolett3</td><td>4</td></tr>",
                            "<tr><td>nikoletta4</td><td>4</td></tr>",
                            "<tr><td>NIKOLETTAT</td><td>4</td></tr>",
                            "<tr><td>norbert</td><td>4</td></tr>",
                            "<tr><td>norbert2</td><td>5</td></tr>",
                            "<tr><td>norbert4</td><td>5</td></tr>",
                            "<tr><td>norbert5</td><td>2</td></tr>",
                            "<tr><td>pal</td><td>3</td></tr>",
                            "<tr><td>peter1</td><td>3</td></tr>",
                            "<tr><td>peter2</td><td>4</td></tr>",
                            "<tr><td>peter3</td><td>3</td></tr>",
                            "<tr><td>peter4</td><td>7</td></tr>",
                            "<tr><td>PETERB</td><td>3</td></tr>",
                            "<tr><td>polla</td><td>4</td></tr>",
                            "<tr><td>rajmond4</td><td>4</td></tr>",
                            "<tr><td>reka4</td><td>4</td></tr>",
                            "<tr><td>RENATAK</td><td>5</td></tr>",
                            "<tr><td>RENATAS</td><td>3</td></tr>",
                            "<tr><td>robert2</td><td>4</td></tr>",
                            "<tr><td>ROBERTI</td><td>4</td></tr>",
                            "<tr><td>ROBERTP</td><td>2</td></tr>",
                            "<tr><td>roland</td><td>3</td></tr>",
                            "<tr><td>roland1</td><td>4</td></tr>",
                            "<tr><td>roza2</td><td>3</td></tr>",
                            "<tr><td>sandor</td><td>4</td></tr>",
                            "<tr><td>sandor3</td><td>3</td></tr>",
                            "<tr><td>sandor4</td><td>3</td></tr>",
                            "<tr><td>sara</td><td>9</td></tr>",
                            "<tr><td>SEBASTIANF</td><td>3</td></tr>",
                            "<tr><td>sebestyen</td><td>2</td></tr>",
                            "<tr><td>szabolcs</td><td>1</td></tr>",
                            "<tr><td>SZABOLCSM</td><td>4</td></tr>",
                            "<tr><td>SZILARDS</td><td>5</td></tr>",
                            "<tr><td>szilvia1</td><td>6</td></tr>",
                            "<tr><td>tamara2</td><td>2</td></tr>",
                            "<tr><td>tamas</td><td>4</td></tr>",
                            "<tr><td>TAMASF</td><td>6</td></tr>",
                            "<tr><td>tibor</td><td>2</td></tr>",
                            "<tr><td>tibor2</td><td>1</td></tr>",
                            "<tr><td>tihamer</td><td>4</td></tr>",
                            "<tr><td>timea</td><td>1</td></tr>",
                            "<tr><td>timea2</td><td>5</td></tr>",
                            "<tr><td>tunde</td><td>7</td></tr>",
                            "<tr><td>valentin</td><td>5</td></tr>",
                            "<tr><td>veronika4</td><td>4</td></tr>",
                            "<tr><td>VIKTORIAU</td><td>4</td></tr>",
                            "<tr><td>VIKTORK</td><td>2</td></tr>",
                            "<tr><td>vivien3</td><td>5</td></tr>",
                            "<tr><td>zoltan</td><td>2</td></tr>",
                            "<tr><td>zoltan4</td><td>5</td></tr>",
                            "<tr><td>ZOLTANP</td><td>3</td></tr>",
                            "<tr><td>ZOLTANT</td><td>2</td></tr>",
                            "<tr><td>zsofi1</td><td>2</td></tr>",
                            "<tr><td>zsolt1</td><td>2</td></tr>",
                            "<tr><td>ZSOLTJ</td><td>6</td></tr>",
                            "<tr><td>zsuzsa</td><td>2</td></tr>",
                            "<tr><td>zsuzsa3</td><td>4</td></tr>",
                            "<tr><td>zsuzsanna</td><td>4</td></tr>",
                            "<tr><td>ZSUZSAV</td><td>5</td></tr>",
                            "<tr><td>végösszeg</td><td>12</td></tr>",
                            "</table>"
                        ]
                    }
                }
            ],
            "execution_count": 11
        },
        {
            "cell_type": "code",
            "source": [
                "SELECT *, DATEDIFF(YEAR, SZUL_DAT, GETDATE()) AS 'KOR',\r\n",
                "(LAG(DATEDIFF(YEAR, SZUL_DAT, GETDATE()),2,0) OVER(ORDER BY SZUL_DAT DESC) + LAG(DATEDIFF(YEAR, SZUL_DAT, GETDATE()),1,0) OVER(ORDER BY SZUL_DAT DESC) + LEAD(DATEDIFF(YEAR, SZUL_DAT, GETDATE()),2,0) OVER(ORDER BY SZUL_DAT DESC) + LEAD(DATEDIFF(YEAR, SZUL_DAT, GETDATE()),1,0) OVER(ORDER BY SZUL_DAT DESC)) / 4 AS 'Átlag'\r\n",
                "FROM Vendeg\r\n",
                "ORDER BY SZUL_DAT DESC"
            ],
            "metadata": {
                "azdata_cell_guid": "399e80f4-b0e6-4b84-8090-c380dc4d2b5d",
                "language": "sql",
                "tags": []
            },
            "outputs": [
                {
                    "output_type": "display_data",
                    "data": {
                        "text/html": "(196 rows affected)"
                    },
                    "metadata": {}
                },
                {
                    "output_type": "display_data",
                    "data": {
                        "text/html": "Total execution time: 00:00:00.046"
                    },
                    "metadata": {}
                },
                {
                    "output_type": "execute_result",
                    "metadata": {},
                    "execution_count": 40,
                    "data": {
                        "application/vnd.dataresource+json": {
                            "schema": {
                                "fields": [
                                    {
                                        "name": "USERNEV"
                                    },
                                    {
                                        "name": "NEV"
                                    },
                                    {
                                        "name": "EMAIL"
                                    },
                                    {
                                        "name": "SZAML_CIM"
                                    },
                                    {
                                        "name": "SZUL_DAT"
                                    },
                                    {
                                        "name": "KOR"
                                    },
                                    {
                                        "name": "Átlag"
                                    }
                                ]
                            },
                            "data": [
                                {
                                    "USERNEV": "eszter2",
                                    "NEV": "Balogh Eszter",
                                    "EMAIL": "eszter.balogh@mail.hu",
                                    "SZAML_CIM": "6760 Kistelek Kossuth utca 11.",
                                    "SZUL_DAT": "1998-01-31",
                                    "KOR": "26",
                                    "Átlag": "13"
                                },
                                {
                                    "USERNEV": "istvan1",
                                    "NEV": "Vizi István",
                                    "EMAIL": "istván.vizi@mail.hu",
                                    "SZAML_CIM": "7086 Ozora Rákóczi utca 1.",
                                    "SZUL_DAT": "1997-12-01",
                                    "KOR": "27",
                                    "Átlag": "20"
                                },
                                {
                                    "USERNEV": "TAMASF",
                                    "NEV": "Fényes Tamás",
                                    "EMAIL": "TAMASF@gmail.com",
                                    "SZAML_CIM": "9023 Győr Arany János utca 1.",
                                    "SZUL_DAT": "1997-11-06",
                                    "KOR": "27",
                                    "Átlag": "26"
                                },
                                {
                                    "USERNEV": "andras2",
                                    "NEV": "Tóth András",
                                    "EMAIL": "andrás.tóth@mail.hu",
                                    "SZAML_CIM": "4071 Egyek Petőfi utca 30.",
                                    "SZUL_DAT": "1997-10-31",
                                    "KOR": "27",
                                    "Átlag": "27"
                                },
                                {
                                    "USERNEV": "andras41",
                                    "NEV": "Komjáti András",
                                    "EMAIL": "andras41@gmail.com",
                                    "SZAML_CIM": "5065 Nagykörű Kossuth út 24.",
                                    "SZUL_DAT": "1997-10-25",
                                    "KOR": "27",
                                    "Átlag": "27"
                                },
                                {
                                    "USERNEV": "NIKOLETTAT",
                                    "NEV": "Tatár Nikoletta",
                                    "EMAIL": "nikoletta.tatár@mail.hu",
                                    "SZAML_CIM": "1067 Budapest Győri utca 12.",
                                    "SZUL_DAT": "1997-10-19",
                                    "KOR": "27",
                                    "Átlag": "27"
                                },
                                {
                                    "USERNEV": "MARKH",
                                    "NEV": "Horváth Márk",
                                    "EMAIL": "márk.horváth@mail.hu",
                                    "SZAML_CIM": "4400 Nyíregyháza Badacsonyi utca 12.",
                                    "SZUL_DAT": "1997-09-23",
                                    "KOR": "27",
                                    "Átlag": "27"
                                },
                                {
                                    "USERNEV": "balint2",
                                    "NEV": "Vukasinovity Bálint",
                                    "EMAIL": "balint2@gmail.com",
                                    "SZAML_CIM": "2330 Dunaharaszti Béke utca 7.",
                                    "SZUL_DAT": "1997-09-03",
                                    "KOR": "27",
                                    "Átlag": "27"
                                },
                                {
                                    "USERNEV": "JUDITH",
                                    "NEV": "Hídasi Judit",
                                    "EMAIL": "JUDITH@gmail.com",
                                    "SZAML_CIM": "2100 Gödöllő Fő út 169.",
                                    "SZUL_DAT": "1997-07-12",
                                    "KOR": "27",
                                    "Átlag": "27"
                                },
                                {
                                    "USERNEV": "sandor4",
                                    "NEV": "Nagy Sándor",
                                    "EMAIL": "sandor4@gmail.com",
                                    "SZAML_CIM": "4600 Kisvárda Fő utca 47.",
                                    "SZUL_DAT": "1997-06-11",
                                    "KOR": "27",
                                    "Átlag": "27"
                                },
                                {
                                    "USERNEV": "ANDRASE",
                                    "NEV": "Erdei András",
                                    "EMAIL": "ANDRASE@gmail.com",
                                    "SZAML_CIM": "5071 Besenyszög Szolnoki út 8.",
                                    "SZUL_DAT": "1997-05-29",
                                    "KOR": "27",
                                    "Átlag": "27"
                                },
                                {
                                    "USERNEV": "MATEK",
                                    "NEV": "Koza Máté",
                                    "EMAIL": "máté.koza@mail.hu",
                                    "SZAML_CIM": "1011 Budapest Központi telep 3.",
                                    "SZUL_DAT": "1997-02-28",
                                    "KOR": "27",
                                    "Átlag": "27"
                                },
                                {
                                    "USERNEV": "lala",
                                    "NEV": "Nagymihály Lajos",
                                    "EMAIL": "lajos.nagymihály@mail.hu",
                                    "SZAML_CIM": "8638 Balatonlelle Rákóczi út 200.",
                                    "SZUL_DAT": "1997-02-24",
                                    "KOR": "27",
                                    "Átlag": "27"
                                },
                                {
                                    "USERNEV": "bernadett2",
                                    "NEV": "Kovács Bernadett",
                                    "EMAIL": "bernadett.kovács@mail.hu",
                                    "SZAML_CIM": "4200 Hajdúszoboszló Fő út 122.",
                                    "SZUL_DAT": "1996-08-20",
                                    "KOR": "28",
                                    "Átlag": "27"
                                },
                                {
                                    "USERNEV": "fruzsina4",
                                    "NEV": "Frank Fruzsina",
                                    "EMAIL": "fruzsina4@gmail.com",
                                    "SZAML_CIM": "9700 Szombathely Szabadság utca 95.",
                                    "SZUL_DAT": "1996-08-16",
                                    "KOR": "28",
                                    "Átlag": "27"
                                },
                                {
                                    "USERNEV": "andrea3",
                                    "NEV": "Szomor Andrea",
                                    "EMAIL": "andrea3@gmail.com",
                                    "SZAML_CIM": "7960 Sellye Bécsi utca 82.",
                                    "SZUL_DAT": "1996-05-10",
                                    "KOR": "28",
                                    "Átlag": "28"
                                },
                                {
                                    "USERNEV": "VIKTORIAU",
                                    "NEV": "Urbán Viktoria",
                                    "EMAIL": "viktoria.urbán@mail.hu",
                                    "SZAML_CIM": "3860 Encs Népboltsor  2.",
                                    "SZUL_DAT": "1996-05-03",
                                    "KOR": "28",
                                    "Átlag": "28"
                                },
                                {
                                    "USERNEV": "balint",
                                    "NEV": "Horváth Bálint",
                                    "EMAIL": "balint@gmail.com",
                                    "SZAML_CIM": "6646 Tömörkény Endrődi Sándor utca 47.",
                                    "SZUL_DAT": "1996-03-17",
                                    "KOR": "28",
                                    "Átlag": "28"
                                },
                                {
                                    "USERNEV": "mark",
                                    "NEV": "Kispál Márk",
                                    "EMAIL": "márk.kispál@mail.hu",
                                    "SZAML_CIM": "1086 Budapest Juhászföldi út 1.",
                                    "SZUL_DAT": "1996-01-23",
                                    "KOR": "28",
                                    "Átlag": "28"
                                },
                                {
                                    "USERNEV": "timea",
                                    "NEV": "Papós Tímea",
                                    "EMAIL": "timea@gmail.com",
                                    "SZAML_CIM": "1035 Budapest  Kossuth út 77.",
                                    "SZUL_DAT": "1996-01-08",
                                    "KOR": "28",
                                    "Átlag": "28"
                                },
                                {
                                    "USERNEV": "maria1",
                                    "NEV": "Baráth Mária",
                                    "EMAIL": "mária.baráth@mail.hu",
                                    "SZAML_CIM": "1047 Budapest Posta köz 2.",
                                    "SZUL_DAT": "1995-11-19",
                                    "KOR": "29",
                                    "Átlag": "28"
                                },
                                {
                                    "USERNEV": "miklos2",
                                    "NEV": "Gondos Miklós",
                                    "EMAIL": "miklos2@gmail.com",
                                    "SZAML_CIM": "2100 Gödöllő Árpád utca 23.",
                                    "SZUL_DAT": "1995-10-07",
                                    "KOR": "29",
                                    "Átlag": "28"
                                },
                                {
                                    "USERNEV": "dora3",
                                    "NEV": "Sarodi Dóra",
                                    "EMAIL": "dóra.sarodi@mail.hu",
                                    "SZAML_CIM": "2855 Bokod Fő út 18.",
                                    "SZUL_DAT": "1995-05-18",
                                    "KOR": "29",
                                    "Átlag": "29"
                                },
                                {
                                    "USERNEV": "ATTILAO",
                                    "NEV": "Opra Attila",
                                    "EMAIL": "ATTILAO@gmail.com",
                                    "SZAML_CIM": "8283 Káptalantóti Rákóczi út 200.",
                                    "SZUL_DAT": "1995-05-08",
                                    "KOR": "29",
                                    "Átlag": "29"
                                },
                                {
                                    "USERNEV": "kati",
                                    "NEV": "Zatykó Katalin",
                                    "EMAIL": "katalin.zatykó@mail.hu",
                                    "SZAML_CIM": "7511 Ötvöskónyi Kossuth Lajos utca 6.",
                                    "SZUL_DAT": "1995-05-01",
                                    "KOR": "29",
                                    "Átlag": "29"
                                },
                                {
                                    "USERNEV": "BELAF",
                                    "NEV": "Farkas Béla",
                                    "EMAIL": "BELAF@gmail.com",
                                    "SZAML_CIM": "5530 Vésztő Petőfi Sándor utca 3.",
                                    "SZUL_DAT": "1995-02-24",
                                    "KOR": "29",
                                    "Átlag": "29"
                                },
                                {
                                    "USERNEV": "zsuzsanna",
                                    "NEV": "Barta Zsuzsanna",
                                    "EMAIL": "zsuzsanna.barta@mail.hu",
                                    "SZAML_CIM": "4172 Biharnagybajom Dózsa György utca 37.",
                                    "SZUL_DAT": "1994-10-07",
                                    "KOR": "30",
                                    "Átlag": "29"
                                },
                                {
                                    "USERNEV": "beata4",
                                    "NEV": "Bagi Beáta",
                                    "EMAIL": "beáta.bagi@mail.hu",
                                    "SZAML_CIM": "8477 Tüskevár Felszabadulás utca 32.",
                                    "SZUL_DAT": "1994-03-19",
                                    "KOR": "30",
                                    "Átlag": "30"
                                },
                                {
                                    "USERNEV": "polla",
                                    "NEV": "Palágyi Polla",
                                    "EMAIL": "polla@gmail.com",
                                    "SZAML_CIM": "2484 Agárd Fő út 18.",
                                    "SZUL_DAT": "1994-02-04",
                                    "KOR": "30",
                                    "Átlag": "30"
                                },
                                {
                                    "USERNEV": "tibor",
                                    "NEV": "Gombos Tibor",
                                    "EMAIL": "tibor.gombos@mail.hu",
                                    "SZAML_CIM": "7100 Szekszárd Kossuth utca 77.",
                                    "SZUL_DAT": "1993-11-28",
                                    "KOR": "31",
                                    "Átlag": "30"
                                },
                                {
                                    "USERNEV": "rajmond4",
                                    "NEV": "Rácz Rajmond",
                                    "EMAIL": "rajmond.rácz@mail.hu",
                                    "SZAML_CIM": "9155 Lébény Petőfi utca 1/2.",
                                    "SZUL_DAT": "1993-09-25",
                                    "KOR": "31",
                                    "Átlag": "30"
                                },
                                {
                                    "USERNEV": "eszter4",
                                    "NEV": "Fülöp Eszter",
                                    "EMAIL": "eszter.fülöp@mail.hu",
                                    "SZAML_CIM": "3643 Dédestapolcsány Kossuth Lajos utca 47/b.",
                                    "SZUL_DAT": "1993-06-28",
                                    "KOR": "31",
                                    "Átlag": "31"
                                },
                                {
                                    "USERNEV": "andrea",
                                    "NEV": "Kiss Andrea",
                                    "EMAIL": "andrea.kiss@mail.hu",
                                    "SZAML_CIM": "1113 Budapest Petőfi Sándor utca 87.",
                                    "SZUL_DAT": "1993-03-25",
                                    "KOR": "31",
                                    "Átlag": "31"
                                },
                                {
                                    "USERNEV": "julia",
                                    "NEV": "Tóth Júlia",
                                    "EMAIL": "julia@gmail.com",
                                    "SZAML_CIM": "5310 Kisújszállás Árpád utca 4.",
                                    "SZUL_DAT": "1993-03-02",
                                    "KOR": "31",
                                    "Átlag": "31"
                                },
                                {
                                    "USERNEV": "balazs1",
                                    "NEV": "Bozsik Balázs",
                                    "EMAIL": "balázs.bozsik@mail.hu",
                                    "SZAML_CIM": "2300 Ráckeve Bécsi utca 82.",
                                    "SZUL_DAT": "1992-11-03",
                                    "KOR": "32",
                                    "Átlag": "31"
                                },
                                {
                                    "USERNEV": "SEBASTIANF",
                                    "NEV": "Foltényi Sebastián",
                                    "EMAIL": "SEBASTIANF@gmail.com",
                                    "SZAML_CIM": "7960 Sellye Grassalkovich út 10.",
                                    "SZUL_DAT": "1992-09-09",
                                    "KOR": "32",
                                    "Átlag": "31"
                                },
                                {
                                    "USERNEV": "alexandra",
                                    "NEV": "Bagóczki Alexandra",
                                    "EMAIL": "alexandra.bagóczki@mail.hu",
                                    "SZAML_CIM": "2381 Táborfalva Petőfi utca 1/2.",
                                    "SZUL_DAT": "1992-03-25",
                                    "KOR": "32",
                                    "Átlag": "32"
                                },
                                {
                                    "USERNEV": "sebestyen",
                                    "NEV": "Rab Sebestyén",
                                    "EMAIL": "sebestyen@gmail.com",
                                    "SZAML_CIM": "7130 Tolna Központi telep 3.",
                                    "SZUL_DAT": "1992-03-03",
                                    "KOR": "32",
                                    "Átlag": "32"
                                },
                                {
                                    "USERNEV": "adam1",
                                    "NEV": "Kiss Ádám",
                                    "EMAIL": "ádám.kiss@mail.hu",
                                    "SZAML_CIM": "5630 Békés Szolnoki út 8.",
                                    "SZUL_DAT": "1991-12-28",
                                    "KOR": "33",
                                    "Átlag": "32"
                                },
                                {
                                    "USERNEV": "norbert2",
                                    "NEV": "Hegedűs Norbert",
                                    "EMAIL": "norbert.hegedűs@mail.hu",
                                    "SZAML_CIM": "2081 Piliscsaba Rendeki utca 21.",
                                    "SZUL_DAT": "1991-07-17",
                                    "KOR": "33",
                                    "Átlag": "32"
                                },
                                {
                                    "USERNEV": "tihamer",
                                    "NEV": "Kazy Tihamér",
                                    "EMAIL": "tihamér.kazy@mail.hu",
                                    "SZAML_CIM": "2370 Dabas Fő utca 60.",
                                    "SZUL_DAT": "1991-07-05",
                                    "KOR": "33",
                                    "Átlag": "33"
                                },
                                {
                                    "USERNEV": "vivien3",
                                    "NEV": "Boros Vivien",
                                    "EMAIL": "vivien3@gmail.com",
                                    "SZAML_CIM": "2117 Isaszeg Fő út 122.",
                                    "SZUL_DAT": "1991-07-01",
                                    "KOR": "33",
                                    "Átlag": "33"
                                },
                                {
                                    "USERNEV": "brigitta3",
                                    "NEV": "Pataki Brigitta",
                                    "EMAIL": "brigitta.pataki@mail.hu",
                                    "SZAML_CIM": "2730 Albertirsa Rendeki utca 21.",
                                    "SZUL_DAT": "1991-05-23",
                                    "KOR": "33",
                                    "Átlag": "33"
                                },
                                {
                                    "USERNEV": "RENATAS",
                                    "NEV": "Szirmai Renáta",
                                    "EMAIL": "RENATAS@gmail.com",
                                    "SZAML_CIM": "2053 Herceghalom Kossuth utca 27.",
                                    "SZUL_DAT": "1991-03-26",
                                    "KOR": "33",
                                    "Átlag": "33"
                                },
                                {
                                    "USERNEV": "david4",
                                    "NEV": "Berta Dávid",
                                    "EMAIL": "david4@gmail.com",
                                    "SZAML_CIM": "3500 Miskolc Balatoni út 12.",
                                    "SZUL_DAT": "1990-10-08",
                                    "KOR": "34",
                                    "Átlag": "33"
                                },
                                {
                                    "USERNEV": "julianna4",
                                    "NEV": "Szabó Julianna",
                                    "EMAIL": "julianna4@gmail.com",
                                    "SZAML_CIM": "6700 Szeged Kossuth Lajos utca 6.",
                                    "SZUL_DAT": "1990-09-29",
                                    "KOR": "34",
                                    "Átlag": "33"
                                },
                                {
                                    "USERNEV": "ilona3",
                                    "NEV": "Bosnyák Ilona",
                                    "EMAIL": "ilona3@gmail.com",
                                    "SZAML_CIM": "2483 Gárdony Posta köz 2.",
                                    "SZUL_DAT": "1990-08-06",
                                    "KOR": "34",
                                    "Átlag": "34"
                                },
                                {
                                    "USERNEV": "szabolcs",
                                    "NEV": "Bodor Szabolcs",
                                    "EMAIL": "szabolcs.bodor@mail.hu",
                                    "SZAML_CIM": "6786 Ruzsa Ady Endre út 27.",
                                    "SZUL_DAT": "1990-07-16",
                                    "KOR": "34",
                                    "Átlag": "34"
                                },
                                {
                                    "USERNEV": "arpad2",
                                    "NEV": "Ötvös Árpád",
                                    "EMAIL": "árpád.ötvös@mail.hu",
                                    "SZAML_CIM": "2600 Vác Padragi út 158.",
                                    "SZUL_DAT": "1990-06-08",
                                    "KOR": "34",
                                    "Átlag": "34"
                                },
                                {
                                    "USERNEV": "GABORS",
                                    "NEV": "Szöllősi Gábor",
                                    "EMAIL": "GABORS@gmail.com",
                                    "SZAML_CIM": "3630 Putnok Kossuth utca 27.",
                                    "SZUL_DAT": "1990-05-31",
                                    "KOR": "34",
                                    "Átlag": "34"
                                },
                                {
                                    "USERNEV": "ARPADH",
                                    "NEV": "Horváth Árpád",
                                    "EMAIL": "árpád.horváth@mail.hu",
                                    "SZAML_CIM": "7349 Szászvár Dózsa György u. 1.",
                                    "SZUL_DAT": "1990-05-18",
                                    "KOR": "34",
                                    "Átlag": "34"
                                },
                                {
                                    "USERNEV": "annamaria1",
                                    "NEV": "Szűcs Annamária",
                                    "EMAIL": "annamária.szűcs@mail.hu",
                                    "SZAML_CIM": "1191 Budapest Rendeki utca 21.",
                                    "SZUL_DAT": "1990-04-27",
                                    "KOR": "34",
                                    "Átlag": "34"
                                },
                                {
                                    "USERNEV": "balint1",
                                    "NEV": "Molnár Bálint",
                                    "EMAIL": "balint1@gmail.com",
                                    "SZAML_CIM": "9181 Kimle Fő út 169.",
                                    "SZUL_DAT": "1989-08-24",
                                    "KOR": "35",
                                    "Átlag": "34"
                                },
                                {
                                    "USERNEV": "ARONK",
                                    "NEV": "Kelemen Áron",
                                    "EMAIL": "áron.kelemen@mail.hu",
                                    "SZAML_CIM": "8200 Veszprém Petőfi utca 8.",
                                    "SZUL_DAT": "1989-08-10",
                                    "KOR": "35",
                                    "Átlag": "34"
                                },
                                {
                                    "USERNEV": "emese",
                                    "NEV": "Kuruc Emese",
                                    "EMAIL": "emese.kuruc@mail.hu",
                                    "SZAML_CIM": "6700 Szeged Rákóczi utca 67.",
                                    "SZUL_DAT": "1989-08-10",
                                    "KOR": "35",
                                    "Átlag": "35"
                                },
                                {
                                    "USERNEV": "marton",
                                    "NEV": "Kalacsi Márton",
                                    "EMAIL": "marton@gmail.com",
                                    "SZAML_CIM": "5137 Jászkisér Fő út 169.",
                                    "SZUL_DAT": "1989-06-24",
                                    "KOR": "35",
                                    "Átlag": "35"
                                },
                                {
                                    "USERNEV": "VIKTORK",
                                    "NEV": "Keresztúri Viktor",
                                    "EMAIL": "viktor.keresztúri@mail.hu",
                                    "SZAML_CIM": "2532 Tokodaltáró Nagy Lajos tér 4.",
                                    "SZUL_DAT": "1989-05-05",
                                    "KOR": "35",
                                    "Átlag": "35"
                                },
                                {
                                    "USERNEV": "ISTVANV",
                                    "NEV": "Varga István",
                                    "EMAIL": "ISTVANV@gmail.com",
                                    "SZAML_CIM": "6320 Solt Hősök tere 11.",
                                    "SZUL_DAT": "1989-04-09",
                                    "KOR": "35",
                                    "Átlag": "35"
                                },
                                {
                                    "USERNEV": "sandor3",
                                    "NEV": "Farkas Sándor",
                                    "EMAIL": "sándor.farkas@mail.hu",
                                    "SZAML_CIM": "8640 Fonyód Tanácsköztársaság tér 1.",
                                    "SZUL_DAT": "1989-01-27",
                                    "KOR": "35",
                                    "Átlag": "35"
                                },
                                {
                                    "USERNEV": "roza2",
                                    "NEV": "Bucskó Róza",
                                    "EMAIL": "roza2@gmail.com",
                                    "SZAML_CIM": "5661 Újkígyós Arany János utca 3.",
                                    "SZUL_DAT": "1988-12-26",
                                    "KOR": "36",
                                    "Átlag": "35"
                                },
                                {
                                    "USERNEV": "ANIKOS",
                                    "NEV": "Simon Anikó",
                                    "EMAIL": "ANIKOS@gmail.com",
                                    "SZAML_CIM": "5137 Jászkisér Bécsi utca 82.",
                                    "SZUL_DAT": "1988-12-14",
                                    "KOR": "36",
                                    "Átlag": "35"
                                },
                                {
                                    "USERNEV": "AGNESK",
                                    "NEV": "Kovács Ágnes",
                                    "EMAIL": "AGNESK@gmail.com",
                                    "SZAML_CIM": "1084 Budapest Endrődi Sándor utca 47.",
                                    "SZUL_DAT": "1988-10-02",
                                    "KOR": "36",
                                    "Átlag": "36"
                                },
                                {
                                    "USERNEV": "imre",
                                    "NEV": "Búza Imre",
                                    "EMAIL": "imre.búza@mail.hu",
                                    "SZAML_CIM": "9181 Kimle Petőfi Sándor tér 1.",
                                    "SZUL_DAT": "1988-09-30",
                                    "KOR": "36",
                                    "Átlag": "36"
                                },
                                {
                                    "USERNEV": "zsolt1",
                                    "NEV": "Pulai Zsolt",
                                    "EMAIL": "zsolt.pulai@mail.hu",
                                    "SZAML_CIM": "8391 Sármellék Fő utca 60.",
                                    "SZUL_DAT": "1988-05-27",
                                    "KOR": "36",
                                    "Átlag": "36"
                                },
                                {
                                    "USERNEV": "RENATAK",
                                    "NEV": "Kardos Renáta",
                                    "EMAIL": "renáta.kardos@mail.hu",
                                    "SZAML_CIM": "7086 Ozora Bécsi utca 82.",
                                    "SZUL_DAT": "1988-05-17",
                                    "KOR": "36",
                                    "Átlag": "36"
                                },
                                {
                                    "USERNEV": "BERNADETTO",
                                    "NEV": "Orbán Bernadett",
                                    "EMAIL": "bernadett.orbán@mail.hu",
                                    "SZAML_CIM": "5085 Rákóczifalva Arany János utca 1.",
                                    "SZUL_DAT": "1987-12-07",
                                    "KOR": "37",
                                    "Átlag": "36"
                                },
                                {
                                    "USERNEV": "KRISZTINAG",
                                    "NEV": "Gyárfás Krisztina",
                                    "EMAIL": "KRISZTINAG@gmail.com",
                                    "SZAML_CIM": "6762 Sándorfalva Arany János utca 1.",
                                    "SZUL_DAT": "1987-09-19",
                                    "KOR": "37",
                                    "Átlag": "36"
                                },
                                {
                                    "USERNEV": "bence",
                                    "NEV": "Győrffy Bence",
                                    "EMAIL": "bence@gmail.com",
                                    "SZAML_CIM": "6900 Makó Árpád utca 23.",
                                    "SZUL_DAT": "1987-07-09",
                                    "KOR": "37",
                                    "Átlag": "37"
                                },
                                {
                                    "USERNEV": "eszter",
                                    "NEV": "Molnár Eszter",
                                    "EMAIL": "eszter.molnár@mail.hu",
                                    "SZAML_CIM": "6800 Hódmezővásárhely Fő út 77.",
                                    "SZUL_DAT": "1987-05-10",
                                    "KOR": "37",
                                    "Átlag": "37"
                                },
                                {
                                    "USERNEV": "gabor4",
                                    "NEV": "Telek Gábor",
                                    "EMAIL": "gábor.telek@mail.hu",
                                    "SZAML_CIM": "9071 Görbeháza Fő út 169.",
                                    "SZUL_DAT": "1987-03-15",
                                    "KOR": "37",
                                    "Átlag": "37"
                                },
                                {
                                    "USERNEV": "henrik3",
                                    "NEV": "Nádudvari Henrik",
                                    "EMAIL": "henrik.nádudvari@mail.hu",
                                    "SZAML_CIM": "1077 Budapest Tanácsköztársaság tér 1.",
                                    "SZUL_DAT": "1986-12-05",
                                    "KOR": "38",
                                    "Átlag": "37"
                                },
                                {
                                    "USERNEV": "ANDREAT",
                                    "NEV": "Tornyos Andrea",
                                    "EMAIL": "ANDREAT@gmail.com",
                                    "SZAML_CIM": "6131 Szank Bécsi utca 82.",
                                    "SZUL_DAT": "1986-11-14",
                                    "KOR": "38",
                                    "Átlag": "37"
                                },
                                {
                                    "USERNEV": "dani",
                                    "NEV": "Vörös Dániel",
                                    "EMAIL": "daniel@gmail.com",
                                    "SZAML_CIM": "7150 Bonyhád Dózsa György u. 1.",
                                    "SZUL_DAT": "1986-10-14",
                                    "KOR": "38",
                                    "Átlag": "38"
                                },
                                {
                                    "USERNEV": "balazs3",
                                    "NEV": "Bakódy Balázs",
                                    "EMAIL": "balazs3@gmail.com",
                                    "SZAML_CIM": "2131 Göd Arany János utca 1.",
                                    "SZUL_DAT": "1986-09-09",
                                    "KOR": "38",
                                    "Átlag": "38"
                                },
                                {
                                    "USERNEV": "istvan",
                                    "NEV": "Soós István",
                                    "EMAIL": "istvan@gmail.com",
                                    "SZAML_CIM": "2370 Dabas Kossuth utca 27.",
                                    "SZUL_DAT": "1986-06-28",
                                    "KOR": "38",
                                    "Átlag": "38"
                                },
                                {
                                    "USERNEV": "zoltan4",
                                    "NEV": "Barna Zoltán",
                                    "EMAIL": "zoltan4@gmail.com",
                                    "SZAML_CIM": "8313 Balatongyörök Jászai tér 21.",
                                    "SZUL_DAT": "1986-05-20",
                                    "KOR": "38",
                                    "Átlag": "38"
                                },
                                {
                                    "USERNEV": "ARPADM",
                                    "NEV": "Móricz Árpád",
                                    "EMAIL": "árpád.móricz@mail.hu",
                                    "SZAML_CIM": "3910 Tokaj Rákóczi utca 67.",
                                    "SZUL_DAT": "1986-04-20",
                                    "KOR": "38",
                                    "Átlag": "38"
                                },
                                {
                                    "USERNEV": "katalin4",
                                    "NEV": "Kertész Katalin",
                                    "EMAIL": "katalin4@gmail.com",
                                    "SZAML_CIM": "2800 Tatabánya Búvár utca 4.",
                                    "SZUL_DAT": "1986-04-13",
                                    "KOR": "38",
                                    "Átlag": "38"
                                },
                                {
                                    "USERNEV": "valentin",
                                    "NEV": "Feró Valentin",
                                    "EMAIL": "valentin.feró@mail.hu",
                                    "SZAML_CIM": "3895 Gönc Búvár utca 4.",
                                    "SZUL_DAT": "1986-01-09",
                                    "KOR": "38",
                                    "Átlag": "38"
                                },
                                {
                                    "USERNEV": "roland1",
                                    "NEV": "Ferencz Roland",
                                    "EMAIL": "roland.ferencz@mail.hu",
                                    "SZAML_CIM": "2424 Előszállás Fő út 169.",
                                    "SZUL_DAT": "1985-12-31",
                                    "KOR": "39",
                                    "Átlag": "38"
                                },
                                {
                                    "USERNEV": "ZOLTANT",
                                    "NEV": "Tóth Zoltán",
                                    "EMAIL": "zoltán.tóth@mail.hu",
                                    "SZAML_CIM": "4244 Újfehértó Posta köz 2.",
                                    "SZUL_DAT": "1985-12-14",
                                    "KOR": "39",
                                    "Átlag": "38"
                                },
                                {
                                    "USERNEV": "jozsef",
                                    "NEV": "Gergely József",
                                    "EMAIL": "jozsef@gmail.com",
                                    "SZAML_CIM": "6050 Lajosmizse Fő út 18.",
                                    "SZUL_DAT": "1985-11-01",
                                    "KOR": "39",
                                    "Átlag": "39"
                                },
                                {
                                    "USERNEV": "peter4",
                                    "NEV": "Bíró Péter",
                                    "EMAIL": "péter.bíró@mail.hu",
                                    "SZAML_CIM": "5137 Jászkisér Rákóczi utca 67.",
                                    "SZUL_DAT": "1985-09-01",
                                    "KOR": "39",
                                    "Átlag": "39"
                                },
                                {
                                    "USERNEV": "julia4",
                                    "NEV": "Nagy Júlia",
                                    "EMAIL": "julia4@gmail.com",
                                    "SZAML_CIM": "7000 Sárbogárd Jászai tér 21.",
                                    "SZUL_DAT": "1985-08-11",
                                    "KOR": "39",
                                    "Átlag": "39"
                                },
                                {
                                    "USERNEV": "tibor2",
                                    "NEV": "Dániel Tibor",
                                    "EMAIL": "tibor2@gmail.com",
                                    "SZAML_CIM": "6646 Tömörkény Árpád utca 23.",
                                    "SZUL_DAT": "1985-02-02",
                                    "KOR": "39",
                                    "Átlag": "39"
                                },
                                {
                                    "USERNEV": "balazs2",
                                    "NEV": "Szűcs Balázs",
                                    "EMAIL": "balázs.szűcs@mail.hu",
                                    "SZAML_CIM": "3170 Szécsény Szabadság utca 95.",
                                    "SZUL_DAT": "1984-10-31",
                                    "KOR": "40",
                                    "Átlag": "39"
                                },
                                {
                                    "USERNEV": "bernadett1",
                                    "NEV": "Simon Bernadett",
                                    "EMAIL": "bernadett1@gmail.com",
                                    "SZAML_CIM": "2300 Ráckeve Fő utca 108.",
                                    "SZUL_DAT": "1984-10-13",
                                    "KOR": "40",
                                    "Átlag": "39"
                                },
                                {
                                    "USERNEV": "JANOSP",
                                    "NEV": "Pálinkás János",
                                    "EMAIL": "JANOSP@gmail.com",
                                    "SZAML_CIM": "5920 Csorvás Padragi út 158.",
                                    "SZUL_DAT": "1984-10-12",
                                    "KOR": "40",
                                    "Átlag": "40"
                                },
                                {
                                    "USERNEV": "tamas",
                                    "NEV": "Antal Tamás",
                                    "EMAIL": "tamás.antal@mail.hu",
                                    "SZAML_CIM": "4440 Tiszavasvári Posta köz 2.",
                                    "SZUL_DAT": "1984-09-05",
                                    "KOR": "40",
                                    "Átlag": "40"
                                },
                                {
                                    "USERNEV": "edit",
                                    "NEV": "Bittmann Edit",
                                    "EMAIL": "edit.bittmann@mail.hu",
                                    "SZAML_CIM": "6077 Orgovány Fő utca 60.",
                                    "SZUL_DAT": "1984-04-20",
                                    "KOR": "40",
                                    "Átlag": "40"
                                },
                                {
                                    "USERNEV": "andras4",
                                    "NEV": "Back András",
                                    "EMAIL": "andras4@gmail.com",
                                    "SZAML_CIM": "3783 Edelény Fő út 169.",
                                    "SZUL_DAT": "1984-04-07",
                                    "KOR": "40",
                                    "Átlag": "40"
                                },
                                {
                                    "USERNEV": "csongor3",
                                    "NEV": "Nagymihály Csongor",
                                    "EMAIL": "csongor.nagymihály@mail.hu",
                                    "SZAML_CIM": "9181 Kimle Deák Ferenc út 5.",
                                    "SZUL_DAT": "1984-03-05",
                                    "KOR": "40",
                                    "Átlag": "40"
                                },
                                {
                                    "USERNEV": "kristof4",
                                    "NEV": "Poprádi Kristóf",
                                    "EMAIL": "kristof4@gmail.com",
                                    "SZAML_CIM": "8220 Balatonalmádi Mészáros utca 7.",
                                    "SZUL_DAT": "1984-01-15",
                                    "KOR": "40",
                                    "Átlag": "40"
                                },
                                {
                                    "USERNEV": "IBOLYAA",
                                    "NEV": "Andor Ibolya",
                                    "EMAIL": "ibolya.andor@mail.hu",
                                    "SZAML_CIM": "9023 Győr Posta köz 2.",
                                    "SZUL_DAT": "1983-11-27",
                                    "KOR": "41",
                                    "Átlag": "40"
                                },
                                {
                                    "USERNEV": "zsofi1",
                                    "NEV": "Molnár Zsófi",
                                    "EMAIL": "zsofi1@gmail.com",
                                    "SZAML_CIM": "2730 Albertirsa Árpád utca 23.",
                                    "SZUL_DAT": "1983-11-17",
                                    "KOR": "41",
                                    "Átlag": "40"
                                },
                                {
                                    "USERNEV": "ferenc1",
                                    "NEV": "Orosz Ferenc",
                                    "EMAIL": "ferenc.orosz@mail.hu",
                                    "SZAML_CIM": "5061 Tiszasüly Arany János utca 3.",
                                    "SZUL_DAT": "1983-10-08",
                                    "KOR": "41",
                                    "Átlag": "41"
                                },
                                {
                                    "USERNEV": "ZSOLTJ",
                                    "NEV": "Józsa Zsolt",
                                    "EMAIL": "ZSOLTJ@gmail.com",
                                    "SZAML_CIM": "8315 Gyenesdiás Bajcsy-Zsilinszky utca 4.",
                                    "SZUL_DAT": "1983-09-29",
                                    "KOR": "41",
                                    "Átlag": "41"
                                },
                                {
                                    "USERNEV": "veronika4",
                                    "NEV": "Tankó Veronika",
                                    "EMAIL": "veronika4@gmail.com",
                                    "SZAML_CIM": "6412 Balotaszállás Rendeki utca 21.",
                                    "SZUL_DAT": "1983-08-28",
                                    "KOR": "41",
                                    "Átlag": "41"
                                },
                                {
                                    "USERNEV": "peter3",
                                    "NEV": "Szalai Péter",
                                    "EMAIL": "peter3@gmail.com",
                                    "SZAML_CIM": "1155 Budapest Arany János utca 3.",
                                    "SZUL_DAT": "1983-07-18",
                                    "KOR": "41",
                                    "Átlag": "41"
                                },
                                {
                                    "USERNEV": "norbert4",
                                    "NEV": "Mile Norbert",
                                    "EMAIL": "norbert4@gmail.com",
                                    "SZAML_CIM": "3973 Cigánd Bajcsy-Zsilinszky utca 4.",
                                    "SZUL_DAT": "1983-06-15",
                                    "KOR": "41",
                                    "Átlag": "41"
                                },
                                {
                                    "USERNEV": "georgij",
                                    "NEV": "Nyíri Georgij",
                                    "EMAIL": "georgij.nyíri@mail.hu",
                                    "SZAML_CIM": "8391 Sármellék Grassalkovich út 10.",
                                    "SZUL_DAT": "1983-02-23",
                                    "KOR": "41",
                                    "Átlag": "41"
                                },
                                {
                                    "USERNEV": "gabriella1",
                                    "NEV": "Nagy Gabriella",
                                    "EMAIL": "gabriella1@gmail.com",
                                    "SZAML_CIM": "1077 Budapest Dob utca 1",
                                    "SZUL_DAT": "1982-11-01",
                                    "KOR": "42",
                                    "Átlag": "41"
                                },
                                {
                                    "USERNEV": "attila1",
                                    "NEV": "Gulyás Attila",
                                    "EMAIL": "attila.gulyás@mail.hu",
                                    "SZAML_CIM": "3881 Abaújszántó Szolnoki út 8.",
                                    "SZUL_DAT": "1982-08-16",
                                    "KOR": "42",
                                    "Átlag": "41"
                                },
                                {
                                    "USERNEV": "akos",
                                    "NEV": "Bíró Ákos",
                                    "EMAIL": "ákos.bíró@mail.hu",
                                    "SZAML_CIM": "9023 Győr Kossuth Lajos utca 47/b.",
                                    "SZUL_DAT": "1982-04-24",
                                    "KOR": "42",
                                    "Átlag": "42"
                                },
                                {
                                    "USERNEV": "klaudia2",
                                    "NEV": "Bakó Klaudia",
                                    "EMAIL": "klaudia.bakó@mail.hu",
                                    "SZAML_CIM": "8254 Kővágóörs Kossuth Lajos utca 6.",
                                    "SZUL_DAT": "1982-04-16",
                                    "KOR": "42",
                                    "Átlag": "42"
                                },
                                {
                                    "USERNEV": "AGNESH",
                                    "NEV": "Horváth Ágnes",
                                    "EMAIL": "AGNESH@gmail.com",
                                    "SZAML_CIM": "8200 Veszprém Rákóczi utca 21.",
                                    "SZUL_DAT": "1981-12-24",
                                    "KOR": "43",
                                    "Átlag": "42"
                                },
                                {
                                    "USERNEV": "nikolett3",
                                    "NEV": "Horváth Nikolett",
                                    "EMAIL": "nikolett3@gmail.com",
                                    "SZAML_CIM": "1072 Budapest Arany János utca 1.",
                                    "SZUL_DAT": "1981-09-29",
                                    "KOR": "43",
                                    "Átlag": "42"
                                },
                                {
                                    "USERNEV": "andrea4",
                                    "NEV": "Neizer Andrea",
                                    "EMAIL": "andrea4@gmail.com",
                                    "SZAML_CIM": "1124 Budapest Kiss u. 8.",
                                    "SZUL_DAT": "1981-05-17",
                                    "KOR": "43",
                                    "Átlag": "43"
                                },
                                {
                                    "USERNEV": "BEATRIXS",
                                    "NEV": "Szekendi Beatrix",
                                    "EMAIL": "beatrix.szekendi@mail.hu",
                                    "SZAML_CIM": "4060 Balmazújváros Jászai tér 21.",
                                    "SZUL_DAT": "1981-04-06",
                                    "KOR": "43",
                                    "Átlag": "43"
                                },
                                {
                                    "USERNEV": "EVAV",
                                    "NEV": "Viktor Éva",
                                    "EMAIL": "EVAV@gmail.com",
                                    "SZAML_CIM": "6913 Csanádpalota Arany János utca 3.",
                                    "SZUL_DAT": "1980-12-26",
                                    "KOR": "44",
                                    "Átlag": "43"
                                },
                                {
                                    "USERNEV": "aladar",
                                    "NEV": "Dunai Aladár",
                                    "EMAIL": "aladár.dunai@mail.hu",
                                    "SZAML_CIM": "5931 Nagyszénás Árpád utca 23.",
                                    "SZUL_DAT": "1980-11-01",
                                    "KOR": "44",
                                    "Átlag": "43"
                                },
                                {
                                    "USERNEV": "zsuzsa",
                                    "NEV": "Pusztai Zsuzsanna",
                                    "EMAIL": "zsuzsanna@gmail.com",
                                    "SZAML_CIM": "6783 Ásotthalom Badacsonyi utca 12.",
                                    "SZUL_DAT": "1980-09-17",
                                    "KOR": "44",
                                    "Átlag": "44"
                                },
                                {
                                    "USERNEV": "ANDRASN",
                                    "NEV": "Nagy András",
                                    "EMAIL": "andrás.nagy@mail.hu",
                                    "SZAML_CIM": "6500 Baja Fő út 169.",
                                    "SZUL_DAT": "1980-09-05",
                                    "KOR": "44",
                                    "Átlag": "44"
                                },
                                {
                                    "USERNEV": "tamara2",
                                    "NEV": "Miklós Tamara",
                                    "EMAIL": "tamara.miklós@mail.hu",
                                    "SZAML_CIM": "3910 Tokaj Kossuth út 39.",
                                    "SZUL_DAT": "1980-08-11",
                                    "KOR": "44",
                                    "Átlag": "44"
                                },
                                {
                                    "USERNEV": "SZABOLCSM",
                                    "NEV": "Miklós Szabolcs",
                                    "EMAIL": "szabolcs.miklós@mail.hu",
                                    "SZAML_CIM": "1102 Budapest Fő út 169.",
                                    "SZUL_DAT": "1980-08-11",
                                    "KOR": "44",
                                    "Átlag": "44"
                                },
                                {
                                    "USERNEV": "GYORGYO",
                                    "NEV": "Oroszi György",
                                    "EMAIL": "GYORGYO@gmail.com",
                                    "SZAML_CIM": "7220 Sarkad Dózsa György u. 1.",
                                    "SZUL_DAT": "1980-03-23",
                                    "KOR": "44",
                                    "Átlag": "44"
                                },
                                {
                                    "USERNEV": "attila",
                                    "NEV": "Csóti Attila",
                                    "EMAIL": "attila@gmail.com",
                                    "SZAML_CIM": "3000 Hatvan Bajcsy-Zsilinszky utca 4.",
                                    "SZUL_DAT": "1979-12-25",
                                    "KOR": "45",
                                    "Átlag": "44"
                                },
                                {
                                    "USERNEV": "agnes",
                                    "NEV": "Lengyel Ágnes",
                                    "EMAIL": "agnes@gmail.com",
                                    "SZAML_CIM": "5200 Törökszentmiklós Deák Ferenc út 5.",
                                    "SZUL_DAT": "1979-12-10",
                                    "KOR": "45",
                                    "Átlag": "44"
                                },
                                {
                                    "USERNEV": "zoltan",
                                    "NEV": "Fodor Zoltán",
                                    "EMAIL": "zoltán.fodor@mail.hu",
                                    "SZAML_CIM": "3441 Mezőkeresztes Fő utca 23.",
                                    "SZUL_DAT": "1979-11-25",
                                    "KOR": "45",
                                    "Átlag": "45"
                                },
                                {
                                    "USERNEV": "MIHALYJ",
                                    "NEV": "Juhász Mihály",
                                    "EMAIL": "mihály.juhász@mail.hu",
                                    "SZAML_CIM": "6786 Ruzsa Rákóczi utca 1.",
                                    "SZUL_DAT": "1979-10-12",
                                    "KOR": "45",
                                    "Átlag": "45"
                                },
                                {
                                    "USERNEV": "krisztina",
                                    "NEV": "Szedlár Krisztina",
                                    "EMAIL": "krisztina@gmail.com",
                                    "SZAML_CIM": "6646 Tömörkény Arany János utca 1.",
                                    "SZUL_DAT": "1979-05-10",
                                    "KOR": "45",
                                    "Átlag": "45"
                                },
                                {
                                    "USERNEV": "zsuzsa3",
                                    "NEV": "Varsányi Zsuzsa",
                                    "EMAIL": "zsuzsa.varsányi@mail.hu",
                                    "SZAML_CIM": "8600 Siófok Árpád utca 4.",
                                    "SZUL_DAT": "1979-03-06",
                                    "KOR": "45",
                                    "Átlag": "45"
                                },
                                {
                                    "USERNEV": "MIKLOSB",
                                    "NEV": "Balla Miklós",
                                    "EMAIL": "miklós.balla@mail.hu",
                                    "SZAML_CIM": "4060 Balmazújváros Szent István utca 2.",
                                    "SZUL_DAT": "1979-02-16",
                                    "KOR": "45",
                                    "Átlag": "45"
                                },
                                {
                                    "USERNEV": "daniel",
                                    "NEV": "Rácz Dániel",
                                    "EMAIL": "dániel.rácz@mail.hu",
                                    "SZAML_CIM": "9181 Kimle Szabadság tér 9.",
                                    "SZUL_DAT": "1978-11-28",
                                    "KOR": "46",
                                    "Átlag": "45"
                                },
                                {
                                    "USERNEV": "lajos",
                                    "NEV": "Kiss Lajos",
                                    "EMAIL": "lajos.kiss@mail.hu",
                                    "SZAML_CIM": "1077 Budapest Dob utca 1",
                                    "SZUL_DAT": "1978-10-31",
                                    "KOR": "46",
                                    "Átlag": "45"
                                },
                                {
                                    "USERNEV": "brigitta",
                                    "NEV": "Székely Brigitta",
                                    "EMAIL": "brigitta.székely@mail.hu",
                                    "SZAML_CIM": "2462 Martonvásár Fő utca 47.",
                                    "SZUL_DAT": "1978-09-13",
                                    "KOR": "46",
                                    "Átlag": "46"
                                },
                                {
                                    "USERNEV": "jozsef2",
                                    "NEV": "Vajda József",
                                    "EMAIL": "józsef.vajda@mail.hu",
                                    "SZAML_CIM": "6700 Szeged Baracsi László utca 14.",
                                    "SZUL_DAT": "1978-09-04",
                                    "KOR": "46",
                                    "Átlag": "46"
                                },
                                {
                                    "USERNEV": "ESZTERE",
                                    "NEV": "Érsek Eszter",
                                    "EMAIL": "eszter.érsek@mail.hu",
                                    "SZAML_CIM": "6785 Pusztamérges Kossuth Lajos utca 6.",
                                    "SZUL_DAT": "1978-08-28",
                                    "KOR": "46",
                                    "Átlag": "46"
                                },
                                {
                                    "USERNEV": "kriszti",
                                    "NEV": "Horváth Krisztina",
                                    "EMAIL": "kriszti@gmail.com",
                                    "SZAML_CIM": "6060 Tiszakécske Árpád utca 4.",
                                    "SZUL_DAT": "1978-06-12",
                                    "KOR": "46",
                                    "Átlag": "46"
                                },
                                {
                                    "USERNEV": "aniko4",
                                    "NEV": "Böröcz Anikó",
                                    "EMAIL": "aniko4@gmail.com",
                                    "SZAML_CIM": "2484 Agárd Petőfi Sándor tér 1.",
                                    "SZUL_DAT": "1978-03-26",
                                    "KOR": "46",
                                    "Átlag": "46"
                                },
                                {
                                    "USERNEV": "andras21",
                                    "NEV": "Molnár András",
                                    "EMAIL": "andrás.molnár@mail.hu",
                                    "SZAML_CIM": "7900 Szigetvár Rákóczi utca 67.",
                                    "SZUL_DAT": "1977-11-16",
                                    "KOR": "47",
                                    "Átlag": "46"
                                },
                                {
                                    "USERNEV": "bertalan",
                                    "NEV": "Csiger Bertalan",
                                    "EMAIL": "bertalan@gmail.com",
                                    "SZAML_CIM": "1192 Budapest Fő út 169.",
                                    "SZUL_DAT": "1977-10-15",
                                    "KOR": "47",
                                    "Átlag": "46"
                                },
                                {
                                    "USERNEV": "ANNAMARIAR",
                                    "NEV": "Regős Annamária",
                                    "EMAIL": "ANNAMARIAR@gmail.com",
                                    "SZAML_CIM": "8283 Káptalantóti Petőfi Sándor tér 1.",
                                    "SZUL_DAT": "1977-09-26",
                                    "KOR": "47",
                                    "Átlag": "47"
                                },
                                {
                                    "USERNEV": "ZOLTANP",
                                    "NEV": "Pintér Zoltán",
                                    "EMAIL": "zoltán.pintér@mail.hu",
                                    "SZAML_CIM": "6050 Lajosmizse Fő út 18.",
                                    "SZUL_DAT": "1977-06-07",
                                    "KOR": "47",
                                    "Átlag": "47"
                                },
                                {
                                    "USERNEV": "robert2",
                                    "NEV": "Patay Róbert",
                                    "EMAIL": "robert2@gmail.com",
                                    "SZAML_CIM": "2370 Dabas Rákóczi utca 21.",
                                    "SZUL_DAT": "1977-01-08",
                                    "KOR": "47",
                                    "Átlag": "47"
                                },
                                {
                                    "USERNEV": "ZSUZSAV",
                                    "NEV": "Vajda Zsuzsa",
                                    "EMAIL": "zsuzsa.vajda@mail.hu",
                                    "SZAML_CIM": "6786 Ruzsa Kossuth utca 77.",
                                    "SZUL_DAT": "1976-12-11",
                                    "KOR": "48",
                                    "Átlag": "47"
                                },
                                {
                                    "USERNEV": "debora",
                                    "NEV": "Barna Debóra",
                                    "EMAIL": "debóra.barna@mail.hu",
                                    "SZAML_CIM": "1155 Budapest Fő út 169.",
                                    "SZUL_DAT": "1976-10-14",
                                    "KOR": "48",
                                    "Átlag": "47"
                                },
                                {
                                    "USERNEV": "balu",
                                    "NEV": "Endresz Bálint",
                                    "EMAIL": "bálint.endresz@mail.hu",
                                    "SZAML_CIM": "3973 Cigánd Fő út 169.",
                                    "SZUL_DAT": "1976-08-01",
                                    "KOR": "48",
                                    "Átlag": "48"
                                },
                                {
                                    "USERNEV": "adam4",
                                    "NEV": "Bieniek Ádám",
                                    "EMAIL": "ádám.bieniek@mail.hu",
                                    "SZAML_CIM": "8630 Balatonboglár Juhászföldi út 1.",
                                    "SZUL_DAT": "1976-08-01",
                                    "KOR": "48",
                                    "Átlag": "48"
                                },
                                {
                                    "USERNEV": "imre1",
                                    "NEV": "Papp Imre",
                                    "EMAIL": "imre.papp@mail.hu",
                                    "SZAML_CIM": "1077 Budapest Szolnoki út 8.",
                                    "SZUL_DAT": "1976-06-25",
                                    "KOR": "48",
                                    "Átlag": "48"
                                },
                                {
                                    "USERNEV": "peter1",
                                    "NEV": "Kozma Péter",
                                    "EMAIL": "peter1@gmail.com",
                                    "SZAML_CIM": "6913 Csanádpalota Központi telep 3.",
                                    "SZUL_DAT": "1976-03-18",
                                    "KOR": "48",
                                    "Átlag": "48"
                                },
                                {
                                    "USERNEV": "peter2",
                                    "NEV": "Bozsó Péter",
                                    "EMAIL": "peter2@gmail.com",
                                    "SZAML_CIM": "4800 Vásárosnamény Zombori út 2/A",
                                    "SZUL_DAT": "1976-01-26",
                                    "KOR": "48",
                                    "Átlag": "48"
                                },
                                {
                                    "USERNEV": "attila4",
                                    "NEV": "Baróti Attila",
                                    "EMAIL": "attila.baróti@mail.hu",
                                    "SZAML_CIM": "7149 Báta Arany János utca 3.",
                                    "SZUL_DAT": "1975-11-06",
                                    "KOR": "49",
                                    "Átlag": "48"
                                },
                                {
                                    "USERNEV": "kornel4",
                                    "NEV": "Lukács Kornél",
                                    "EMAIL": "kornél.lukács@mail.hu",
                                    "SZAML_CIM": "2053 Herceghalom Bécsi utca 82.",
                                    "SZUL_DAT": "1975-09-30",
                                    "KOR": "49",
                                    "Átlag": "48"
                                },
                                {
                                    "USERNEV": "timea2",
                                    "NEV": "Dusha Tímea",
                                    "EMAIL": "tímea.dusha@mail.hu",
                                    "SZAML_CIM": "5920 Csorvás Kossuth utca 8.",
                                    "SZUL_DAT": "1975-08-22",
                                    "KOR": "49",
                                    "Átlag": "49"
                                },
                                {
                                    "USERNEV": "norbert5",
                                    "NEV": "Béres Norbert",
                                    "EMAIL": "norbert5@gmail.com",
                                    "SZAML_CIM": "8640 Fonyód Bajcsy-Zsilinszky utca 4.",
                                    "SZUL_DAT": "1975-07-27",
                                    "KOR": "49",
                                    "Átlag": "49"
                                },
                                {
                                    "USERNEV": "JOZSEFG",
                                    "NEV": "Gyuris József",
                                    "EMAIL": "józsef.gyuris@mail.hu",
                                    "SZAML_CIM": "2660 Balassagyarmat Petőfi utca 1/2.",
                                    "SZUL_DAT": "1975-05-26",
                                    "KOR": "49",
                                    "Átlag": "49"
                                },
                                {
                                    "USERNEV": "katka",
                                    "NEV": "Kovács Katalin",
                                    "EMAIL": "katalin.kovács@mail.hu",
                                    "SZAML_CIM": "8254 Kővágóörs Petőfi utca 22.",
                                    "SZUL_DAT": "1975-03-31",
                                    "KOR": "49",
                                    "Átlag": "49"
                                },
                                {
                                    "USERNEV": "MATYASS",
                                    "NEV": "Szilágyi Mátyás",
                                    "EMAIL": "mátyás.szilágyi@mail.hu",
                                    "SZAML_CIM": "9023 Győr Kossuth Lajos utca 6.",
                                    "SZUL_DAT": "1975-03-22",
                                    "KOR": "49",
                                    "Átlag": "49"
                                },
                                {
                                    "USERNEV": "denes",
                                    "NEV": "Tömböly Dénes",
                                    "EMAIL": "denes@gmail.com",
                                    "SZAML_CIM": "2400 Dunaújváros Kossuth út 39.",
                                    "SZUL_DAT": "1975-03-14",
                                    "KOR": "49",
                                    "Átlag": "49"
                                },
                                {
                                    "USERNEV": "laszlo2",
                                    "NEV": "Móra László",
                                    "EMAIL": "lászló.móra@mail.hu",
                                    "SZAML_CIM": "9970 Szentgotthárd Petőfi utca 1/2.",
                                    "SZUL_DAT": "1975-02-19",
                                    "KOR": "49",
                                    "Átlag": "49"
                                },
                                {
                                    "USERNEV": "JANOSG",
                                    "NEV": "Giliga János",
                                    "EMAIL": "JANOSG@gmail.com",
                                    "SZAML_CIM": "3300 Eger Deák Ferenc út 5.",
                                    "SZUL_DAT": "1975-01-03",
                                    "KOR": "49",
                                    "Átlag": "49"
                                },
                                {
                                    "USERNEV": "MONIKAM",
                                    "NEV": "Mohos Mónika",
                                    "EMAIL": "mónika.mohos@mail.hu",
                                    "SZAML_CIM": "2241 Sülysáp Baracsi László utca 14.",
                                    "SZUL_DAT": "1974-10-01",
                                    "KOR": "50",
                                    "Átlag": "49"
                                },
                                {
                                    "USERNEV": "GYONGYIK",
                                    "NEV": "Kornseé Gyöngyi",
                                    "EMAIL": "gyöngyi.kornseé@mail.hu",
                                    "SZAML_CIM": "8800 Nagykanizsa Fő út 60.",
                                    "SZUL_DAT": "1974-06-07",
                                    "KOR": "50",
                                    "Átlag": "49"
                                },
                                {
                                    "USERNEV": "tunde",
                                    "NEV": "Turcsik Tünde",
                                    "EMAIL": "tunde@gmail.com",
                                    "SZAML_CIM": "7130 Tolna Fő út 122.",
                                    "SZUL_DAT": "1974-02-12",
                                    "KOR": "50",
                                    "Átlag": "50"
                                },
                                {
                                    "USERNEV": "david",
                                    "NEV": "Ambrus Dávid",
                                    "EMAIL": "david@gmail.com",
                                    "SZAML_CIM": "1149 Budapest Fő út 18.",
                                    "SZUL_DAT": "1974-02-11",
                                    "KOR": "50",
                                    "Átlag": "50"
                                },
                                {
                                    "USERNEV": "gabor1",
                                    "NEV": "Köves Gábor",
                                    "EMAIL": "gabor1@gmail.com",
                                    "SZAML_CIM": "6762 Sándorfalva Árpád utca 23.",
                                    "SZUL_DAT": "1973-07-15",
                                    "KOR": "51",
                                    "Átlag": "50"
                                },
                                {
                                    "USERNEV": "BENCEB",
                                    "NEV": "Bajusz Bence",
                                    "EMAIL": "bence.bajusz@mail.hu",
                                    "SZAML_CIM": "8391 Sármellék Fő utca 56.",
                                    "SZUL_DAT": "1973-06-21",
                                    "KOR": "51",
                                    "Átlag": "50"
                                },
                                {
                                    "USERNEV": "aniko",
                                    "NEV": "Tóth Anikó",
                                    "EMAIL": "aniko@gmail.com",
                                    "SZAML_CIM": "2085 Pilisvörösvár Deák Ferenc út 5.",
                                    "SZUL_DAT": "1973-06-03",
                                    "KOR": "51",
                                    "Átlag": "51"
                                },
                                {
                                    "USERNEV": "sara",
                                    "NEV": "Farkas Sára",
                                    "EMAIL": "sára.farkas@mail.hu",
                                    "SZAML_CIM": "5940 Tótkomlós Felszabadulás utca 32.",
                                    "SZUL_DAT": "1973-04-05",
                                    "KOR": "51",
                                    "Átlag": "51"
                                },
                                {
                                    "USERNEV": "matyas2",
                                    "NEV": "Botka Mátyás",
                                    "EMAIL": "matyas2@gmail.com",
                                    "SZAML_CIM": "2700 Cegléd Kossuth Lajos utca 6.",
                                    "SZUL_DAT": "1972-07-07",
                                    "KOR": "52",
                                    "Átlag": "51"
                                },
                                {
                                    "USERNEV": "ROBERTP",
                                    "NEV": "Pásztor Róbert",
                                    "EMAIL": "ROBERTP@gmail.com",
                                    "SZAML_CIM": "5137 Jászkisér Ady Endre út 27.",
                                    "SZUL_DAT": "1972-05-16",
                                    "KOR": "52",
                                    "Átlag": "51"
                                },
                                {
                                    "USERNEV": "BEATRIXK",
                                    "NEV": "Kerényi Beatrix",
                                    "EMAIL": "beatrix.kerényi@mail.hu",
                                    "SZAML_CIM": "7396 Magyarszék Kossuth Lajos utca 47/b.",
                                    "SZUL_DAT": "1972-04-06",
                                    "KOR": "52",
                                    "Átlag": "52"
                                },
                                {
                                    "USERNEV": "nikoletta4",
                                    "NEV": "Kő Nikoletta",
                                    "EMAIL": "nikoletta4@gmail.com",
                                    "SZAML_CIM": "5537 Zsadány Fő út 18.",
                                    "SZUL_DAT": "1972-01-10",
                                    "KOR": "52",
                                    "Átlag": "52"
                                },
                                {
                                    "USERNEV": "eva2",
                                    "NEV": "Perlinger Éva",
                                    "EMAIL": "eva2@gmail.com",
                                    "SZAML_CIM": "9653 Répcelak Bécsi utca 82.",
                                    "SZUL_DAT": "1971-08-19",
                                    "KOR": "53",
                                    "Átlag": "52"
                                },
                                {
                                    "USERNEV": "aron2",
                                    "NEV": "Jakab Áron",
                                    "EMAIL": "aron2@gmail.com",
                                    "SZAML_CIM": "7133 Fadd Bajcsy-Zsilinszky utca 4.",
                                    "SZUL_DAT": "1971-04-26",
                                    "KOR": "53",
                                    "Átlag": "52"
                                },
                                {
                                    "USERNEV": "andras3",
                                    "NEV": "Vígh András",
                                    "EMAIL": "andrás.vígh@mail.hu",
                                    "SZAML_CIM": "1118 Budapest Arany János utca 1.",
                                    "SZUL_DAT": "1971-04-02",
                                    "KOR": "53",
                                    "Átlag": "53"
                                },
                                {
                                    "USERNEV": "anita",
                                    "NEV": "Hamvay-Kovács Anita",
                                    "EMAIL": "anita.hamvay-kovács@mail.hu",
                                    "SZAML_CIM": "7220 Sarkad Táncsics utca 19.",
                                    "SZUL_DAT": "1971-03-20",
                                    "KOR": "53",
                                    "Átlag": "53"
                                },
                                {
                                    "USERNEV": "szilvia1",
                                    "NEV": "Tari Szilvia",
                                    "EMAIL": "szilvia.tari@mail.hu",
                                    "SZAML_CIM": "6080 Szabadszállás Bécsi utca 82.",
                                    "SZUL_DAT": "1971-03-09",
                                    "KOR": "53",
                                    "Átlag": "53"
                                },
                                {
                                    "USERNEV": "david1",
                                    "NEV": "Sobják Dávid",
                                    "EMAIL": "david1@gmail.com",
                                    "SZAML_CIM": "5083 Kengyel Arany János utca 3.",
                                    "SZUL_DAT": "1970-08-16",
                                    "KOR": "54",
                                    "Átlag": "53"
                                },
                                {
                                    "USERNEV": "krisztian4",
                                    "NEV": "Czérna Krisztián",
                                    "EMAIL": "krisztián.czérna@mail.hu",
                                    "SZAML_CIM": "1107 Budapest Dózsa György utca 37.",
                                    "SZUL_DAT": "1970-08-01",
                                    "KOR": "54",
                                    "Átlag": "53"
                                },
                                {
                                    "USERNEV": "adam3",
                                    "NEV": "Barkóci Ádám",
                                    "EMAIL": "adam3@gmail.com",
                                    "SZAML_CIM": "3910 Tokaj Dózsa György utca 37.",
                                    "SZUL_DAT": "1970-06-07",
                                    "KOR": "54",
                                    "Átlag": "54"
                                },
                                {
                                    "USERNEV": "sandor",
                                    "NEV": "Karasz Sándor",
                                    "EMAIL": "sandor@gmail.com",
                                    "SZAML_CIM": "8283 Káptalantóti Kossuth Lajos utca 1/a.",
                                    "SZUL_DAT": "1970-01-27",
                                    "KOR": "54",
                                    "Átlag": "54"
                                },
                                {
                                    "USERNEV": "reka4",
                                    "NEV": "Szikszai Réka",
                                    "EMAIL": "réka.szikszai@mail.hu",
                                    "SZAML_CIM": "8254 Kővágóörs Templom utca 73.",
                                    "SZUL_DAT": "1969-11-27",
                                    "KOR": "55",
                                    "Átlag": "54"
                                },
                                {
                                    "USERNEV": "krisztina1",
                                    "NEV": "Bori Krisztina",
                                    "EMAIL": "krisztina.bori@mail.hu",
                                    "SZAML_CIM": "2115 Vácszentlászló Fő utca 47.",
                                    "SZUL_DAT": "1969-10-13",
                                    "KOR": "55",
                                    "Átlag": "54"
                                },
                                {
                                    "USERNEV": "norbert",
                                    "NEV": "Szűcs Norbert",
                                    "EMAIL": "norbert@gmail.com",
                                    "SZAML_CIM": "5071 Besenyszög Győri utca 12.",
                                    "SZUL_DAT": "1969-07-17",
                                    "KOR": "55",
                                    "Átlag": "55"
                                },
                                {
                                    "USERNEV": "daniel1",
                                    "NEV": "Keszler Dániel",
                                    "EMAIL": "dániel.keszler@mail.hu",
                                    "SZAML_CIM": "3580 Tiszaújváros Kossuth Lajos utca 6.",
                                    "SZUL_DAT": "1969-07-16",
                                    "KOR": "55",
                                    "Átlag": "55"
                                },
                                {
                                    "USERNEV": "LASZLOA",
                                    "NEV": "Antal László",
                                    "EMAIL": "lászló.antal@mail.hu",
                                    "SZAML_CIM": "2484 Agárd Bécsi utca 82.",
                                    "SZUL_DAT": "1969-06-29",
                                    "KOR": "55",
                                    "Átlag": "55"
                                },
                                {
                                    "USERNEV": "gabriella10",
                                    "NEV": "Vida Gabriella",
                                    "EMAIL": "gabriella10@gmail.com",
                                    "SZAML_CIM": "2484 Agárd Arany János utca 3.",
                                    "SZUL_DAT": "1969-06-18",
                                    "KOR": "55",
                                    "Átlag": "55"
                                },
                                {
                                    "USERNEV": "LASZLON",
                                    "NEV": "Nagy László",
                                    "EMAIL": "lászló.nagy@mail.hu",
                                    "SZAML_CIM": "1173 Budapest Jászai tér 21.",
                                    "SZUL_DAT": "1969-04-12",
                                    "KOR": "55",
                                    "Átlag": "55"
                                },
                                {
                                    "USERNEV": "PETERB",
                                    "NEV": "Berendi Péter",
                                    "EMAIL": "péter.berendi@mail.hu",
                                    "SZAML_CIM": "3980 Sátoraljaújhely Vasút utca 4/10.",
                                    "SZUL_DAT": "1969-01-01",
                                    "KOR": "55",
                                    "Átlag": "55"
                                },
                                {
                                    "USERNEV": "NANDORF",
                                    "NEV": "Fő Nándor",
                                    "EMAIL": "nándor.fő@mail.hu",
                                    "SZAML_CIM": "5920 Csorvás Bécsi utca 82.",
                                    "SZUL_DAT": "1968-11-12",
                                    "KOR": "56",
                                    "Átlag": "55"
                                },
                                {
                                    "USERNEV": "kata",
                                    "NEV": "Gondos Katalin",
                                    "EMAIL": "katalin.gondos@mail.hu",
                                    "SZAML_CIM": "8237 Tihany Kossuth Lajos utca 6.",
                                    "SZUL_DAT": "1968-06-22",
                                    "KOR": "56",
                                    "Átlag": "55"
                                },
                                {
                                    "USERNEV": "KRISZTIANM",
                                    "NEV": "Mogyródi Krisztián",
                                    "EMAIL": "KRISZTIANM@gmail.com",
                                    "SZAML_CIM": "9155 Lébény Jászai tér 21.",
                                    "SZUL_DAT": "1968-05-27",
                                    "KOR": "56",
                                    "Átlag": "56"
                                },
                                {
                                    "USERNEV": "andi",
                                    "NEV": "Maródi Andrea",
                                    "EMAIL": "andrea.maródi@mail.hu",
                                    "SZAML_CIM": "5465 Cserkeszőlő Árpád utca 4.",
                                    "SZUL_DAT": "1968-05-07",
                                    "KOR": "56",
                                    "Átlag": "56"
                                },
                                {
                                    "USERNEV": "roland",
                                    "NEV": "Tóth Roland",
                                    "EMAIL": "roland@gmail.com",
                                    "SZAML_CIM": "2000 Szentendre Fő út 169.",
                                    "SZUL_DAT": "1968-03-21",
                                    "KOR": "56",
                                    "Átlag": "56"
                                },
                                {
                                    "USERNEV": "pal",
                                    "NEV": "Barabás Pál",
                                    "EMAIL": "pál.barabás@mail.hu",
                                    "SZAML_CIM": "1183 Budapest Szolnoki út 8.",
                                    "SZUL_DAT": "1968-02-06",
                                    "KOR": "56",
                                    "Átlag": "56"
                                },
                                {
                                    "USERNEV": "katalin",
                                    "NEV": "Horváth Katalin",
                                    "EMAIL": "katalin.horváth@mail.hu",
                                    "SZAML_CIM": "2424 Előszállás Rákóczi út 200.",
                                    "SZUL_DAT": "1968-01-01",
                                    "KOR": "56",
                                    "Átlag": "56"
                                },
                                {
                                    "USERNEV": "janos3",
                                    "NEV": "Harangozó János",
                                    "EMAIL": "janos3@gmail.com",
                                    "SZAML_CIM": "8700 Marcali Petőfi Sándor tér 1.",
                                    "SZUL_DAT": "1967-11-02",
                                    "KOR": "57",
                                    "Átlag": "56"
                                },
                                {
                                    "USERNEV": "laszlo1",
                                    "NEV": "Farkas László",
                                    "EMAIL": "lászló.farkas@mail.hu",
                                    "SZAML_CIM": "5200 Törökszentmiklós Rendeki utca 21.",
                                    "SZUL_DAT": "1967-10-30",
                                    "KOR": "57",
                                    "Átlag": "56"
                                },
                                {
                                    "USERNEV": "SZILARDS",
                                    "NEV": "Szalai Szilárd",
                                    "EMAIL": "szilárd.szalai@mail.hu",
                                    "SZAML_CIM": "1077 Budapest Fő út 18.",
                                    "SZUL_DAT": "1967-09-28",
                                    "KOR": "57",
                                    "Átlag": "57"
                                },
                                {
                                    "USERNEV": "ROBERTI",
                                    "NEV": "Iván Róbert",
                                    "EMAIL": "róbert.iván@mail.hu",
                                    "SZAML_CIM": "2377 Örkény Petőfi Sándor utca 3.",
                                    "SZUL_DAT": "1967-07-02",
                                    "KOR": "57",
                                    "Átlag": "57"
                                },
                                {
                                    "USERNEV": "eva",
                                    "NEV": "Enyedi Éva",
                                    "EMAIL": "eva@gmail.com",
                                    "SZAML_CIM": "4231 Bököny Petőfi utca 8.",
                                    "SZUL_DAT": "1967-06-30",
                                    "KOR": "57",
                                    "Átlag": "57"
                                },
                                {
                                    "USERNEV": "agnes3",
                                    "NEV": "Hartyánszky Ágnes",
                                    "EMAIL": "agnes3@gmail.com",
                                    "SZAML_CIM": "6430 Bácsalmás Posta köz 2.",
                                    "SZUL_DAT": "1967-04-11",
                                    "KOR": "57",
                                    "Átlag": "57"
                                },
                                {
                                    "USERNEV": "gusztav",
                                    "NEV": "Bárci Gusztáv",
                                    "EMAIL": "gusztav@gmail.com",
                                    "SZAML_CIM": "3643 Dédestapolcsány Endrődi Sándor utca 47.",
                                    "SZUL_DAT": "1967-02-25",
                                    "KOR": "57",
                                    "Átlag": "42"
                                },
                                {
                                    "USERNEV": "anett3",
                                    "NEV": "Pivarcsi Anett",
                                    "EMAIL": "anett.pivarcsi@mail.hu",
                                    "SZAML_CIM": "1149 Budapest Fő út 60.",
                                    "SZUL_DAT": "1967-01-03",
                                    "KOR": "57",
                                    "Átlag": "28"
                                }
                            ]
                        },
                        "text/html": [
                            "<table>",
                            "<tr><th>USERNEV</th><th>NEV</th><th>EMAIL</th><th>SZAML_CIM</th><th>SZUL_DAT</th><th>KOR</th><th>Átlag</th></tr>",
                            "<tr><td>eszter2</td><td>Balogh Eszter</td><td>eszter.balogh@mail.hu</td><td>6760 Kistelek Kossuth utca 11.</td><td>1998-01-31</td><td>26</td><td>13</td></tr>",
                            "<tr><td>istvan1</td><td>Vizi István</td><td>istván.vizi@mail.hu</td><td>7086 Ozora Rákóczi utca 1.</td><td>1997-12-01</td><td>27</td><td>20</td></tr>",
                            "<tr><td>TAMASF</td><td>Fényes Tamás</td><td>TAMASF@gmail.com</td><td>9023 Győr Arany János utca 1.</td><td>1997-11-06</td><td>27</td><td>26</td></tr>",
                            "<tr><td>andras2</td><td>Tóth András</td><td>andrás.tóth@mail.hu</td><td>4071 Egyek Petőfi utca 30.</td><td>1997-10-31</td><td>27</td><td>27</td></tr>",
                            "<tr><td>andras41</td><td>Komjáti András</td><td>andras41@gmail.com</td><td>5065 Nagykörű Kossuth út 24.</td><td>1997-10-25</td><td>27</td><td>27</td></tr>",
                            "<tr><td>NIKOLETTAT</td><td>Tatár Nikoletta</td><td>nikoletta.tatár@mail.hu</td><td>1067 Budapest Győri utca 12.</td><td>1997-10-19</td><td>27</td><td>27</td></tr>",
                            "<tr><td>MARKH</td><td>Horváth Márk</td><td>márk.horváth@mail.hu</td><td>4400 Nyíregyháza Badacsonyi utca 12.</td><td>1997-09-23</td><td>27</td><td>27</td></tr>",
                            "<tr><td>balint2</td><td>Vukasinovity Bálint</td><td>balint2@gmail.com</td><td>2330 Dunaharaszti Béke utca 7.</td><td>1997-09-03</td><td>27</td><td>27</td></tr>",
                            "<tr><td>JUDITH</td><td>Hídasi Judit</td><td>JUDITH@gmail.com</td><td>2100 Gödöllő Fő út 169.</td><td>1997-07-12</td><td>27</td><td>27</td></tr>",
                            "<tr><td>sandor4</td><td>Nagy Sándor</td><td>sandor4@gmail.com</td><td>4600 Kisvárda Fő utca 47.</td><td>1997-06-11</td><td>27</td><td>27</td></tr>",
                            "<tr><td>ANDRASE</td><td>Erdei András</td><td>ANDRASE@gmail.com</td><td>5071 Besenyszög Szolnoki út 8.</td><td>1997-05-29</td><td>27</td><td>27</td></tr>",
                            "<tr><td>MATEK</td><td>Koza Máté</td><td>máté.koza@mail.hu</td><td>1011 Budapest Központi telep 3.</td><td>1997-02-28</td><td>27</td><td>27</td></tr>",
                            "<tr><td>lala</td><td>Nagymihály Lajos</td><td>lajos.nagymihály@mail.hu</td><td>8638 Balatonlelle Rákóczi út 200.</td><td>1997-02-24</td><td>27</td><td>27</td></tr>",
                            "<tr><td>bernadett2</td><td>Kovács Bernadett</td><td>bernadett.kovács@mail.hu</td><td>4200 Hajdúszoboszló Fő út 122.</td><td>1996-08-20</td><td>28</td><td>27</td></tr>",
                            "<tr><td>fruzsina4</td><td>Frank Fruzsina</td><td>fruzsina4@gmail.com</td><td>9700 Szombathely Szabadság utca 95.</td><td>1996-08-16</td><td>28</td><td>27</td></tr>",
                            "<tr><td>andrea3</td><td>Szomor Andrea</td><td>andrea3@gmail.com</td><td>7960 Sellye Bécsi utca 82.</td><td>1996-05-10</td><td>28</td><td>28</td></tr>",
                            "<tr><td>VIKTORIAU</td><td>Urbán Viktoria</td><td>viktoria.urbán@mail.hu</td><td>3860 Encs Népboltsor  2.</td><td>1996-05-03</td><td>28</td><td>28</td></tr>",
                            "<tr><td>balint</td><td>Horváth Bálint</td><td>balint@gmail.com</td><td>6646 Tömörkény Endrődi Sándor utca 47.</td><td>1996-03-17</td><td>28</td><td>28</td></tr>",
                            "<tr><td>mark</td><td>Kispál Márk</td><td>márk.kispál@mail.hu</td><td>1086 Budapest Juhászföldi út 1.</td><td>1996-01-23</td><td>28</td><td>28</td></tr>",
                            "<tr><td>timea</td><td>Papós Tímea</td><td>timea@gmail.com</td><td>1035 Budapest  Kossuth út 77.</td><td>1996-01-08</td><td>28</td><td>28</td></tr>",
                            "<tr><td>maria1</td><td>Baráth Mária</td><td>mária.baráth@mail.hu</td><td>1047 Budapest Posta köz 2.</td><td>1995-11-19</td><td>29</td><td>28</td></tr>",
                            "<tr><td>miklos2</td><td>Gondos Miklós</td><td>miklos2@gmail.com</td><td>2100 Gödöllő Árpád utca 23.</td><td>1995-10-07</td><td>29</td><td>28</td></tr>",
                            "<tr><td>dora3</td><td>Sarodi Dóra</td><td>dóra.sarodi@mail.hu</td><td>2855 Bokod Fő út 18.</td><td>1995-05-18</td><td>29</td><td>29</td></tr>",
                            "<tr><td>ATTILAO</td><td>Opra Attila</td><td>ATTILAO@gmail.com</td><td>8283 Káptalantóti Rákóczi út 200.</td><td>1995-05-08</td><td>29</td><td>29</td></tr>",
                            "<tr><td>kati</td><td>Zatykó Katalin</td><td>katalin.zatykó@mail.hu</td><td>7511 Ötvöskónyi Kossuth Lajos utca 6.</td><td>1995-05-01</td><td>29</td><td>29</td></tr>",
                            "<tr><td>BELAF</td><td>Farkas Béla</td><td>BELAF@gmail.com</td><td>5530 Vésztő Petőfi Sándor utca 3.</td><td>1995-02-24</td><td>29</td><td>29</td></tr>",
                            "<tr><td>zsuzsanna</td><td>Barta Zsuzsanna</td><td>zsuzsanna.barta@mail.hu</td><td>4172 Biharnagybajom Dózsa György utca 37.</td><td>1994-10-07</td><td>30</td><td>29</td></tr>",
                            "<tr><td>beata4</td><td>Bagi Beáta</td><td>beáta.bagi@mail.hu</td><td>8477 Tüskevár Felszabadulás utca 32.</td><td>1994-03-19</td><td>30</td><td>30</td></tr>",
                            "<tr><td>polla</td><td>Palágyi Polla</td><td>polla@gmail.com</td><td>2484 Agárd Fő út 18.</td><td>1994-02-04</td><td>30</td><td>30</td></tr>",
                            "<tr><td>tibor</td><td>Gombos Tibor</td><td>tibor.gombos@mail.hu</td><td>7100 Szekszárd Kossuth utca 77.</td><td>1993-11-28</td><td>31</td><td>30</td></tr>",
                            "<tr><td>rajmond4</td><td>Rácz Rajmond</td><td>rajmond.rácz@mail.hu</td><td>9155 Lébény Petőfi utca 1/2.</td><td>1993-09-25</td><td>31</td><td>30</td></tr>",
                            "<tr><td>eszter4</td><td>Fülöp Eszter</td><td>eszter.fülöp@mail.hu</td><td>3643 Dédestapolcsány Kossuth Lajos utca 47/b.</td><td>1993-06-28</td><td>31</td><td>31</td></tr>",
                            "<tr><td>andrea</td><td>Kiss Andrea</td><td>andrea.kiss@mail.hu</td><td>1113 Budapest Petőfi Sándor utca 87.</td><td>1993-03-25</td><td>31</td><td>31</td></tr>",
                            "<tr><td>julia</td><td>Tóth Júlia</td><td>julia@gmail.com</td><td>5310 Kisújszállás Árpád utca 4.</td><td>1993-03-02</td><td>31</td><td>31</td></tr>",
                            "<tr><td>balazs1</td><td>Bozsik Balázs</td><td>balázs.bozsik@mail.hu</td><td>2300 Ráckeve Bécsi utca 82.</td><td>1992-11-03</td><td>32</td><td>31</td></tr>",
                            "<tr><td>SEBASTIANF</td><td>Foltényi Sebastián</td><td>SEBASTIANF@gmail.com</td><td>7960 Sellye Grassalkovich út 10.</td><td>1992-09-09</td><td>32</td><td>31</td></tr>",
                            "<tr><td>alexandra</td><td>Bagóczki Alexandra</td><td>alexandra.bagóczki@mail.hu</td><td>2381 Táborfalva Petőfi utca 1/2.</td><td>1992-03-25</td><td>32</td><td>32</td></tr>",
                            "<tr><td>sebestyen</td><td>Rab Sebestyén</td><td>sebestyen@gmail.com</td><td>7130 Tolna Központi telep 3.</td><td>1992-03-03</td><td>32</td><td>32</td></tr>",
                            "<tr><td>adam1</td><td>Kiss Ádám</td><td>ádám.kiss@mail.hu</td><td>5630 Békés Szolnoki út 8.</td><td>1991-12-28</td><td>33</td><td>32</td></tr>",
                            "<tr><td>norbert2</td><td>Hegedűs Norbert</td><td>norbert.hegedűs@mail.hu</td><td>2081 Piliscsaba Rendeki utca 21.</td><td>1991-07-17</td><td>33</td><td>32</td></tr>",
                            "<tr><td>tihamer</td><td>Kazy Tihamér</td><td>tihamér.kazy@mail.hu</td><td>2370 Dabas Fő utca 60.</td><td>1991-07-05</td><td>33</td><td>33</td></tr>",
                            "<tr><td>vivien3</td><td>Boros Vivien</td><td>vivien3@gmail.com</td><td>2117 Isaszeg Fő út 122.</td><td>1991-07-01</td><td>33</td><td>33</td></tr>",
                            "<tr><td>brigitta3</td><td>Pataki Brigitta</td><td>brigitta.pataki@mail.hu</td><td>2730 Albertirsa Rendeki utca 21.</td><td>1991-05-23</td><td>33</td><td>33</td></tr>",
                            "<tr><td>RENATAS</td><td>Szirmai Renáta</td><td>RENATAS@gmail.com</td><td>2053 Herceghalom Kossuth utca 27.</td><td>1991-03-26</td><td>33</td><td>33</td></tr>",
                            "<tr><td>david4</td><td>Berta Dávid</td><td>david4@gmail.com</td><td>3500 Miskolc Balatoni út 12.</td><td>1990-10-08</td><td>34</td><td>33</td></tr>",
                            "<tr><td>julianna4</td><td>Szabó Julianna</td><td>julianna4@gmail.com</td><td>6700 Szeged Kossuth Lajos utca 6.</td><td>1990-09-29</td><td>34</td><td>33</td></tr>",
                            "<tr><td>ilona3</td><td>Bosnyák Ilona</td><td>ilona3@gmail.com</td><td>2483 Gárdony Posta köz 2.</td><td>1990-08-06</td><td>34</td><td>34</td></tr>",
                            "<tr><td>szabolcs</td><td>Bodor Szabolcs</td><td>szabolcs.bodor@mail.hu</td><td>6786 Ruzsa Ady Endre út 27.</td><td>1990-07-16</td><td>34</td><td>34</td></tr>",
                            "<tr><td>arpad2</td><td>Ötvös Árpád</td><td>árpád.ötvös@mail.hu</td><td>2600 Vác Padragi út 158.</td><td>1990-06-08</td><td>34</td><td>34</td></tr>",
                            "<tr><td>GABORS</td><td>Szöllősi Gábor</td><td>GABORS@gmail.com</td><td>3630 Putnok Kossuth utca 27.</td><td>1990-05-31</td><td>34</td><td>34</td></tr>",
                            "<tr><td>ARPADH</td><td>Horváth Árpád</td><td>árpád.horváth@mail.hu</td><td>7349 Szászvár Dózsa György u. 1.</td><td>1990-05-18</td><td>34</td><td>34</td></tr>",
                            "<tr><td>annamaria1</td><td>Szűcs Annamária</td><td>annamária.szűcs@mail.hu</td><td>1191 Budapest Rendeki utca 21.</td><td>1990-04-27</td><td>34</td><td>34</td></tr>",
                            "<tr><td>balint1</td><td>Molnár Bálint</td><td>balint1@gmail.com</td><td>9181 Kimle Fő út 169.</td><td>1989-08-24</td><td>35</td><td>34</td></tr>",
                            "<tr><td>ARONK</td><td>Kelemen Áron</td><td>áron.kelemen@mail.hu</td><td>8200 Veszprém Petőfi utca 8.</td><td>1989-08-10</td><td>35</td><td>34</td></tr>",
                            "<tr><td>emese</td><td>Kuruc Emese</td><td>emese.kuruc@mail.hu</td><td>6700 Szeged Rákóczi utca 67.</td><td>1989-08-10</td><td>35</td><td>35</td></tr>",
                            "<tr><td>marton</td><td>Kalacsi Márton</td><td>marton@gmail.com</td><td>5137 Jászkisér Fő út 169.</td><td>1989-06-24</td><td>35</td><td>35</td></tr>",
                            "<tr><td>VIKTORK</td><td>Keresztúri Viktor</td><td>viktor.keresztúri@mail.hu</td><td>2532 Tokodaltáró Nagy Lajos tér 4.</td><td>1989-05-05</td><td>35</td><td>35</td></tr>",
                            "<tr><td>ISTVANV</td><td>Varga István</td><td>ISTVANV@gmail.com</td><td>6320 Solt Hősök tere 11.</td><td>1989-04-09</td><td>35</td><td>35</td></tr>",
                            "<tr><td>sandor3</td><td>Farkas Sándor</td><td>sándor.farkas@mail.hu</td><td>8640 Fonyód Tanácsköztársaság tér 1.</td><td>1989-01-27</td><td>35</td><td>35</td></tr>",
                            "<tr><td>roza2</td><td>Bucskó Róza</td><td>roza2@gmail.com</td><td>5661 Újkígyós Arany János utca 3.</td><td>1988-12-26</td><td>36</td><td>35</td></tr>",
                            "<tr><td>ANIKOS</td><td>Simon Anikó</td><td>ANIKOS@gmail.com</td><td>5137 Jászkisér Bécsi utca 82.</td><td>1988-12-14</td><td>36</td><td>35</td></tr>",
                            "<tr><td>AGNESK</td><td>Kovács Ágnes</td><td>AGNESK@gmail.com</td><td>1084 Budapest Endrődi Sándor utca 47.</td><td>1988-10-02</td><td>36</td><td>36</td></tr>",
                            "<tr><td>imre</td><td>Búza Imre</td><td>imre.búza@mail.hu</td><td>9181 Kimle Petőfi Sándor tér 1.</td><td>1988-09-30</td><td>36</td><td>36</td></tr>",
                            "<tr><td>zsolt1</td><td>Pulai Zsolt</td><td>zsolt.pulai@mail.hu</td><td>8391 Sármellék Fő utca 60.</td><td>1988-05-27</td><td>36</td><td>36</td></tr>",
                            "<tr><td>RENATAK</td><td>Kardos Renáta</td><td>renáta.kardos@mail.hu</td><td>7086 Ozora Bécsi utca 82.</td><td>1988-05-17</td><td>36</td><td>36</td></tr>",
                            "<tr><td>BERNADETTO</td><td>Orbán Bernadett</td><td>bernadett.orbán@mail.hu</td><td>5085 Rákóczifalva Arany János utca 1.</td><td>1987-12-07</td><td>37</td><td>36</td></tr>",
                            "<tr><td>KRISZTINAG</td><td>Gyárfás Krisztina</td><td>KRISZTINAG@gmail.com</td><td>6762 Sándorfalva Arany János utca 1.</td><td>1987-09-19</td><td>37</td><td>36</td></tr>",
                            "<tr><td>bence</td><td>Győrffy Bence</td><td>bence@gmail.com</td><td>6900 Makó Árpád utca 23.</td><td>1987-07-09</td><td>37</td><td>37</td></tr>",
                            "<tr><td>eszter</td><td>Molnár Eszter</td><td>eszter.molnár@mail.hu</td><td>6800 Hódmezővásárhely Fő út 77.</td><td>1987-05-10</td><td>37</td><td>37</td></tr>",
                            "<tr><td>gabor4</td><td>Telek Gábor</td><td>gábor.telek@mail.hu</td><td>9071 Görbeháza Fő út 169.</td><td>1987-03-15</td><td>37</td><td>37</td></tr>",
                            "<tr><td>henrik3</td><td>Nádudvari Henrik</td><td>henrik.nádudvari@mail.hu</td><td>1077 Budapest Tanácsköztársaság tér 1.</td><td>1986-12-05</td><td>38</td><td>37</td></tr>",
                            "<tr><td>ANDREAT</td><td>Tornyos Andrea</td><td>ANDREAT@gmail.com</td><td>6131 Szank Bécsi utca 82.</td><td>1986-11-14</td><td>38</td><td>37</td></tr>",
                            "<tr><td>dani</td><td>Vörös Dániel</td><td>daniel@gmail.com</td><td>7150 Bonyhád Dózsa György u. 1.</td><td>1986-10-14</td><td>38</td><td>38</td></tr>",
                            "<tr><td>balazs3</td><td>Bakódy Balázs</td><td>balazs3@gmail.com</td><td>2131 Göd Arany János utca 1.</td><td>1986-09-09</td><td>38</td><td>38</td></tr>",
                            "<tr><td>istvan</td><td>Soós István</td><td>istvan@gmail.com</td><td>2370 Dabas Kossuth utca 27.</td><td>1986-06-28</td><td>38</td><td>38</td></tr>",
                            "<tr><td>zoltan4</td><td>Barna Zoltán</td><td>zoltan4@gmail.com</td><td>8313 Balatongyörök Jászai tér 21.</td><td>1986-05-20</td><td>38</td><td>38</td></tr>",
                            "<tr><td>ARPADM</td><td>Móricz Árpád</td><td>árpád.móricz@mail.hu</td><td>3910 Tokaj Rákóczi utca 67.</td><td>1986-04-20</td><td>38</td><td>38</td></tr>",
                            "<tr><td>katalin4</td><td>Kertész Katalin</td><td>katalin4@gmail.com</td><td>2800 Tatabánya Búvár utca 4.</td><td>1986-04-13</td><td>38</td><td>38</td></tr>",
                            "<tr><td>valentin</td><td>Feró Valentin</td><td>valentin.feró@mail.hu</td><td>3895 Gönc Búvár utca 4.</td><td>1986-01-09</td><td>38</td><td>38</td></tr>",
                            "<tr><td>roland1</td><td>Ferencz Roland</td><td>roland.ferencz@mail.hu</td><td>2424 Előszállás Fő út 169.</td><td>1985-12-31</td><td>39</td><td>38</td></tr>",
                            "<tr><td>ZOLTANT</td><td>Tóth Zoltán</td><td>zoltán.tóth@mail.hu</td><td>4244 Újfehértó Posta köz 2.</td><td>1985-12-14</td><td>39</td><td>38</td></tr>",
                            "<tr><td>jozsef</td><td>Gergely József</td><td>jozsef@gmail.com</td><td>6050 Lajosmizse Fő út 18.</td><td>1985-11-01</td><td>39</td><td>39</td></tr>",
                            "<tr><td>peter4</td><td>Bíró Péter</td><td>péter.bíró@mail.hu</td><td>5137 Jászkisér Rákóczi utca 67.</td><td>1985-09-01</td><td>39</td><td>39</td></tr>",
                            "<tr><td>julia4</td><td>Nagy Júlia</td><td>julia4@gmail.com</td><td>7000 Sárbogárd Jászai tér 21.</td><td>1985-08-11</td><td>39</td><td>39</td></tr>",
                            "<tr><td>tibor2</td><td>Dániel Tibor</td><td>tibor2@gmail.com</td><td>6646 Tömörkény Árpád utca 23.</td><td>1985-02-02</td><td>39</td><td>39</td></tr>",
                            "<tr><td>balazs2</td><td>Szűcs Balázs</td><td>balázs.szűcs@mail.hu</td><td>3170 Szécsény Szabadság utca 95.</td><td>1984-10-31</td><td>40</td><td>39</td></tr>",
                            "<tr><td>bernadett1</td><td>Simon Bernadett</td><td>bernadett1@gmail.com</td><td>2300 Ráckeve Fő utca 108.</td><td>1984-10-13</td><td>40</td><td>39</td></tr>",
                            "<tr><td>JANOSP</td><td>Pálinkás János</td><td>JANOSP@gmail.com</td><td>5920 Csorvás Padragi út 158.</td><td>1984-10-12</td><td>40</td><td>40</td></tr>",
                            "<tr><td>tamas</td><td>Antal Tamás</td><td>tamás.antal@mail.hu</td><td>4440 Tiszavasvári Posta köz 2.</td><td>1984-09-05</td><td>40</td><td>40</td></tr>",
                            "<tr><td>edit</td><td>Bittmann Edit</td><td>edit.bittmann@mail.hu</td><td>6077 Orgovány Fő utca 60.</td><td>1984-04-20</td><td>40</td><td>40</td></tr>",
                            "<tr><td>andras4</td><td>Back András</td><td>andras4@gmail.com</td><td>3783 Edelény Fő út 169.</td><td>1984-04-07</td><td>40</td><td>40</td></tr>",
                            "<tr><td>csongor3</td><td>Nagymihály Csongor</td><td>csongor.nagymihály@mail.hu</td><td>9181 Kimle Deák Ferenc út 5.</td><td>1984-03-05</td><td>40</td><td>40</td></tr>",
                            "<tr><td>kristof4</td><td>Poprádi Kristóf</td><td>kristof4@gmail.com</td><td>8220 Balatonalmádi Mészáros utca 7.</td><td>1984-01-15</td><td>40</td><td>40</td></tr>",
                            "<tr><td>IBOLYAA</td><td>Andor Ibolya</td><td>ibolya.andor@mail.hu</td><td>9023 Győr Posta köz 2.</td><td>1983-11-27</td><td>41</td><td>40</td></tr>",
                            "<tr><td>zsofi1</td><td>Molnár Zsófi</td><td>zsofi1@gmail.com</td><td>2730 Albertirsa Árpád utca 23.</td><td>1983-11-17</td><td>41</td><td>40</td></tr>",
                            "<tr><td>ferenc1</td><td>Orosz Ferenc</td><td>ferenc.orosz@mail.hu</td><td>5061 Tiszasüly Arany János utca 3.</td><td>1983-10-08</td><td>41</td><td>41</td></tr>",
                            "<tr><td>ZSOLTJ</td><td>Józsa Zsolt</td><td>ZSOLTJ@gmail.com</td><td>8315 Gyenesdiás Bajcsy-Zsilinszky utca 4.</td><td>1983-09-29</td><td>41</td><td>41</td></tr>",
                            "<tr><td>veronika4</td><td>Tankó Veronika</td><td>veronika4@gmail.com</td><td>6412 Balotaszállás Rendeki utca 21.</td><td>1983-08-28</td><td>41</td><td>41</td></tr>",
                            "<tr><td>peter3</td><td>Szalai Péter</td><td>peter3@gmail.com</td><td>1155 Budapest Arany János utca 3.</td><td>1983-07-18</td><td>41</td><td>41</td></tr>",
                            "<tr><td>norbert4</td><td>Mile Norbert</td><td>norbert4@gmail.com</td><td>3973 Cigánd Bajcsy-Zsilinszky utca 4.</td><td>1983-06-15</td><td>41</td><td>41</td></tr>",
                            "<tr><td>georgij</td><td>Nyíri Georgij</td><td>georgij.nyíri@mail.hu</td><td>8391 Sármellék Grassalkovich út 10.</td><td>1983-02-23</td><td>41</td><td>41</td></tr>",
                            "<tr><td>gabriella1</td><td>Nagy Gabriella</td><td>gabriella1@gmail.com</td><td>1077 Budapest Dob utca 1</td><td>1982-11-01</td><td>42</td><td>41</td></tr>",
                            "<tr><td>attila1</td><td>Gulyás Attila</td><td>attila.gulyás@mail.hu</td><td>3881 Abaújszántó Szolnoki út 8.</td><td>1982-08-16</td><td>42</td><td>41</td></tr>",
                            "<tr><td>akos</td><td>Bíró Ákos</td><td>ákos.bíró@mail.hu</td><td>9023 Győr Kossuth Lajos utca 47/b.</td><td>1982-04-24</td><td>42</td><td>42</td></tr>",
                            "<tr><td>klaudia2</td><td>Bakó Klaudia</td><td>klaudia.bakó@mail.hu</td><td>8254 Kővágóörs Kossuth Lajos utca 6.</td><td>1982-04-16</td><td>42</td><td>42</td></tr>",
                            "<tr><td>AGNESH</td><td>Horváth Ágnes</td><td>AGNESH@gmail.com</td><td>8200 Veszprém Rákóczi utca 21.</td><td>1981-12-24</td><td>43</td><td>42</td></tr>",
                            "<tr><td>nikolett3</td><td>Horváth Nikolett</td><td>nikolett3@gmail.com</td><td>1072 Budapest Arany János utca 1.</td><td>1981-09-29</td><td>43</td><td>42</td></tr>",
                            "<tr><td>andrea4</td><td>Neizer Andrea</td><td>andrea4@gmail.com</td><td>1124 Budapest Kiss u. 8.</td><td>1981-05-17</td><td>43</td><td>43</td></tr>",
                            "<tr><td>BEATRIXS</td><td>Szekendi Beatrix</td><td>beatrix.szekendi@mail.hu</td><td>4060 Balmazújváros Jászai tér 21.</td><td>1981-04-06</td><td>43</td><td>43</td></tr>",
                            "<tr><td>EVAV</td><td>Viktor Éva</td><td>EVAV@gmail.com</td><td>6913 Csanádpalota Arany János utca 3.</td><td>1980-12-26</td><td>44</td><td>43</td></tr>",
                            "<tr><td>aladar</td><td>Dunai Aladár</td><td>aladár.dunai@mail.hu</td><td>5931 Nagyszénás Árpád utca 23.</td><td>1980-11-01</td><td>44</td><td>43</td></tr>",
                            "<tr><td>zsuzsa</td><td>Pusztai Zsuzsanna</td><td>zsuzsanna@gmail.com</td><td>6783 Ásotthalom Badacsonyi utca 12.</td><td>1980-09-17</td><td>44</td><td>44</td></tr>",
                            "<tr><td>ANDRASN</td><td>Nagy András</td><td>andrás.nagy@mail.hu</td><td>6500 Baja Fő út 169.</td><td>1980-09-05</td><td>44</td><td>44</td></tr>",
                            "<tr><td>tamara2</td><td>Miklós Tamara</td><td>tamara.miklós@mail.hu</td><td>3910 Tokaj Kossuth út 39.</td><td>1980-08-11</td><td>44</td><td>44</td></tr>",
                            "<tr><td>SZABOLCSM</td><td>Miklós Szabolcs</td><td>szabolcs.miklós@mail.hu</td><td>1102 Budapest Fő út 169.</td><td>1980-08-11</td><td>44</td><td>44</td></tr>",
                            "<tr><td>GYORGYO</td><td>Oroszi György</td><td>GYORGYO@gmail.com</td><td>7220 Sarkad Dózsa György u. 1.</td><td>1980-03-23</td><td>44</td><td>44</td></tr>",
                            "<tr><td>attila</td><td>Csóti Attila</td><td>attila@gmail.com</td><td>3000 Hatvan Bajcsy-Zsilinszky utca 4.</td><td>1979-12-25</td><td>45</td><td>44</td></tr>",
                            "<tr><td>agnes</td><td>Lengyel Ágnes</td><td>agnes@gmail.com</td><td>5200 Törökszentmiklós Deák Ferenc út 5.</td><td>1979-12-10</td><td>45</td><td>44</td></tr>",
                            "<tr><td>zoltan</td><td>Fodor Zoltán</td><td>zoltán.fodor@mail.hu</td><td>3441 Mezőkeresztes Fő utca 23.</td><td>1979-11-25</td><td>45</td><td>45</td></tr>",
                            "<tr><td>MIHALYJ</td><td>Juhász Mihály</td><td>mihály.juhász@mail.hu</td><td>6786 Ruzsa Rákóczi utca 1.</td><td>1979-10-12</td><td>45</td><td>45</td></tr>",
                            "<tr><td>krisztina</td><td>Szedlár Krisztina</td><td>krisztina@gmail.com</td><td>6646 Tömörkény Arany János utca 1.</td><td>1979-05-10</td><td>45</td><td>45</td></tr>",
                            "<tr><td>zsuzsa3</td><td>Varsányi Zsuzsa</td><td>zsuzsa.varsányi@mail.hu</td><td>8600 Siófok Árpád utca 4.</td><td>1979-03-06</td><td>45</td><td>45</td></tr>",
                            "<tr><td>MIKLOSB</td><td>Balla Miklós</td><td>miklós.balla@mail.hu</td><td>4060 Balmazújváros Szent István utca 2.</td><td>1979-02-16</td><td>45</td><td>45</td></tr>",
                            "<tr><td>daniel</td><td>Rácz Dániel</td><td>dániel.rácz@mail.hu</td><td>9181 Kimle Szabadság tér 9.</td><td>1978-11-28</td><td>46</td><td>45</td></tr>",
                            "<tr><td>lajos</td><td>Kiss Lajos</td><td>lajos.kiss@mail.hu</td><td>1077 Budapest Dob utca 1</td><td>1978-10-31</td><td>46</td><td>45</td></tr>",
                            "<tr><td>brigitta</td><td>Székely Brigitta</td><td>brigitta.székely@mail.hu</td><td>2462 Martonvásár Fő utca 47.</td><td>1978-09-13</td><td>46</td><td>46</td></tr>",
                            "<tr><td>jozsef2</td><td>Vajda József</td><td>józsef.vajda@mail.hu</td><td>6700 Szeged Baracsi László utca 14.</td><td>1978-09-04</td><td>46</td><td>46</td></tr>",
                            "<tr><td>ESZTERE</td><td>Érsek Eszter</td><td>eszter.érsek@mail.hu</td><td>6785 Pusztamérges Kossuth Lajos utca 6.</td><td>1978-08-28</td><td>46</td><td>46</td></tr>",
                            "<tr><td>kriszti</td><td>Horváth Krisztina</td><td>kriszti@gmail.com</td><td>6060 Tiszakécske Árpád utca 4.</td><td>1978-06-12</td><td>46</td><td>46</td></tr>",
                            "<tr><td>aniko4</td><td>Böröcz Anikó</td><td>aniko4@gmail.com</td><td>2484 Agárd Petőfi Sándor tér 1.</td><td>1978-03-26</td><td>46</td><td>46</td></tr>",
                            "<tr><td>andras21</td><td>Molnár András</td><td>andrás.molnár@mail.hu</td><td>7900 Szigetvár Rákóczi utca 67.</td><td>1977-11-16</td><td>47</td><td>46</td></tr>",
                            "<tr><td>bertalan</td><td>Csiger Bertalan</td><td>bertalan@gmail.com</td><td>1192 Budapest Fő út 169.</td><td>1977-10-15</td><td>47</td><td>46</td></tr>",
                            "<tr><td>ANNAMARIAR</td><td>Regős Annamária</td><td>ANNAMARIAR@gmail.com</td><td>8283 Káptalantóti Petőfi Sándor tér 1.</td><td>1977-09-26</td><td>47</td><td>47</td></tr>",
                            "<tr><td>ZOLTANP</td><td>Pintér Zoltán</td><td>zoltán.pintér@mail.hu</td><td>6050 Lajosmizse Fő út 18.</td><td>1977-06-07</td><td>47</td><td>47</td></tr>",
                            "<tr><td>robert2</td><td>Patay Róbert</td><td>robert2@gmail.com</td><td>2370 Dabas Rákóczi utca 21.</td><td>1977-01-08</td><td>47</td><td>47</td></tr>",
                            "<tr><td>ZSUZSAV</td><td>Vajda Zsuzsa</td><td>zsuzsa.vajda@mail.hu</td><td>6786 Ruzsa Kossuth utca 77.</td><td>1976-12-11</td><td>48</td><td>47</td></tr>",
                            "<tr><td>debora</td><td>Barna Debóra</td><td>debóra.barna@mail.hu</td><td>1155 Budapest Fő út 169.</td><td>1976-10-14</td><td>48</td><td>47</td></tr>",
                            "<tr><td>balu</td><td>Endresz Bálint</td><td>bálint.endresz@mail.hu</td><td>3973 Cigánd Fő út 169.</td><td>1976-08-01</td><td>48</td><td>48</td></tr>",
                            "<tr><td>adam4</td><td>Bieniek Ádám</td><td>ádám.bieniek@mail.hu</td><td>8630 Balatonboglár Juhászföldi út 1.</td><td>1976-08-01</td><td>48</td><td>48</td></tr>",
                            "<tr><td>imre1</td><td>Papp Imre</td><td>imre.papp@mail.hu</td><td>1077 Budapest Szolnoki út 8.</td><td>1976-06-25</td><td>48</td><td>48</td></tr>",
                            "<tr><td>peter1</td><td>Kozma Péter</td><td>peter1@gmail.com</td><td>6913 Csanádpalota Központi telep 3.</td><td>1976-03-18</td><td>48</td><td>48</td></tr>",
                            "<tr><td>peter2</td><td>Bozsó Péter</td><td>peter2@gmail.com</td><td>4800 Vásárosnamény Zombori út 2/A</td><td>1976-01-26</td><td>48</td><td>48</td></tr>",
                            "<tr><td>attila4</td><td>Baróti Attila</td><td>attila.baróti@mail.hu</td><td>7149 Báta Arany János utca 3.</td><td>1975-11-06</td><td>49</td><td>48</td></tr>",
                            "<tr><td>kornel4</td><td>Lukács Kornél</td><td>kornél.lukács@mail.hu</td><td>2053 Herceghalom Bécsi utca 82.</td><td>1975-09-30</td><td>49</td><td>48</td></tr>",
                            "<tr><td>timea2</td><td>Dusha Tímea</td><td>tímea.dusha@mail.hu</td><td>5920 Csorvás Kossuth utca 8.</td><td>1975-08-22</td><td>49</td><td>49</td></tr>",
                            "<tr><td>norbert5</td><td>Béres Norbert</td><td>norbert5@gmail.com</td><td>8640 Fonyód Bajcsy-Zsilinszky utca 4.</td><td>1975-07-27</td><td>49</td><td>49</td></tr>",
                            "<tr><td>JOZSEFG</td><td>Gyuris József</td><td>józsef.gyuris@mail.hu</td><td>2660 Balassagyarmat Petőfi utca 1/2.</td><td>1975-05-26</td><td>49</td><td>49</td></tr>",
                            "<tr><td>katka</td><td>Kovács Katalin</td><td>katalin.kovács@mail.hu</td><td>8254 Kővágóörs Petőfi utca 22.</td><td>1975-03-31</td><td>49</td><td>49</td></tr>",
                            "<tr><td>MATYASS</td><td>Szilágyi Mátyás</td><td>mátyás.szilágyi@mail.hu</td><td>9023 Győr Kossuth Lajos utca 6.</td><td>1975-03-22</td><td>49</td><td>49</td></tr>",
                            "<tr><td>denes</td><td>Tömböly Dénes</td><td>denes@gmail.com</td><td>2400 Dunaújváros Kossuth út 39.</td><td>1975-03-14</td><td>49</td><td>49</td></tr>",
                            "<tr><td>laszlo2</td><td>Móra László</td><td>lászló.móra@mail.hu</td><td>9970 Szentgotthárd Petőfi utca 1/2.</td><td>1975-02-19</td><td>49</td><td>49</td></tr>",
                            "<tr><td>JANOSG</td><td>Giliga János</td><td>JANOSG@gmail.com</td><td>3300 Eger Deák Ferenc út 5.</td><td>1975-01-03</td><td>49</td><td>49</td></tr>",
                            "<tr><td>MONIKAM</td><td>Mohos Mónika</td><td>mónika.mohos@mail.hu</td><td>2241 Sülysáp Baracsi László utca 14.</td><td>1974-10-01</td><td>50</td><td>49</td></tr>",
                            "<tr><td>GYONGYIK</td><td>Kornseé Gyöngyi</td><td>gyöngyi.kornseé@mail.hu</td><td>8800 Nagykanizsa Fő út 60.</td><td>1974-06-07</td><td>50</td><td>49</td></tr>",
                            "<tr><td>tunde</td><td>Turcsik Tünde</td><td>tunde@gmail.com</td><td>7130 Tolna Fő út 122.</td><td>1974-02-12</td><td>50</td><td>50</td></tr>",
                            "<tr><td>david</td><td>Ambrus Dávid</td><td>david@gmail.com</td><td>1149 Budapest Fő út 18.</td><td>1974-02-11</td><td>50</td><td>50</td></tr>",
                            "<tr><td>gabor1</td><td>Köves Gábor</td><td>gabor1@gmail.com</td><td>6762 Sándorfalva Árpád utca 23.</td><td>1973-07-15</td><td>51</td><td>50</td></tr>",
                            "<tr><td>BENCEB</td><td>Bajusz Bence</td><td>bence.bajusz@mail.hu</td><td>8391 Sármellék Fő utca 56.</td><td>1973-06-21</td><td>51</td><td>50</td></tr>",
                            "<tr><td>aniko</td><td>Tóth Anikó</td><td>aniko@gmail.com</td><td>2085 Pilisvörösvár Deák Ferenc út 5.</td><td>1973-06-03</td><td>51</td><td>51</td></tr>",
                            "<tr><td>sara</td><td>Farkas Sára</td><td>sára.farkas@mail.hu</td><td>5940 Tótkomlós Felszabadulás utca 32.</td><td>1973-04-05</td><td>51</td><td>51</td></tr>",
                            "<tr><td>matyas2</td><td>Botka Mátyás</td><td>matyas2@gmail.com</td><td>2700 Cegléd Kossuth Lajos utca 6.</td><td>1972-07-07</td><td>52</td><td>51</td></tr>",
                            "<tr><td>ROBERTP</td><td>Pásztor Róbert</td><td>ROBERTP@gmail.com</td><td>5137 Jászkisér Ady Endre út 27.</td><td>1972-05-16</td><td>52</td><td>51</td></tr>",
                            "<tr><td>BEATRIXK</td><td>Kerényi Beatrix</td><td>beatrix.kerényi@mail.hu</td><td>7396 Magyarszék Kossuth Lajos utca 47/b.</td><td>1972-04-06</td><td>52</td><td>52</td></tr>",
                            "<tr><td>nikoletta4</td><td>Kő Nikoletta</td><td>nikoletta4@gmail.com</td><td>5537 Zsadány Fő út 18.</td><td>1972-01-10</td><td>52</td><td>52</td></tr>",
                            "<tr><td>eva2</td><td>Perlinger Éva</td><td>eva2@gmail.com</td><td>9653 Répcelak Bécsi utca 82.</td><td>1971-08-19</td><td>53</td><td>52</td></tr>",
                            "<tr><td>aron2</td><td>Jakab Áron</td><td>aron2@gmail.com</td><td>7133 Fadd Bajcsy-Zsilinszky utca 4.</td><td>1971-04-26</td><td>53</td><td>52</td></tr>",
                            "<tr><td>andras3</td><td>Vígh András</td><td>andrás.vígh@mail.hu</td><td>1118 Budapest Arany János utca 1.</td><td>1971-04-02</td><td>53</td><td>53</td></tr>",
                            "<tr><td>anita</td><td>Hamvay-Kovács Anita</td><td>anita.hamvay-kovács@mail.hu</td><td>7220 Sarkad Táncsics utca 19.</td><td>1971-03-20</td><td>53</td><td>53</td></tr>",
                            "<tr><td>szilvia1</td><td>Tari Szilvia</td><td>szilvia.tari@mail.hu</td><td>6080 Szabadszállás Bécsi utca 82.</td><td>1971-03-09</td><td>53</td><td>53</td></tr>",
                            "<tr><td>david1</td><td>Sobják Dávid</td><td>david1@gmail.com</td><td>5083 Kengyel Arany János utca 3.</td><td>1970-08-16</td><td>54</td><td>53</td></tr>",
                            "<tr><td>krisztian4</td><td>Czérna Krisztián</td><td>krisztián.czérna@mail.hu</td><td>1107 Budapest Dózsa György utca 37.</td><td>1970-08-01</td><td>54</td><td>53</td></tr>",
                            "<tr><td>adam3</td><td>Barkóci Ádám</td><td>adam3@gmail.com</td><td>3910 Tokaj Dózsa György utca 37.</td><td>1970-06-07</td><td>54</td><td>54</td></tr>",
                            "<tr><td>sandor</td><td>Karasz Sándor</td><td>sandor@gmail.com</td><td>8283 Káptalantóti Kossuth Lajos utca 1/a.</td><td>1970-01-27</td><td>54</td><td>54</td></tr>",
                            "<tr><td>reka4</td><td>Szikszai Réka</td><td>réka.szikszai@mail.hu</td><td>8254 Kővágóörs Templom utca 73.</td><td>1969-11-27</td><td>55</td><td>54</td></tr>",
                            "<tr><td>krisztina1</td><td>Bori Krisztina</td><td>krisztina.bori@mail.hu</td><td>2115 Vácszentlászló Fő utca 47.</td><td>1969-10-13</td><td>55</td><td>54</td></tr>",
                            "<tr><td>norbert</td><td>Szűcs Norbert</td><td>norbert@gmail.com</td><td>5071 Besenyszög Győri utca 12.</td><td>1969-07-17</td><td>55</td><td>55</td></tr>",
                            "<tr><td>daniel1</td><td>Keszler Dániel</td><td>dániel.keszler@mail.hu</td><td>3580 Tiszaújváros Kossuth Lajos utca 6.</td><td>1969-07-16</td><td>55</td><td>55</td></tr>",
                            "<tr><td>LASZLOA</td><td>Antal László</td><td>lászló.antal@mail.hu</td><td>2484 Agárd Bécsi utca 82.</td><td>1969-06-29</td><td>55</td><td>55</td></tr>",
                            "<tr><td>gabriella10</td><td>Vida Gabriella</td><td>gabriella10@gmail.com</td><td>2484 Agárd Arany János utca 3.</td><td>1969-06-18</td><td>55</td><td>55</td></tr>",
                            "<tr><td>LASZLON</td><td>Nagy László</td><td>lászló.nagy@mail.hu</td><td>1173 Budapest Jászai tér 21.</td><td>1969-04-12</td><td>55</td><td>55</td></tr>",
                            "<tr><td>PETERB</td><td>Berendi Péter</td><td>péter.berendi@mail.hu</td><td>3980 Sátoraljaújhely Vasút utca 4/10.</td><td>1969-01-01</td><td>55</td><td>55</td></tr>",
                            "<tr><td>NANDORF</td><td>Fő Nándor</td><td>nándor.fő@mail.hu</td><td>5920 Csorvás Bécsi utca 82.</td><td>1968-11-12</td><td>56</td><td>55</td></tr>",
                            "<tr><td>kata</td><td>Gondos Katalin</td><td>katalin.gondos@mail.hu</td><td>8237 Tihany Kossuth Lajos utca 6.</td><td>1968-06-22</td><td>56</td><td>55</td></tr>",
                            "<tr><td>KRISZTIANM</td><td>Mogyródi Krisztián</td><td>KRISZTIANM@gmail.com</td><td>9155 Lébény Jászai tér 21.</td><td>1968-05-27</td><td>56</td><td>56</td></tr>",
                            "<tr><td>andi</td><td>Maródi Andrea</td><td>andrea.maródi@mail.hu</td><td>5465 Cserkeszőlő Árpád utca 4.</td><td>1968-05-07</td><td>56</td><td>56</td></tr>",
                            "<tr><td>roland</td><td>Tóth Roland</td><td>roland@gmail.com</td><td>2000 Szentendre Fő út 169.</td><td>1968-03-21</td><td>56</td><td>56</td></tr>",
                            "<tr><td>pal</td><td>Barabás Pál</td><td>pál.barabás@mail.hu</td><td>1183 Budapest Szolnoki út 8.</td><td>1968-02-06</td><td>56</td><td>56</td></tr>",
                            "<tr><td>katalin</td><td>Horváth Katalin</td><td>katalin.horváth@mail.hu</td><td>2424 Előszállás Rákóczi út 200.</td><td>1968-01-01</td><td>56</td><td>56</td></tr>",
                            "<tr><td>janos3</td><td>Harangozó János</td><td>janos3@gmail.com</td><td>8700 Marcali Petőfi Sándor tér 1.</td><td>1967-11-02</td><td>57</td><td>56</td></tr>",
                            "<tr><td>laszlo1</td><td>Farkas László</td><td>lászló.farkas@mail.hu</td><td>5200 Törökszentmiklós Rendeki utca 21.</td><td>1967-10-30</td><td>57</td><td>56</td></tr>",
                            "<tr><td>SZILARDS</td><td>Szalai Szilárd</td><td>szilárd.szalai@mail.hu</td><td>1077 Budapest Fő út 18.</td><td>1967-09-28</td><td>57</td><td>57</td></tr>",
                            "<tr><td>ROBERTI</td><td>Iván Róbert</td><td>róbert.iván@mail.hu</td><td>2377 Örkény Petőfi Sándor utca 3.</td><td>1967-07-02</td><td>57</td><td>57</td></tr>",
                            "<tr><td>eva</td><td>Enyedi Éva</td><td>eva@gmail.com</td><td>4231 Bököny Petőfi utca 8.</td><td>1967-06-30</td><td>57</td><td>57</td></tr>",
                            "<tr><td>agnes3</td><td>Hartyánszky Ágnes</td><td>agnes3@gmail.com</td><td>6430 Bácsalmás Posta köz 2.</td><td>1967-04-11</td><td>57</td><td>57</td></tr>",
                            "<tr><td>gusztav</td><td>Bárci Gusztáv</td><td>gusztav@gmail.com</td><td>3643 Dédestapolcsány Endrődi Sándor utca 47.</td><td>1967-02-25</td><td>57</td><td>42</td></tr>",
                            "<tr><td>anett3</td><td>Pivarcsi Anett</td><td>anett.pivarcsi@mail.hu</td><td>1149 Budapest Fő út 60.</td><td>1967-01-03</td><td>57</td><td>28</td></tr>",
                            "</table>"
                        ]
                    }
                }
            ],
            "execution_count": 40
        },
        {
            "cell_type": "markdown",
            "source": [
                "![](data:image/png;base64,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)"
            ],
            "metadata": {
                "azdata_cell_guid": "fa605ef2-de0a-4509-8584-b9d5843afe0e"
            },
            "attachments": {}
        },
        {
            "cell_type": "code",
            "source": [
                "SELECT v.USERNEV, v.NEV\r\n",
                "FROM Vendeg v JOIN Foglalas f ON v.USERNEV = f.UGYFEL_FK \r\n",
                "WHERE NOT EXISTS\r\n",
                "( \r\n",
                "  SELECT *\r\n",
                "  FROM Foglalas f2 \r\n",
                "  WHERE v.USERNEV = f2.UGYFEL_FK\r\n",
                " AND f2.FELNOTT_SZAM + f2.GYERMEK_SZAM <>2\r\n",
                ")"
            ],
            "metadata": {
                "azdata_cell_guid": "bb7b85a8-e2f5-4172-8466-36db520abd8e",
                "language": "sql"
            },
            "outputs": [
                {
                    "output_type": "display_data",
                    "data": {
                        "text/html": "(21 rows affected)"
                    },
                    "metadata": {}
                },
                {
                    "output_type": "display_data",
                    "data": {
                        "text/html": "Total execution time: 00:00:00.037"
                    },
                    "metadata": {}
                },
                {
                    "output_type": "execute_result",
                    "metadata": {},
                    "execution_count": 38,
                    "data": {
                        "application/vnd.dataresource+json": {
                            "schema": {
                                "fields": [
                                    {
                                        "name": "USERNEV"
                                    },
                                    {
                                        "name": "NEV"
                                    }
                                ]
                            },
                            "data": [
                                {
                                    "USERNEV": "kristof4",
                                    "NEV": "Poprádi Kristóf"
                                },
                                {
                                    "USERNEV": "MIKLOSB",
                                    "NEV": "Balla Miklós"
                                },
                                {
                                    "USERNEV": "ESZTERE",
                                    "NEV": "Érsek Eszter"
                                },
                                {
                                    "USERNEV": "balu",
                                    "NEV": "Endresz Bálint"
                                },
                                {
                                    "USERNEV": "ESZTERE",
                                    "NEV": "Érsek Eszter"
                                },
                                {
                                    "USERNEV": "MIKLOSB",
                                    "NEV": "Balla Miklós"
                                },
                                {
                                    "USERNEV": "jozsef",
                                    "NEV": "Gergely József"
                                },
                                {
                                    "USERNEV": "andras4",
                                    "NEV": "Back András"
                                },
                                {
                                    "USERNEV": "kristof4",
                                    "NEV": "Poprádi Kristóf"
                                },
                                {
                                    "USERNEV": "jozsef",
                                    "NEV": "Gergely József"
                                },
                                {
                                    "USERNEV": "tibor2",
                                    "NEV": "Dániel Tibor"
                                },
                                {
                                    "USERNEV": "ESZTERE",
                                    "NEV": "Érsek Eszter"
                                },
                                {
                                    "USERNEV": "andras4",
                                    "NEV": "Back András"
                                },
                                {
                                    "USERNEV": "ANDRASN",
                                    "NEV": "Nagy András"
                                },
                                {
                                    "USERNEV": "szabolcs",
                                    "NEV": "Bodor Szabolcs"
                                },
                                {
                                    "USERNEV": "MIKLOSB",
                                    "NEV": "Balla Miklós"
                                },
                                {
                                    "USERNEV": "jozsef",
                                    "NEV": "Gergely József"
                                },
                                {
                                    "USERNEV": "balu",
                                    "NEV": "Endresz Bálint"
                                },
                                {
                                    "USERNEV": "timea",
                                    "NEV": "Papós Tímea"
                                },
                                {
                                    "USERNEV": "andras4",
                                    "NEV": "Back András"
                                },
                                {
                                    "USERNEV": "ESZTERE",
                                    "NEV": "Érsek Eszter"
                                }
                            ]
                        },
                        "text/html": [
                            "<table>",
                            "<tr><th>USERNEV</th><th>NEV</th></tr>",
                            "<tr><td>kristof4</td><td>Poprádi Kristóf</td></tr>",
                            "<tr><td>MIKLOSB</td><td>Balla Miklós</td></tr>",
                            "<tr><td>ESZTERE</td><td>Érsek Eszter</td></tr>",
                            "<tr><td>balu</td><td>Endresz Bálint</td></tr>",
                            "<tr><td>ESZTERE</td><td>Érsek Eszter</td></tr>",
                            "<tr><td>MIKLOSB</td><td>Balla Miklós</td></tr>",
                            "<tr><td>jozsef</td><td>Gergely József</td></tr>",
                            "<tr><td>andras4</td><td>Back András</td></tr>",
                            "<tr><td>kristof4</td><td>Poprádi Kristóf</td></tr>",
                            "<tr><td>jozsef</td><td>Gergely József</td></tr>",
                            "<tr><td>tibor2</td><td>Dániel Tibor</td></tr>",
                            "<tr><td>ESZTERE</td><td>Érsek Eszter</td></tr>",
                            "<tr><td>andras4</td><td>Back András</td></tr>",
                            "<tr><td>ANDRASN</td><td>Nagy András</td></tr>",
                            "<tr><td>szabolcs</td><td>Bodor Szabolcs</td></tr>",
                            "<tr><td>MIKLOSB</td><td>Balla Miklós</td></tr>",
                            "<tr><td>jozsef</td><td>Gergely József</td></tr>",
                            "<tr><td>balu</td><td>Endresz Bálint</td></tr>",
                            "<tr><td>timea</td><td>Papós Tímea</td></tr>",
                            "<tr><td>andras4</td><td>Back András</td></tr>",
                            "<tr><td>ESZTERE</td><td>Érsek Eszter</td></tr>",
                            "</table>"
                        ]
                    }
                }
            ],
            "execution_count": 38
        }
    ]
}