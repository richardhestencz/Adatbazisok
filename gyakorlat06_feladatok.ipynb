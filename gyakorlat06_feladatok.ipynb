{
    "metadata": {
        "kernelspec": {
            "name": "SQL",
            "display_name": "SQL",
            "language": "sql"
        },
        "language_info": {
            "name": "sql",
            "version": ""
        }
    },
    "nbformat_minor": 2,
    "nbformat": 4,
    "cells": [
        {
            "cell_type": "markdown",
            "source": [
                "1. <span style=\"background-color: rgb(255, 255, 255); color: rgb(0, 0, 0); font-family: &quot;Open Sans&quot;, sans-serif; font-size: 14.44px;\">Készítsünk sorszámozott listát a szálláshelyek adatairól!&nbsp;</span> \n",
                "\n",
                "a. A lista legyen a szálláshely típusa szerint, azon belül hely szerint, majd a neve szerint növekvően rendezve! \n",
                "\n",
                "b. A számozás típusonként kezdődjön újra!"
            ],
            "metadata": {
                "azdata_cell_guid": "363cd270-6577-449b-9c89-d4b7c7972d52"
            },
            "attachments": {}
        },
        {
            "cell_type": "code",
            "source": [
                "SELECT ROW_NUMBER() OVER(PARTITION BY tipus  ORDER BY tipus, hely,szallas_nev) AS 'Sorszám',*\r\n",
                "FROM Szallashely"
            ],
            "metadata": {
                "azdata_cell_guid": "6ab9f633-a3b5-48c9-a1dc-4fb8235ae85b",
                "language": "sql"
            },
            "outputs": [
                {
                    "output_type": "error",
                    "evalue": "Msg 208, Level 16, State 1, Line 1\r\nInvalid object name 'Szallashely'.",
                    "ename": "",
                    "traceback": []
                },
                {
                    "output_type": "display_data",
                    "data": {
                        "text/html": "Total execution time: 00:00:00.012"
                    },
                    "metadata": {}
                }
            ],
            "execution_count": 16
        },
        {
            "cell_type": "markdown",
            "source": [
                "2. <span style=\"background-color: rgb(255, 255, 255); color: rgb(0, 0, 0); font-family: &quot;Open Sans&quot;, sans-serif; font-size: 14.44px;\">Készítsünk lekérdezést, amely a foglalások adatait jeleníti meg!&nbsp;</span> \n",
                "\n",
                "a. A lista tartalmazzon két új oszlopot, amelyek az adott ügyfél legrövidebb, illetve leghosszabb foglalásának hosszát (a foglalt napok számát) mutatják meg! \n",
                "\n",
                "b. Az oszlopokat nevezzük el értelemszerűen!"
            ],
            "metadata": {
                "azdata_cell_guid": "ea75c103-911f-41a3-a32c-3d40fb3e4e4a"
            },
            "attachments": {}
        },
        {
            "cell_type": "code",
            "source": [
                ""
            ],
            "metadata": {
                "azdata_cell_guid": "222b9618-a8e8-42b4-a8e8-d002257122b7",
                "language": "sql"
            },
            "outputs": [],
            "execution_count": null
        },
        {
            "cell_type": "markdown",
            "source": [
                "```\n",
                "3. Készítsük listát, amely megjeleníti az ügyfelek azonosítóját, nevét és a foglalásainak kezdő- és befejező dátumát, valamint azt, hogy a foglalás összesen hány főre történt! \n",
                "```\n",
                "\n",
                "a. Egy új oszlopban jelenítsük meg azt is, hogy az ügyfél előző három foglalása összesen hány főre történt!\n",
                "\n",
                "![](https://moodle.uni-corvinus.hu/theme/image.php/adaptable/atto_h5p/1709548862/icon)"
            ],
            "metadata": {
                "azdata_cell_guid": "d7876bb9-76d0-4d07-baed-3cb17b2f96c3"
            },
            "attachments": {}
        },
        {
            "cell_type": "code",
            "source": [
                ""
            ],
            "metadata": {
                "azdata_cell_guid": "56ec19ce-e249-4551-b2a8-f17569765acc",
                "language": "sql"
            },
            "outputs": [],
            "execution_count": null
        },
        {
            "cell_type": "markdown",
            "source": [
                "4. <span style=\"background-color: rgb(255, 255, 255); color: rgb(0, 0, 0); font-family: &quot;Open Sans&quot;, sans-serif; font-size: 14.44px;\">Készítsünk listát arról, hogy az egyes szálláshelyeken évente hány foglalás történt!&nbsp;</span> \n",
                "\n",
                "a. A lista jelenítse meg a szálláshely azonosítóját, nevét, az évet, és a foglalások számát!\n",
                "\n",
                "b. Egy új oszlopban jelenítsük meg a szálláshely eddigi éves foglalásainak számát is (az aktuálisat is beleértve). \n",
                "\n",
                "c. Az évnél a METTOL dátumot vegyük figyelembe! \n",
                "\n",
                "d. A lista ne tartalmazzon duplikált sorokat!"
            ],
            "metadata": {
                "azdata_cell_guid": "8e7fef82-8022-49a0-8255-fc2846c2134b"
            },
            "attachments": {}
        },
        {
            "cell_type": "code",
            "source": [
                "SELECT DISTINCT szh.SZALLAS_ID, (YEAR(f.METTOL)), COUNT(*) OVER(PARTITION BY szh.SZALLAS_ID, YEAR(f.METTOL)), COUNT(*) \r\n",
                "                                                           OVER(PARTITION BY szh.szallas_nev,YEAR(f.METTOL)  ORDER BY f.METTOL RANGE BETWEEN UNBOUNDED PRECEDING AND CURRENT ROW) AS 'alma'\r\n",
                "---eddigi foglalások száma\r\n",
                "\r\n",
                "\r\n",
                "FROM szallashely szh JOIN Szoba sz ON szh.SZALLAS_ID = sz.SZALLAS_FK\r\n",
                "                    JOIN Foglalas f ON sz.SZOBA_ID = f.SZOBA_FK"
            ],
            "metadata": {
                "azdata_cell_guid": "36f7b396-4a1f-45e5-8720-2302537c91bc",
                "language": "sql"
            },
            "outputs": [
                {
                    "output_type": "display_data",
                    "data": {
                        "text/html": "(811 rows affected)"
                    },
                    "metadata": {}
                },
                {
                    "output_type": "display_data",
                    "data": {
                        "text/html": "Total execution time: 00:00:00.052"
                    },
                    "metadata": {}
                },
                {
                    "output_type": "execute_result",
                    "metadata": {},
                    "execution_count": 13,
                    "data": {
                        "application/vnd.dataresource+json": {
                            "schema": {
                                "fields": [
                                    {
                                        "name": "SZALLAS_ID"
                                    },
                                    {
                                        "name": "(No column name)"
                                    },
                                    {
                                        "name": "(No column name)"
                                    },
                                    {
                                        "name": "alma"
                                    }
                                ]
                            },
                            "data": [
                                {
                                    "SZALLAS_ID": "3",
                                    "(No column name)": "35",
                                    "alma": "31"
                                },
                                {
                                    "SZALLAS_ID": "12",
                                    "(No column name)": "152",
                                    "alma": "12"
                                },
                                {
                                    "SZALLAS_ID": "8",
                                    "(No column name)": "157",
                                    "alma": "80"
                                },
                                {
                                    "SZALLAS_ID": "6",
                                    "(No column name)": "150",
                                    "alma": "44"
                                },
                                {
                                    "SZALLAS_ID": "6",
                                    "(No column name)": "29",
                                    "alma": "20"
                                },
                                {
                                    "SZALLAS_ID": "8",
                                    "(No column name)": "157",
                                    "alma": "32"
                                },
                                {
                                    "SZALLAS_ID": "10",
                                    "(No column name)": "20",
                                    "alma": "12"
                                },
                                {
                                    "SZALLAS_ID": "2",
                                    "(No column name)": "13",
                                    "alma": "7"
                                },
                                {
                                    "SZALLAS_ID": "12",
                                    "(No column name)": "27",
                                    "alma": "18"
                                },
                                {
                                    "SZALLAS_ID": "7",
                                    "(No column name)": "28",
                                    "alma": "23"
                                },
                                {
                                    "SZALLAS_ID": "3",
                                    "(No column name)": "35",
                                    "alma": "8"
                                },
                                {
                                    "SZALLAS_ID": "1",
                                    "(No column name)": "7",
                                    "alma": "1"
                                },
                                {
                                    "SZALLAS_ID": "9",
                                    "(No column name)": "24",
                                    "alma": "23"
                                },
                                {
                                    "SZALLAS_ID": "6",
                                    "(No column name)": "150",
                                    "alma": "136"
                                },
                                {
                                    "SZALLAS_ID": "10",
                                    "(No column name)": "103",
                                    "alma": "47"
                                },
                                {
                                    "SZALLAS_ID": "8",
                                    "(No column name)": "157",
                                    "alma": "155"
                                },
                                {
                                    "SZALLAS_ID": "6",
                                    "(No column name)": "150",
                                    "alma": "113"
                                },
                                {
                                    "SZALLAS_ID": "10",
                                    "(No column name)": "103",
                                    "alma": "70"
                                },
                                {
                                    "SZALLAS_ID": "2",
                                    "(No column name)": "13",
                                    "alma": "1"
                                },
                                {
                                    "SZALLAS_ID": "8",
                                    "(No column name)": "47",
                                    "alma": "27"
                                },
                                {
                                    "SZALLAS_ID": "10",
                                    "(No column name)": "103",
                                    "alma": "16"
                                },
                                {
                                    "SZALLAS_ID": "5",
                                    "(No column name)": "43",
                                    "alma": "55"
                                },
                                {
                                    "SZALLAS_ID": "8",
                                    "(No column name)": "157",
                                    "alma": "103"
                                },
                                {
                                    "SZALLAS_ID": "8",
                                    "(No column name)": "47",
                                    "alma": "4"
                                },
                                {
                                    "SZALLAS_ID": "6",
                                    "(No column name)": "150",
                                    "alma": "67"
                                },
                                {
                                    "SZALLAS_ID": "6",
                                    "(No column name)": "150",
                                    "alma": "50"
                                },
                                {
                                    "SZALLAS_ID": "8",
                                    "(No column name)": "157",
                                    "alma": "26"
                                },
                                {
                                    "SZALLAS_ID": "9",
                                    "(No column name)": "5",
                                    "alma": "2"
                                },
                                {
                                    "SZALLAS_ID": "6",
                                    "(No column name)": "150",
                                    "alma": "144"
                                },
                                {
                                    "SZALLAS_ID": "7",
                                    "(No column name)": "6",
                                    "alma": "4"
                                },
                                {
                                    "SZALLAS_ID": "5",
                                    "(No column name)": "43",
                                    "alma": "1"
                                },
                                {
                                    "SZALLAS_ID": "10",
                                    "(No column name)": "103",
                                    "alma": "87"
                                },
                                {
                                    "SZALLAS_ID": "4",
                                    "(No column name)": "61",
                                    "alma": "8"
                                },
                                {
                                    "SZALLAS_ID": "12",
                                    "(No column name)": "152",
                                    "alma": "41"
                                },
                                {
                                    "SZALLAS_ID": "8",
                                    "(No column name)": "157",
                                    "alma": "72"
                                },
                                {
                                    "SZALLAS_ID": "8",
                                    "(No column name)": "157",
                                    "alma": "109"
                                },
                                {
                                    "SZALLAS_ID": "8",
                                    "(No column name)": "47",
                                    "alma": "10"
                                },
                                {
                                    "SZALLAS_ID": "6",
                                    "(No column name)": "150",
                                    "alma": "61"
                                },
                                {
                                    "SZALLAS_ID": "10",
                                    "(No column name)": "103",
                                    "alma": "24"
                                },
                                {
                                    "SZALLAS_ID": "5",
                                    "(No column name)": "43",
                                    "alma": "38"
                                },
                                {
                                    "SZALLAS_ID": "12",
                                    "(No column name)": "152",
                                    "alma": "81"
                                },
                                {
                                    "SZALLAS_ID": "6",
                                    "(No column name)": "150",
                                    "alma": "107"
                                },
                                {
                                    "SZALLAS_ID": "10",
                                    "(No column name)": "103",
                                    "alma": "76"
                                },
                                {
                                    "SZALLAS_ID": "12",
                                    "(No column name)": "27",
                                    "alma": "12"
                                },
                                {
                                    "SZALLAS_ID": "6",
                                    "(No column name)": "150",
                                    "alma": "4"
                                },
                                {
                                    "SZALLAS_ID": "3",
                                    "(No column name)": "35",
                                    "alma": "2"
                                },
                                {
                                    "SZALLAS_ID": "12",
                                    "(No column name)": "152",
                                    "alma": "35"
                                },
                                {
                                    "SZALLAS_ID": "10",
                                    "(No column name)": "103",
                                    "alma": "30"
                                },
                                {
                                    "SZALLAS_ID": "1",
                                    "(No column name)": "7",
                                    "alma": "7"
                                },
                                {
                                    "SZALLAS_ID": "12",
                                    "(No column name)": "152",
                                    "alma": "95"
                                },
                                {
                                    "SZALLAS_ID": "10",
                                    "(No column name)": "103",
                                    "alma": "56"
                                },
                                {
                                    "SZALLAS_ID": "8",
                                    "(No column name)": "157",
                                    "alma": "20"
                                },
                                {
                                    "SZALLAS_ID": "6",
                                    "(No column name)": "150",
                                    "alma": "150"
                                },
                                {
                                    "SZALLAS_ID": "7",
                                    "(No column name)": "28",
                                    "alma": "12"
                                },
                                {
                                    "SZALLAS_ID": "8",
                                    "(No column name)": "157",
                                    "alma": "46"
                                },
                                {
                                    "SZALLAS_ID": "6",
                                    "(No column name)": "150",
                                    "alma": "10"
                                },
                                {
                                    "SZALLAS_ID": "1",
                                    "(No column name)": "63",
                                    "alma": "4"
                                },
                                {
                                    "SZALLAS_ID": "9",
                                    "(No column name)": "24",
                                    "alma": "6"
                                },
                                {
                                    "SZALLAS_ID": "5",
                                    "(No column name)": "10",
                                    "alma": "6"
                                },
                                {
                                    "SZALLAS_ID": "12",
                                    "(No column name)": "152",
                                    "alma": "21"
                                },
                                {
                                    "SZALLAS_ID": "6",
                                    "(No column name)": "29",
                                    "alma": "29"
                                },
                                {
                                    "SZALLAS_ID": "4",
                                    "(No column name)": "61",
                                    "alma": "42"
                                },
                                {
                                    "SZALLAS_ID": "4",
                                    "(No column name)": "12",
                                    "alma": "5"
                                },
                                {
                                    "SZALLAS_ID": "12",
                                    "(No column name)": "152",
                                    "alma": "44"
                                },
                                {
                                    "SZALLAS_ID": "12",
                                    "(No column name)": "27",
                                    "alma": "1"
                                },
                                {
                                    "SZALLAS_ID": "4",
                                    "(No column name)": "61",
                                    "alma": "65"
                                },
                                {
                                    "SZALLAS_ID": "12",
                                    "(No column name)": "152",
                                    "alma": "144"
                                },
                                {
                                    "SZALLAS_ID": "12",
                                    "(No column name)": "27",
                                    "alma": "24"
                                },
                                {
                                    "SZALLAS_ID": "12",
                                    "(No column name)": "152",
                                    "alma": "72"
                                },
                                {
                                    "SZALLAS_ID": "12",
                                    "(No column name)": "152",
                                    "alma": "121"
                                },
                                {
                                    "SZALLAS_ID": "6",
                                    "(No column name)": "29",
                                    "alma": "3"
                                },
                                {
                                    "SZALLAS_ID": "12",
                                    "(No column name)": "152",
                                    "alma": "101"
                                },
                                {
                                    "SZALLAS_ID": "8",
                                    "(No column name)": "157",
                                    "alma": "3"
                                },
                                {
                                    "SZALLAS_ID": "10",
                                    "(No column name)": "103",
                                    "alma": "50"
                                },
                                {
                                    "SZALLAS_ID": "11",
                                    "(No column name)": "23",
                                    "alma": "17"
                                },
                                {
                                    "SZALLAS_ID": "7",
                                    "(No column name)": "28",
                                    "alma": "6"
                                },
                                {
                                    "SZALLAS_ID": "2",
                                    "(No column name)": "5",
                                    "alma": "5"
                                },
                                {
                                    "SZALLAS_ID": "3",
                                    "(No column name)": "4",
                                    "alma": "4"
                                },
                                {
                                    "SZALLAS_ID": "4",
                                    "(No column name)": "61",
                                    "alma": "71"
                                },
                                {
                                    "SZALLAS_ID": "12",
                                    "(No column name)": "152",
                                    "alma": "52"
                                },
                                {
                                    "SZALLAS_ID": "12",
                                    "(No column name)": "152",
                                    "alma": "64"
                                },
                                {
                                    "SZALLAS_ID": "10",
                                    "(No column name)": "103",
                                    "alma": "1"
                                },
                                {
                                    "SZALLAS_ID": "10",
                                    "(No column name)": "103",
                                    "alma": "13"
                                },
                                {
                                    "SZALLAS_ID": "7",
                                    "(No column name)": "28",
                                    "alma": "20"
                                },
                                {
                                    "SZALLAS_ID": "8",
                                    "(No column name)": "157",
                                    "alma": "146"
                                },
                                {
                                    "SZALLAS_ID": "6",
                                    "(No column name)": "150",
                                    "alma": "73"
                                },
                                {
                                    "SZALLAS_ID": "10",
                                    "(No column name)": "20",
                                    "alma": "15"
                                },
                                {
                                    "SZALLAS_ID": "1",
                                    "(No column name)": "63",
                                    "alma": "18"
                                },
                                {
                                    "SZALLAS_ID": "1",
                                    "(No column name)": "63",
                                    "alma": "30"
                                },
                                {
                                    "SZALLAS_ID": "3",
                                    "(No column name)": "35",
                                    "alma": "22"
                                },
                                {
                                    "SZALLAS_ID": "3",
                                    "(No column name)": "35",
                                    "alma": "28"
                                },
                                {
                                    "SZALLAS_ID": "12",
                                    "(No column name)": "152",
                                    "alma": "9"
                                },
                                {
                                    "SZALLAS_ID": "12",
                                    "(No column name)": "152",
                                    "alma": "15"
                                },
                                {
                                    "SZALLAS_ID": "8",
                                    "(No column name)": "157",
                                    "alma": "95"
                                },
                                {
                                    "SZALLAS_ID": "6",
                                    "(No column name)": "150",
                                    "alma": "124"
                                },
                                {
                                    "SZALLAS_ID": "6",
                                    "(No column name)": "150",
                                    "alma": "130"
                                },
                                {
                                    "SZALLAS_ID": "12",
                                    "(No column name)": "152",
                                    "alma": "58"
                                },
                                {
                                    "SZALLAS_ID": "8",
                                    "(No column name)": "157",
                                    "alma": "40"
                                },
                                {
                                    "SZALLAS_ID": "10",
                                    "(No column name)": "103",
                                    "alma": "7"
                                },
                                {
                                    "SZALLAS_ID": "9",
                                    "(No column name)": "24",
                                    "alma": "12"
                                },
                                {
                                    "SZALLAS_ID": "6",
                                    "(No column name)": "150",
                                    "alma": "30"
                                },
                                {
                                    "SZALLAS_ID": "10",
                                    "(No column name)": "20",
                                    "alma": "9"
                                },
                                {
                                    "SZALLAS_ID": "1",
                                    "(No column name)": "63",
                                    "alma": "24"
                                },
                                {
                                    "SZALLAS_ID": "10",
                                    "(No column name)": "103",
                                    "alma": "44"
                                },
                                {
                                    "SZALLAS_ID": "11",
                                    "(No column name)": "23",
                                    "alma": "11"
                                },
                                {
                                    "SZALLAS_ID": "1",
                                    "(No column name)": "63",
                                    "alma": "38"
                                },
                                {
                                    "SZALLAS_ID": "4",
                                    "(No column name)": "61",
                                    "alma": "5"
                                },
                                {
                                    "SZALLAS_ID": "8",
                                    "(No column name)": "47",
                                    "alma": "1"
                                },
                                {
                                    "SZALLAS_ID": "1",
                                    "(No column name)": "7",
                                    "alma": "4"
                                },
                                {
                                    "SZALLAS_ID": "2",
                                    "(No column name)": "13",
                                    "alma": "4"
                                },
                                {
                                    "SZALLAS_ID": "12",
                                    "(No column name)": "27",
                                    "alma": "15"
                                },
                                {
                                    "SZALLAS_ID": "8",
                                    "(No column name)": "47",
                                    "alma": "47"
                                },
                                {
                                    "SZALLAS_ID": "9",
                                    "(No column name)": "5",
                                    "alma": "5"
                                },
                                {
                                    "SZALLAS_ID": "8",
                                    "(No column name)": "157",
                                    "alma": "6"
                                },
                                {
                                    "SZALLAS_ID": "8",
                                    "(No column name)": "157",
                                    "alma": "83"
                                },
                                {
                                    "SZALLAS_ID": "6",
                                    "(No column name)": "150",
                                    "alma": "47"
                                },
                                {
                                    "SZALLAS_ID": "6",
                                    "(No column name)": "29",
                                    "alma": "23"
                                },
                                {
                                    "SZALLAS_ID": "3",
                                    "(No column name)": "35",
                                    "alma": "11"
                                },
                                {
                                    "SZALLAS_ID": "8",
                                    "(No column name)": "157",
                                    "alma": "106"
                                },
                                {
                                    "SZALLAS_ID": "6",
                                    "(No column name)": "150",
                                    "alma": "64"
                                },
                                {
                                    "SZALLAS_ID": "6",
                                    "(No column name)": "150",
                                    "alma": "70"
                                },
                                {
                                    "SZALLAS_ID": "5",
                                    "(No column name)": "43",
                                    "alma": "81"
                                },
                                {
                                    "SZALLAS_ID": "12",
                                    "(No column name)": "27",
                                    "alma": "21"
                                },
                                {
                                    "SZALLAS_ID": "8",
                                    "(No column name)": "157",
                                    "alma": "52"
                                },
                                {
                                    "SZALLAS_ID": "8",
                                    "(No column name)": "157",
                                    "alma": "129"
                                },
                                {
                                    "SZALLAS_ID": "6",
                                    "(No column name)": "150",
                                    "alma": "93"
                                },
                                {
                                    "SZALLAS_ID": "10",
                                    "(No column name)": "103",
                                    "alma": "90"
                                },
                                {
                                    "SZALLAS_ID": "7",
                                    "(No column name)": "28",
                                    "alma": "26"
                                },
                                {
                                    "SZALLAS_ID": "8",
                                    "(No column name)": "157",
                                    "alma": "29"
                                },
                                {
                                    "SZALLAS_ID": "6",
                                    "(No column name)": "150",
                                    "alma": "116"
                                },
                                {
                                    "SZALLAS_ID": "10",
                                    "(No column name)": "103",
                                    "alma": "67"
                                },
                                {
                                    "SZALLAS_ID": "11",
                                    "(No column name)": "3",
                                    "alma": "3"
                                },
                                {
                                    "SZALLAS_ID": "1",
                                    "(No column name)": "63",
                                    "alma": "61"
                                },
                                {
                                    "SZALLAS_ID": "7",
                                    "(No column name)": "28",
                                    "alma": "3"
                                },
                                {
                                    "SZALLAS_ID": "5",
                                    "(No column name)": "10",
                                    "alma": "3"
                                },
                                {
                                    "SZALLAS_ID": "11",
                                    "(No column name)": "23",
                                    "alma": "5"
                                },
                                {
                                    "SZALLAS_ID": "1",
                                    "(No column name)": "63",
                                    "alma": "44"
                                },
                                {
                                    "SZALLAS_ID": "4",
                                    "(No column name)": "61",
                                    "alma": "11"
                                },
                                {
                                    "SZALLAS_ID": "8",
                                    "(No column name)": "47",
                                    "alma": "7"
                                },
                                {
                                    "SZALLAS_ID": "10",
                                    "(No column name)": "103",
                                    "alma": "27"
                                },
                                {
                                    "SZALLAS_ID": "12",
                                    "(No column name)": "152",
                                    "alma": "138"
                                },
                                {
                                    "SZALLAS_ID": "8",
                                    "(No column name)": "157",
                                    "alma": "123"
                                },
                                {
                                    "SZALLAS_ID": "6",
                                    "(No column name)": "150",
                                    "alma": "1"
                                },
                                {
                                    "SZALLAS_ID": "1",
                                    "(No column name)": "63",
                                    "alma": "7"
                                },
                                {
                                    "SZALLAS_ID": "4",
                                    "(No column name)": "12",
                                    "alma": "8"
                                },
                                {
                                    "SZALLAS_ID": "12",
                                    "(No column name)": "152",
                                    "alma": "78"
                                },
                                {
                                    "SZALLAS_ID": "8",
                                    "(No column name)": "157",
                                    "alma": "60"
                                },
                                {
                                    "SZALLAS_ID": "6",
                                    "(No column name)": "150",
                                    "alma": "147"
                                },
                                {
                                    "SZALLAS_ID": "10",
                                    "(No column name)": "103",
                                    "alma": "36"
                                },
                                {
                                    "SZALLAS_ID": "10",
                                    "(No column name)": "103",
                                    "alma": "73"
                                },
                                {
                                    "SZALLAS_ID": "8",
                                    "(No column name)": "157",
                                    "alma": "12"
                                },
                                {
                                    "SZALLAS_ID": "6",
                                    "(No column name)": "150",
                                    "alma": "53"
                                },
                                {
                                    "SZALLAS_ID": "1",
                                    "(No column name)": "63",
                                    "alma": "53"
                                },
                                {
                                    "SZALLAS_ID": "3",
                                    "(No column name)": "35",
                                    "alma": "5"
                                },
                                {
                                    "SZALLAS_ID": "4",
                                    "(No column name)": "61",
                                    "alma": "97"
                                },
                                {
                                    "SZALLAS_ID": "12",
                                    "(No column name)": "152",
                                    "alma": "38"
                                },
                                {
                                    "SZALLAS_ID": "8",
                                    "(No column name)": "157",
                                    "alma": "112"
                                },
                                {
                                    "SZALLAS_ID": "6",
                                    "(No column name)": "150",
                                    "alma": "101"
                                },
                                {
                                    "SZALLAS_ID": "2",
                                    "(No column name)": "13",
                                    "alma": "10"
                                },
                                {
                                    "SZALLAS_ID": "12",
                                    "(No column name)": "27",
                                    "alma": "9"
                                },
                                {
                                    "SZALLAS_ID": "8",
                                    "(No column name)": "47",
                                    "alma": "18"
                                },
                                {
                                    "SZALLAS_ID": "6",
                                    "(No column name)": "150",
                                    "alma": "7"
                                },
                                {
                                    "SZALLAS_ID": "5",
                                    "(No column name)": "43",
                                    "alma": "92"
                                },
                                {
                                    "SZALLAS_ID": "12",
                                    "(No column name)": "152",
                                    "alma": "84"
                                },
                                {
                                    "SZALLAS_ID": "6",
                                    "(No column name)": "150",
                                    "alma": "104"
                                },
                                {
                                    "SZALLAS_ID": "3",
                                    "(No column name)": "35",
                                    "alma": "19"
                                },
                                {
                                    "SZALLAS_ID": "8",
                                    "(No column name)": "157",
                                    "alma": "92"
                                },
                                {
                                    "SZALLAS_ID": "6",
                                    "(No column name)": "150",
                                    "alma": "127"
                                },
                                {
                                    "SZALLAS_ID": "12",
                                    "(No column name)": "152",
                                    "alma": "118"
                                },
                                {
                                    "SZALLAS_ID": "9",
                                    "(No column name)": "24",
                                    "alma": "9"
                                },
                                {
                                    "SZALLAS_ID": "1",
                                    "(No column name)": "63",
                                    "alma": "27"
                                },
                                {
                                    "SZALLAS_ID": "12",
                                    "(No column name)": "152",
                                    "alma": "141"
                                },
                                {
                                    "SZALLAS_ID": "10",
                                    "(No column name)": "103",
                                    "alma": "10"
                                },
                                {
                                    "SZALLAS_ID": "8",
                                    "(No column name)": "157",
                                    "alma": "23"
                                },
                                {
                                    "SZALLAS_ID": "12",
                                    "(No column name)": "152",
                                    "alma": "92"
                                },
                                {
                                    "SZALLAS_ID": "2",
                                    "(No column name)": "5",
                                    "alma": "2"
                                },
                                {
                                    "SZALLAS_ID": "12",
                                    "(No column name)": "152",
                                    "alma": "147"
                                },
                                {
                                    "SZALLAS_ID": "4",
                                    "(No column name)": "12",
                                    "alma": "2"
                                },
                                {
                                    "SZALLAS_ID": "3",
                                    "(No column name)": "35",
                                    "alma": "25"
                                },
                                {
                                    "SZALLAS_ID": "8",
                                    "(No column name)": "157",
                                    "alma": "86"
                                },
                                {
                                    "SZALLAS_ID": "6",
                                    "(No column name)": "29",
                                    "alma": "26"
                                },
                                {
                                    "SZALLAS_ID": "8",
                                    "(No column name)": "47",
                                    "alma": "44"
                                },
                                {
                                    "SZALLAS_ID": "9",
                                    "(No column name)": "24",
                                    "alma": "3"
                                },
                                {
                                    "SZALLAS_ID": "9",
                                    "(No column name)": "24",
                                    "alma": "15"
                                },
                                {
                                    "SZALLAS_ID": "6",
                                    "(No column name)": "150",
                                    "alma": "27"
                                },
                                {
                                    "SZALLAS_ID": "10",
                                    "(No column name)": "20",
                                    "alma": "6"
                                },
                                {
                                    "SZALLAS_ID": "10",
                                    "(No column name)": "20",
                                    "alma": "18"
                                },
                                {
                                    "SZALLAS_ID": "1",
                                    "(No column name)": "63",
                                    "alma": "21"
                                },
                                {
                                    "SZALLAS_ID": "3",
                                    "(No column name)": "4",
                                    "alma": "1"
                                },
                                {
                                    "SZALLAS_ID": "4",
                                    "(No column name)": "61",
                                    "alma": "68"
                                },
                                {
                                    "SZALLAS_ID": "8",
                                    "(No column name)": "157",
                                    "alma": "49"
                                },
                                {
                                    "SZALLAS_ID": "8",
                                    "(No column name)": "157",
                                    "alma": "135"
                                },
                                {
                                    "SZALLAS_ID": "6",
                                    "(No column name)": "150",
                                    "alma": "84"
                                },
                                {
                                    "SZALLAS_ID": "10",
                                    "(No column name)": "103",
                                    "alma": "96"
                                },
                                {
                                    "SZALLAS_ID": "5",
                                    "(No column name)": "43",
                                    "alma": "12"
                                },
                                {
                                    "SZALLAS_ID": "7",
                                    "(No column name)": "28",
                                    "alma": "9"
                                },
                                {
                                    "SZALLAS_ID": "4",
                                    "(No column name)": "61",
                                    "alma": "31"
                                },
                                {
                                    "SZALLAS_ID": "11",
                                    "(No column name)": "23",
                                    "alma": "14"
                                },
                                {
                                    "SZALLAS_ID": "5",
                                    "(No column name)": "10",
                                    "alma": "17"
                                },
                                {
                                    "SZALLAS_ID": "12",
                                    "(No column name)": "152",
                                    "alma": "61"
                                },
                                {
                                    "SZALLAS_ID": "8",
                                    "(No column name)": "157",
                                    "alma": "43"
                                },
                                {
                                    "SZALLAS_ID": "10",
                                    "(No column name)": "103",
                                    "alma": "4"
                                },
                                {
                                    "SZALLAS_ID": "5",
                                    "(No column name)": "43",
                                    "alma": "18"
                                },
                                {
                                    "SZALLAS_ID": "8",
                                    "(No column name)": "47",
                                    "alma": "2"
                                },
                                {
                                    "SZALLAS_ID": "6",
                                    "(No column name)": "150",
                                    "alma": "115"
                                },
                                {
                                    "SZALLAS_ID": "8",
                                    "(No column name)": "157",
                                    "alma": "57"
                                },
                                {
                                    "SZALLAS_ID": "8",
                                    "(No column name)": "47",
                                    "alma": "25"
                                },
                                {
                                    "SZALLAS_ID": "6",
                                    "(No column name)": "150",
                                    "alma": "138"
                                },
                                {
                                    "SZALLAS_ID": "11",
                                    "(No column name)": "23",
                                    "alma": "10"
                                },
                                {
                                    "SZALLAS_ID": "7",
                                    "(No column name)": "28",
                                    "alma": "25"
                                },
                                {
                                    "SZALLAS_ID": "12",
                                    "(No column name)": "152",
                                    "alma": "129"
                                },
                                {
                                    "SZALLAS_ID": "8",
                                    "(No column name)": "157",
                                    "alma": "34"
                                },
                                {
                                    "SZALLAS_ID": "3",
                                    "(No column name)": "35",
                                    "alma": "33"
                                },
                                {
                                    "SZALLAS_ID": "12",
                                    "(No column name)": "152",
                                    "alma": "152"
                                },
                                {
                                    "SZALLAS_ID": "12",
                                    "(No column name)": "27",
                                    "alma": "16"
                                },
                                {
                                    "SZALLAS_ID": "3",
                                    "(No column name)": "35",
                                    "alma": "10"
                                },
                                {
                                    "SZALLAS_ID": "5",
                                    "(No column name)": "43",
                                    "alma": "26"
                                },
                                {
                                    "SZALLAS_ID": "1",
                                    "(No column name)": "63",
                                    "alma": "35"
                                },
                                {
                                    "SZALLAS_ID": "2",
                                    "(No column name)": "13",
                                    "alma": "3"
                                },
                                {
                                    "SZALLAS_ID": "5",
                                    "(No column name)": "43",
                                    "alma": "3"
                                },
                                {
                                    "SZALLAS_ID": "6",
                                    "(No column name)": "150",
                                    "alma": "46"
                                },
                                {
                                    "SZALLAS_ID": "6",
                                    "(No column name)": "29",
                                    "alma": "24"
                                },
                                {
                                    "SZALLAS_ID": "10",
                                    "(No column name)": "103",
                                    "alma": "95"
                                },
                                {
                                    "SZALLAS_ID": "6",
                                    "(No column name)": "150",
                                    "alma": "69"
                                },
                                {
                                    "SZALLAS_ID": "6",
                                    "(No column name)": "29",
                                    "alma": "1"
                                },
                                {
                                    "SZALLAS_ID": "8",
                                    "(No column name)": "157",
                                    "alma": "5"
                                },
                                {
                                    "SZALLAS_ID": "8",
                                    "(No column name)": "157",
                                    "alma": "128"
                                },
                                {
                                    "SZALLAS_ID": "10",
                                    "(No column name)": "103",
                                    "alma": "18"
                                },
                                {
                                    "SZALLAS_ID": "1",
                                    "(No column name)": "63",
                                    "alma": "12"
                                },
                                {
                                    "SZALLAS_ID": "4",
                                    "(No column name)": "12",
                                    "alma": "9"
                                },
                                {
                                    "SZALLAS_ID": "12",
                                    "(No column name)": "152",
                                    "alma": "77"
                                },
                                {
                                    "SZALLAS_ID": "8",
                                    "(No column name)": "157",
                                    "alma": "74"
                                },
                                {
                                    "SZALLAS_ID": "8",
                                    "(No column name)": "157",
                                    "alma": "157"
                                },
                                {
                                    "SZALLAS_ID": "8",
                                    "(No column name)": "47",
                                    "alma": "19"
                                },
                                {
                                    "SZALLAS_ID": "6",
                                    "(No column name)": "150",
                                    "alma": "15"
                                },
                                {
                                    "SZALLAS_ID": "4",
                                    "(No column name)": "61",
                                    "alma": "56"
                                },
                                {
                                    "SZALLAS_ID": "12",
                                    "(No column name)": "152",
                                    "alma": "43"
                                },
                                {
                                    "SZALLAS_ID": "7",
                                    "(No column name)": "6",
                                    "alma": "2"
                                },
                                {
                                    "SZALLAS_ID": "5",
                                    "(No column name)": "43",
                                    "alma": "49"
                                },
                                {
                                    "SZALLAS_ID": "6",
                                    "(No column name)": "150",
                                    "alma": "98"
                                },
                                {
                                    "SZALLAS_ID": "1",
                                    "(No column name)": "63",
                                    "alma": "6"
                                },
                                {
                                    "SZALLAS_ID": "3",
                                    "(No column name)": "35",
                                    "alma": "4"
                                },
                                {
                                    "SZALLAS_ID": "4",
                                    "(No column name)": "61",
                                    "alma": "96"
                                },
                                {
                                    "SZALLAS_ID": "4",
                                    "(No column name)": "61",
                                    "alma": "102"
                                },
                                {
                                    "SZALLAS_ID": "8",
                                    "(No column name)": "157",
                                    "alma": "65"
                                },
                                {
                                    "SZALLAS_ID": "10",
                                    "(No column name)": "103",
                                    "alma": "35"
                                },
                                {
                                    "SZALLAS_ID": "2",
                                    "(No column name)": "13",
                                    "alma": "9"
                                },
                                {
                                    "SZALLAS_ID": "6",
                                    "(No column name)": "150",
                                    "alma": "52"
                                },
                                {
                                    "SZALLAS_ID": "1",
                                    "(No column name)": "63",
                                    "alma": "52"
                                },
                                {
                                    "SZALLAS_ID": "4",
                                    "(No column name)": "61",
                                    "alma": "50"
                                },
                                {
                                    "SZALLAS_ID": "12",
                                    "(No column name)": "152",
                                    "alma": "37"
                                },
                                {
                                    "SZALLAS_ID": "10",
                                    "(No column name)": "103",
                                    "alma": "81"
                                },
                                {
                                    "SZALLAS_ID": "1",
                                    "(No column name)": "7",
                                    "alma": "5"
                                },
                                {
                                    "SZALLAS_ID": "12",
                                    "(No column name)": "27",
                                    "alma": "10"
                                },
                                {
                                    "SZALLAS_ID": "8",
                                    "(No column name)": "157",
                                    "alma": "17"
                                },
                                {
                                    "SZALLAS_ID": "6",
                                    "(No column name)": "150",
                                    "alma": "6"
                                },
                                {
                                    "SZALLAS_ID": "1",
                                    "(No column name)": "63",
                                    "alma": "49"
                                },
                                {
                                    "SZALLAS_ID": "4",
                                    "(No column name)": "61",
                                    "alma": "16"
                                },
                                {
                                    "SZALLAS_ID": "9",
                                    "(No column name)": "24",
                                    "alma": "8"
                                },
                                {
                                    "SZALLAS_ID": "10",
                                    "(No column name)": "103",
                                    "alma": "32"
                                },
                                {
                                    "SZALLAS_ID": "1",
                                    "(No column name)": "63",
                                    "alma": "26"
                                },
                                {
                                    "SZALLAS_ID": "10",
                                    "(No column name)": "103",
                                    "alma": "9"
                                },
                                {
                                    "SZALLAS_ID": "6",
                                    "(No column name)": "29",
                                    "alma": "7"
                                },
                                {
                                    "SZALLAS_ID": "10",
                                    "(No column name)": "20",
                                    "alma": "1"
                                },
                                {
                                    "SZALLAS_ID": "5",
                                    "(No column name)": "43",
                                    "alma": "86"
                                },
                                {
                                    "SZALLAS_ID": "12",
                                    "(No column name)": "152",
                                    "alma": "140"
                                },
                                {
                                    "SZALLAS_ID": "3",
                                    "(No column name)": "35",
                                    "alma": "16"
                                },
                                {
                                    "SZALLAS_ID": "5",
                                    "(No column name)": "10",
                                    "alma": "12"
                                },
                                {
                                    "SZALLAS_ID": "4",
                                    "(No column name)": "61",
                                    "alma": "36"
                                },
                                {
                                    "SZALLAS_ID": "12",
                                    "(No column name)": "152",
                                    "alma": "46"
                                },
                                {
                                    "SZALLAS_ID": "12",
                                    "(No column name)": "152",
                                    "alma": "123"
                                },
                                {
                                    "SZALLAS_ID": "12",
                                    "(No column name)": "152",
                                    "alma": "97"
                                },
                                {
                                    "SZALLAS_ID": "12",
                                    "(No column name)": "152",
                                    "alma": "146"
                                },
                                {
                                    "SZALLAS_ID": "6",
                                    "(No column name)": "29",
                                    "alma": "27"
                                },
                                {
                                    "SZALLAS_ID": "9",
                                    "(No column name)": "24",
                                    "alma": "14"
                                },
                                {
                                    "SZALLAS_ID": "6",
                                    "(No column name)": "150",
                                    "alma": "26"
                                },
                                {
                                    "SZALLAS_ID": "1",
                                    "(No column name)": "63",
                                    "alma": "32"
                                },
                                {
                                    "SZALLAS_ID": "2",
                                    "(No column name)": "5",
                                    "alma": "3"
                                },
                                {
                                    "SZALLAS_ID": "3",
                                    "(No column name)": "35",
                                    "alma": "24"
                                },
                                {
                                    "SZALLAS_ID": "6",
                                    "(No column name)": "150",
                                    "alma": "132"
                                },
                                {
                                    "SZALLAS_ID": "10",
                                    "(No column name)": "103",
                                    "alma": "15"
                                },
                                {
                                    "SZALLAS_ID": "5",
                                    "(No column name)": "43",
                                    "alma": "60"
                                },
                                {
                                    "SZALLAS_ID": "8",
                                    "(No column name)": "47",
                                    "alma": "45"
                                },
                                {
                                    "SZALLAS_ID": "7",
                                    "(No column name)": "28",
                                    "alma": "8"
                                },
                                {
                                    "SZALLAS_ID": "3",
                                    "(No column name)": "4",
                                    "alma": "2"
                                },
                                {
                                    "SZALLAS_ID": "12",
                                    "(No column name)": "152",
                                    "alma": "17"
                                },
                                {
                                    "SZALLAS_ID": "12",
                                    "(No column name)": "152",
                                    "alma": "103"
                                },
                                {
                                    "SZALLAS_ID": "8",
                                    "(No column name)": "157",
                                    "alma": "48"
                                },
                                {
                                    "SZALLAS_ID": "8",
                                    "(No column name)": "157",
                                    "alma": "134"
                                },
                                {
                                    "SZALLAS_ID": "4",
                                    "(No column name)": "61",
                                    "alma": "79"
                                },
                                {
                                    "SZALLAS_ID": "10",
                                    "(No column name)": "103",
                                    "alma": "52"
                                },
                                {
                                    "SZALLAS_ID": "10",
                                    "(No column name)": "103",
                                    "alma": "58"
                                },
                                {
                                    "SZALLAS_ID": "10",
                                    "(No column name)": "103",
                                    "alma": "101"
                                },
                                {
                                    "SZALLAS_ID": "12",
                                    "(No column name)": "152",
                                    "alma": "109"
                                },
                                {
                                    "SZALLAS_ID": "8",
                                    "(No column name)": "157",
                                    "alma": "91"
                                },
                                {
                                    "SZALLAS_ID": "8",
                                    "(No column name)": "157",
                                    "alma": "140"
                                },
                                {
                                    "SZALLAS_ID": "6",
                                    "(No column name)": "29",
                                    "alma": "15"
                                },
                                {
                                    "SZALLAS_ID": "11",
                                    "(No column name)": "23",
                                    "alma": "19"
                                },
                                {
                                    "SZALLAS_ID": "3",
                                    "(No column name)": "35",
                                    "alma": "7"
                                },
                                {
                                    "SZALLAS_ID": "5",
                                    "(No column name)": "43",
                                    "alma": "29"
                                },
                                {
                                    "SZALLAS_ID": "4",
                                    "(No column name)": "61",
                                    "alma": "99"
                                },
                                {
                                    "SZALLAS_ID": "9",
                                    "(No column name)": "24",
                                    "alma": "20"
                                },
                                {
                                    "SZALLAS_ID": "3",
                                    "(No column name)": "35",
                                    "alma": "30"
                                },
                                {
                                    "SZALLAS_ID": "5",
                                    "(No column name)": "43",
                                    "alma": "77"
                                },
                                {
                                    "SZALLAS_ID": "8",
                                    "(No column name)": "157",
                                    "alma": "8"
                                },
                                {
                                    "SZALLAS_ID": "10",
                                    "(No column name)": "103",
                                    "alma": "21"
                                },
                                {
                                    "SZALLAS_ID": "1",
                                    "(No column name)": "63",
                                    "alma": "15"
                                },
                                {
                                    "SZALLAS_ID": "1",
                                    "(No column name)": "7",
                                    "alma": "2"
                                },
                                {
                                    "SZALLAS_ID": "2",
                                    "(No column name)": "13",
                                    "alma": "6"
                                },
                                {
                                    "SZALLAS_ID": "6",
                                    "(No column name)": "29",
                                    "alma": "21"
                                },
                                {
                                    "SZALLAS_ID": "11",
                                    "(No column name)": "23",
                                    "alma": "13"
                                },
                                {
                                    "SZALLAS_ID": "8",
                                    "(No column name)": "157",
                                    "alma": "77"
                                },
                                {
                                    "SZALLAS_ID": "8",
                                    "(No column name)": "157",
                                    "alma": "148"
                                },
                                {
                                    "SZALLAS_ID": "8",
                                    "(No column name)": "157",
                                    "alma": "154"
                                },
                                {
                                    "SZALLAS_ID": "8",
                                    "(No column name)": "47",
                                    "alma": "5"
                                },
                                {
                                    "SZALLAS_ID": "6",
                                    "(No column name)": "150",
                                    "alma": "112"
                                },
                                {
                                    "SZALLAS_ID": "6",
                                    "(No column name)": "150",
                                    "alma": "118"
                                },
                                {
                                    "SZALLAS_ID": "8",
                                    "(No column name)": "157",
                                    "alma": "100"
                                },
                                {
                                    "SZALLAS_ID": "8",
                                    "(No column name)": "157",
                                    "alma": "131"
                                },
                                {
                                    "SZALLAS_ID": "6",
                                    "(No column name)": "150",
                                    "alma": "95"
                                },
                                {
                                    "SZALLAS_ID": "6",
                                    "(No column name)": "150",
                                    "alma": "66"
                                },
                                {
                                    "SZALLAS_ID": "10",
                                    "(No column name)": "103",
                                    "alma": "69"
                                },
                                {
                                    "SZALLAS_ID": "11",
                                    "(No column name)": "3",
                                    "alma": "1"
                                },
                                {
                                    "SZALLAS_ID": "7",
                                    "(No column name)": "28",
                                    "alma": "5"
                                },
                                {
                                    "SZALLAS_ID": "5",
                                    "(No column name)": "43",
                                    "alma": "6"
                                },
                                {
                                    "SZALLAS_ID": "8",
                                    "(No column name)": "157",
                                    "alma": "54"
                                },
                                {
                                    "SZALLAS_ID": "6",
                                    "(No column name)": "150",
                                    "alma": "141"
                                },
                                {
                                    "SZALLAS_ID": "10",
                                    "(No column name)": "103",
                                    "alma": "92"
                                },
                                {
                                    "SZALLAS_ID": "7",
                                    "(No column name)": "28",
                                    "alma": "28"
                                },
                                {
                                    "SZALLAS_ID": "3",
                                    "(No column name)": "35",
                                    "alma": "13"
                                },
                                {
                                    "SZALLAS_ID": "10",
                                    "(No column name)": "103",
                                    "alma": "38"
                                },
                                {
                                    "SZALLAS_ID": "5",
                                    "(No column name)": "43",
                                    "alma": "83"
                                },
                                {
                                    "SZALLAS_ID": "8",
                                    "(No column name)": "157",
                                    "alma": "14"
                                },
                                {
                                    "SZALLAS_ID": "6",
                                    "(No column name)": "150",
                                    "alma": "3"
                                },
                                {
                                    "SZALLAS_ID": "1",
                                    "(No column name)": "63",
                                    "alma": "9"
                                },
                                {
                                    "SZALLAS_ID": "4",
                                    "(No column name)": "61",
                                    "alma": "47"
                                },
                                {
                                    "SZALLAS_ID": "12",
                                    "(No column name)": "152",
                                    "alma": "40"
                                },
                                {
                                    "SZALLAS_ID": "8",
                                    "(No column name)": "157",
                                    "alma": "25"
                                },
                                {
                                    "SZALLAS_ID": "8",
                                    "(No column name)": "157",
                                    "alma": "108"
                                },
                                {
                                    "SZALLAS_ID": "9",
                                    "(No column name)": "5",
                                    "alma": "3"
                                },
                                {
                                    "SZALLAS_ID": "10",
                                    "(No column name)": "103",
                                    "alma": "75"
                                },
                                {
                                    "SZALLAS_ID": "4",
                                    "(No column name)": "12",
                                    "alma": "20"
                                },
                                {
                                    "SZALLAS_ID": "8",
                                    "(No column name)": "47",
                                    "alma": "22"
                                },
                                {
                                    "SZALLAS_ID": "6",
                                    "(No column name)": "150",
                                    "alma": "49"
                                },
                                {
                                    "SZALLAS_ID": "1",
                                    "(No column name)": "63",
                                    "alma": "55"
                                },
                                {
                                    "SZALLAS_ID": "12",
                                    "(No column name)": "152",
                                    "alma": "80"
                                },
                                {
                                    "SZALLAS_ID": "12",
                                    "(No column name)": "152",
                                    "alma": "86"
                                },
                                {
                                    "SZALLAS_ID": "8",
                                    "(No column name)": "157",
                                    "alma": "71"
                                },
                                {
                                    "SZALLAS_ID": "6",
                                    "(No column name)": "150",
                                    "alma": "106"
                                },
                                {
                                    "SZALLAS_ID": "10",
                                    "(No column name)": "103",
                                    "alma": "29"
                                },
                                {
                                    "SZALLAS_ID": "12",
                                    "(No column name)": "27",
                                    "alma": "7"
                                },
                                {
                                    "SZALLAS_ID": "12",
                                    "(No column name)": "27",
                                    "alma": "13"
                                },
                                {
                                    "SZALLAS_ID": "6",
                                    "(No column name)": "150",
                                    "alma": "58"
                                },
                                {
                                    "SZALLAS_ID": "1",
                                    "(No column name)": "63",
                                    "alma": "46"
                                },
                                {
                                    "SZALLAS_ID": "12",
                                    "(No column name)": "152",
                                    "alma": "132"
                                },
                                {
                                    "SZALLAS_ID": "8",
                                    "(No column name)": "157",
                                    "alma": "114"
                                },
                                {
                                    "SZALLAS_ID": "8",
                                    "(No column name)": "157",
                                    "alma": "117"
                                },
                                {
                                    "SZALLAS_ID": "7",
                                    "(No column name)": "6",
                                    "alma": "5"
                                },
                                {
                                    "SZALLAS_ID": "2",
                                    "(No column name)": "13",
                                    "alma": "12"
                                },
                                {
                                    "SZALLAS_ID": "8",
                                    "(No column name)": "47",
                                    "alma": "16"
                                },
                                {
                                    "SZALLAS_ID": "8",
                                    "(No column name)": "157",
                                    "alma": "68"
                                },
                                {
                                    "SZALLAS_ID": "5",
                                    "(No column name)": "43",
                                    "alma": "40"
                                },
                                {
                                    "SZALLAS_ID": "5",
                                    "(No column name)": "43",
                                    "alma": "89"
                                },
                                {
                                    "SZALLAS_ID": "12",
                                    "(No column name)": "152",
                                    "alma": "143"
                                },
                                {
                                    "SZALLAS_ID": "6",
                                    "(No column name)": "150",
                                    "alma": "9"
                                },
                                {
                                    "SZALLAS_ID": "11",
                                    "(No column name)": "23",
                                    "alma": "22"
                                },
                                {
                                    "SZALLAS_ID": "1",
                                    "(No column name)": "63",
                                    "alma": "3"
                                },
                                {
                                    "SZALLAS_ID": "12",
                                    "(No column name)": "27",
                                    "alma": "27"
                                },
                                {
                                    "SZALLAS_ID": "8",
                                    "(No column name)": "47",
                                    "alma": "36"
                                },
                                {
                                    "SZALLAS_ID": "6",
                                    "(No column name)": "150",
                                    "alma": "149"
                                },
                                {
                                    "SZALLAS_ID": "7",
                                    "(No column name)": "28",
                                    "alma": "11"
                                },
                                {
                                    "SZALLAS_ID": "12",
                                    "(No column name)": "27",
                                    "alma": "4"
                                },
                                {
                                    "SZALLAS_ID": "4",
                                    "(No column name)": "61",
                                    "alma": "90"
                                },
                                {
                                    "SZALLAS_ID": "11",
                                    "(No column name)": "23",
                                    "alma": "2"
                                },
                                {
                                    "SZALLAS_ID": "12",
                                    "(No column name)": "152",
                                    "alma": "20"
                                },
                                {
                                    "SZALLAS_ID": "12",
                                    "(No column name)": "152",
                                    "alma": "120"
                                },
                                {
                                    "SZALLAS_ID": "6",
                                    "(No column name)": "29",
                                    "alma": "4"
                                },
                                {
                                    "SZALLAS_ID": "4",
                                    "(No column name)": "61",
                                    "alma": "39"
                                },
                                {
                                    "SZALLAS_ID": "5",
                                    "(No column name)": "10",
                                    "alma": "15"
                                },
                                {
                                    "SZALLAS_ID": "12",
                                    "(No column name)": "152",
                                    "alma": "6"
                                },
                                {
                                    "SZALLAS_ID": "6",
                                    "(No column name)": "150",
                                    "alma": "121"
                                },
                                {
                                    "SZALLAS_ID": "12",
                                    "(No column name)": "152",
                                    "alma": "100"
                                },
                                {
                                    "SZALLAS_ID": "12",
                                    "(No column name)": "152",
                                    "alma": "112"
                                },
                                {
                                    "SZALLAS_ID": "12",
                                    "(No column name)": "152",
                                    "alma": "149"
                                },
                                {
                                    "SZALLAS_ID": "8",
                                    "(No column name)": "157",
                                    "alma": "2"
                                },
                                {
                                    "SZALLAS_ID": "8",
                                    "(No column name)": "157",
                                    "alma": "51"
                                },
                                {
                                    "SZALLAS_ID": "11",
                                    "(No column name)": "23",
                                    "alma": "16"
                                },
                                {
                                    "SZALLAS_ID": "6",
                                    "(No column name)": "150",
                                    "alma": "72"
                                },
                                {
                                    "SZALLAS_ID": "10",
                                    "(No column name)": "20",
                                    "alma": "4"
                                },
                                {
                                    "SZALLAS_ID": "4",
                                    "(No column name)": "61",
                                    "alma": "33"
                                },
                                {
                                    "SZALLAS_ID": "6",
                                    "(No column name)": "150",
                                    "alma": "86"
                                },
                                {
                                    "SZALLAS_ID": "6",
                                    "(No column name)": "150",
                                    "alma": "135"
                                },
                                {
                                    "SZALLAS_ID": "10",
                                    "(No column name)": "103",
                                    "alma": "12"
                                },
                                {
                                    "SZALLAS_ID": "10",
                                    "(No column name)": "103",
                                    "alma": "49"
                                },
                                {
                                    "SZALLAS_ID": "10",
                                    "(No column name)": "103",
                                    "alma": "61"
                                },
                                {
                                    "SZALLAS_ID": "10",
                                    "(No column name)": "103",
                                    "alma": "98"
                                },
                                {
                                    "SZALLAS_ID": "5",
                                    "(No column name)": "43",
                                    "alma": "14"
                                },
                                {
                                    "SZALLAS_ID": "9",
                                    "(No column name)": "24",
                                    "alma": "11"
                                },
                                {
                                    "SZALLAS_ID": "9",
                                    "(No column name)": "24",
                                    "alma": "17"
                                },
                                {
                                    "SZALLAS_ID": "6",
                                    "(No column name)": "150",
                                    "alma": "29"
                                },
                                {
                                    "SZALLAS_ID": "6",
                                    "(No column name)": "150",
                                    "alma": "35"
                                },
                                {
                                    "SZALLAS_ID": "12",
                                    "(No column name)": "152",
                                    "alma": "57"
                                },
                                {
                                    "SZALLAS_ID": "12",
                                    "(No column name)": "152",
                                    "alma": "63"
                                },
                                {
                                    "SZALLAS_ID": "8",
                                    "(No column name)": "157",
                                    "alma": "88"
                                },
                                {
                                    "SZALLAS_ID": "8",
                                    "(No column name)": "157",
                                    "alma": "94"
                                },
                                {
                                    "SZALLAS_ID": "6",
                                    "(No column name)": "29",
                                    "alma": "18"
                                },
                                {
                                    "SZALLAS_ID": "5",
                                    "(No column name)": "43",
                                    "alma": "69"
                                },
                                {
                                    "SZALLAS_ID": "8",
                                    "(No column name)": "47",
                                    "alma": "42"
                                },
                                {
                                    "SZALLAS_ID": "6",
                                    "(No column name)": "150",
                                    "alma": "78"
                                },
                                {
                                    "SZALLAS_ID": "10",
                                    "(No column name)": "20",
                                    "alma": "10"
                                },
                                {
                                    "SZALLAS_ID": "7",
                                    "(No column name)": "28",
                                    "alma": "17"
                                },
                                {
                                    "SZALLAS_ID": "3",
                                    "(No column name)": "35",
                                    "alma": "27"
                                },
                                {
                                    "SZALLAS_ID": "6",
                                    "(No column name)": "150",
                                    "alma": "129"
                                },
                                {
                                    "SZALLAS_ID": "10",
                                    "(No column name)": "103",
                                    "alma": "55"
                                },
                                {
                                    "SZALLAS_ID": "4",
                                    "(No column name)": "61",
                                    "alma": "52"
                                },
                                {
                                    "SZALLAS_ID": "4",
                                    "(No column name)": "12",
                                    "alma": "15"
                                },
                                {
                                    "SZALLAS_ID": "12",
                                    "(No column name)": "152",
                                    "alma": "131"
                                },
                                {
                                    "SZALLAS_ID": "4",
                                    "(No column name)": "61",
                                    "alma": "4"
                                },
                                {
                                    "SZALLAS_ID": "8",
                                    "(No column name)": "157",
                                    "alma": "105"
                                },
                                {
                                    "SZALLAS_ID": "10",
                                    "(No column name)": "103",
                                    "alma": "20"
                                },
                                {
                                    "SZALLAS_ID": "1",
                                    "(No column name)": "7",
                                    "alma": "3"
                                },
                                {
                                    "SZALLAS_ID": "9",
                                    "(No column name)": "24",
                                    "alma": "19"
                                },
                                {
                                    "SZALLAS_ID": "6",
                                    "(No column name)": "29",
                                    "alma": "22"
                                },
                                {
                                    "SZALLAS_ID": "5",
                                    "(No column name)": "43",
                                    "alma": "74"
                                },
                                {
                                    "SZALLAS_ID": "8",
                                    "(No column name)": "157",
                                    "alma": "30"
                                },
                                {
                                    "SZALLAS_ID": "10",
                                    "(No column name)": "103",
                                    "alma": "89"
                                },
                                {
                                    "SZALLAS_ID": "3",
                                    "(No column name)": "35",
                                    "alma": "35"
                                },
                                {
                                    "SZALLAS_ID": "5",
                                    "(No column name)": "43",
                                    "alma": "51"
                                },
                                {
                                    "SZALLAS_ID": "6",
                                    "(No column name)": "150",
                                    "alma": "94"
                                },
                                {
                                    "SZALLAS_ID": "3",
                                    "(No column name)": "35",
                                    "alma": "12"
                                },
                                {
                                    "SZALLAS_ID": "5",
                                    "(No column name)": "43",
                                    "alma": "28"
                                },
                                {
                                    "SZALLAS_ID": "8",
                                    "(No column name)": "157",
                                    "alma": "76"
                                },
                                {
                                    "SZALLAS_ID": "8",
                                    "(No column name)": "157",
                                    "alma": "153"
                                },
                                {
                                    "SZALLAS_ID": "6",
                                    "(No column name)": "150",
                                    "alma": "40"
                                },
                                {
                                    "SZALLAS_ID": "10",
                                    "(No column name)": "103",
                                    "alma": "43"
                                },
                                {
                                    "SZALLAS_ID": "1",
                                    "(No column name)": "63",
                                    "alma": "37"
                                },
                                {
                                    "SZALLAS_ID": "12",
                                    "(No column name)": "27",
                                    "alma": "22"
                                },
                                {
                                    "SZALLAS_ID": "8",
                                    "(No column name)": "157",
                                    "alma": "53"
                                },
                                {
                                    "SZALLAS_ID": "6",
                                    "(No column name)": "150",
                                    "alma": "17"
                                },
                                {
                                    "SZALLAS_ID": "6",
                                    "(No column name)": "150",
                                    "alma": "140"
                                },
                                {
                                    "SZALLAS_ID": "10",
                                    "(No column name)": "103",
                                    "alma": "66"
                                },
                                {
                                    "SZALLAS_ID": "11",
                                    "(No column name)": "3",
                                    "alma": "2"
                                },
                                {
                                    "SZALLAS_ID": "1",
                                    "(No column name)": "63",
                                    "alma": "60"
                                },
                                {
                                    "SZALLAS_ID": "7",
                                    "(No column name)": "28",
                                    "alma": "2"
                                },
                                {
                                    "SZALLAS_ID": "4",
                                    "(No column name)": "12",
                                    "alma": "21"
                                },
                                {
                                    "SZALLAS_ID": "12",
                                    "(No column name)": "152",
                                    "alma": "125"
                                },
                                {
                                    "SZALLAS_ID": "12",
                                    "(No column name)": "152",
                                    "alma": "137"
                                },
                                {
                                    "SZALLAS_ID": "8",
                                    "(No column name)": "157",
                                    "alma": "122"
                                },
                                {
                                    "SZALLAS_ID": "8",
                                    "(No column name)": "47",
                                    "alma": "8"
                                },
                                {
                                    "SZALLAS_ID": "10",
                                    "(No column name)": "103",
                                    "alma": "74"
                                },
                                {
                                    "SZALLAS_ID": "5",
                                    "(No column name)": "43",
                                    "alma": "82"
                                },
                                {
                                    "SZALLAS_ID": "6",
                                    "(No column name)": "150",
                                    "alma": "63"
                                },
                                {
                                    "SZALLAS_ID": "10",
                                    "(No column name)": "103",
                                    "alma": "26"
                                },
                                {
                                    "SZALLAS_ID": "1",
                                    "(No column name)": "63",
                                    "alma": "8"
                                },
                                {
                                    "SZALLAS_ID": "5",
                                    "(No column name)": "43",
                                    "alma": "34"
                                },
                                {
                                    "SZALLAS_ID": "4",
                                    "(No column name)": "61",
                                    "alma": "104"
                                },
                                {
                                    "SZALLAS_ID": "12",
                                    "(No column name)": "152",
                                    "alma": "91"
                                },
                                {
                                    "SZALLAS_ID": "6",
                                    "(No column name)": "150",
                                    "alma": "111"
                                },
                                {
                                    "SZALLAS_ID": "10",
                                    "(No column name)": "103",
                                    "alma": "37"
                                },
                                {
                                    "SZALLAS_ID": "1",
                                    "(No column name)": "63",
                                    "alma": "43"
                                },
                                {
                                    "SZALLAS_ID": "4",
                                    "(No column name)": "61",
                                    "alma": "44"
                                },
                                {
                                    "SZALLAS_ID": "9",
                                    "(No column name)": "5",
                                    "alma": "4"
                                },
                                {
                                    "SZALLAS_ID": "6",
                                    "(No column name)": "150",
                                    "alma": "146"
                                },
                                {
                                    "SZALLAS_ID": "1",
                                    "(No column name)": "63",
                                    "alma": "54"
                                },
                                {
                                    "SZALLAS_ID": "12",
                                    "(No column name)": "27",
                                    "alma": "8"
                                },
                                {
                                    "SZALLAS_ID": "12",
                                    "(No column name)": "27",
                                    "alma": "14"
                                },
                                {
                                    "SZALLAS_ID": "8",
                                    "(No column name)": "47",
                                    "alma": "17"
                                },
                                {
                                    "SZALLAS_ID": "10",
                                    "(No column name)": "103",
                                    "alma": "83"
                                },
                                {
                                    "SZALLAS_ID": "8",
                                    "(No column name)": "157",
                                    "alma": "13"
                                },
                                {
                                    "SZALLAS_ID": "8",
                                    "(No column name)": "157",
                                    "alma": "19"
                                },
                                {
                                    "SZALLAS_ID": "6",
                                    "(No column name)": "150",
                                    "alma": "100"
                                },
                                {
                                    "SZALLAS_ID": "4",
                                    "(No column name)": "61",
                                    "alma": "98"
                                },
                                {
                                    "SZALLAS_ID": "12",
                                    "(No column name)": "152",
                                    "alma": "85"
                                },
                                {
                                    "SZALLAS_ID": "2",
                                    "(No column name)": "13",
                                    "alma": "11"
                                },
                                {
                                    "SZALLAS_ID": "6",
                                    "(No column name)": "150",
                                    "alma": "54"
                                },
                                {
                                    "SZALLAS_ID": "7",
                                    "(No column name)": "6",
                                    "alma": "6"
                                },
                                {
                                    "SZALLAS_ID": "12",
                                    "(No column name)": "152",
                                    "alma": "48"
                                },
                                {
                                    "SZALLAS_ID": "12",
                                    "(No column name)": "27",
                                    "alma": "5"
                                },
                                {
                                    "SZALLAS_ID": "8",
                                    "(No column name)": "47",
                                    "alma": "14"
                                },
                                {
                                    "SZALLAS_ID": "5",
                                    "(No column name)": "43",
                                    "alma": "88"
                                },
                                {
                                    "SZALLAS_ID": "12",
                                    "(No column name)": "152",
                                    "alma": "25"
                                },
                                {
                                    "SZALLAS_ID": "8",
                                    "(No column name)": "157",
                                    "alma": "93"
                                },
                                {
                                    "SZALLAS_ID": "6",
                                    "(No column name)": "150",
                                    "alma": "8"
                                },
                                {
                                    "SZALLAS_ID": "1",
                                    "(No column name)": "63",
                                    "alma": "51"
                                },
                                {
                                    "SZALLAS_ID": "3",
                                    "(No column name)": "35",
                                    "alma": "18"
                                },
                                {
                                    "SZALLAS_ID": "10",
                                    "(No column name)": "103",
                                    "alma": "34"
                                },
                                {
                                    "SZALLAS_ID": "11",
                                    "(No column name)": "23",
                                    "alma": "1"
                                },
                                {
                                    "SZALLAS_ID": "1",
                                    "(No column name)": "63",
                                    "alma": "28"
                                },
                                {
                                    "SZALLAS_ID": "8",
                                    "(No column name)": "157",
                                    "alma": "22"
                                },
                                {
                                    "SZALLAS_ID": "4",
                                    "(No column name)": "61",
                                    "alma": "61"
                                },
                                {
                                    "SZALLAS_ID": "12",
                                    "(No column name)": "152",
                                    "alma": "74"
                                },
                                {
                                    "SZALLAS_ID": "12",
                                    "(No column name)": "152",
                                    "alma": "117"
                                },
                                {
                                    "SZALLAS_ID": "10",
                                    "(No column name)": "20",
                                    "alma": "19"
                                },
                                {
                                    "SZALLAS_ID": "4",
                                    "(No column name)": "61",
                                    "alma": "87"
                                },
                                {
                                    "SZALLAS_ID": "4",
                                    "(No column name)": "12",
                                    "alma": "1"
                                },
                                {
                                    "SZALLAS_ID": "12",
                                    "(No column name)": "152",
                                    "alma": "54"
                                },
                                {
                                    "SZALLAS_ID": "10",
                                    "(No column name)": "103",
                                    "alma": "3"
                                },
                                {
                                    "SZALLAS_ID": "5",
                                    "(No column name)": "10",
                                    "alma": "16"
                                },
                                {
                                    "SZALLAS_ID": "12",
                                    "(No column name)": "152",
                                    "alma": "148"
                                },
                                {
                                    "SZALLAS_ID": "8",
                                    "(No column name)": "157",
                                    "alma": "50"
                                },
                                {
                                    "SZALLAS_ID": "8",
                                    "(No column name)": "157",
                                    "alma": "99"
                                },
                                {
                                    "SZALLAS_ID": "8",
                                    "(No column name)": "47",
                                    "alma": "31"
                                },
                                {
                                    "SZALLAS_ID": "9",
                                    "(No column name)": "24",
                                    "alma": "2"
                                },
                                {
                                    "SZALLAS_ID": "10",
                                    "(No column name)": "20",
                                    "alma": "5"
                                },
                                {
                                    "SZALLAS_ID": "1",
                                    "(No column name)": "63",
                                    "alma": "20"
                                },
                                {
                                    "SZALLAS_ID": "12",
                                    "(No column name)": "152",
                                    "alma": "5"
                                },
                                {
                                    "SZALLAS_ID": "8",
                                    "(No column name)": "157",
                                    "alma": "85"
                                },
                                {
                                    "SZALLAS_ID": "9",
                                    "(No column name)": "24",
                                    "alma": "16"
                                },
                                {
                                    "SZALLAS_ID": "6",
                                    "(No column name)": "150",
                                    "alma": "120"
                                },
                                {
                                    "SZALLAS_ID": "4",
                                    "(No column name)": "61",
                                    "alma": "32"
                                },
                                {
                                    "SZALLAS_ID": "4",
                                    "(No column name)": "61",
                                    "alma": "81"
                                },
                                {
                                    "SZALLAS_ID": "6",
                                    "(No column name)": "150",
                                    "alma": "134"
                                },
                                {
                                    "SZALLAS_ID": "10",
                                    "(No column name)": "103",
                                    "alma": "60"
                                },
                                {
                                    "SZALLAS_ID": "10",
                                    "(No column name)": "103",
                                    "alma": "97"
                                },
                                {
                                    "SZALLAS_ID": "5",
                                    "(No column name)": "43",
                                    "alma": "62"
                                },
                                {
                                    "SZALLAS_ID": "8",
                                    "(No column name)": "157",
                                    "alma": "36"
                                },
                                {
                                    "SZALLAS_ID": "8",
                                    "(No column name)": "157",
                                    "alma": "42"
                                },
                                {
                                    "SZALLAS_ID": "6",
                                    "(No column name)": "150",
                                    "alma": "77"
                                },
                                {
                                    "SZALLAS_ID": "6",
                                    "(No column name)": "150",
                                    "alma": "83"
                                },
                                {
                                    "SZALLAS_ID": "7",
                                    "(No column name)": "28",
                                    "alma": "10"
                                },
                                {
                                    "SZALLAS_ID": "7",
                                    "(No column name)": "28",
                                    "alma": "16"
                                },
                                {
                                    "SZALLAS_ID": "8",
                                    "(No column name)": "157",
                                    "alma": "136"
                                },
                                {
                                    "SZALLAS_ID": "8",
                                    "(No column name)": "157",
                                    "alma": "142"
                                },
                                {
                                    "SZALLAS_ID": "11",
                                    "(No column name)": "23",
                                    "alma": "15"
                                },
                                {
                                    "SZALLAS_ID": "11",
                                    "(No column name)": "23",
                                    "alma": "21"
                                },
                                {
                                    "SZALLAS_ID": "12",
                                    "(No column name)": "152",
                                    "alma": "11"
                                },
                                {
                                    "SZALLAS_ID": "6",
                                    "(No column name)": "150",
                                    "alma": "126"
                                },
                                {
                                    "SZALLAS_ID": "10",
                                    "(No column name)": "103",
                                    "alma": "54"
                                },
                                {
                                    "SZALLAS_ID": "10",
                                    "(No column name)": "103",
                                    "alma": "103"
                                },
                                {
                                    "SZALLAS_ID": "8",
                                    "(No column name)": "157",
                                    "alma": "56"
                                },
                                {
                                    "SZALLAS_ID": "6",
                                    "(No column name)": "150",
                                    "alma": "20"
                                },
                                {
                                    "SZALLAS_ID": "1",
                                    "(No column name)": "63",
                                    "alma": "63"
                                },
                                {
                                    "SZALLAS_ID": "6",
                                    "(No column name)": "29",
                                    "alma": "19"
                                },
                                {
                                    "SZALLAS_ID": "1",
                                    "(No column name)": "63",
                                    "alma": "40"
                                },
                                {
                                    "SZALLAS_ID": "3",
                                    "(No column name)": "35",
                                    "alma": "32"
                                },
                                {
                                    "SZALLAS_ID": "8",
                                    "(No column name)": "157",
                                    "alma": "10"
                                },
                                {
                                    "SZALLAS_ID": "10",
                                    "(No column name)": "103",
                                    "alma": "23"
                                },
                                {
                                    "SZALLAS_ID": "1",
                                    "(No column name)": "63",
                                    "alma": "17"
                                },
                                {
                                    "SZALLAS_ID": "8",
                                    "(No column name)": "157",
                                    "alma": "125"
                                },
                                {
                                    "SZALLAS_ID": "6",
                                    "(No column name)": "150",
                                    "alma": "137"
                                },
                                {
                                    "SZALLAS_ID": "6",
                                    "(No column name)": "150",
                                    "alma": "143"
                                },
                                {
                                    "SZALLAS_ID": "8",
                                    "(No column name)": "157",
                                    "alma": "79"
                                },
                                {
                                    "SZALLAS_ID": "6",
                                    "(No column name)": "150",
                                    "alma": "43"
                                },
                                {
                                    "SZALLAS_ID": "6",
                                    "(No column name)": "150",
                                    "alma": "114"
                                },
                                {
                                    "SZALLAS_ID": "10",
                                    "(No column name)": "103",
                                    "alma": "40"
                                },
                                {
                                    "SZALLAS_ID": "11",
                                    "(No column name)": "23",
                                    "alma": "7"
                                },
                                {
                                    "SZALLAS_ID": "1",
                                    "(No column name)": "63",
                                    "alma": "34"
                                },
                                {
                                    "SZALLAS_ID": "8",
                                    "(No column name)": "47",
                                    "alma": "28"
                                },
                                {
                                    "SZALLAS_ID": "6",
                                    "(No column name)": "150",
                                    "alma": "91"
                                },
                                {
                                    "SZALLAS_ID": "6",
                                    "(No column name)": "29",
                                    "alma": "2"
                                },
                                {
                                    "SZALLAS_ID": "10",
                                    "(No column name)": "103",
                                    "alma": "17"
                                },
                                {
                                    "SZALLAS_ID": "1",
                                    "(No column name)": "63",
                                    "alma": "11"
                                },
                                {
                                    "SZALLAS_ID": "5",
                                    "(No column name)": "43",
                                    "alma": "94"
                                },
                                {
                                    "SZALLAS_ID": "9",
                                    "(No column name)": "5",
                                    "alma": "1"
                                },
                                {
                                    "SZALLAS_ID": "6",
                                    "(No column name)": "150",
                                    "alma": "14"
                                },
                                {
                                    "SZALLAS_ID": "6",
                                    "(No column name)": "150",
                                    "alma": "51"
                                },
                                {
                                    "SZALLAS_ID": "1",
                                    "(No column name)": "63",
                                    "alma": "57"
                                },
                                {
                                    "SZALLAS_ID": "7",
                                    "(No column name)": "6",
                                    "alma": "3"
                                },
                                {
                                    "SZALLAS_ID": "4",
                                    "(No column name)": "61",
                                    "alma": "95"
                                },
                                {
                                    "SZALLAS_ID": "12",
                                    "(No column name)": "152",
                                    "alma": "88"
                                },
                                {
                                    "SZALLAS_ID": "8",
                                    "(No column name)": "157",
                                    "alma": "73"
                                },
                                {
                                    "SZALLAS_ID": "8",
                                    "(No column name)": "157",
                                    "alma": "156"
                                },
                                {
                                    "SZALLAS_ID": "6",
                                    "(No column name)": "150",
                                    "alma": "60"
                                },
                                {
                                    "SZALLAS_ID": "6",
                                    "(No column name)": "150",
                                    "alma": "97"
                                },
                                {
                                    "SZALLAS_ID": "12",
                                    "(No column name)": "152",
                                    "alma": "128"
                                },
                                {
                                    "SZALLAS_ID": "12",
                                    "(No column name)": "152",
                                    "alma": "134"
                                },
                                {
                                    "SZALLAS_ID": "8",
                                    "(No column name)": "157",
                                    "alma": "119"
                                },
                                {
                                    "SZALLAS_ID": "8",
                                    "(No column name)": "47",
                                    "alma": "11"
                                },
                                {
                                    "SZALLAS_ID": "2",
                                    "(No column name)": "13",
                                    "alma": "8"
                                },
                                {
                                    "SZALLAS_ID": "4",
                                    "(No column name)": "61",
                                    "alma": "101"
                                },
                                {
                                    "SZALLAS_ID": "3",
                                    "(No column name)": "35",
                                    "alma": "1"
                                },
                                {
                                    "SZALLAS_ID": "12",
                                    "(No column name)": "152",
                                    "alma": "34"
                                },
                                {
                                    "SZALLAS_ID": "6",
                                    "(No column name)": "150",
                                    "alma": "103"
                                },
                                {
                                    "SZALLAS_ID": "4",
                                    "(No column name)": "61",
                                    "alma": "64"
                                },
                                {
                                    "SZALLAS_ID": "6",
                                    "(No column name)": "150",
                                    "alma": "80"
                                },
                                {
                                    "SZALLAS_ID": "4",
                                    "(No column name)": "61",
                                    "alma": "41"
                                },
                                {
                                    "SZALLAS_ID": "4",
                                    "(No column name)": "12",
                                    "alma": "4"
                                },
                                {
                                    "SZALLAS_ID": "10",
                                    "(No column name)": "103",
                                    "alma": "57"
                                },
                                {
                                    "SZALLAS_ID": "3",
                                    "(No column name)": "35",
                                    "alma": "21"
                                },
                                {
                                    "SZALLAS_ID": "8",
                                    "(No column name)": "157",
                                    "alma": "70"
                                },
                                {
                                    "SZALLAS_ID": "6",
                                    "(No column name)": "29",
                                    "alma": "10"
                                },
                                {
                                    "SZALLAS_ID": "6",
                                    "(No column name)": "150",
                                    "alma": "11"
                                },
                                {
                                    "SZALLAS_ID": "10",
                                    "(No column name)": "20",
                                    "alma": "2"
                                },
                                {
                                    "SZALLAS_ID": "12",
                                    "(No column name)": "152",
                                    "alma": "45"
                                },
                                {
                                    "SZALLAS_ID": "12",
                                    "(No column name)": "152",
                                    "alma": "51"
                                },
                                {
                                    "SZALLAS_ID": "12",
                                    "(No column name)": "27",
                                    "alma": "2"
                                },
                                {
                                    "SZALLAS_ID": "4",
                                    "(No column name)": "61",
                                    "alma": "84"
                                },
                                {
                                    "SZALLAS_ID": "3",
                                    "(No column name)": "35",
                                    "alma": "15"
                                },
                                {
                                    "SZALLAS_ID": "4",
                                    "(No column name)": "61",
                                    "alma": "15"
                                },
                                {
                                    "SZALLAS_ID": "12",
                                    "(No column name)": "152",
                                    "alma": "94"
                                },
                                {
                                    "SZALLAS_ID": "11",
                                    "(No column name)": "23",
                                    "alma": "4"
                                },
                                {
                                    "SZALLAS_ID": "12",
                                    "(No column name)": "152",
                                    "alma": "71"
                                },
                                {
                                    "SZALLAS_ID": "12",
                                    "(No column name)": "152",
                                    "alma": "145"
                                },
                                {
                                    "SZALLAS_ID": "7",
                                    "(No column name)": "28",
                                    "alma": "19"
                                },
                                {
                                    "SZALLAS_ID": "4",
                                    "(No column name)": "61",
                                    "alma": "35"
                                },
                                {
                                    "SZALLAS_ID": "10",
                                    "(No column name)": "103",
                                    "alma": "14"
                                },
                                {
                                    "SZALLAS_ID": "4",
                                    "(No column name)": "61",
                                    "alma": "21"
                                },
                                {
                                    "SZALLAS_ID": "6",
                                    "(No column name)": "150",
                                    "alma": "37"
                                },
                                {
                                    "SZALLAS_ID": "6",
                                    "(No column name)": "150",
                                    "alma": "123"
                                },
                                {
                                    "SZALLAS_ID": "10",
                                    "(No column name)": "20",
                                    "alma": "16"
                                },
                                {
                                    "SZALLAS_ID": "1",
                                    "(No column name)": "63",
                                    "alma": "31"
                                },
                                {
                                    "SZALLAS_ID": "12",
                                    "(No column name)": "152",
                                    "alma": "102"
                                },
                                {
                                    "SZALLAS_ID": "12",
                                    "(No column name)": "152",
                                    "alma": "151"
                                },
                                {
                                    "SZALLAS_ID": "8",
                                    "(No column name)": "157",
                                    "alma": "96"
                                },
                                {
                                    "SZALLAS_ID": "8",
                                    "(No column name)": "157",
                                    "alma": "133"
                                },
                                {
                                    "SZALLAS_ID": "9",
                                    "(No column name)": "24",
                                    "alma": "5"
                                },
                                {
                                    "SZALLAS_ID": "10",
                                    "(No column name)": "103",
                                    "alma": "6"
                                },
                                {
                                    "SZALLAS_ID": "4",
                                    "(No column name)": "61",
                                    "alma": "72"
                                },
                                {
                                    "SZALLAS_ID": "4",
                                    "(No column name)": "61",
                                    "alma": "78"
                                },
                                {
                                    "SZALLAS_ID": "12",
                                    "(No column name)": "152",
                                    "alma": "8"
                                },
                                {
                                    "SZALLAS_ID": "9",
                                    "(No column name)": "24",
                                    "alma": "13"
                                },
                                {
                                    "SZALLAS_ID": "6",
                                    "(No column name)": "150",
                                    "alma": "31"
                                },
                                {
                                    "SZALLAS_ID": "6",
                                    "(No column name)": "29",
                                    "alma": "16"
                                },
                                {
                                    "SZALLAS_ID": "5",
                                    "(No column name)": "10",
                                    "alma": "19"
                                },
                                {
                                    "SZALLAS_ID": "12",
                                    "(No column name)": "152",
                                    "alma": "108"
                                },
                                {
                                    "SZALLAS_ID": "8",
                                    "(No column name)": "157",
                                    "alma": "139"
                                },
                                {
                                    "SZALLAS_ID": "8",
                                    "(No column name)": "47",
                                    "alma": "40"
                                },
                                {
                                    "SZALLAS_ID": "10",
                                    "(No column name)": "20",
                                    "alma": "8"
                                },
                                {
                                    "SZALLAS_ID": "11",
                                    "(No column name)": "23",
                                    "alma": "18"
                                },
                                {
                                    "SZALLAS_ID": "5",
                                    "(No column name)": "43",
                                    "alma": "53"
                                },
                                {
                                    "SZALLAS_ID": "10",
                                    "(No column name)": "103",
                                    "alma": "68"
                                },
                                {
                                    "SZALLAS_ID": "1",
                                    "(No column name)": "63",
                                    "alma": "62"
                                },
                                {
                                    "SZALLAS_ID": "9",
                                    "(No column name)": "24",
                                    "alma": "21"
                                },
                                {
                                    "SZALLAS_ID": "10",
                                    "(No column name)": "103",
                                    "alma": "45"
                                },
                                {
                                    "SZALLAS_ID": "1",
                                    "(No column name)": "63",
                                    "alma": "39"
                                },
                                {
                                    "SZALLAS_ID": "3",
                                    "(No column name)": "35",
                                    "alma": "6"
                                },
                                {
                                    "SZALLAS_ID": "10",
                                    "(No column name)": "103",
                                    "alma": "22"
                                },
                                {
                                    "SZALLAS_ID": "1",
                                    "(No column name)": "63",
                                    "alma": "16"
                                },
                                {
                                    "SZALLAS_ID": "2",
                                    "(No column name)": "13",
                                    "alma": "5"
                                },
                                {
                                    "SZALLAS_ID": "10",
                                    "(No column name)": "20",
                                    "alma": "14"
                                },
                                {
                                    "SZALLAS_ID": "11",
                                    "(No column name)": "23",
                                    "alma": "12"
                                },
                                {
                                    "SZALLAS_ID": "12",
                                    "(No column name)": "27",
                                    "alma": "20"
                                },
                                {
                                    "SZALLAS_ID": "8",
                                    "(No column name)": "157",
                                    "alma": "101"
                                },
                                {
                                    "SZALLAS_ID": "8",
                                    "(No column name)": "157",
                                    "alma": "107"
                                },
                                {
                                    "SZALLAS_ID": "6",
                                    "(No column name)": "150",
                                    "alma": "65"
                                },
                                {
                                    "SZALLAS_ID": "7",
                                    "(No column name)": "28",
                                    "alma": "4"
                                },
                                {
                                    "SZALLAS_ID": "8",
                                    "(No column name)": "157",
                                    "alma": "7"
                                },
                                {
                                    "SZALLAS_ID": "8",
                                    "(No column name)": "157",
                                    "alma": "124"
                                },
                                {
                                    "SZALLAS_ID": "8",
                                    "(No column name)": "157",
                                    "alma": "130"
                                },
                                {
                                    "SZALLAS_ID": "8",
                                    "(No column name)": "47",
                                    "alma": "6"
                                },
                                {
                                    "SZALLAS_ID": "6",
                                    "(No column name)": "150",
                                    "alma": "88"
                                },
                                {
                                    "SZALLAS_ID": "6",
                                    "(No column name)": "150",
                                    "alma": "119"
                                },
                                {
                                    "SZALLAS_ID": "8",
                                    "(No column name)": "157",
                                    "alma": "55"
                                },
                                {
                                    "SZALLAS_ID": "6",
                                    "(No column name)": "150",
                                    "alma": "19"
                                },
                                {
                                    "SZALLAS_ID": "5",
                                    "(No column name)": "43",
                                    "alma": "30"
                                },
                                {
                                    "SZALLAS_ID": "6",
                                    "(No column name)": "150",
                                    "alma": "42"
                                },
                                {
                                    "SZALLAS_ID": "7",
                                    "(No column name)": "28",
                                    "alma": "27"
                                },
                                {
                                    "SZALLAS_ID": "4",
                                    "(No column name)": "61",
                                    "alma": "46"
                                },
                                {
                                    "SZALLAS_ID": "8",
                                    "(No column name)": "157",
                                    "alma": "15"
                                },
                                {
                                    "SZALLAS_ID": "1",
                                    "(No column name)": "63",
                                    "alma": "56"
                                },
                                {
                                    "SZALLAS_ID": "12",
                                    "(No column name)": "152",
                                    "alma": "79"
                                },
                                {
                                    "SZALLAS_ID": "6",
                                    "(No column name)": "150",
                                    "alma": "13"
                                },
                                {
                                    "SZALLAS_ID": "6",
                                    "(No column name)": "150",
                                    "alma": "96"
                                },
                                {
                                    "SZALLAS_ID": "4",
                                    "(No column name)": "12",
                                    "alma": "7"
                                },
                                {
                                    "SZALLAS_ID": "12",
                                    "(No column name)": "152",
                                    "alma": "139"
                                },
                                {
                                    "SZALLAS_ID": "6",
                                    "(No column name)": "150",
                                    "alma": "48"
                                },
                                {
                                    "SZALLAS_ID": "10",
                                    "(No column name)": "103",
                                    "alma": "85"
                                },
                                {
                                    "SZALLAS_ID": "12",
                                    "(No column name)": "152",
                                    "alma": "87"
                                },
                                {
                                    "SZALLAS_ID": "8",
                                    "(No column name)": "157",
                                    "alma": "118"
                                },
                                {
                                    "SZALLAS_ID": "8",
                                    "(No column name)": "47",
                                    "alma": "12"
                                },
                                {
                                    "SZALLAS_ID": "2",
                                    "(No column name)": "13",
                                    "alma": "13"
                                },
                                {
                                    "SZALLAS_ID": "5",
                                    "(No column name)": "43",
                                    "alma": "93"
                                },
                                {
                                    "SZALLAS_ID": "8",
                                    "(No column name)": "157",
                                    "alma": "67"
                                },
                                {
                                    "SZALLAS_ID": "6",
                                    "(No column name)": "150",
                                    "alma": "102"
                                },
                                {
                                    "SZALLAS_ID": "6",
                                    "(No column name)": "150",
                                    "alma": "105"
                                },
                                {
                                    "SZALLAS_ID": "10",
                                    "(No column name)": "103",
                                    "alma": "28"
                                },
                                {
                                    "SZALLAS_ID": "4",
                                    "(No column name)": "61",
                                    "alma": "100"
                                },
                                {
                                    "SZALLAS_ID": "4",
                                    "(No column name)": "12",
                                    "alma": "13"
                                },
                                {
                                    "SZALLAS_ID": "12",
                                    "(No column name)": "152",
                                    "alma": "119"
                                },
                                {
                                    "SZALLAS_ID": "11",
                                    "(No column name)": "23",
                                    "alma": "23"
                                },
                                {
                                    "SZALLAS_ID": "8",
                                    "(No column name)": "157",
                                    "alma": "44"
                                },
                                {
                                    "SZALLAS_ID": "1",
                                    "(No column name)": "63",
                                    "alma": "2"
                                },
                                {
                                    "SZALLAS_ID": "3",
                                    "(No column name)": "35",
                                    "alma": "20"
                                },
                                {
                                    "SZALLAS_ID": "10",
                                    "(No column name)": "103",
                                    "alma": "11"
                                },
                                {
                                    "SZALLAS_ID": "2",
                                    "(No column name)": "5",
                                    "alma": "1"
                                },
                                {
                                    "SZALLAS_ID": "12",
                                    "(No column name)": "152",
                                    "alma": "27"
                                },
                                {
                                    "SZALLAS_ID": "12",
                                    "(No column name)": "27",
                                    "alma": "26"
                                },
                                {
                                    "SZALLAS_ID": "8",
                                    "(No column name)": "157",
                                    "alma": "24"
                                },
                                {
                                    "SZALLAS_ID": "12",
                                    "(No column name)": "152",
                                    "alma": "50"
                                },
                                {
                                    "SZALLAS_ID": "12",
                                    "(No column name)": "152",
                                    "alma": "93"
                                },
                                {
                                    "SZALLAS_ID": "8",
                                    "(No column name)": "157",
                                    "alma": "1"
                                },
                                {
                                    "SZALLAS_ID": "11",
                                    "(No column name)": "23",
                                    "alma": "3"
                                },
                                {
                                    "SZALLAS_ID": "12",
                                    "(No column name)": "152",
                                    "alma": "70"
                                },
                                {
                                    "SZALLAS_ID": "3",
                                    "(No column name)": "35",
                                    "alma": "14"
                                },
                                {
                                    "SZALLAS_ID": "12",
                                    "(No column name)": "152",
                                    "alma": "113"
                                },
                                {
                                    "SZALLAS_ID": "10",
                                    "(No column name)": "103",
                                    "alma": "62"
                                },
                                {
                                    "SZALLAS_ID": "12",
                                    "(No column name)": "152",
                                    "alma": "7"
                                },
                                {
                                    "SZALLAS_ID": "8",
                                    "(No column name)": "157",
                                    "alma": "87"
                                },
                                {
                                    "SZALLAS_ID": "10",
                                    "(No column name)": "20",
                                    "alma": "17"
                                },
                                {
                                    "SZALLAS_ID": "7",
                                    "(No column name)": "28",
                                    "alma": "18"
                                },
                                {
                                    "SZALLAS_ID": "5",
                                    "(No column name)": "43",
                                    "alma": "13"
                                },
                                {
                                    "SZALLAS_ID": "12",
                                    "(No column name)": "152",
                                    "alma": "150"
                                },
                                {
                                    "SZALLAS_ID": "9",
                                    "(No column name)": "24",
                                    "alma": "4"
                                },
                                {
                                    "SZALLAS_ID": "6",
                                    "(No column name)": "150",
                                    "alma": "36"
                                },
                                {
                                    "SZALLAS_ID": "6",
                                    "(No column name)": "150",
                                    "alma": "85"
                                },
                                {
                                    "SZALLAS_ID": "6",
                                    "(No column name)": "150",
                                    "alma": "122"
                                },
                                {
                                    "SZALLAS_ID": "10",
                                    "(No column name)": "103",
                                    "alma": "48"
                                },
                                {
                                    "SZALLAS_ID": "8",
                                    "(No column name)": "47",
                                    "alma": "35"
                                },
                                {
                                    "SZALLAS_ID": "10",
                                    "(No column name)": "20",
                                    "alma": "3"
                                },
                                {
                                    "SZALLAS_ID": "4",
                                    "(No column name)": "61",
                                    "alma": "77"
                                },
                                {
                                    "SZALLAS_ID": "9",
                                    "(No column name)": "24",
                                    "alma": "10"
                                },
                                {
                                    "SZALLAS_ID": "1",
                                    "(No column name)": "63",
                                    "alma": "22"
                                },
                                {
                                    "SZALLAS_ID": "3",
                                    "(No column name)": "35",
                                    "alma": "26"
                                },
                                {
                                    "SZALLAS_ID": "4",
                                    "(No column name)": "61",
                                    "alma": "26"
                                },
                                {
                                    "SZALLAS_ID": "6",
                                    "(No column name)": "150",
                                    "alma": "79"
                                },
                                {
                                    "SZALLAS_ID": "6",
                                    "(No column name)": "150",
                                    "alma": "128"
                                },
                                {
                                    "SZALLAS_ID": "10",
                                    "(No column name)": "103",
                                    "alma": "5"
                                },
                                {
                                    "SZALLAS_ID": "12",
                                    "(No column name)": "152",
                                    "alma": "36"
                                },
                                {
                                    "SZALLAS_ID": "12",
                                    "(No column name)": "152",
                                    "alma": "107"
                                },
                                {
                                    "SZALLAS_ID": "8",
                                    "(No column name)": "157",
                                    "alma": "104"
                                },
                                {
                                    "SZALLAS_ID": "6",
                                    "(No column name)": "150",
                                    "alma": "139"
                                },
                                {
                                    "SZALLAS_ID": "7",
                                    "(No column name)": "28",
                                    "alma": "1"
                                },
                                {
                                    "SZALLAS_ID": "5",
                                    "(No column name)": "10",
                                    "alma": "22"
                                },
                                {
                                    "SZALLAS_ID": "12",
                                    "(No column name)": "152",
                                    "alma": "13"
                                },
                                {
                                    "SZALLAS_ID": "12",
                                    "(No column name)": "152",
                                    "alma": "130"
                                },
                                {
                                    "SZALLAS_ID": "8",
                                    "(No column name)": "157",
                                    "alma": "81"
                                },
                                {
                                    "SZALLAS_ID": "10",
                                    "(No column name)": "20",
                                    "alma": "11"
                                },
                                {
                                    "SZALLAS_ID": "7",
                                    "(No column name)": "28",
                                    "alma": "24"
                                },
                                {
                                    "SZALLAS_ID": "8",
                                    "(No column name)": "157",
                                    "alma": "58"
                                },
                                {
                                    "SZALLAS_ID": "8",
                                    "(No column name)": "157",
                                    "alma": "35"
                                },
                                {
                                    "SZALLAS_ID": "9",
                                    "(No column name)": "24",
                                    "alma": "18"
                                },
                                {
                                    "SZALLAS_ID": "3",
                                    "(No column name)": "35",
                                    "alma": "34"
                                },
                                {
                                    "SZALLAS_ID": "10",
                                    "(No column name)": "103",
                                    "alma": "71"
                                },
                                {
                                    "SZALLAS_ID": "1",
                                    "(No column name)": "63",
                                    "alma": "59"
                                },
                                {
                                    "SZALLAS_ID": "2",
                                    "(No column name)": "13",
                                    "alma": "2"
                                },
                                {
                                    "SZALLAS_ID": "10",
                                    "(No column name)": "103",
                                    "alma": "88"
                                },
                                {
                                    "SZALLAS_ID": "10",
                                    "(No column name)": "103",
                                    "alma": "94"
                                },
                                {
                                    "SZALLAS_ID": "11",
                                    "(No column name)": "23",
                                    "alma": "9"
                                },
                                {
                                    "SZALLAS_ID": "9",
                                    "(No column name)": "24",
                                    "alma": "1"
                                },
                                {
                                    "SZALLAS_ID": "6",
                                    "(No column name)": "29",
                                    "alma": "25"
                                },
                                {
                                    "SZALLAS_ID": "8",
                                    "(No column name)": "157",
                                    "alma": "127"
                                },
                                {
                                    "SZALLAS_ID": "8",
                                    "(No column name)": "47",
                                    "alma": "3"
                                },
                                {
                                    "SZALLAS_ID": "9",
                                    "(No column name)": "24",
                                    "alma": "24"
                                },
                                {
                                    "SZALLAS_ID": "1",
                                    "(No column name)": "63",
                                    "alma": "36"
                                },
                                {
                                    "SZALLAS_ID": "12",
                                    "(No column name)": "152",
                                    "alma": "30"
                                },
                                {
                                    "SZALLAS_ID": "8",
                                    "(No column name)": "157",
                                    "alma": "27"
                                },
                                {
                                    "SZALLAS_ID": "6",
                                    "(No column name)": "150",
                                    "alma": "62"
                                },
                                {
                                    "SZALLAS_ID": "4",
                                    "(No column name)": "12",
                                    "alma": "10"
                                },
                                {
                                    "SZALLAS_ID": "12",
                                    "(No column name)": "152",
                                    "alma": "136"
                                },
                                {
                                    "SZALLAS_ID": "8",
                                    "(No column name)": "157",
                                    "alma": "75"
                                },
                                {
                                    "SZALLAS_ID": "4",
                                    "(No column name)": "61",
                                    "alma": "9"
                                },
                                {
                                    "SZALLAS_ID": "12",
                                    "(No column name)": "152",
                                    "alma": "76"
                                },
                                {
                                    "SZALLAS_ID": "6",
                                    "(No column name)": "150",
                                    "alma": "99"
                                },
                                {
                                    "SZALLAS_ID": "10",
                                    "(No column name)": "103",
                                    "alma": "25"
                                },
                                {
                                    "SZALLAS_ID": "4",
                                    "(No column name)": "61",
                                    "alma": "57"
                                },
                                {
                                    "SZALLAS_ID": "12",
                                    "(No column name)": "152",
                                    "alma": "90"
                                },
                                {
                                    "SZALLAS_ID": "8",
                                    "(No column name)": "157",
                                    "alma": "121"
                                },
                                {
                                    "SZALLAS_ID": "8",
                                    "(No column name)": "47",
                                    "alma": "9"
                                },
                                {
                                    "SZALLAS_ID": "1",
                                    "(No column name)": "63",
                                    "alma": "42"
                                },
                                {
                                    "SZALLAS_ID": "4",
                                    "(No column name)": "61",
                                    "alma": "49"
                                },
                                {
                                    "SZALLAS_ID": "7",
                                    "(No column name)": "6",
                                    "alma": "1"
                                },
                                {
                                    "SZALLAS_ID": "4",
                                    "(No column name)": "61",
                                    "alma": "103"
                                },
                                {
                                    "SZALLAS_ID": "10",
                                    "(No column name)": "103",
                                    "alma": "82"
                                },
                                {
                                    "SZALLAS_ID": "3",
                                    "(No column name)": "35",
                                    "alma": "3"
                                },
                                {
                                    "SZALLAS_ID": "10",
                                    "(No column name)": "103",
                                    "alma": "31"
                                },
                                {
                                    "SZALLAS_ID": "6",
                                    "(No column name)": "150",
                                    "alma": "5"
                                },
                                {
                                    "SZALLAS_ID": "1",
                                    "(No column name)": "63",
                                    "alma": "48"
                                },
                                {
                                    "SZALLAS_ID": "8",
                                    "(No column name)": "157",
                                    "alma": "21"
                                },
                                {
                                    "SZALLAS_ID": "8",
                                    "(No column name)": "47",
                                    "alma": "38"
                                },
                                {
                                    "SZALLAS_ID": "6",
                                    "(No column name)": "150",
                                    "alma": "56"
                                },
                                {
                                    "SZALLAS_ID": "4",
                                    "(No column name)": "61",
                                    "alma": "17"
                                },
                                {
                                    "SZALLAS_ID": "6",
                                    "(No column name)": "150",
                                    "alma": "33"
                                },
                                {
                                    "SZALLAS_ID": "10",
                                    "(No column name)": "103",
                                    "alma": "8"
                                },
                                {
                                    "SZALLAS_ID": "5",
                                    "(No column name)": "10",
                                    "alma": "11"
                                },
                                {
                                    "SZALLAS_ID": "8",
                                    "(No column name)": "157",
                                    "alma": "47"
                                },
                                {
                                    "SZALLAS_ID": "6",
                                    "(No column name)": "29",
                                    "alma": "8"
                                },
                                {
                                    "SZALLAS_ID": "1",
                                    "(No column name)": "63",
                                    "alma": "5"
                                },
                                {
                                    "SZALLAS_ID": "4",
                                    "(No column name)": "61",
                                    "alma": "43"
                                },
                                {
                                    "SZALLAS_ID": "12",
                                    "(No column name)": "152",
                                    "alma": "116"
                                },
                                {
                                    "SZALLAS_ID": "3",
                                    "(No column name)": "35",
                                    "alma": "17"
                                },
                                {
                                    "SZALLAS_ID": "4",
                                    "(No column name)": "61",
                                    "alma": "66"
                                },
                                {
                                    "SZALLAS_ID": "12",
                                    "(No column name)": "152",
                                    "alma": "73"
                                },
                                {
                                    "SZALLAS_ID": "6",
                                    "(No column name)": "29",
                                    "alma": "28"
                                },
                                {
                                    "SZALLAS_ID": "12",
                                    "(No column name)": "152",
                                    "alma": "47"
                                },
                                {
                                    "SZALLAS_ID": "12",
                                    "(No column name)": "152",
                                    "alma": "96"
                                },
                                {
                                    "SZALLAS_ID": "10",
                                    "(No column name)": "20",
                                    "alma": "20"
                                },
                                {
                                    "SZALLAS_ID": "2",
                                    "(No column name)": "5",
                                    "alma": "4"
                                },
                                {
                                    "SZALLAS_ID": "3",
                                    "(No column name)": "4",
                                    "alma": "3"
                                },
                                {
                                    "SZALLAS_ID": "5",
                                    "(No column name)": "43",
                                    "alma": "59"
                                },
                                {
                                    "SZALLAS_ID": "12",
                                    "(No column name)": "27",
                                    "alma": "23"
                                },
                                {
                                    "SZALLAS_ID": "7",
                                    "(No column name)": "28",
                                    "alma": "7"
                                },
                                {
                                    "SZALLAS_ID": "4",
                                    "(No column name)": "61",
                                    "alma": "23"
                                },
                                {
                                    "SZALLAS_ID": "6",
                                    "(No column name)": "150",
                                    "alma": "39"
                                },
                                {
                                    "SZALLAS_ID": "10",
                                    "(No column name)": "103",
                                    "alma": "2"
                                },
                                {
                                    "SZALLAS_ID": "10",
                                    "(No column name)": "103",
                                    "alma": "51"
                                },
                                {
                                    "SZALLAS_ID": "1",
                                    "(No column name)": "63",
                                    "alma": "33"
                                },
                                {
                                    "SZALLAS_ID": "12",
                                    "(No column name)": "152",
                                    "alma": "67"
                                },
                                {
                                    "SZALLAS_ID": "8",
                                    "(No column name)": "157",
                                    "alma": "147"
                                },
                                {
                                    "SZALLAS_ID": "6",
                                    "(No column name)": "150",
                                    "alma": "25"
                                },
                                {
                                    "SZALLAS_ID": "1",
                                    "(No column name)": "63",
                                    "alma": "19"
                                },
                                {
                                    "SZALLAS_ID": "5",
                                    "(No column name)": "43",
                                    "alma": "73"
                                },
                                {
                                    "SZALLAS_ID": "12",
                                    "(No column name)": "152",
                                    "alma": "4"
                                },
                                {
                                    "SZALLAS_ID": "12",
                                    "(No column name)": "152",
                                    "alma": "16"
                                },
                                {
                                    "SZALLAS_ID": "12",
                                    "(No column name)": "152",
                                    "alma": "53"
                                },
                                {
                                    "SZALLAS_ID": "8",
                                    "(No column name)": "157",
                                    "alma": "84"
                                },
                                {
                                    "SZALLAS_ID": "8",
                                    "(No column name)": "47",
                                    "alma": "46"
                                },
                                {
                                    "SZALLAS_ID": "7",
                                    "(No column name)": "28",
                                    "alma": "21"
                                },
                                {
                                    "SZALLAS_ID": "12",
                                    "(No column name)": "152",
                                    "alma": "110"
                                },
                                {
                                    "SZALLAS_ID": "10",
                                    "(No column name)": "103",
                                    "alma": "59"
                                },
                                {
                                    "SZALLAS_ID": "11",
                                    "(No column name)": "23",
                                    "alma": "20"
                                },
                                {
                                    "SZALLAS_ID": "6",
                                    "(No column name)": "150",
                                    "alma": "76"
                                },
                                {
                                    "SZALLAS_ID": "6",
                                    "(No column name)": "150",
                                    "alma": "82"
                                },
                                {
                                    "SZALLAS_ID": "6",
                                    "(No column name)": "150",
                                    "alma": "125"
                                },
                                {
                                    "SZALLAS_ID": "8",
                                    "(No column name)": "157",
                                    "alma": "141"
                                },
                                {
                                    "SZALLAS_ID": "10",
                                    "(No column name)": "103",
                                    "alma": "102"
                                },
                                {
                                    "SZALLAS_ID": "1",
                                    "(No column name)": "63",
                                    "alma": "25"
                                },
                                {
                                    "SZALLAS_ID": "5",
                                    "(No column name)": "43",
                                    "alma": "67"
                                },
                                {
                                    "SZALLAS_ID": "12",
                                    "(No column name)": "152",
                                    "alma": "59"
                                },
                                {
                                    "SZALLAS_ID": "8",
                                    "(No column name)": "157",
                                    "alma": "41"
                                },
                                {
                                    "SZALLAS_ID": "6",
                                    "(No column name)": "29",
                                    "alma": "14"
                                },
                                {
                                    "SZALLAS_ID": "7",
                                    "(No column name)": "28",
                                    "alma": "15"
                                }
                            ]
                        },
                        "text/html": [
                            "<table>",
                            "<tr><th>SZALLAS_ID</th><th>(No column name)</th><th>(No column name)</th><th>alma</th></tr>",
                            "<tr><td>3</td><td>2016</td><td>35</td><td>31</td></tr>",
                            "<tr><td>12</td><td>2016</td><td>152</td><td>12</td></tr>",
                            "<tr><td>8</td><td>2016</td><td>157</td><td>80</td></tr>",
                            "<tr><td>6</td><td>2016</td><td>150</td><td>44</td></tr>",
                            "<tr><td>6</td><td>2017</td><td>29</td><td>20</td></tr>",
                            "<tr><td>8</td><td>2016</td><td>157</td><td>32</td></tr>",
                            "<tr><td>10</td><td>2017</td><td>20</td><td>12</td></tr>",
                            "<tr><td>2</td><td>2016</td><td>13</td><td>7</td></tr>",
                            "<tr><td>12</td><td>2017</td><td>27</td><td>18</td></tr>",
                            "<tr><td>7</td><td>2016</td><td>28</td><td>23</td></tr>",
                            "<tr><td>3</td><td>2016</td><td>35</td><td>8</td></tr>",
                            "<tr><td>1</td><td>2017</td><td>7</td><td>1</td></tr>",
                            "<tr><td>9</td><td>2016</td><td>24</td><td>23</td></tr>",
                            "<tr><td>6</td><td>2016</td><td>150</td><td>136</td></tr>",
                            "<tr><td>10</td><td>2016</td><td>103</td><td>47</td></tr>",
                            "<tr><td>8</td><td>2016</td><td>157</td><td>155</td></tr>",
                            "<tr><td>6</td><td>2016</td><td>150</td><td>113</td></tr>",
                            "<tr><td>10</td><td>2016</td><td>103</td><td>70</td></tr>",
                            "<tr><td>2</td><td>2016</td><td>13</td><td>1</td></tr>",
                            "<tr><td>8</td><td>2017</td><td>47</td><td>27</td></tr>",
                            "<tr><td>10</td><td>2016</td><td>103</td><td>16</td></tr>",
                            "<tr><td>5</td><td>2016</td><td>43</td><td>55</td></tr>",
                            "<tr><td>8</td><td>2016</td><td>157</td><td>103</td></tr>",
                            "<tr><td>8</td><td>2017</td><td>47</td><td>4</td></tr>",
                            "<tr><td>6</td><td>2016</td><td>150</td><td>67</td></tr>",
                            "<tr><td>6</td><td>2016</td><td>150</td><td>50</td></tr>",
                            "<tr><td>8</td><td>2016</td><td>157</td><td>26</td></tr>",
                            "<tr><td>9</td><td>2017</td><td>5</td><td>2</td></tr>",
                            "<tr><td>6</td><td>2016</td><td>150</td><td>144</td></tr>",
                            "<tr><td>7</td><td>2017</td><td>6</td><td>4</td></tr>",
                            "<tr><td>5</td><td>2016</td><td>43</td><td>1</td></tr>",
                            "<tr><td>10</td><td>2016</td><td>103</td><td>87</td></tr>",
                            "<tr><td>4</td><td>2016</td><td>61</td><td>8</td></tr>",
                            "<tr><td>12</td><td>2016</td><td>152</td><td>41</td></tr>",
                            "<tr><td>8</td><td>2016</td><td>157</td><td>72</td></tr>",
                            "<tr><td>8</td><td>2016</td><td>157</td><td>109</td></tr>",
                            "<tr><td>8</td><td>2017</td><td>47</td><td>10</td></tr>",
                            "<tr><td>6</td><td>2016</td><td>150</td><td>61</td></tr>",
                            "<tr><td>10</td><td>2016</td><td>103</td><td>24</td></tr>",
                            "<tr><td>5</td><td>2016</td><td>43</td><td>38</td></tr>",
                            "<tr><td>12</td><td>2016</td><td>152</td><td>81</td></tr>",
                            "<tr><td>6</td><td>2016</td><td>150</td><td>107</td></tr>",
                            "<tr><td>10</td><td>2016</td><td>103</td><td>76</td></tr>",
                            "<tr><td>12</td><td>2017</td><td>27</td><td>12</td></tr>",
                            "<tr><td>6</td><td>2016</td><td>150</td><td>4</td></tr>",
                            "<tr><td>3</td><td>2016</td><td>35</td><td>2</td></tr>",
                            "<tr><td>12</td><td>2016</td><td>152</td><td>35</td></tr>",
                            "<tr><td>10</td><td>2016</td><td>103</td><td>30</td></tr>",
                            "<tr><td>1</td><td>2017</td><td>7</td><td>7</td></tr>",
                            "<tr><td>12</td><td>2016</td><td>152</td><td>95</td></tr>",
                            "<tr><td>10</td><td>2016</td><td>103</td><td>56</td></tr>",
                            "<tr><td>8</td><td>2016</td><td>157</td><td>20</td></tr>",
                            "<tr><td>6</td><td>2016</td><td>150</td><td>150</td></tr>",
                            "<tr><td>7</td><td>2016</td><td>28</td><td>12</td></tr>",
                            "<tr><td>8</td><td>2016</td><td>157</td><td>46</td></tr>",
                            "<tr><td>6</td><td>2016</td><td>150</td><td>10</td></tr>",
                            "<tr><td>1</td><td>2016</td><td>63</td><td>4</td></tr>",
                            "<tr><td>9</td><td>2016</td><td>24</td><td>6</td></tr>",
                            "<tr><td>5</td><td>2017</td><td>10</td><td>6</td></tr>",
                            "<tr><td>12</td><td>2016</td><td>152</td><td>21</td></tr>",
                            "<tr><td>6</td><td>2017</td><td>29</td><td>29</td></tr>",
                            "<tr><td>4</td><td>2016</td><td>61</td><td>42</td></tr>",
                            "<tr><td>4</td><td>2017</td><td>12</td><td>5</td></tr>",
                            "<tr><td>12</td><td>2016</td><td>152</td><td>44</td></tr>",
                            "<tr><td>12</td><td>2017</td><td>27</td><td>1</td></tr>",
                            "<tr><td>4</td><td>2016</td><td>61</td><td>65</td></tr>",
                            "<tr><td>12</td><td>2016</td><td>152</td><td>144</td></tr>",
                            "<tr><td>12</td><td>2017</td><td>27</td><td>24</td></tr>",
                            "<tr><td>12</td><td>2016</td><td>152</td><td>72</td></tr>",
                            "<tr><td>12</td><td>2016</td><td>152</td><td>121</td></tr>",
                            "<tr><td>6</td><td>2017</td><td>29</td><td>3</td></tr>",
                            "<tr><td>12</td><td>2016</td><td>152</td><td>101</td></tr>",
                            "<tr><td>8</td><td>2016</td><td>157</td><td>3</td></tr>",
                            "<tr><td>10</td><td>2016</td><td>103</td><td>50</td></tr>",
                            "<tr><td>11</td><td>2016</td><td>23</td><td>17</td></tr>",
                            "<tr><td>7</td><td>2016</td><td>28</td><td>6</td></tr>",
                            "<tr><td>2</td><td>2017</td><td>5</td><td>5</td></tr>",
                            "<tr><td>3</td><td>2017</td><td>4</td><td>4</td></tr>",
                            "<tr><td>4</td><td>2016</td><td>61</td><td>71</td></tr>",
                            "<tr><td>12</td><td>2016</td><td>152</td><td>52</td></tr>",
                            "<tr><td>12</td><td>2016</td><td>152</td><td>64</td></tr>",
                            "<tr><td>10</td><td>2016</td><td>103</td><td>1</td></tr>",
                            "<tr><td>10</td><td>2016</td><td>103</td><td>13</td></tr>",
                            "<tr><td>7</td><td>2016</td><td>28</td><td>20</td></tr>",
                            "<tr><td>8</td><td>2016</td><td>157</td><td>146</td></tr>",
                            "<tr><td>6</td><td>2016</td><td>150</td><td>73</td></tr>",
                            "<tr><td>10</td><td>2017</td><td>20</td><td>15</td></tr>",
                            "<tr><td>1</td><td>2016</td><td>63</td><td>18</td></tr>",
                            "<tr><td>1</td><td>2016</td><td>63</td><td>30</td></tr>",
                            "<tr><td>3</td><td>2016</td><td>35</td><td>22</td></tr>",
                            "<tr><td>3</td><td>2016</td><td>35</td><td>28</td></tr>",
                            "<tr><td>12</td><td>2016</td><td>152</td><td>9</td></tr>",
                            "<tr><td>12</td><td>2016</td><td>152</td><td>15</td></tr>",
                            "<tr><td>8</td><td>2016</td><td>157</td><td>95</td></tr>",
                            "<tr><td>6</td><td>2016</td><td>150</td><td>124</td></tr>",
                            "<tr><td>6</td><td>2016</td><td>150</td><td>130</td></tr>",
                            "<tr><td>12</td><td>2016</td><td>152</td><td>58</td></tr>",
                            "<tr><td>8</td><td>2016</td><td>157</td><td>40</td></tr>",
                            "<tr><td>10</td><td>2016</td><td>103</td><td>7</td></tr>",
                            "<tr><td>9</td><td>2016</td><td>24</td><td>12</td></tr>",
                            "<tr><td>6</td><td>2016</td><td>150</td><td>30</td></tr>",
                            "<tr><td>10</td><td>2017</td><td>20</td><td>9</td></tr>",
                            "<tr><td>1</td><td>2016</td><td>63</td><td>24</td></tr>",
                            "<tr><td>10</td><td>2016</td><td>103</td><td>44</td></tr>",
                            "<tr><td>11</td><td>2016</td><td>23</td><td>11</td></tr>",
                            "<tr><td>1</td><td>2016</td><td>63</td><td>38</td></tr>",
                            "<tr><td>4</td><td>2016</td><td>61</td><td>5</td></tr>",
                            "<tr><td>8</td><td>2017</td><td>47</td><td>1</td></tr>",
                            "<tr><td>1</td><td>2017</td><td>7</td><td>4</td></tr>",
                            "<tr><td>2</td><td>2016</td><td>13</td><td>4</td></tr>",
                            "<tr><td>12</td><td>2017</td><td>27</td><td>15</td></tr>",
                            "<tr><td>8</td><td>2017</td><td>47</td><td>47</td></tr>",
                            "<tr><td>9</td><td>2017</td><td>5</td><td>5</td></tr>",
                            "<tr><td>8</td><td>2016</td><td>157</td><td>6</td></tr>",
                            "<tr><td>8</td><td>2016</td><td>157</td><td>83</td></tr>",
                            "<tr><td>6</td><td>2016</td><td>150</td><td>47</td></tr>",
                            "<tr><td>6</td><td>2017</td><td>29</td><td>23</td></tr>",
                            "<tr><td>3</td><td>2016</td><td>35</td><td>11</td></tr>",
                            "<tr><td>8</td><td>2016</td><td>157</td><td>106</td></tr>",
                            "<tr><td>6</td><td>2016</td><td>150</td><td>64</td></tr>",
                            "<tr><td>6</td><td>2016</td><td>150</td><td>70</td></tr>",
                            "<tr><td>5</td><td>2016</td><td>43</td><td>81</td></tr>",
                            "<tr><td>12</td><td>2017</td><td>27</td><td>21</td></tr>",
                            "<tr><td>8</td><td>2016</td><td>157</td><td>52</td></tr>",
                            "<tr><td>8</td><td>2016</td><td>157</td><td>129</td></tr>",
                            "<tr><td>6</td><td>2016</td><td>150</td><td>93</td></tr>",
                            "<tr><td>10</td><td>2016</td><td>103</td><td>90</td></tr>",
                            "<tr><td>7</td><td>2016</td><td>28</td><td>26</td></tr>",
                            "<tr><td>8</td><td>2016</td><td>157</td><td>29</td></tr>",
                            "<tr><td>6</td><td>2016</td><td>150</td><td>116</td></tr>",
                            "<tr><td>10</td><td>2016</td><td>103</td><td>67</td></tr>",
                            "<tr><td>11</td><td>2017</td><td>3</td><td>3</td></tr>",
                            "<tr><td>1</td><td>2016</td><td>63</td><td>61</td></tr>",
                            "<tr><td>7</td><td>2016</td><td>28</td><td>3</td></tr>",
                            "<tr><td>5</td><td>2017</td><td>10</td><td>3</td></tr>",
                            "<tr><td>11</td><td>2016</td><td>23</td><td>5</td></tr>",
                            "<tr><td>1</td><td>2016</td><td>63</td><td>44</td></tr>",
                            "<tr><td>4</td><td>2016</td><td>61</td><td>11</td></tr>",
                            "<tr><td>8</td><td>2017</td><td>47</td><td>7</td></tr>",
                            "<tr><td>10</td><td>2016</td><td>103</td><td>27</td></tr>",
                            "<tr><td>12</td><td>2016</td><td>152</td><td>138</td></tr>",
                            "<tr><td>8</td><td>2016</td><td>157</td><td>123</td></tr>",
                            "<tr><td>6</td><td>2016</td><td>150</td><td>1</td></tr>",
                            "<tr><td>1</td><td>2016</td><td>63</td><td>7</td></tr>",
                            "<tr><td>4</td><td>2017</td><td>12</td><td>8</td></tr>",
                            "<tr><td>12</td><td>2016</td><td>152</td><td>78</td></tr>",
                            "<tr><td>8</td><td>2016</td><td>157</td><td>60</td></tr>",
                            "<tr><td>6</td><td>2016</td><td>150</td><td>147</td></tr>",
                            "<tr><td>10</td><td>2016</td><td>103</td><td>36</td></tr>",
                            "<tr><td>10</td><td>2016</td><td>103</td><td>73</td></tr>",
                            "<tr><td>8</td><td>2016</td><td>157</td><td>12</td></tr>",
                            "<tr><td>6</td><td>2016</td><td>150</td><td>53</td></tr>",
                            "<tr><td>1</td><td>2016</td><td>63</td><td>53</td></tr>",
                            "<tr><td>3</td><td>2016</td><td>35</td><td>5</td></tr>",
                            "<tr><td>4</td><td>2016</td><td>61</td><td>97</td></tr>",
                            "<tr><td>12</td><td>2016</td><td>152</td><td>38</td></tr>",
                            "<tr><td>8</td><td>2016</td><td>157</td><td>112</td></tr>",
                            "<tr><td>6</td><td>2016</td><td>150</td><td>101</td></tr>",
                            "<tr><td>2</td><td>2016</td><td>13</td><td>10</td></tr>",
                            "<tr><td>12</td><td>2017</td><td>27</td><td>9</td></tr>",
                            "<tr><td>8</td><td>2017</td><td>47</td><td>18</td></tr>",
                            "<tr><td>6</td><td>2016</td><td>150</td><td>7</td></tr>",
                            "<tr><td>5</td><td>2016</td><td>43</td><td>92</td></tr>",
                            "<tr><td>12</td><td>2016</td><td>152</td><td>84</td></tr>",
                            "<tr><td>6</td><td>2016</td><td>150</td><td>104</td></tr>",
                            "<tr><td>3</td><td>2016</td><td>35</td><td>19</td></tr>",
                            "<tr><td>8</td><td>2016</td><td>157</td><td>92</td></tr>",
                            "<tr><td>6</td><td>2016</td><td>150</td><td>127</td></tr>",
                            "<tr><td>12</td><td>2016</td><td>152</td><td>118</td></tr>",
                            "<tr><td>9</td><td>2016</td><td>24</td><td>9</td></tr>",
                            "<tr><td>1</td><td>2016</td><td>63</td><td>27</td></tr>",
                            "<tr><td>12</td><td>2016</td><td>152</td><td>141</td></tr>",
                            "<tr><td>10</td><td>2016</td><td>103</td><td>10</td></tr>",
                            "<tr><td>8</td><td>2016</td><td>157</td><td>23</td></tr>",
                            "<tr><td>12</td><td>2016</td><td>152</td><td>92</td></tr>",
                            "<tr><td>2</td><td>2017</td><td>5</td><td>2</td></tr>",
                            "<tr><td>12</td><td>2016</td><td>152</td><td>147</td></tr>",
                            "<tr><td>4</td><td>2017</td><td>12</td><td>2</td></tr>",
                            "<tr><td>3</td><td>2016</td><td>35</td><td>25</td></tr>",
                            "<tr><td>8</td><td>2016</td><td>157</td><td>86</td></tr>",
                            "<tr><td>6</td><td>2017</td><td>29</td><td>26</td></tr>",
                            "<tr><td>8</td><td>2017</td><td>47</td><td>44</td></tr>",
                            "<tr><td>9</td><td>2016</td><td>24</td><td>3</td></tr>",
                            "<tr><td>9</td><td>2016</td><td>24</td><td>15</td></tr>",
                            "<tr><td>6</td><td>2016</td><td>150</td><td>27</td></tr>",
                            "<tr><td>10</td><td>2017</td><td>20</td><td>6</td></tr>",
                            "<tr><td>10</td><td>2017</td><td>20</td><td>18</td></tr>",
                            "<tr><td>1</td><td>2016</td><td>63</td><td>21</td></tr>",
                            "<tr><td>3</td><td>2017</td><td>4</td><td>1</td></tr>",
                            "<tr><td>4</td><td>2016</td><td>61</td><td>68</td></tr>",
                            "<tr><td>8</td><td>2016</td><td>157</td><td>49</td></tr>",
                            "<tr><td>8</td><td>2016</td><td>157</td><td>135</td></tr>",
                            "<tr><td>6</td><td>2016</td><td>150</td><td>84</td></tr>",
                            "<tr><td>10</td><td>2016</td><td>103</td><td>96</td></tr>",
                            "<tr><td>5</td><td>2016</td><td>43</td><td>12</td></tr>",
                            "<tr><td>7</td><td>2016</td><td>28</td><td>9</td></tr>",
                            "<tr><td>4</td><td>2016</td><td>61</td><td>31</td></tr>",
                            "<tr><td>11</td><td>2016</td><td>23</td><td>14</td></tr>",
                            "<tr><td>5</td><td>2017</td><td>10</td><td>17</td></tr>",
                            "<tr><td>12</td><td>2016</td><td>152</td><td>61</td></tr>",
                            "<tr><td>8</td><td>2016</td><td>157</td><td>43</td></tr>",
                            "<tr><td>10</td><td>2016</td><td>103</td><td>4</td></tr>",
                            "<tr><td>5</td><td>2016</td><td>43</td><td>18</td></tr>",
                            "<tr><td>8</td><td>2017</td><td>47</td><td>2</td></tr>",
                            "<tr><td>6</td><td>2016</td><td>150</td><td>115</td></tr>",
                            "<tr><td>8</td><td>2016</td><td>157</td><td>57</td></tr>",
                            "<tr><td>8</td><td>2017</td><td>47</td><td>25</td></tr>",
                            "<tr><td>6</td><td>2016</td><td>150</td><td>138</td></tr>",
                            "<tr><td>11</td><td>2016</td><td>23</td><td>10</td></tr>",
                            "<tr><td>7</td><td>2016</td><td>28</td><td>25</td></tr>",
                            "<tr><td>12</td><td>2016</td><td>152</td><td>129</td></tr>",
                            "<tr><td>8</td><td>2016</td><td>157</td><td>34</td></tr>",
                            "<tr><td>3</td><td>2016</td><td>35</td><td>33</td></tr>",
                            "<tr><td>12</td><td>2016</td><td>152</td><td>152</td></tr>",
                            "<tr><td>12</td><td>2017</td><td>27</td><td>16</td></tr>",
                            "<tr><td>3</td><td>2016</td><td>35</td><td>10</td></tr>",
                            "<tr><td>5</td><td>2016</td><td>43</td><td>26</td></tr>",
                            "<tr><td>1</td><td>2016</td><td>63</td><td>35</td></tr>",
                            "<tr><td>2</td><td>2016</td><td>13</td><td>3</td></tr>",
                            "<tr><td>5</td><td>2016</td><td>43</td><td>3</td></tr>",
                            "<tr><td>6</td><td>2016</td><td>150</td><td>46</td></tr>",
                            "<tr><td>6</td><td>2017</td><td>29</td><td>24</td></tr>",
                            "<tr><td>10</td><td>2016</td><td>103</td><td>95</td></tr>",
                            "<tr><td>6</td><td>2016</td><td>150</td><td>69</td></tr>",
                            "<tr><td>6</td><td>2017</td><td>29</td><td>1</td></tr>",
                            "<tr><td>8</td><td>2016</td><td>157</td><td>5</td></tr>",
                            "<tr><td>8</td><td>2016</td><td>157</td><td>128</td></tr>",
                            "<tr><td>10</td><td>2016</td><td>103</td><td>18</td></tr>",
                            "<tr><td>1</td><td>2016</td><td>63</td><td>12</td></tr>",
                            "<tr><td>4</td><td>2017</td><td>12</td><td>9</td></tr>",
                            "<tr><td>12</td><td>2016</td><td>152</td><td>77</td></tr>",
                            "<tr><td>8</td><td>2016</td><td>157</td><td>74</td></tr>",
                            "<tr><td>8</td><td>2016</td><td>157</td><td>157</td></tr>",
                            "<tr><td>8</td><td>2017</td><td>47</td><td>19</td></tr>",
                            "<tr><td>6</td><td>2016</td><td>150</td><td>15</td></tr>",
                            "<tr><td>4</td><td>2016</td><td>61</td><td>56</td></tr>",
                            "<tr><td>12</td><td>2016</td><td>152</td><td>43</td></tr>",
                            "<tr><td>7</td><td>2017</td><td>6</td><td>2</td></tr>",
                            "<tr><td>5</td><td>2016</td><td>43</td><td>49</td></tr>",
                            "<tr><td>6</td><td>2016</td><td>150</td><td>98</td></tr>",
                            "<tr><td>1</td><td>2016</td><td>63</td><td>6</td></tr>",
                            "<tr><td>3</td><td>2016</td><td>35</td><td>4</td></tr>",
                            "<tr><td>4</td><td>2016</td><td>61</td><td>96</td></tr>",
                            "<tr><td>4</td><td>2016</td><td>61</td><td>102</td></tr>",
                            "<tr><td>8</td><td>2016</td><td>157</td><td>65</td></tr>",
                            "<tr><td>10</td><td>2016</td><td>103</td><td>35</td></tr>",
                            "<tr><td>2</td><td>2016</td><td>13</td><td>9</td></tr>",
                            "<tr><td>6</td><td>2016</td><td>150</td><td>52</td></tr>",
                            "<tr><td>1</td><td>2016</td><td>63</td><td>52</td></tr>",
                            "<tr><td>4</td><td>2016</td><td>61</td><td>50</td></tr>",
                            "<tr><td>12</td><td>2016</td><td>152</td><td>37</td></tr>",
                            "<tr><td>10</td><td>2016</td><td>103</td><td>81</td></tr>",
                            "<tr><td>1</td><td>2017</td><td>7</td><td>5</td></tr>",
                            "<tr><td>12</td><td>2017</td><td>27</td><td>10</td></tr>",
                            "<tr><td>8</td><td>2016</td><td>157</td><td>17</td></tr>",
                            "<tr><td>6</td><td>2016</td><td>150</td><td>6</td></tr>",
                            "<tr><td>1</td><td>2016</td><td>63</td><td>49</td></tr>",
                            "<tr><td>4</td><td>2016</td><td>61</td><td>16</td></tr>",
                            "<tr><td>9</td><td>2016</td><td>24</td><td>8</td></tr>",
                            "<tr><td>10</td><td>2016</td><td>103</td><td>32</td></tr>",
                            "<tr><td>1</td><td>2016</td><td>63</td><td>26</td></tr>",
                            "<tr><td>10</td><td>2016</td><td>103</td><td>9</td></tr>",
                            "<tr><td>6</td><td>2017</td><td>29</td><td>7</td></tr>",
                            "<tr><td>10</td><td>2017</td><td>20</td><td>1</td></tr>",
                            "<tr><td>5</td><td>2016</td><td>43</td><td>86</td></tr>",
                            "<tr><td>12</td><td>2016</td><td>152</td><td>140</td></tr>",
                            "<tr><td>3</td><td>2016</td><td>35</td><td>16</td></tr>",
                            "<tr><td>5</td><td>2017</td><td>10</td><td>12</td></tr>",
                            "<tr><td>4</td><td>2016</td><td>61</td><td>36</td></tr>",
                            "<tr><td>12</td><td>2016</td><td>152</td><td>46</td></tr>",
                            "<tr><td>12</td><td>2016</td><td>152</td><td>123</td></tr>",
                            "<tr><td>12</td><td>2016</td><td>152</td><td>97</td></tr>",
                            "<tr><td>12</td><td>2016</td><td>152</td><td>146</td></tr>",
                            "<tr><td>6</td><td>2017</td><td>29</td><td>27</td></tr>",
                            "<tr><td>9</td><td>2016</td><td>24</td><td>14</td></tr>",
                            "<tr><td>6</td><td>2016</td><td>150</td><td>26</td></tr>",
                            "<tr><td>1</td><td>2016</td><td>63</td><td>32</td></tr>",
                            "<tr><td>2</td><td>2017</td><td>5</td><td>3</td></tr>",
                            "<tr><td>3</td><td>2016</td><td>35</td><td>24</td></tr>",
                            "<tr><td>6</td><td>2016</td><td>150</td><td>132</td></tr>",
                            "<tr><td>10</td><td>2016</td><td>103</td><td>15</td></tr>",
                            "<tr><td>5</td><td>2016</td><td>43</td><td>60</td></tr>",
                            "<tr><td>8</td><td>2017</td><td>47</td><td>45</td></tr>",
                            "<tr><td>7</td><td>2016</td><td>28</td><td>8</td></tr>",
                            "<tr><td>3</td><td>2017</td><td>4</td><td>2</td></tr>",
                            "<tr><td>12</td><td>2016</td><td>152</td><td>17</td></tr>",
                            "<tr><td>12</td><td>2016</td><td>152</td><td>103</td></tr>",
                            "<tr><td>8</td><td>2016</td><td>157</td><td>48</td></tr>",
                            "<tr><td>8</td><td>2016</td><td>157</td><td>134</td></tr>",
                            "<tr><td>4</td><td>2016</td><td>61</td><td>79</td></tr>",
                            "<tr><td>10</td><td>2016</td><td>103</td><td>52</td></tr>",
                            "<tr><td>10</td><td>2016</td><td>103</td><td>58</td></tr>",
                            "<tr><td>10</td><td>2016</td><td>103</td><td>101</td></tr>",
                            "<tr><td>12</td><td>2016</td><td>152</td><td>109</td></tr>",
                            "<tr><td>8</td><td>2016</td><td>157</td><td>91</td></tr>",
                            "<tr><td>8</td><td>2016</td><td>157</td><td>140</td></tr>",
                            "<tr><td>6</td><td>2017</td><td>29</td><td>15</td></tr>",
                            "<tr><td>11</td><td>2016</td><td>23</td><td>19</td></tr>",
                            "<tr><td>3</td><td>2016</td><td>35</td><td>7</td></tr>",
                            "<tr><td>5</td><td>2016</td><td>43</td><td>29</td></tr>",
                            "<tr><td>4</td><td>2016</td><td>61</td><td>99</td></tr>",
                            "<tr><td>9</td><td>2016</td><td>24</td><td>20</td></tr>",
                            "<tr><td>3</td><td>2016</td><td>35</td><td>30</td></tr>",
                            "<tr><td>5</td><td>2016</td><td>43</td><td>77</td></tr>",
                            "<tr><td>8</td><td>2016</td><td>157</td><td>8</td></tr>",
                            "<tr><td>10</td><td>2016</td><td>103</td><td>21</td></tr>",
                            "<tr><td>1</td><td>2016</td><td>63</td><td>15</td></tr>",
                            "<tr><td>1</td><td>2017</td><td>7</td><td>2</td></tr>",
                            "<tr><td>2</td><td>2016</td><td>13</td><td>6</td></tr>",
                            "<tr><td>6</td><td>2017</td><td>29</td><td>21</td></tr>",
                            "<tr><td>11</td><td>2016</td><td>23</td><td>13</td></tr>",
                            "<tr><td>8</td><td>2016</td><td>157</td><td>77</td></tr>",
                            "<tr><td>8</td><td>2016</td><td>157</td><td>148</td></tr>",
                            "<tr><td>8</td><td>2016</td><td>157</td><td>154</td></tr>",
                            "<tr><td>8</td><td>2017</td><td>47</td><td>5</td></tr>",
                            "<tr><td>6</td><td>2016</td><td>150</td><td>112</td></tr>",
                            "<tr><td>6</td><td>2016</td><td>150</td><td>118</td></tr>",
                            "<tr><td>8</td><td>2016</td><td>157</td><td>100</td></tr>",
                            "<tr><td>8</td><td>2016</td><td>157</td><td>131</td></tr>",
                            "<tr><td>6</td><td>2016</td><td>150</td><td>95</td></tr>",
                            "<tr><td>6</td><td>2016</td><td>150</td><td>66</td></tr>",
                            "<tr><td>10</td><td>2016</td><td>103</td><td>69</td></tr>",
                            "<tr><td>11</td><td>2017</td><td>3</td><td>1</td></tr>",
                            "<tr><td>7</td><td>2016</td><td>28</td><td>5</td></tr>",
                            "<tr><td>5</td><td>2016</td><td>43</td><td>6</td></tr>",
                            "<tr><td>8</td><td>2016</td><td>157</td><td>54</td></tr>",
                            "<tr><td>6</td><td>2016</td><td>150</td><td>141</td></tr>",
                            "<tr><td>10</td><td>2016</td><td>103</td><td>92</td></tr>",
                            "<tr><td>7</td><td>2016</td><td>28</td><td>28</td></tr>",
                            "<tr><td>3</td><td>2016</td><td>35</td><td>13</td></tr>",
                            "<tr><td>10</td><td>2016</td><td>103</td><td>38</td></tr>",
                            "<tr><td>5</td><td>2016</td><td>43</td><td>83</td></tr>",
                            "<tr><td>8</td><td>2016</td><td>157</td><td>14</td></tr>",
                            "<tr><td>6</td><td>2016</td><td>150</td><td>3</td></tr>",
                            "<tr><td>1</td><td>2016</td><td>63</td><td>9</td></tr>",
                            "<tr><td>4</td><td>2016</td><td>61</td><td>47</td></tr>",
                            "<tr><td>12</td><td>2016</td><td>152</td><td>40</td></tr>",
                            "<tr><td>8</td><td>2016</td><td>157</td><td>25</td></tr>",
                            "<tr><td>8</td><td>2016</td><td>157</td><td>108</td></tr>",
                            "<tr><td>9</td><td>2017</td><td>5</td><td>3</td></tr>",
                            "<tr><td>10</td><td>2016</td><td>103</td><td>75</td></tr>",
                            "<tr><td>4</td><td>2017</td><td>12</td><td>20</td></tr>",
                            "<tr><td>8</td><td>2017</td><td>47</td><td>22</td></tr>",
                            "<tr><td>6</td><td>2016</td><td>150</td><td>49</td></tr>",
                            "<tr><td>1</td><td>2016</td><td>63</td><td>55</td></tr>",
                            "<tr><td>12</td><td>2016</td><td>152</td><td>80</td></tr>",
                            "<tr><td>12</td><td>2016</td><td>152</td><td>86</td></tr>",
                            "<tr><td>8</td><td>2016</td><td>157</td><td>71</td></tr>",
                            "<tr><td>6</td><td>2016</td><td>150</td><td>106</td></tr>",
                            "<tr><td>10</td><td>2016</td><td>103</td><td>29</td></tr>",
                            "<tr><td>12</td><td>2017</td><td>27</td><td>7</td></tr>",
                            "<tr><td>12</td><td>2017</td><td>27</td><td>13</td></tr>",
                            "<tr><td>6</td><td>2016</td><td>150</td><td>58</td></tr>",
                            "<tr><td>1</td><td>2016</td><td>63</td><td>46</td></tr>",
                            "<tr><td>12</td><td>2016</td><td>152</td><td>132</td></tr>",
                            "<tr><td>8</td><td>2016</td><td>157</td><td>114</td></tr>",
                            "<tr><td>8</td><td>2016</td><td>157</td><td>117</td></tr>",
                            "<tr><td>7</td><td>2017</td><td>6</td><td>5</td></tr>",
                            "<tr><td>2</td><td>2016</td><td>13</td><td>12</td></tr>",
                            "<tr><td>8</td><td>2017</td><td>47</td><td>16</td></tr>",
                            "<tr><td>8</td><td>2016</td><td>157</td><td>68</td></tr>",
                            "<tr><td>5</td><td>2016</td><td>43</td><td>40</td></tr>",
                            "<tr><td>5</td><td>2016</td><td>43</td><td>89</td></tr>",
                            "<tr><td>12</td><td>2016</td><td>152</td><td>143</td></tr>",
                            "<tr><td>6</td><td>2016</td><td>150</td><td>9</td></tr>",
                            "<tr><td>11</td><td>2016</td><td>23</td><td>22</td></tr>",
                            "<tr><td>1</td><td>2016</td><td>63</td><td>3</td></tr>",
                            "<tr><td>12</td><td>2017</td><td>27</td><td>27</td></tr>",
                            "<tr><td>8</td><td>2017</td><td>47</td><td>36</td></tr>",
                            "<tr><td>6</td><td>2016</td><td>150</td><td>149</td></tr>",
                            "<tr><td>7</td><td>2016</td><td>28</td><td>11</td></tr>",
                            "<tr><td>12</td><td>2017</td><td>27</td><td>4</td></tr>",
                            "<tr><td>4</td><td>2016</td><td>61</td><td>90</td></tr>",
                            "<tr><td>11</td><td>2016</td><td>23</td><td>2</td></tr>",
                            "<tr><td>12</td><td>2016</td><td>152</td><td>20</td></tr>",
                            "<tr><td>12</td><td>2016</td><td>152</td><td>120</td></tr>",
                            "<tr><td>6</td><td>2017</td><td>29</td><td>4</td></tr>",
                            "<tr><td>4</td><td>2016</td><td>61</td><td>39</td></tr>",
                            "<tr><td>5</td><td>2017</td><td>10</td><td>15</td></tr>",
                            "<tr><td>12</td><td>2016</td><td>152</td><td>6</td></tr>",
                            "<tr><td>6</td><td>2016</td><td>150</td><td>121</td></tr>",
                            "<tr><td>12</td><td>2016</td><td>152</td><td>100</td></tr>",
                            "<tr><td>12</td><td>2016</td><td>152</td><td>112</td></tr>",
                            "<tr><td>12</td><td>2016</td><td>152</td><td>149</td></tr>",
                            "<tr><td>8</td><td>2016</td><td>157</td><td>2</td></tr>",
                            "<tr><td>8</td><td>2016</td><td>157</td><td>51</td></tr>",
                            "<tr><td>11</td><td>2016</td><td>23</td><td>16</td></tr>",
                            "<tr><td>6</td><td>2016</td><td>150</td><td>72</td></tr>",
                            "<tr><td>10</td><td>2017</td><td>20</td><td>4</td></tr>",
                            "<tr><td>4</td><td>2016</td><td>61</td><td>33</td></tr>",
                            "<tr><td>6</td><td>2016</td><td>150</td><td>86</td></tr>",
                            "<tr><td>6</td><td>2016</td><td>150</td><td>135</td></tr>",
                            "<tr><td>10</td><td>2016</td><td>103</td><td>12</td></tr>",
                            "<tr><td>10</td><td>2016</td><td>103</td><td>49</td></tr>",
                            "<tr><td>10</td><td>2016</td><td>103</td><td>61</td></tr>",
                            "<tr><td>10</td><td>2016</td><td>103</td><td>98</td></tr>",
                            "<tr><td>5</td><td>2016</td><td>43</td><td>14</td></tr>",
                            "<tr><td>9</td><td>2016</td><td>24</td><td>11</td></tr>",
                            "<tr><td>9</td><td>2016</td><td>24</td><td>17</td></tr>",
                            "<tr><td>6</td><td>2016</td><td>150</td><td>29</td></tr>",
                            "<tr><td>6</td><td>2016</td><td>150</td><td>35</td></tr>",
                            "<tr><td>12</td><td>2016</td><td>152</td><td>57</td></tr>",
                            "<tr><td>12</td><td>2016</td><td>152</td><td>63</td></tr>",
                            "<tr><td>8</td><td>2016</td><td>157</td><td>88</td></tr>",
                            "<tr><td>8</td><td>2016</td><td>157</td><td>94</td></tr>",
                            "<tr><td>6</td><td>2017</td><td>29</td><td>18</td></tr>",
                            "<tr><td>5</td><td>2016</td><td>43</td><td>69</td></tr>",
                            "<tr><td>8</td><td>2017</td><td>47</td><td>42</td></tr>",
                            "<tr><td>6</td><td>2016</td><td>150</td><td>78</td></tr>",
                            "<tr><td>10</td><td>2017</td><td>20</td><td>10</td></tr>",
                            "<tr><td>7</td><td>2016</td><td>28</td><td>17</td></tr>",
                            "<tr><td>3</td><td>2016</td><td>35</td><td>27</td></tr>",
                            "<tr><td>6</td><td>2016</td><td>150</td><td>129</td></tr>",
                            "<tr><td>10</td><td>2016</td><td>103</td><td>55</td></tr>",
                            "<tr><td>4</td><td>2016</td><td>61</td><td>52</td></tr>",
                            "<tr><td>4</td><td>2017</td><td>12</td><td>15</td></tr>",
                            "<tr><td>12</td><td>2016</td><td>152</td><td>131</td></tr>",
                            "<tr><td>4</td><td>2016</td><td>61</td><td>4</td></tr>",
                            "<tr><td>8</td><td>2016</td><td>157</td><td>105</td></tr>",
                            "<tr><td>10</td><td>2016</td><td>103</td><td>20</td></tr>",
                            "<tr><td>1</td><td>2017</td><td>7</td><td>3</td></tr>",
                            "<tr><td>9</td><td>2016</td><td>24</td><td>19</td></tr>",
                            "<tr><td>6</td><td>2017</td><td>29</td><td>22</td></tr>",
                            "<tr><td>5</td><td>2016</td><td>43</td><td>74</td></tr>",
                            "<tr><td>8</td><td>2016</td><td>157</td><td>30</td></tr>",
                            "<tr><td>10</td><td>2016</td><td>103</td><td>89</td></tr>",
                            "<tr><td>3</td><td>2016</td><td>35</td><td>35</td></tr>",
                            "<tr><td>5</td><td>2016</td><td>43</td><td>51</td></tr>",
                            "<tr><td>6</td><td>2016</td><td>150</td><td>94</td></tr>",
                            "<tr><td>3</td><td>2016</td><td>35</td><td>12</td></tr>",
                            "<tr><td>5</td><td>2016</td><td>43</td><td>28</td></tr>",
                            "<tr><td>8</td><td>2016</td><td>157</td><td>76</td></tr>",
                            "<tr><td>8</td><td>2016</td><td>157</td><td>153</td></tr>",
                            "<tr><td>6</td><td>2016</td><td>150</td><td>40</td></tr>",
                            "<tr><td>10</td><td>2016</td><td>103</td><td>43</td></tr>",
                            "<tr><td>1</td><td>2016</td><td>63</td><td>37</td></tr>",
                            "<tr><td>12</td><td>2017</td><td>27</td><td>22</td></tr>",
                            "<tr><td>8</td><td>2016</td><td>157</td><td>53</td></tr>",
                            "<tr><td>6</td><td>2016</td><td>150</td><td>17</td></tr>",
                            "<tr><td>6</td><td>2016</td><td>150</td><td>140</td></tr>",
                            "<tr><td>10</td><td>2016</td><td>103</td><td>66</td></tr>",
                            "<tr><td>11</td><td>2017</td><td>3</td><td>2</td></tr>",
                            "<tr><td>1</td><td>2016</td><td>63</td><td>60</td></tr>",
                            "<tr><td>7</td><td>2016</td><td>28</td><td>2</td></tr>",
                            "<tr><td>4</td><td>2017</td><td>12</td><td>21</td></tr>",
                            "<tr><td>12</td><td>2016</td><td>152</td><td>125</td></tr>",
                            "<tr><td>12</td><td>2016</td><td>152</td><td>137</td></tr>",
                            "<tr><td>8</td><td>2016</td><td>157</td><td>122</td></tr>",
                            "<tr><td>8</td><td>2017</td><td>47</td><td>8</td></tr>",
                            "<tr><td>10</td><td>2016</td><td>103</td><td>74</td></tr>",
                            "<tr><td>5</td><td>2016</td><td>43</td><td>82</td></tr>",
                            "<tr><td>6</td><td>2016</td><td>150</td><td>63</td></tr>",
                            "<tr><td>10</td><td>2016</td><td>103</td><td>26</td></tr>",
                            "<tr><td>1</td><td>2016</td><td>63</td><td>8</td></tr>",
                            "<tr><td>5</td><td>2016</td><td>43</td><td>34</td></tr>",
                            "<tr><td>4</td><td>2016</td><td>61</td><td>104</td></tr>",
                            "<tr><td>12</td><td>2016</td><td>152</td><td>91</td></tr>",
                            "<tr><td>6</td><td>2016</td><td>150</td><td>111</td></tr>",
                            "<tr><td>10</td><td>2016</td><td>103</td><td>37</td></tr>",
                            "<tr><td>1</td><td>2016</td><td>63</td><td>43</td></tr>",
                            "<tr><td>4</td><td>2016</td><td>61</td><td>44</td></tr>",
                            "<tr><td>9</td><td>2017</td><td>5</td><td>4</td></tr>",
                            "<tr><td>6</td><td>2016</td><td>150</td><td>146</td></tr>",
                            "<tr><td>1</td><td>2016</td><td>63</td><td>54</td></tr>",
                            "<tr><td>12</td><td>2017</td><td>27</td><td>8</td></tr>",
                            "<tr><td>12</td><td>2017</td><td>27</td><td>14</td></tr>",
                            "<tr><td>8</td><td>2017</td><td>47</td><td>17</td></tr>",
                            "<tr><td>10</td><td>2016</td><td>103</td><td>83</td></tr>",
                            "<tr><td>8</td><td>2016</td><td>157</td><td>13</td></tr>",
                            "<tr><td>8</td><td>2016</td><td>157</td><td>19</td></tr>",
                            "<tr><td>6</td><td>2016</td><td>150</td><td>100</td></tr>",
                            "<tr><td>4</td><td>2016</td><td>61</td><td>98</td></tr>",
                            "<tr><td>12</td><td>2016</td><td>152</td><td>85</td></tr>",
                            "<tr><td>2</td><td>2016</td><td>13</td><td>11</td></tr>",
                            "<tr><td>6</td><td>2016</td><td>150</td><td>54</td></tr>",
                            "<tr><td>7</td><td>2017</td><td>6</td><td>6</td></tr>",
                            "<tr><td>12</td><td>2016</td><td>152</td><td>48</td></tr>",
                            "<tr><td>12</td><td>2017</td><td>27</td><td>5</td></tr>",
                            "<tr><td>8</td><td>2017</td><td>47</td><td>14</td></tr>",
                            "<tr><td>5</td><td>2016</td><td>43</td><td>88</td></tr>",
                            "<tr><td>12</td><td>2016</td><td>152</td><td>25</td></tr>",
                            "<tr><td>8</td><td>2016</td><td>157</td><td>93</td></tr>",
                            "<tr><td>6</td><td>2016</td><td>150</td><td>8</td></tr>",
                            "<tr><td>1</td><td>2016</td><td>63</td><td>51</td></tr>",
                            "<tr><td>3</td><td>2016</td><td>35</td><td>18</td></tr>",
                            "<tr><td>10</td><td>2016</td><td>103</td><td>34</td></tr>",
                            "<tr><td>11</td><td>2016</td><td>23</td><td>1</td></tr>",
                            "<tr><td>1</td><td>2016</td><td>63</td><td>28</td></tr>",
                            "<tr><td>8</td><td>2016</td><td>157</td><td>22</td></tr>",
                            "<tr><td>4</td><td>2016</td><td>61</td><td>61</td></tr>",
                            "<tr><td>12</td><td>2016</td><td>152</td><td>74</td></tr>",
                            "<tr><td>12</td><td>2016</td><td>152</td><td>117</td></tr>",
                            "<tr><td>10</td><td>2017</td><td>20</td><td>19</td></tr>",
                            "<tr><td>4</td><td>2016</td><td>61</td><td>87</td></tr>",
                            "<tr><td>4</td><td>2017</td><td>12</td><td>1</td></tr>",
                            "<tr><td>12</td><td>2016</td><td>152</td><td>54</td></tr>",
                            "<tr><td>10</td><td>2016</td><td>103</td><td>3</td></tr>",
                            "<tr><td>5</td><td>2017</td><td>10</td><td>16</td></tr>",
                            "<tr><td>12</td><td>2016</td><td>152</td><td>148</td></tr>",
                            "<tr><td>8</td><td>2016</td><td>157</td><td>50</td></tr>",
                            "<tr><td>8</td><td>2016</td><td>157</td><td>99</td></tr>",
                            "<tr><td>8</td><td>2017</td><td>47</td><td>31</td></tr>",
                            "<tr><td>9</td><td>2016</td><td>24</td><td>2</td></tr>",
                            "<tr><td>10</td><td>2017</td><td>20</td><td>5</td></tr>",
                            "<tr><td>1</td><td>2016</td><td>63</td><td>20</td></tr>",
                            "<tr><td>12</td><td>2016</td><td>152</td><td>5</td></tr>",
                            "<tr><td>8</td><td>2016</td><td>157</td><td>85</td></tr>",
                            "<tr><td>9</td><td>2016</td><td>24</td><td>16</td></tr>",
                            "<tr><td>6</td><td>2016</td><td>150</td><td>120</td></tr>",
                            "<tr><td>4</td><td>2016</td><td>61</td><td>32</td></tr>",
                            "<tr><td>4</td><td>2016</td><td>61</td><td>81</td></tr>",
                            "<tr><td>6</td><td>2016</td><td>150</td><td>134</td></tr>",
                            "<tr><td>10</td><td>2016</td><td>103</td><td>60</td></tr>",
                            "<tr><td>10</td><td>2016</td><td>103</td><td>97</td></tr>",
                            "<tr><td>5</td><td>2016</td><td>43</td><td>62</td></tr>",
                            "<tr><td>8</td><td>2016</td><td>157</td><td>36</td></tr>",
                            "<tr><td>8</td><td>2016</td><td>157</td><td>42</td></tr>",
                            "<tr><td>6</td><td>2016</td><td>150</td><td>77</td></tr>",
                            "<tr><td>6</td><td>2016</td><td>150</td><td>83</td></tr>",
                            "<tr><td>7</td><td>2016</td><td>28</td><td>10</td></tr>",
                            "<tr><td>7</td><td>2016</td><td>28</td><td>16</td></tr>",
                            "<tr><td>8</td><td>2016</td><td>157</td><td>136</td></tr>",
                            "<tr><td>8</td><td>2016</td><td>157</td><td>142</td></tr>",
                            "<tr><td>11</td><td>2016</td><td>23</td><td>15</td></tr>",
                            "<tr><td>11</td><td>2016</td><td>23</td><td>21</td></tr>",
                            "<tr><td>12</td><td>2016</td><td>152</td><td>11</td></tr>",
                            "<tr><td>6</td><td>2016</td><td>150</td><td>126</td></tr>",
                            "<tr><td>10</td><td>2016</td><td>103</td><td>54</td></tr>",
                            "<tr><td>10</td><td>2016</td><td>103</td><td>103</td></tr>",
                            "<tr><td>8</td><td>2016</td><td>157</td><td>56</td></tr>",
                            "<tr><td>6</td><td>2016</td><td>150</td><td>20</td></tr>",
                            "<tr><td>1</td><td>2016</td><td>63</td><td>63</td></tr>",
                            "<tr><td>6</td><td>2017</td><td>29</td><td>19</td></tr>",
                            "<tr><td>1</td><td>2016</td><td>63</td><td>40</td></tr>",
                            "<tr><td>3</td><td>2016</td><td>35</td><td>32</td></tr>",
                            "<tr><td>8</td><td>2016</td><td>157</td><td>10</td></tr>",
                            "<tr><td>10</td><td>2016</td><td>103</td><td>23</td></tr>",
                            "<tr><td>1</td><td>2016</td><td>63</td><td>17</td></tr>",
                            "<tr><td>8</td><td>2016</td><td>157</td><td>125</td></tr>",
                            "<tr><td>6</td><td>2016</td><td>150</td><td>137</td></tr>",
                            "<tr><td>6</td><td>2016</td><td>150</td><td>143</td></tr>",
                            "<tr><td>8</td><td>2016</td><td>157</td><td>79</td></tr>",
                            "<tr><td>6</td><td>2016</td><td>150</td><td>43</td></tr>",
                            "<tr><td>6</td><td>2016</td><td>150</td><td>114</td></tr>",
                            "<tr><td>10</td><td>2016</td><td>103</td><td>40</td></tr>",
                            "<tr><td>11</td><td>2016</td><td>23</td><td>7</td></tr>",
                            "<tr><td>1</td><td>2016</td><td>63</td><td>34</td></tr>",
                            "<tr><td>8</td><td>2017</td><td>47</td><td>28</td></tr>",
                            "<tr><td>6</td><td>2016</td><td>150</td><td>91</td></tr>",
                            "<tr><td>6</td><td>2017</td><td>29</td><td>2</td></tr>",
                            "<tr><td>10</td><td>2016</td><td>103</td><td>17</td></tr>",
                            "<tr><td>1</td><td>2016</td><td>63</td><td>11</td></tr>",
                            "<tr><td>5</td><td>2016</td><td>43</td><td>94</td></tr>",
                            "<tr><td>9</td><td>2017</td><td>5</td><td>1</td></tr>",
                            "<tr><td>6</td><td>2016</td><td>150</td><td>14</td></tr>",
                            "<tr><td>6</td><td>2016</td><td>150</td><td>51</td></tr>",
                            "<tr><td>1</td><td>2016</td><td>63</td><td>57</td></tr>",
                            "<tr><td>7</td><td>2017</td><td>6</td><td>3</td></tr>",
                            "<tr><td>4</td><td>2016</td><td>61</td><td>95</td></tr>",
                            "<tr><td>12</td><td>2016</td><td>152</td><td>88</td></tr>",
                            "<tr><td>8</td><td>2016</td><td>157</td><td>73</td></tr>",
                            "<tr><td>8</td><td>2016</td><td>157</td><td>156</td></tr>",
                            "<tr><td>6</td><td>2016</td><td>150</td><td>60</td></tr>",
                            "<tr><td>6</td><td>2016</td><td>150</td><td>97</td></tr>",
                            "<tr><td>12</td><td>2016</td><td>152</td><td>128</td></tr>",
                            "<tr><td>12</td><td>2016</td><td>152</td><td>134</td></tr>",
                            "<tr><td>8</td><td>2016</td><td>157</td><td>119</td></tr>",
                            "<tr><td>8</td><td>2017</td><td>47</td><td>11</td></tr>",
                            "<tr><td>2</td><td>2016</td><td>13</td><td>8</td></tr>",
                            "<tr><td>4</td><td>2016</td><td>61</td><td>101</td></tr>",
                            "<tr><td>3</td><td>2016</td><td>35</td><td>1</td></tr>",
                            "<tr><td>12</td><td>2016</td><td>152</td><td>34</td></tr>",
                            "<tr><td>6</td><td>2016</td><td>150</td><td>103</td></tr>",
                            "<tr><td>4</td><td>2016</td><td>61</td><td>64</td></tr>",
                            "<tr><td>6</td><td>2016</td><td>150</td><td>80</td></tr>",
                            "<tr><td>4</td><td>2016</td><td>61</td><td>41</td></tr>",
                            "<tr><td>4</td><td>2017</td><td>12</td><td>4</td></tr>",
                            "<tr><td>10</td><td>2016</td><td>103</td><td>57</td></tr>",
                            "<tr><td>3</td><td>2016</td><td>35</td><td>21</td></tr>",
                            "<tr><td>8</td><td>2016</td><td>157</td><td>70</td></tr>",
                            "<tr><td>6</td><td>2017</td><td>29</td><td>10</td></tr>",
                            "<tr><td>6</td><td>2016</td><td>150</td><td>11</td></tr>",
                            "<tr><td>10</td><td>2017</td><td>20</td><td>2</td></tr>",
                            "<tr><td>12</td><td>2016</td><td>152</td><td>45</td></tr>",
                            "<tr><td>12</td><td>2016</td><td>152</td><td>51</td></tr>",
                            "<tr><td>12</td><td>2017</td><td>27</td><td>2</td></tr>",
                            "<tr><td>4</td><td>2016</td><td>61</td><td>84</td></tr>",
                            "<tr><td>3</td><td>2016</td><td>35</td><td>15</td></tr>",
                            "<tr><td>4</td><td>2016</td><td>61</td><td>15</td></tr>",
                            "<tr><td>12</td><td>2016</td><td>152</td><td>94</td></tr>",
                            "<tr><td>11</td><td>2016</td><td>23</td><td>4</td></tr>",
                            "<tr><td>12</td><td>2016</td><td>152</td><td>71</td></tr>",
                            "<tr><td>12</td><td>2016</td><td>152</td><td>145</td></tr>",
                            "<tr><td>7</td><td>2016</td><td>28</td><td>19</td></tr>",
                            "<tr><td>4</td><td>2016</td><td>61</td><td>35</td></tr>",
                            "<tr><td>10</td><td>2016</td><td>103</td><td>14</td></tr>",
                            "<tr><td>4</td><td>2016</td><td>61</td><td>21</td></tr>",
                            "<tr><td>6</td><td>2016</td><td>150</td><td>37</td></tr>",
                            "<tr><td>6</td><td>2016</td><td>150</td><td>123</td></tr>",
                            "<tr><td>10</td><td>2017</td><td>20</td><td>16</td></tr>",
                            "<tr><td>1</td><td>2016</td><td>63</td><td>31</td></tr>",
                            "<tr><td>12</td><td>2016</td><td>152</td><td>102</td></tr>",
                            "<tr><td>12</td><td>2016</td><td>152</td><td>151</td></tr>",
                            "<tr><td>8</td><td>2016</td><td>157</td><td>96</td></tr>",
                            "<tr><td>8</td><td>2016</td><td>157</td><td>133</td></tr>",
                            "<tr><td>9</td><td>2016</td><td>24</td><td>5</td></tr>",
                            "<tr><td>10</td><td>2016</td><td>103</td><td>6</td></tr>",
                            "<tr><td>4</td><td>2016</td><td>61</td><td>72</td></tr>",
                            "<tr><td>4</td><td>2016</td><td>61</td><td>78</td></tr>",
                            "<tr><td>12</td><td>2016</td><td>152</td><td>8</td></tr>",
                            "<tr><td>9</td><td>2016</td><td>24</td><td>13</td></tr>",
                            "<tr><td>6</td><td>2016</td><td>150</td><td>31</td></tr>",
                            "<tr><td>6</td><td>2017</td><td>29</td><td>16</td></tr>",
                            "<tr><td>5</td><td>2017</td><td>10</td><td>19</td></tr>",
                            "<tr><td>12</td><td>2016</td><td>152</td><td>108</td></tr>",
                            "<tr><td>8</td><td>2016</td><td>157</td><td>139</td></tr>",
                            "<tr><td>8</td><td>2017</td><td>47</td><td>40</td></tr>",
                            "<tr><td>10</td><td>2017</td><td>20</td><td>8</td></tr>",
                            "<tr><td>11</td><td>2016</td><td>23</td><td>18</td></tr>",
                            "<tr><td>5</td><td>2016</td><td>43</td><td>53</td></tr>",
                            "<tr><td>10</td><td>2016</td><td>103</td><td>68</td></tr>",
                            "<tr><td>1</td><td>2016</td><td>63</td><td>62</td></tr>",
                            "<tr><td>9</td><td>2016</td><td>24</td><td>21</td></tr>",
                            "<tr><td>10</td><td>2016</td><td>103</td><td>45</td></tr>",
                            "<tr><td>1</td><td>2016</td><td>63</td><td>39</td></tr>",
                            "<tr><td>3</td><td>2016</td><td>35</td><td>6</td></tr>",
                            "<tr><td>10</td><td>2016</td><td>103</td><td>22</td></tr>",
                            "<tr><td>1</td><td>2016</td><td>63</td><td>16</td></tr>",
                            "<tr><td>2</td><td>2016</td><td>13</td><td>5</td></tr>",
                            "<tr><td>10</td><td>2017</td><td>20</td><td>14</td></tr>",
                            "<tr><td>11</td><td>2016</td><td>23</td><td>12</td></tr>",
                            "<tr><td>12</td><td>2017</td><td>27</td><td>20</td></tr>",
                            "<tr><td>8</td><td>2016</td><td>157</td><td>101</td></tr>",
                            "<tr><td>8</td><td>2016</td><td>157</td><td>107</td></tr>",
                            "<tr><td>6</td><td>2016</td><td>150</td><td>65</td></tr>",
                            "<tr><td>7</td><td>2016</td><td>28</td><td>4</td></tr>",
                            "<tr><td>8</td><td>2016</td><td>157</td><td>7</td></tr>",
                            "<tr><td>8</td><td>2016</td><td>157</td><td>124</td></tr>",
                            "<tr><td>8</td><td>2016</td><td>157</td><td>130</td></tr>",
                            "<tr><td>8</td><td>2017</td><td>47</td><td>6</td></tr>",
                            "<tr><td>6</td><td>2016</td><td>150</td><td>88</td></tr>",
                            "<tr><td>6</td><td>2016</td><td>150</td><td>119</td></tr>",
                            "<tr><td>8</td><td>2016</td><td>157</td><td>55</td></tr>",
                            "<tr><td>6</td><td>2016</td><td>150</td><td>19</td></tr>",
                            "<tr><td>5</td><td>2016</td><td>43</td><td>30</td></tr>",
                            "<tr><td>6</td><td>2016</td><td>150</td><td>42</td></tr>",
                            "<tr><td>7</td><td>2016</td><td>28</td><td>27</td></tr>",
                            "<tr><td>4</td><td>2016</td><td>61</td><td>46</td></tr>",
                            "<tr><td>8</td><td>2016</td><td>157</td><td>15</td></tr>",
                            "<tr><td>1</td><td>2016</td><td>63</td><td>56</td></tr>",
                            "<tr><td>12</td><td>2016</td><td>152</td><td>79</td></tr>",
                            "<tr><td>6</td><td>2016</td><td>150</td><td>13</td></tr>",
                            "<tr><td>6</td><td>2016</td><td>150</td><td>96</td></tr>",
                            "<tr><td>4</td><td>2017</td><td>12</td><td>7</td></tr>",
                            "<tr><td>12</td><td>2016</td><td>152</td><td>139</td></tr>",
                            "<tr><td>6</td><td>2016</td><td>150</td><td>48</td></tr>",
                            "<tr><td>10</td><td>2016</td><td>103</td><td>85</td></tr>",
                            "<tr><td>12</td><td>2016</td><td>152</td><td>87</td></tr>",
                            "<tr><td>8</td><td>2016</td><td>157</td><td>118</td></tr>",
                            "<tr><td>8</td><td>2017</td><td>47</td><td>12</td></tr>",
                            "<tr><td>2</td><td>2016</td><td>13</td><td>13</td></tr>",
                            "<tr><td>5</td><td>2016</td><td>43</td><td>93</td></tr>",
                            "<tr><td>8</td><td>2016</td><td>157</td><td>67</td></tr>",
                            "<tr><td>6</td><td>2016</td><td>150</td><td>102</td></tr>",
                            "<tr><td>6</td><td>2016</td><td>150</td><td>105</td></tr>",
                            "<tr><td>10</td><td>2016</td><td>103</td><td>28</td></tr>",
                            "<tr><td>4</td><td>2016</td><td>61</td><td>100</td></tr>",
                            "<tr><td>4</td><td>2017</td><td>12</td><td>13</td></tr>",
                            "<tr><td>12</td><td>2016</td><td>152</td><td>119</td></tr>",
                            "<tr><td>11</td><td>2016</td><td>23</td><td>23</td></tr>",
                            "<tr><td>8</td><td>2016</td><td>157</td><td>44</td></tr>",
                            "<tr><td>1</td><td>2016</td><td>63</td><td>2</td></tr>",
                            "<tr><td>3</td><td>2016</td><td>35</td><td>20</td></tr>",
                            "<tr><td>10</td><td>2016</td><td>103</td><td>11</td></tr>",
                            "<tr><td>2</td><td>2017</td><td>5</td><td>1</td></tr>",
                            "<tr><td>12</td><td>2016</td><td>152</td><td>27</td></tr>",
                            "<tr><td>12</td><td>2017</td><td>27</td><td>26</td></tr>",
                            "<tr><td>8</td><td>2016</td><td>157</td><td>24</td></tr>",
                            "<tr><td>12</td><td>2016</td><td>152</td><td>50</td></tr>",
                            "<tr><td>12</td><td>2016</td><td>152</td><td>93</td></tr>",
                            "<tr><td>8</td><td>2016</td><td>157</td><td>1</td></tr>",
                            "<tr><td>11</td><td>2016</td><td>23</td><td>3</td></tr>",
                            "<tr><td>12</td><td>2016</td><td>152</td><td>70</td></tr>",
                            "<tr><td>3</td><td>2016</td><td>35</td><td>14</td></tr>",
                            "<tr><td>12</td><td>2016</td><td>152</td><td>113</td></tr>",
                            "<tr><td>10</td><td>2016</td><td>103</td><td>62</td></tr>",
                            "<tr><td>12</td><td>2016</td><td>152</td><td>7</td></tr>",
                            "<tr><td>8</td><td>2016</td><td>157</td><td>87</td></tr>",
                            "<tr><td>10</td><td>2017</td><td>20</td><td>17</td></tr>",
                            "<tr><td>7</td><td>2016</td><td>28</td><td>18</td></tr>",
                            "<tr><td>5</td><td>2016</td><td>43</td><td>13</td></tr>",
                            "<tr><td>12</td><td>2016</td><td>152</td><td>150</td></tr>",
                            "<tr><td>9</td><td>2016</td><td>24</td><td>4</td></tr>",
                            "<tr><td>6</td><td>2016</td><td>150</td><td>36</td></tr>",
                            "<tr><td>6</td><td>2016</td><td>150</td><td>85</td></tr>",
                            "<tr><td>6</td><td>2016</td><td>150</td><td>122</td></tr>",
                            "<tr><td>10</td><td>2016</td><td>103</td><td>48</td></tr>",
                            "<tr><td>8</td><td>2017</td><td>47</td><td>35</td></tr>",
                            "<tr><td>10</td><td>2017</td><td>20</td><td>3</td></tr>",
                            "<tr><td>4</td><td>2016</td><td>61</td><td>77</td></tr>",
                            "<tr><td>9</td><td>2016</td><td>24</td><td>10</td></tr>",
                            "<tr><td>1</td><td>2016</td><td>63</td><td>22</td></tr>",
                            "<tr><td>3</td><td>2016</td><td>35</td><td>26</td></tr>",
                            "<tr><td>4</td><td>2016</td><td>61</td><td>26</td></tr>",
                            "<tr><td>6</td><td>2016</td><td>150</td><td>79</td></tr>",
                            "<tr><td>6</td><td>2016</td><td>150</td><td>128</td></tr>",
                            "<tr><td>10</td><td>2016</td><td>103</td><td>5</td></tr>",
                            "<tr><td>12</td><td>2016</td><td>152</td><td>36</td></tr>",
                            "<tr><td>12</td><td>2016</td><td>152</td><td>107</td></tr>",
                            "<tr><td>8</td><td>2016</td><td>157</td><td>104</td></tr>",
                            "<tr><td>6</td><td>2016</td><td>150</td><td>139</td></tr>",
                            "<tr><td>7</td><td>2016</td><td>28</td><td>1</td></tr>",
                            "<tr><td>5</td><td>2017</td><td>10</td><td>22</td></tr>",
                            "<tr><td>12</td><td>2016</td><td>152</td><td>13</td></tr>",
                            "<tr><td>12</td><td>2016</td><td>152</td><td>130</td></tr>",
                            "<tr><td>8</td><td>2016</td><td>157</td><td>81</td></tr>",
                            "<tr><td>10</td><td>2017</td><td>20</td><td>11</td></tr>",
                            "<tr><td>7</td><td>2016</td><td>28</td><td>24</td></tr>",
                            "<tr><td>8</td><td>2016</td><td>157</td><td>58</td></tr>",
                            "<tr><td>8</td><td>2016</td><td>157</td><td>35</td></tr>",
                            "<tr><td>9</td><td>2016</td><td>24</td><td>18</td></tr>",
                            "<tr><td>3</td><td>2016</td><td>35</td><td>34</td></tr>",
                            "<tr><td>10</td><td>2016</td><td>103</td><td>71</td></tr>",
                            "<tr><td>1</td><td>2016</td><td>63</td><td>59</td></tr>",
                            "<tr><td>2</td><td>2016</td><td>13</td><td>2</td></tr>",
                            "<tr><td>10</td><td>2016</td><td>103</td><td>88</td></tr>",
                            "<tr><td>10</td><td>2016</td><td>103</td><td>94</td></tr>",
                            "<tr><td>11</td><td>2016</td><td>23</td><td>9</td></tr>",
                            "<tr><td>9</td><td>2016</td><td>24</td><td>1</td></tr>",
                            "<tr><td>6</td><td>2017</td><td>29</td><td>25</td></tr>",
                            "<tr><td>8</td><td>2016</td><td>157</td><td>127</td></tr>",
                            "<tr><td>8</td><td>2017</td><td>47</td><td>3</td></tr>",
                            "<tr><td>9</td><td>2016</td><td>24</td><td>24</td></tr>",
                            "<tr><td>1</td><td>2016</td><td>63</td><td>36</td></tr>",
                            "<tr><td>12</td><td>2016</td><td>152</td><td>30</td></tr>",
                            "<tr><td>8</td><td>2016</td><td>157</td><td>27</td></tr>",
                            "<tr><td>6</td><td>2016</td><td>150</td><td>62</td></tr>",
                            "<tr><td>4</td><td>2017</td><td>12</td><td>10</td></tr>",
                            "<tr><td>12</td><td>2016</td><td>152</td><td>136</td></tr>",
                            "<tr><td>8</td><td>2016</td><td>157</td><td>75</td></tr>",
                            "<tr><td>4</td><td>2016</td><td>61</td><td>9</td></tr>",
                            "<tr><td>12</td><td>2016</td><td>152</td><td>76</td></tr>",
                            "<tr><td>6</td><td>2016</td><td>150</td><td>99</td></tr>",
                            "<tr><td>10</td><td>2016</td><td>103</td><td>25</td></tr>",
                            "<tr><td>4</td><td>2016</td><td>61</td><td>57</td></tr>",
                            "<tr><td>12</td><td>2016</td><td>152</td><td>90</td></tr>",
                            "<tr><td>8</td><td>2016</td><td>157</td><td>121</td></tr>",
                            "<tr><td>8</td><td>2017</td><td>47</td><td>9</td></tr>",
                            "<tr><td>1</td><td>2016</td><td>63</td><td>42</td></tr>",
                            "<tr><td>4</td><td>2016</td><td>61</td><td>49</td></tr>",
                            "<tr><td>7</td><td>2017</td><td>6</td><td>1</td></tr>",
                            "<tr><td>4</td><td>2016</td><td>61</td><td>103</td></tr>",
                            "<tr><td>10</td><td>2016</td><td>103</td><td>82</td></tr>",
                            "<tr><td>3</td><td>2016</td><td>35</td><td>3</td></tr>",
                            "<tr><td>10</td><td>2016</td><td>103</td><td>31</td></tr>",
                            "<tr><td>6</td><td>2016</td><td>150</td><td>5</td></tr>",
                            "<tr><td>1</td><td>2016</td><td>63</td><td>48</td></tr>",
                            "<tr><td>8</td><td>2016</td><td>157</td><td>21</td></tr>",
                            "<tr><td>8</td><td>2017</td><td>47</td><td>38</td></tr>",
                            "<tr><td>6</td><td>2016</td><td>150</td><td>56</td></tr>",
                            "<tr><td>4</td><td>2016</td><td>61</td><td>17</td></tr>",
                            "<tr><td>6</td><td>2016</td><td>150</td><td>33</td></tr>",
                            "<tr><td>10</td><td>2016</td><td>103</td><td>8</td></tr>",
                            "<tr><td>5</td><td>2017</td><td>10</td><td>11</td></tr>",
                            "<tr><td>8</td><td>2016</td><td>157</td><td>47</td></tr>",
                            "<tr><td>6</td><td>2017</td><td>29</td><td>8</td></tr>",
                            "<tr><td>1</td><td>2016</td><td>63</td><td>5</td></tr>",
                            "<tr><td>4</td><td>2016</td><td>61</td><td>43</td></tr>",
                            "<tr><td>12</td><td>2016</td><td>152</td><td>116</td></tr>",
                            "<tr><td>3</td><td>2016</td><td>35</td><td>17</td></tr>",
                            "<tr><td>4</td><td>2016</td><td>61</td><td>66</td></tr>",
                            "<tr><td>12</td><td>2016</td><td>152</td><td>73</td></tr>",
                            "<tr><td>6</td><td>2017</td><td>29</td><td>28</td></tr>",
                            "<tr><td>12</td><td>2016</td><td>152</td><td>47</td></tr>",
                            "<tr><td>12</td><td>2016</td><td>152</td><td>96</td></tr>",
                            "<tr><td>10</td><td>2017</td><td>20</td><td>20</td></tr>",
                            "<tr><td>2</td><td>2017</td><td>5</td><td>4</td></tr>",
                            "<tr><td>3</td><td>2017</td><td>4</td><td>3</td></tr>",
                            "<tr><td>5</td><td>2016</td><td>43</td><td>59</td></tr>",
                            "<tr><td>12</td><td>2017</td><td>27</td><td>23</td></tr>",
                            "<tr><td>7</td><td>2016</td><td>28</td><td>7</td></tr>",
                            "<tr><td>4</td><td>2016</td><td>61</td><td>23</td></tr>",
                            "<tr><td>6</td><td>2016</td><td>150</td><td>39</td></tr>",
                            "<tr><td>10</td><td>2016</td><td>103</td><td>2</td></tr>",
                            "<tr><td>10</td><td>2016</td><td>103</td><td>51</td></tr>",
                            "<tr><td>1</td><td>2016</td><td>63</td><td>33</td></tr>",
                            "<tr><td>12</td><td>2016</td><td>152</td><td>67</td></tr>",
                            "<tr><td>8</td><td>2016</td><td>157</td><td>147</td></tr>",
                            "<tr><td>6</td><td>2016</td><td>150</td><td>25</td></tr>",
                            "<tr><td>1</td><td>2016</td><td>63</td><td>19</td></tr>",
                            "<tr><td>5</td><td>2016</td><td>43</td><td>73</td></tr>",
                            "<tr><td>12</td><td>2016</td><td>152</td><td>4</td></tr>",
                            "<tr><td>12</td><td>2016</td><td>152</td><td>16</td></tr>",
                            "<tr><td>12</td><td>2016</td><td>152</td><td>53</td></tr>",
                            "<tr><td>8</td><td>2016</td><td>157</td><td>84</td></tr>",
                            "<tr><td>8</td><td>2017</td><td>47</td><td>46</td></tr>",
                            "<tr><td>7</td><td>2016</td><td>28</td><td>21</td></tr>",
                            "<tr><td>12</td><td>2016</td><td>152</td><td>110</td></tr>",
                            "<tr><td>10</td><td>2016</td><td>103</td><td>59</td></tr>",
                            "<tr><td>11</td><td>2016</td><td>23</td><td>20</td></tr>",
                            "<tr><td>6</td><td>2016</td><td>150</td><td>76</td></tr>",
                            "<tr><td>6</td><td>2016</td><td>150</td><td>82</td></tr>",
                            "<tr><td>6</td><td>2016</td><td>150</td><td>125</td></tr>",
                            "<tr><td>8</td><td>2016</td><td>157</td><td>141</td></tr>",
                            "<tr><td>10</td><td>2016</td><td>103</td><td>102</td></tr>",
                            "<tr><td>1</td><td>2016</td><td>63</td><td>25</td></tr>",
                            "<tr><td>5</td><td>2016</td><td>43</td><td>67</td></tr>",
                            "<tr><td>12</td><td>2016</td><td>152</td><td>59</td></tr>",
                            "<tr><td>8</td><td>2016</td><td>157</td><td>41</td></tr>",
                            "<tr><td>6</td><td>2017</td><td>29</td><td>14</td></tr>",
                            "<tr><td>7</td><td>2016</td><td>28</td><td>15</td></tr>",
                            "</table>"
                        ]
                    }
                }
            ],
            "execution_count": 13
        },
        {
            "cell_type": "markdown",
            "source": [
                "5. <span style=\"background-color: rgb(255, 255, 255); color: rgb(0, 0, 0); font-family: &quot;Open Sans&quot;, sans-serif; font-size: 14.44px;\">Készítsük listát a szálláshelyekről! A lista tartalmazza a szálláshely azonosítóját, nevét, és a csillagok számát csillagszám szerint csökkenő, azon belül szállásnév szerint növekvő sorrendben!&nbsp;</span> \n",
                "\n",
                "a. Vegyünk fel két új oszlopot, amely a sorrend szerint előző szálláshely nevét, illetve azonosítóját is megjeleníti!"
            ],
            "metadata": {
                "azdata_cell_guid": "84239ca2-6b5e-49f5-9860-d44c11d6de32"
            },
            "attachments": {}
        },
        {
            "cell_type": "code",
            "source": [
                ""
            ],
            "metadata": {
                "azdata_cell_guid": "06d9a62b-9430-424b-a135-d80e675f0eb3",
                "language": "sql"
            },
            "outputs": [],
            "execution_count": null
        },
        {
            "cell_type": "markdown",
            "source": [
                "6. <span style=\"background-color: rgb(255, 255, 255); color: rgb(0, 0, 0); font-family: &quot;Open Sans&quot;, sans-serif; font-size: 14.44px;\">Listázzuk azon termékeket, amelyekből az átlagosnál kevesebb van raktáron!&nbsp;</span> \n",
                "\n",
                "a. Csak a termék kódja és megnevezése jelenjen meg!"
            ],
            "metadata": {
                "azdata_cell_guid": "b0d15045-3c43-4f3a-b8d4-76b4f24e5546"
            },
            "attachments": {}
        },
        {
            "cell_type": "code",
            "source": [
                "SELECT TERMEKKOD, MEGNEVEZES\r\n",
                "FROM Termek\r\n",
                "WHERE KESZLET <\r\n",
                "(\r\n",
                "    SELECT AVG(KESZLET)\r\n",
                "    FROM Termek\r\n",
                ")"
            ],
            "metadata": {
                "azdata_cell_guid": "f2b7400d-1255-40ac-9250-4d57f9da5357",
                "language": "sql"
            },
            "outputs": [
                {
                    "output_type": "error",
                    "evalue": "Msg 147, Level 15, State 1, Line 3\r\nAn aggregate may not appear in the WHERE clause unless it is in a subquery contained in a HAVING clause or a select list, and the column being aggregated is an outer reference.",
                    "ename": "",
                    "traceback": []
                },
                {
                    "output_type": "display_data",
                    "data": {
                        "text/html": "Total execution time: 00:00:00.001"
                    },
                    "metadata": {}
                }
            ],
            "execution_count": 15
        },
        {
            "cell_type": "markdown",
            "source": [
                "7. <span style=\"background-color: rgb(255, 255, 255); color: rgb(0, 0, 0); font-family: &quot;Open Sans&quot;, sans-serif; font-size: 14.44px;\">Listázzuk azon ügyfeleket, akik még nem fizettek bankkártyával!&nbsp;</span> \n",
                "\n",
                "a. Csak az ügyfelek neve jelenjen meg!"
            ],
            "metadata": {
                "azdata_cell_guid": "7ebf7ddd-1bd2-4246-815a-be8ae37e3b5b"
            },
            "attachments": {}
        },
        {
            "cell_type": "code",
            "source": [
                "SELECT nev\r\n",
                "FROM Ugyfel\r\n",
                "WHERE [LOGIN] NOT IN\r\n",
                "(\r\n",
                "    SELECT [LOGIN]\r\n",
                "    FROM Rendeles\r\n",
                "    WHERE FIZ_MOD = 'Bankkártya'\r\n",
                "    \r\n",
                ")"
            ],
            "metadata": {
                "azdata_cell_guid": "84b7e896-f36e-4985-88f5-e0f706494fef",
                "language": "sql"
            },
            "outputs": [
{
    "output_type": "display_data",
    "data": {
        "text/html": "(9 rows affected)"
    },
    "metadata": {}
}, {
    "output_type": "display_data",
    "data": {
        "text/html": "Total execution time: 00:00:00.052"
    },
    "metadata": {}
}, {
    "output_type": "execute_result",
    "metadata": {},
    "execution_count": 20,
    "data": {
        "application/vnd.dataresource+json": {
            "schema": {
                "fields": [
                    {
                        "name": "nev"
                    }
                ]
            },
            "data": [
                {
                    "nev": "Biró Alexander"
                },
                {
                    "nev": "Csóti Attila"
                },
                {
                    "nev": "Bagi Beáta"
                },
                {
                    "nev": "Mór Ottó"
                },
                {
                    "nev": "Molnár Eszter"
                },
                {
                    "nev": "Kiss Anita"
                },
                {
                    "nev": "Kispál Márk"
                },
                {
                    "nev": "Nagy Péter"
                },
                {
                    "nev": "Szűcs Norbert"
                }
            ]
        },
        "text/html": [
            "<table>",
            "<tr><th>nev</th></tr>",
            "<tr><td>Biró Alexander</td></tr>",
            "<tr><td>Csóti Attila</td></tr>",
            "<tr><td>Bagi Beáta</td></tr>",
            "<tr><td>Mór Ottó</td></tr>",
            "<tr><td>Molnár Eszter</td></tr>",
            "<tr><td>Kiss Anita</td></tr>",
            "<tr><td>Kispál Márk</td></tr>",
            "<tr><td>Nagy Péter</td></tr>",
            "<tr><td>Szűcs Norbert</td></tr>",
            "</table>"
        ]
    }
}
],
            "execution_count": 20
        },
        {
            "cell_type": "markdown",
            "source": [
                "8. <span style=\"background-color: rgb(255, 255, 255); color: rgb(0, 0, 0); font-family: &quot;Open Sans&quot;, sans-serif; font-size: 14.44px;\">Mennyibe kerül a második legnagyobb listaárú termék?</span>"
            ],
            "metadata": {
                "azdata_cell_guid": "27a3d3dc-eafb-4a5e-b103-9f465b9eda8f"
            },
            "attachments": {}
        },
        {
            "cell_type": "code",
            "source": [
                ""
            ],
            "metadata": {
                "azdata_cell_guid": "f09edb3f-649b-4a96-958e-9e12774ae8b7",
                "language": "sql"
            },
            "outputs": [],
            "execution_count": null
        },
        {
            "cell_type": "markdown",
            "source": [
                "9. <span style=\"background-color: rgb(255, 255, 255); color: rgb(0, 0, 0); font-family: &quot;Open Sans&quot;, sans-serif; font-size: 14.44px;\">Melyik raktár(ak)ban van az a termék, amelyből a legnagyobb készlet van?&nbsp;</span> \n",
                "\n",
                "a. Csak a raktár(ak) neve jelenjen meg!"
            ],
            "metadata": {
                "azdata_cell_guid": "f12a331a-0e26-4d3d-9c68-812316286577"
            },
            "attachments": {}
        },
        {
            "cell_type": "code",
            "source": [
                ""
            ],
            "metadata": {
                "azdata_cell_guid": "10a77fc9-e61a-46fc-a401-59720d82bc50",
                "language": "sql"
            },
            "outputs": [],
            "execution_count": null
        },
        {
            "cell_type": "markdown",
            "source": [
                "10. <span style=\"background-color: rgb(255, 255, 255); color: rgb(0, 0, 0); font-family: &quot;Open Sans&quot;, sans-serif; font-size: 14.44px;\">Melyek azok a termékek, amelyek listaára nagyobb, mint bármelyik olyan terméké, amelynek nevében az Ajándék szó szerepel?&nbsp;</span> \n",
                "\n",
                "a. A termékek kódját és nevét is jelenítsük meg!"
            ],
            "metadata": {
                "azdata_cell_guid": "9229e2b6-e200-4499-b95b-2d0222149831"
            },
            "attachments": {}
        },
        {
            "cell_type": "code",
            "source": [
                ""
            ],
            "metadata": {
                "azdata_cell_guid": "8b49ed67-28c6-4880-82a8-cd369e5bba99",
                "language": "sql"
            },
            "outputs": [],
            "execution_count": null
        },
        {
            "cell_type": "markdown",
            "source": [
                "11. <span style=\"background-color: rgb(255, 255, 255); color: rgb(0, 0, 0); font-family: &quot;Open Sans&quot;, sans-serif; font-size: 14.44px;\">Melyik hónapokban adtak le az ügyfelek több rendelést, mint januárban?&nbsp;</span> \n",
                "\n",
                "a. Elég a hónapok sorszámait megjeleníteni. \n",
                "\n",
                "b. A listát rendezzük a hónapok száma szerint növekvő sorrendbe!"
            ],
            "metadata": {
                "azdata_cell_guid": "7f5fc7a7-3b6a-4d89-b292-490830afb0c6"
            },
            "attachments": {}
        },
        {
            "cell_type": "code",
            "source": [
                ""
            ],
            "metadata": {
                "azdata_cell_guid": "4a9ece40-f782-4c0d-92cd-9c21969067ed",
                "language": "sql"
            },
            "outputs": [],
            "execution_count": null
        },
        {
            "cell_type": "markdown",
            "source": [
                "12. <span style=\"background-color: rgb(255, 255, 255); color: rgb(0, 0, 0); font-family: &quot;Open Sans&quot;, sans-serif; font-size: 14.44px;\">Melyek azok a termékek, amelyek listaára az átlagostól max. 20%-kal tér el?&nbsp;</span> \n",
                "\n",
                "a. A termék kódját és nevét is jelenítsük meg!"
            ],
            "metadata": {
                "azdata_cell_guid": "5a483c52-bb98-44bb-bd03-1146d4b0abfa"
            },
            "attachments": {}
        },
        {
            "cell_type": "code",
            "source": [
                ""
            ],
            "metadata": {
                "azdata_cell_guid": "dd6e89bd-08f9-4b18-8460-03c45b503df0",
                "language": "sql"
            },
            "outputs": [],
            "execution_count": null
        },
        {
            "cell_type": "markdown",
            "source": [
                "13. <span style=\"background-color: rgb(255, 255, 255); color: rgb(0, 0, 0); font-family: &quot;Open Sans&quot;, sans-serif; font-size: 14.44px;\">Készítsünk listát (sorszámonként) az egyes rendelések teljes összegéről!&nbsp;</span> \n",
                "\n",
                "a. Szűrjünk azon tételekre, ahol ez az érték nagyobb, mint Viktor Éva rendeléseinek teljes összege! \n",
                "\n",
                "b. A teljes összeg oszlopot nevezzük el értelemszerűen!"
            ],
            "metadata": {
                "azdata_cell_guid": "85d5cb66-96c6-42de-99cf-85ab22d08548"
            },
            "attachments": {}
        },
        {
            "cell_type": "code",
            "source": [
                ""
            ],
            "metadata": {
                "azdata_cell_guid": "cb07d64b-0eaa-498b-b4d2-0b46971e95ce",
                "language": "sql"
            },
            "outputs": [],
            "execution_count": null
        },
        {
            "cell_type": "markdown",
            "source": [
                "14. <span style=\"background-color: rgb(255, 255, 255); color: rgb(0, 0, 0); font-family: &quot;Open Sans&quot;, sans-serif; font-size: 14.44px;\">Listázzuk azokat a termékkategóriákat, amelyből 2017 januárban nem történt rendelés!&nbsp;</span> \n",
                "\n",
                "a. Elég a kategóriák nevét megjeleníteni!"
            ],
            "metadata": {
                "azdata_cell_guid": "f95ad665-a807-4099-bf06-64ed974f866f"
            },
            "attachments": {}
        },
        {
            "cell_type": "code",
            "source": [
                ""
            ],
            "metadata": {
                "azdata_cell_guid": "74c7ec8a-ae4a-4d03-b1c4-e8f6bb1be12c",
                "language": "sql"
            },
            "outputs": [],
            "execution_count": null
        },
        {
            "cell_type": "markdown",
            "source": [
                "15. <span style=\"background-color: rgb(255, 255, 255); color: rgb(0, 0, 0); font-family: &quot;Open Sans&quot;, sans-serif; font-size: 14.44px;\">Listázzuk azon rendelési tételeket, amelynek értéke nagyobb, mint a legdrágább termék listaára azon termékek közül, amelyek szülő kategóriája a ruha!</span>"
            ],
            "metadata": {
                "azdata_cell_guid": "93552388-ffec-49ff-99e5-ae8dc8072601"
            },
            "attachments": {}
        },
        {
            "cell_type": "code",
            "source": [
                ""
            ],
            "metadata": {
                "azdata_cell_guid": "0e7f547f-7d96-4611-b1c2-0fa84a581e79",
                "language": "sql"
            },
            "outputs": [],
            "execution_count": null
        }
    ]
}