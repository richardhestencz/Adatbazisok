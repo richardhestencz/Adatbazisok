{
    "metadata": {
        "kernelspec": {
            "name": "SQL",
            "display_name": "SQL",
            "language": "sql"
        },
        "language_info": {
            "name": "sql",
            "version": ""
        }
    },
    "nbformat_minor": 2,
    "nbformat": 4,
    "cells": [
        {
            "cell_type": "markdown",
            "source": [
                "Listázzuk azon vendégek nevét, email-címét és felhasználói nevét, akik egynél többször foglaltak!\n",
                "\n",
                "- Hagyjuk ki azokat a vendégeket, akik május hónapban születtek!"
            ],
            "metadata": {
                "azdata_cell_guid": "61e7a68e-c248-4ed1-97e7-a8cba0b729e2"
            },
            "attachments": {}
        },
        {
            "cell_type": "code",
            "source": [
                "SELECT v.NEV AS 'név', v.EMAIL AS 'email-cím', v.USERNEV AS 'felhasználónév'\r\n",
                "FROM VENDEG v\r\n",
                "JOIN FOGLALAS f ON v.USERNEV = f.UGYFEL_FK\r\n",
                "WHERE MONTH(v.szul_dat) <> 5 \r\n",
                "GROUP BY v.NEV, v.EMAIL, v.USERNEV\r\n",
                "HAVING COUNT(f.FOGLALAS_PK) > 1\r\n",
                ""
            ],
            "metadata": {
                "azdata_cell_guid": "06444b64-7c41-4474-abb7-26ab6b4f5d85",
                "language": "sql"
            },
            "outputs": [
                {
                    "output_type": "display_data",
                    "data": {
                        "text/html": "(169 rows affected)"
                    },
                    "metadata": {}
                },
                {
                    "output_type": "display_data",
                    "data": {
                        "text/html": "Total execution time: 00:00:00.018"
                    },
                    "metadata": {}
                },
                {
                    "output_type": "execute_result",
                    "metadata": {},
                    "execution_count": 29,
                    "data": {
                        "application/vnd.dataresource+json": {
                            "schema": {
                                "fields": [
                                    {
                                        "name": "név"
                                    },
                                    {
                                        "name": "email-cím"
                                    },
                                    {
                                        "name": "felhasználónév"
                                    }
                                ]
                            },
                            "data": [
                                {
                                    "név": "Kiss Ádám",
                                    "email-cím": "ádám.kiss@mail.hu",
                                    "felhasználónév": "adam1"
                                },
                                {
                                    "név": "Barkóci Ádám",
                                    "email-cím": "adam3@gmail.com",
                                    "felhasználónév": "adam3"
                                },
                                {
                                    "név": "Bieniek Ádám",
                                    "email-cím": "ádám.bieniek@mail.hu",
                                    "felhasználónév": "adam4"
                                },
                                {
                                    "név": "Lengyel Ágnes",
                                    "email-cím": "agnes@gmail.com",
                                    "felhasználónév": "agnes"
                                },
                                {
                                    "név": "Hartyánszky Ágnes",
                                    "email-cím": "agnes3@gmail.com",
                                    "felhasználónév": "agnes3"
                                },
                                {
                                    "név": "Horváth Ágnes",
                                    "email-cím": "AGNESH@gmail.com",
                                    "felhasználónév": "AGNESH"
                                },
                                {
                                    "név": "Kovács Ágnes",
                                    "email-cím": "AGNESK@gmail.com",
                                    "felhasználónév": "AGNESK"
                                },
                                {
                                    "név": "Bíró Ákos",
                                    "email-cím": "ákos.bíró@mail.hu",
                                    "felhasználónév": "akos"
                                },
                                {
                                    "név": "Dunai Aladár",
                                    "email-cím": "aladár.dunai@mail.hu",
                                    "felhasználónév": "aladar"
                                },
                                {
                                    "név": "Bagóczki Alexandra",
                                    "email-cím": "alexandra.bagóczki@mail.hu",
                                    "felhasználónév": "alexandra"
                                },
                                {
                                    "név": "Tóth András",
                                    "email-cím": "andrás.tóth@mail.hu",
                                    "felhasználónév": "andras2"
                                },
                                {
                                    "név": "Molnár András",
                                    "email-cím": "andrás.molnár@mail.hu",
                                    "felhasználónév": "andras21"
                                },
                                {
                                    "név": "Vígh András",
                                    "email-cím": "andrás.vígh@mail.hu",
                                    "felhasználónév": "andras3"
                                },
                                {
                                    "név": "Back András",
                                    "email-cím": "andras4@gmail.com",
                                    "felhasználónév": "andras4"
                                },
                                {
                                    "név": "Komjáti András",
                                    "email-cím": "andras41@gmail.com",
                                    "felhasználónév": "andras41"
                                },
                                {
                                    "név": "Kiss Andrea",
                                    "email-cím": "andrea.kiss@mail.hu",
                                    "felhasználónév": "andrea"
                                },
                                {
                                    "név": "Tornyos Andrea",
                                    "email-cím": "ANDREAT@gmail.com",
                                    "felhasználónév": "ANDREAT"
                                },
                                {
                                    "név": "Pivarcsi Anett",
                                    "email-cím": "anett.pivarcsi@mail.hu",
                                    "felhasználónév": "anett3"
                                },
                                {
                                    "név": "Tóth Anikó",
                                    "email-cím": "aniko@gmail.com",
                                    "felhasználónév": "aniko"
                                },
                                {
                                    "név": "Böröcz Anikó",
                                    "email-cím": "aniko4@gmail.com",
                                    "felhasználónév": "aniko4"
                                },
                                {
                                    "név": "Simon Anikó",
                                    "email-cím": "ANIKOS@gmail.com",
                                    "felhasználónév": "ANIKOS"
                                },
                                {
                                    "név": "Hamvay-Kovács Anita",
                                    "email-cím": "anita.hamvay-kovács@mail.hu",
                                    "felhasználónév": "anita"
                                },
                                {
                                    "név": "Szűcs Annamária",
                                    "email-cím": "annamária.szűcs@mail.hu",
                                    "felhasználónév": "annamaria1"
                                },
                                {
                                    "név": "Regős Annamária",
                                    "email-cím": "ANNAMARIAR@gmail.com",
                                    "felhasználónév": "ANNAMARIAR"
                                },
                                {
                                    "név": "Jakab Áron",
                                    "email-cím": "aron2@gmail.com",
                                    "felhasználónév": "aron2"
                                },
                                {
                                    "név": "Kelemen Áron",
                                    "email-cím": "áron.kelemen@mail.hu",
                                    "felhasználónév": "ARONK"
                                },
                                {
                                    "név": "Ötvös Árpád",
                                    "email-cím": "árpád.ötvös@mail.hu",
                                    "felhasználónév": "arpad2"
                                },
                                {
                                    "név": "Móricz Árpád",
                                    "email-cím": "árpád.móricz@mail.hu",
                                    "felhasználónév": "ARPADM"
                                },
                                {
                                    "név": "Csóti Attila",
                                    "email-cím": "attila@gmail.com",
                                    "felhasználónév": "attila"
                                },
                                {
                                    "név": "Gulyás Attila",
                                    "email-cím": "attila.gulyás@mail.hu",
                                    "felhasználónév": "attila1"
                                },
                                {
                                    "név": "Baróti Attila",
                                    "email-cím": "attila.baróti@mail.hu",
                                    "felhasználónév": "attila4"
                                },
                                {
                                    "név": "Bozsik Balázs",
                                    "email-cím": "balázs.bozsik@mail.hu",
                                    "felhasználónév": "balazs1"
                                },
                                {
                                    "név": "Szűcs Balázs",
                                    "email-cím": "balázs.szűcs@mail.hu",
                                    "felhasználónév": "balazs2"
                                },
                                {
                                    "név": "Bakódy Balázs",
                                    "email-cím": "balazs3@gmail.com",
                                    "felhasználónév": "balazs3"
                                },
                                {
                                    "név": "Horváth Bálint",
                                    "email-cím": "balint@gmail.com",
                                    "felhasználónév": "balint"
                                },
                                {
                                    "név": "Molnár Bálint",
                                    "email-cím": "balint1@gmail.com",
                                    "felhasználónév": "balint1"
                                },
                                {
                                    "név": "Vukasinovity Bálint",
                                    "email-cím": "balint2@gmail.com",
                                    "felhasználónév": "balint2"
                                },
                                {
                                    "név": "Endresz Bálint",
                                    "email-cím": "bálint.endresz@mail.hu",
                                    "felhasználónév": "balu"
                                },
                                {
                                    "név": "Bagi Beáta",
                                    "email-cím": "beáta.bagi@mail.hu",
                                    "felhasználónév": "beata4"
                                },
                                {
                                    "név": "Kerényi Beatrix",
                                    "email-cím": "beatrix.kerényi@mail.hu",
                                    "felhasználónév": "BEATRIXK"
                                },
                                {
                                    "név": "Szekendi Beatrix",
                                    "email-cím": "beatrix.szekendi@mail.hu",
                                    "felhasználónév": "BEATRIXS"
                                },
                                {
                                    "név": "Farkas Béla",
                                    "email-cím": "BELAF@gmail.com",
                                    "felhasználónév": "BELAF"
                                },
                                {
                                    "név": "Győrffy Bence",
                                    "email-cím": "bence@gmail.com",
                                    "felhasználónév": "bence"
                                },
                                {
                                    "név": "Bajusz Bence",
                                    "email-cím": "bence.bajusz@mail.hu",
                                    "felhasználónév": "BENCEB"
                                },
                                {
                                    "név": "Simon Bernadett",
                                    "email-cím": "bernadett1@gmail.com",
                                    "felhasználónév": "bernadett1"
                                },
                                {
                                    "név": "Kovács Bernadett",
                                    "email-cím": "bernadett.kovács@mail.hu",
                                    "felhasználónév": "bernadett2"
                                },
                                {
                                    "név": "Orbán Bernadett",
                                    "email-cím": "bernadett.orbán@mail.hu",
                                    "felhasználónév": "BERNADETTO"
                                },
                                {
                                    "név": "Csiger Bertalan",
                                    "email-cím": "bertalan@gmail.com",
                                    "felhasználónév": "bertalan"
                                },
                                {
                                    "név": "Székely Brigitta",
                                    "email-cím": "brigitta.székely@mail.hu",
                                    "felhasználónév": "brigitta"
                                },
                                {
                                    "név": "Nagymihály Csongor",
                                    "email-cím": "csongor.nagymihály@mail.hu",
                                    "felhasználónév": "csongor3"
                                },
                                {
                                    "név": "Vörös Dániel",
                                    "email-cím": "daniel@gmail.com",
                                    "felhasználónév": "dani"
                                },
                                {
                                    "név": "Rácz Dániel",
                                    "email-cím": "dániel.rácz@mail.hu",
                                    "felhasználónév": "daniel"
                                },
                                {
                                    "név": "Keszler Dániel",
                                    "email-cím": "dániel.keszler@mail.hu",
                                    "felhasználónév": "daniel1"
                                },
                                {
                                    "név": "Ambrus Dávid",
                                    "email-cím": "david@gmail.com",
                                    "felhasználónév": "david"
                                },
                                {
                                    "név": "Sobják Dávid",
                                    "email-cím": "david1@gmail.com",
                                    "felhasználónév": "david1"
                                },
                                {
                                    "név": "Barna Debóra",
                                    "email-cím": "debóra.barna@mail.hu",
                                    "felhasználónév": "debora"
                                },
                                {
                                    "név": "Tömböly Dénes",
                                    "email-cím": "denes@gmail.com",
                                    "felhasználónév": "denes"
                                },
                                {
                                    "név": "Bittmann Edit",
                                    "email-cím": "edit.bittmann@mail.hu",
                                    "felhasználónév": "edit"
                                },
                                {
                                    "név": "Kuruc Emese",
                                    "email-cím": "emese.kuruc@mail.hu",
                                    "felhasználónév": "emese"
                                },
                                {
                                    "név": "Balogh Eszter",
                                    "email-cím": "eszter.balogh@mail.hu",
                                    "felhasználónév": "eszter2"
                                },
                                {
                                    "név": "Fülöp Eszter",
                                    "email-cím": "eszter.fülöp@mail.hu",
                                    "felhasználónév": "eszter4"
                                },
                                {
                                    "név": "Érsek Eszter",
                                    "email-cím": "eszter.érsek@mail.hu",
                                    "felhasználónév": "ESZTERE"
                                },
                                {
                                    "név": "Enyedi Éva",
                                    "email-cím": "eva@gmail.com",
                                    "felhasználónév": "eva"
                                },
                                {
                                    "név": "Perlinger Éva",
                                    "email-cím": "eva2@gmail.com",
                                    "felhasználónév": "eva2"
                                },
                                {
                                    "név": "Viktor Éva",
                                    "email-cím": "EVAV@gmail.com",
                                    "felhasználónév": "EVAV"
                                },
                                {
                                    "név": "Orosz Ferenc",
                                    "email-cím": "ferenc.orosz@mail.hu",
                                    "felhasználónév": "ferenc1"
                                },
                                {
                                    "név": "Frank Fruzsina",
                                    "email-cím": "fruzsina4@gmail.com",
                                    "felhasználónév": "fruzsina4"
                                },
                                {
                                    "név": "Köves Gábor",
                                    "email-cím": "gabor1@gmail.com",
                                    "felhasználónév": "gabor1"
                                },
                                {
                                    "név": "Telek Gábor",
                                    "email-cím": "gábor.telek@mail.hu",
                                    "felhasználónév": "gabor4"
                                },
                                {
                                    "név": "Nagy Gabriella",
                                    "email-cím": "gabriella1@gmail.com",
                                    "felhasználónév": "gabriella1"
                                },
                                {
                                    "név": "Nyíri Georgij",
                                    "email-cím": "georgij.nyíri@mail.hu",
                                    "felhasználónév": "georgij"
                                },
                                {
                                    "név": "Bárci Gusztáv",
                                    "email-cím": "gusztav@gmail.com",
                                    "felhasználónév": "gusztav"
                                },
                                {
                                    "név": "Kornseé Gyöngyi",
                                    "email-cím": "gyöngyi.kornseé@mail.hu",
                                    "felhasználónév": "GYONGYIK"
                                },
                                {
                                    "név": "Oroszi György",
                                    "email-cím": "GYORGYO@gmail.com",
                                    "felhasználónév": "GYORGYO"
                                },
                                {
                                    "név": "Nádudvari Henrik",
                                    "email-cím": "henrik.nádudvari@mail.hu",
                                    "felhasználónév": "henrik3"
                                },
                                {
                                    "név": "Andor Ibolya",
                                    "email-cím": "ibolya.andor@mail.hu",
                                    "felhasználónév": "IBOLYAA"
                                },
                                {
                                    "név": "Bosnyák Ilona",
                                    "email-cím": "ilona3@gmail.com",
                                    "felhasználónév": "ilona3"
                                },
                                {
                                    "név": "Búza Imre",
                                    "email-cím": "imre.búza@mail.hu",
                                    "felhasználónév": "imre"
                                },
                                {
                                    "név": "Papp Imre",
                                    "email-cím": "imre.papp@mail.hu",
                                    "felhasználónév": "imre1"
                                },
                                {
                                    "név": "Soós István",
                                    "email-cím": "istvan@gmail.com",
                                    "felhasználónév": "istvan"
                                },
                                {
                                    "név": "Vizi István",
                                    "email-cím": "istván.vizi@mail.hu",
                                    "felhasználónév": "istvan1"
                                },
                                {
                                    "név": "Varga István",
                                    "email-cím": "ISTVANV@gmail.com",
                                    "felhasználónév": "ISTVANV"
                                },
                                {
                                    "név": "Harangozó János",
                                    "email-cím": "janos3@gmail.com",
                                    "felhasználónév": "janos3"
                                },
                                {
                                    "név": "Giliga János",
                                    "email-cím": "JANOSG@gmail.com",
                                    "felhasználónév": "JANOSG"
                                },
                                {
                                    "név": "Pálinkás János",
                                    "email-cím": "JANOSP@gmail.com",
                                    "felhasználónév": "JANOSP"
                                },
                                {
                                    "név": "Gergely József",
                                    "email-cím": "jozsef@gmail.com",
                                    "felhasználónév": "jozsef"
                                },
                                {
                                    "név": "Vajda József",
                                    "email-cím": "józsef.vajda@mail.hu",
                                    "felhasználónév": "jozsef2"
                                },
                                {
                                    "név": "Hídasi Judit",
                                    "email-cím": "JUDITH@gmail.com",
                                    "felhasználónév": "JUDITH"
                                },
                                {
                                    "név": "Tóth Júlia",
                                    "email-cím": "julia@gmail.com",
                                    "felhasználónév": "julia"
                                },
                                {
                                    "név": "Nagy Júlia",
                                    "email-cím": "julia4@gmail.com",
                                    "felhasználónév": "julia4"
                                },
                                {
                                    "név": "Szabó Julianna",
                                    "email-cím": "julianna4@gmail.com",
                                    "felhasználónév": "julianna4"
                                },
                                {
                                    "név": "Gondos Katalin",
                                    "email-cím": "katalin.gondos@mail.hu",
                                    "felhasználónév": "kata"
                                },
                                {
                                    "név": "Horváth Katalin",
                                    "email-cím": "katalin.horváth@mail.hu",
                                    "felhasználónév": "katalin"
                                },
                                {
                                    "név": "Kertész Katalin",
                                    "email-cím": "katalin4@gmail.com",
                                    "felhasználónév": "katalin4"
                                },
                                {
                                    "név": "Kovács Katalin",
                                    "email-cím": "katalin.kovács@mail.hu",
                                    "felhasználónév": "katka"
                                },
                                {
                                    "név": "Bakó Klaudia",
                                    "email-cím": "klaudia.bakó@mail.hu",
                                    "felhasználónév": "klaudia2"
                                },
                                {
                                    "név": "Lukács Kornél",
                                    "email-cím": "kornél.lukács@mail.hu",
                                    "felhasználónév": "kornel4"
                                },
                                {
                                    "név": "Poprádi Kristóf",
                                    "email-cím": "kristof4@gmail.com",
                                    "felhasználónév": "kristof4"
                                },
                                {
                                    "név": "Horváth Krisztina",
                                    "email-cím": "kriszti@gmail.com",
                                    "felhasználónév": "kriszti"
                                },
                                {
                                    "név": "Czérna Krisztián",
                                    "email-cím": "krisztián.czérna@mail.hu",
                                    "felhasználónév": "krisztian4"
                                },
                                {
                                    "név": "Bori Krisztina",
                                    "email-cím": "krisztina.bori@mail.hu",
                                    "felhasználónév": "krisztina1"
                                },
                                {
                                    "név": "Gyárfás Krisztina",
                                    "email-cím": "KRISZTINAG@gmail.com",
                                    "felhasználónév": "KRISZTINAG"
                                },
                                {
                                    "név": "Kiss Lajos",
                                    "email-cím": "lajos.kiss@mail.hu",
                                    "felhasználónév": "lajos"
                                },
                                {
                                    "név": "Nagymihály Lajos",
                                    "email-cím": "lajos.nagymihály@mail.hu",
                                    "felhasználónév": "lala"
                                },
                                {
                                    "név": "Móra László",
                                    "email-cím": "lászló.móra@mail.hu",
                                    "felhasználónév": "laszlo2"
                                },
                                {
                                    "név": "Antal László",
                                    "email-cím": "lászló.antal@mail.hu",
                                    "felhasználónév": "LASZLOA"
                                },
                                {
                                    "név": "Nagy László",
                                    "email-cím": "lászló.nagy@mail.hu",
                                    "felhasználónév": "LASZLON"
                                },
                                {
                                    "név": "Baráth Mária",
                                    "email-cím": "mária.baráth@mail.hu",
                                    "felhasználónév": "maria1"
                                },
                                {
                                    "név": "Kispál Márk",
                                    "email-cím": "márk.kispál@mail.hu",
                                    "felhasználónév": "mark"
                                },
                                {
                                    "név": "Horváth Márk",
                                    "email-cím": "márk.horváth@mail.hu",
                                    "felhasználónév": "MARKH"
                                },
                                {
                                    "név": "Kalacsi Márton",
                                    "email-cím": "marton@gmail.com",
                                    "felhasználónév": "marton"
                                },
                                {
                                    "név": "Koza Máté",
                                    "email-cím": "máté.koza@mail.hu",
                                    "felhasználónév": "MATEK"
                                },
                                {
                                    "név": "Botka Mátyás",
                                    "email-cím": "matyas2@gmail.com",
                                    "felhasználónév": "matyas2"
                                },
                                {
                                    "név": "Szilágyi Mátyás",
                                    "email-cím": "mátyás.szilágyi@mail.hu",
                                    "felhasználónév": "MATYASS"
                                },
                                {
                                    "név": "Juhász Mihály",
                                    "email-cím": "mihály.juhász@mail.hu",
                                    "felhasználónév": "MIHALYJ"
                                },
                                {
                                    "név": "Gondos Miklós",
                                    "email-cím": "miklos2@gmail.com",
                                    "felhasználónév": "miklos2"
                                },
                                {
                                    "név": "Balla Miklós",
                                    "email-cím": "miklós.balla@mail.hu",
                                    "felhasználónév": "MIKLOSB"
                                },
                                {
                                    "név": "Mohos Mónika",
                                    "email-cím": "mónika.mohos@mail.hu",
                                    "felhasználónév": "MONIKAM"
                                },
                                {
                                    "név": "Fő Nándor",
                                    "email-cím": "nándor.fő@mail.hu",
                                    "felhasználónév": "NANDORF"
                                },
                                {
                                    "név": "Horváth Nikolett",
                                    "email-cím": "nikolett3@gmail.com",
                                    "felhasználónév": "nikolett3"
                                },
                                {
                                    "név": "Kő Nikoletta",
                                    "email-cím": "nikoletta4@gmail.com",
                                    "felhasználónév": "nikoletta4"
                                },
                                {
                                    "név": "Tatár Nikoletta",
                                    "email-cím": "nikoletta.tatár@mail.hu",
                                    "felhasználónév": "NIKOLETTAT"
                                },
                                {
                                    "név": "Szűcs Norbert",
                                    "email-cím": "norbert@gmail.com",
                                    "felhasználónév": "norbert"
                                },
                                {
                                    "név": "Hegedűs Norbert",
                                    "email-cím": "norbert.hegedűs@mail.hu",
                                    "felhasználónév": "norbert2"
                                },
                                {
                                    "név": "Mile Norbert",
                                    "email-cím": "norbert4@gmail.com",
                                    "felhasználónév": "norbert4"
                                },
                                {
                                    "név": "Béres Norbert",
                                    "email-cím": "norbert5@gmail.com",
                                    "felhasználónév": "norbert5"
                                },
                                {
                                    "név": "Barabás Pál",
                                    "email-cím": "pál.barabás@mail.hu",
                                    "felhasználónév": "pal"
                                },
                                {
                                    "név": "Kozma Péter",
                                    "email-cím": "peter1@gmail.com",
                                    "felhasználónév": "peter1"
                                },
                                {
                                    "név": "Bozsó Péter",
                                    "email-cím": "peter2@gmail.com",
                                    "felhasználónév": "peter2"
                                },
                                {
                                    "név": "Szalai Péter",
                                    "email-cím": "peter3@gmail.com",
                                    "felhasználónév": "peter3"
                                },
                                {
                                    "név": "Bíró Péter",
                                    "email-cím": "péter.bíró@mail.hu",
                                    "felhasználónév": "peter4"
                                },
                                {
                                    "név": "Berendi Péter",
                                    "email-cím": "péter.berendi@mail.hu",
                                    "felhasználónév": "PETERB"
                                },
                                {
                                    "név": "Palágyi Polla",
                                    "email-cím": "polla@gmail.com",
                                    "felhasználónév": "polla"
                                },
                                {
                                    "név": "Rácz Rajmond",
                                    "email-cím": "rajmond.rácz@mail.hu",
                                    "felhasználónév": "rajmond4"
                                },
                                {
                                    "név": "Szikszai Réka",
                                    "email-cím": "réka.szikszai@mail.hu",
                                    "felhasználónév": "reka4"
                                },
                                {
                                    "név": "Szirmai Renáta",
                                    "email-cím": "RENATAS@gmail.com",
                                    "felhasználónév": "RENATAS"
                                },
                                {
                                    "név": "Patay Róbert",
                                    "email-cím": "robert2@gmail.com",
                                    "felhasználónév": "robert2"
                                },
                                {
                                    "név": "Iván Róbert",
                                    "email-cím": "róbert.iván@mail.hu",
                                    "felhasználónév": "ROBERTI"
                                },
                                {
                                    "név": "Tóth Roland",
                                    "email-cím": "roland@gmail.com",
                                    "felhasználónév": "roland"
                                },
                                {
                                    "név": "Ferencz Roland",
                                    "email-cím": "roland.ferencz@mail.hu",
                                    "felhasználónév": "roland1"
                                },
                                {
                                    "név": "Bucskó Róza",
                                    "email-cím": "roza2@gmail.com",
                                    "felhasználónév": "roza2"
                                },
                                {
                                    "név": "Karasz Sándor",
                                    "email-cím": "sandor@gmail.com",
                                    "felhasználónév": "sandor"
                                },
                                {
                                    "név": "Farkas Sándor",
                                    "email-cím": "sándor.farkas@mail.hu",
                                    "felhasználónév": "sandor3"
                                },
                                {
                                    "név": "Nagy Sándor",
                                    "email-cím": "sandor4@gmail.com",
                                    "felhasználónév": "sandor4"
                                },
                                {
                                    "név": "Farkas Sára",
                                    "email-cím": "sára.farkas@mail.hu",
                                    "felhasználónév": "sara"
                                },
                                {
                                    "név": "Foltényi Sebastián",
                                    "email-cím": "SEBASTIANF@gmail.com",
                                    "felhasználónév": "SEBASTIANF"
                                },
                                {
                                    "név": "Rab Sebestyén",
                                    "email-cím": "sebestyen@gmail.com",
                                    "felhasználónév": "sebestyen"
                                },
                                {
                                    "név": "Miklós Szabolcs",
                                    "email-cím": "szabolcs.miklós@mail.hu",
                                    "felhasználónév": "SZABOLCSM"
                                },
                                {
                                    "név": "Szalai Szilárd",
                                    "email-cím": "szilárd.szalai@mail.hu",
                                    "felhasználónév": "SZILARDS"
                                },
                                {
                                    "név": "Tari Szilvia",
                                    "email-cím": "szilvia.tari@mail.hu",
                                    "felhasználónév": "szilvia1"
                                },
                                {
                                    "név": "Miklós Tamara",
                                    "email-cím": "tamara.miklós@mail.hu",
                                    "felhasználónév": "tamara2"
                                },
                                {
                                    "név": "Antal Tamás",
                                    "email-cím": "tamás.antal@mail.hu",
                                    "felhasználónév": "tamas"
                                },
                                {
                                    "név": "Fényes Tamás",
                                    "email-cím": "TAMASF@gmail.com",
                                    "felhasználónév": "TAMASF"
                                },
                                {
                                    "név": "Gombos Tibor",
                                    "email-cím": "tibor.gombos@mail.hu",
                                    "felhasználónév": "tibor"
                                },
                                {
                                    "név": "Kazy Tihamér",
                                    "email-cím": "tihamér.kazy@mail.hu",
                                    "felhasználónév": "tihamer"
                                },
                                {
                                    "név": "Dusha Tímea",
                                    "email-cím": "tímea.dusha@mail.hu",
                                    "felhasználónév": "timea2"
                                },
                                {
                                    "név": "Turcsik Tünde",
                                    "email-cím": "tunde@gmail.com",
                                    "felhasználónév": "tunde"
                                },
                                {
                                    "név": "Feró Valentin",
                                    "email-cím": "valentin.feró@mail.hu",
                                    "felhasználónév": "valentin"
                                },
                                {
                                    "név": "Tankó Veronika",
                                    "email-cím": "veronika4@gmail.com",
                                    "felhasználónév": "veronika4"
                                },
                                {
                                    "név": "Boros Vivien",
                                    "email-cím": "vivien3@gmail.com",
                                    "felhasználónév": "vivien3"
                                },
                                {
                                    "név": "Fodor Zoltán",
                                    "email-cím": "zoltán.fodor@mail.hu",
                                    "felhasználónév": "zoltan"
                                },
                                {
                                    "név": "Pintér Zoltán",
                                    "email-cím": "zoltán.pintér@mail.hu",
                                    "felhasználónév": "ZOLTANP"
                                },
                                {
                                    "név": "Tóth Zoltán",
                                    "email-cím": "zoltán.tóth@mail.hu",
                                    "felhasználónév": "ZOLTANT"
                                },
                                {
                                    "név": "Molnár Zsófi",
                                    "email-cím": "zsofi1@gmail.com",
                                    "felhasználónév": "zsofi1"
                                },
                                {
                                    "név": "Józsa Zsolt",
                                    "email-cím": "ZSOLTJ@gmail.com",
                                    "felhasználónév": "ZSOLTJ"
                                },
                                {
                                    "név": "Pusztai Zsuzsanna",
                                    "email-cím": "zsuzsanna@gmail.com",
                                    "felhasználónév": "zsuzsa"
                                },
                                {
                                    "név": "Varsányi Zsuzsa",
                                    "email-cím": "zsuzsa.varsányi@mail.hu",
                                    "felhasználónév": "zsuzsa3"
                                },
                                {
                                    "név": "Barta Zsuzsanna",
                                    "email-cím": "zsuzsanna.barta@mail.hu",
                                    "felhasználónév": "zsuzsanna"
                                },
                                {
                                    "név": "Vajda Zsuzsa",
                                    "email-cím": "zsuzsa.vajda@mail.hu",
                                    "felhasználónév": "ZSUZSAV"
                                }
                            ]
                        },
                        "text/html": [
                            "<table>",
                            "<tr><th>név</th><th>email-cím</th><th>felhasználónév</th></tr>",
                            "<tr><td>Kiss Ádám</td><td>ádám.kiss@mail.hu</td><td>adam1</td></tr>",
                            "<tr><td>Barkóci Ádám</td><td>adam3@gmail.com</td><td>adam3</td></tr>",
                            "<tr><td>Bieniek Ádám</td><td>ádám.bieniek@mail.hu</td><td>adam4</td></tr>",
                            "<tr><td>Lengyel Ágnes</td><td>agnes@gmail.com</td><td>agnes</td></tr>",
                            "<tr><td>Hartyánszky Ágnes</td><td>agnes3@gmail.com</td><td>agnes3</td></tr>",
                            "<tr><td>Horváth Ágnes</td><td>AGNESH@gmail.com</td><td>AGNESH</td></tr>",
                            "<tr><td>Kovács Ágnes</td><td>AGNESK@gmail.com</td><td>AGNESK</td></tr>",
                            "<tr><td>Bíró Ákos</td><td>ákos.bíró@mail.hu</td><td>akos</td></tr>",
                            "<tr><td>Dunai Aladár</td><td>aladár.dunai@mail.hu</td><td>aladar</td></tr>",
                            "<tr><td>Bagóczki Alexandra</td><td>alexandra.bagóczki@mail.hu</td><td>alexandra</td></tr>",
                            "<tr><td>Tóth András</td><td>andrás.tóth@mail.hu</td><td>andras2</td></tr>",
                            "<tr><td>Molnár András</td><td>andrás.molnár@mail.hu</td><td>andras21</td></tr>",
                            "<tr><td>Vígh András</td><td>andrás.vígh@mail.hu</td><td>andras3</td></tr>",
                            "<tr><td>Back András</td><td>andras4@gmail.com</td><td>andras4</td></tr>",
                            "<tr><td>Komjáti András</td><td>andras41@gmail.com</td><td>andras41</td></tr>",
                            "<tr><td>Kiss Andrea</td><td>andrea.kiss@mail.hu</td><td>andrea</td></tr>",
                            "<tr><td>Tornyos Andrea</td><td>ANDREAT@gmail.com</td><td>ANDREAT</td></tr>",
                            "<tr><td>Pivarcsi Anett</td><td>anett.pivarcsi@mail.hu</td><td>anett3</td></tr>",
                            "<tr><td>Tóth Anikó</td><td>aniko@gmail.com</td><td>aniko</td></tr>",
                            "<tr><td>Böröcz Anikó</td><td>aniko4@gmail.com</td><td>aniko4</td></tr>",
                            "<tr><td>Simon Anikó</td><td>ANIKOS@gmail.com</td><td>ANIKOS</td></tr>",
                            "<tr><td>Hamvay-Kovács Anita</td><td>anita.hamvay-kovács@mail.hu</td><td>anita</td></tr>",
                            "<tr><td>Szűcs Annamária</td><td>annamária.szűcs@mail.hu</td><td>annamaria1</td></tr>",
                            "<tr><td>Regős Annamária</td><td>ANNAMARIAR@gmail.com</td><td>ANNAMARIAR</td></tr>",
                            "<tr><td>Jakab Áron</td><td>aron2@gmail.com</td><td>aron2</td></tr>",
                            "<tr><td>Kelemen Áron</td><td>áron.kelemen@mail.hu</td><td>ARONK</td></tr>",
                            "<tr><td>Ötvös Árpád</td><td>árpád.ötvös@mail.hu</td><td>arpad2</td></tr>",
                            "<tr><td>Móricz Árpád</td><td>árpád.móricz@mail.hu</td><td>ARPADM</td></tr>",
                            "<tr><td>Csóti Attila</td><td>attila@gmail.com</td><td>attila</td></tr>",
                            "<tr><td>Gulyás Attila</td><td>attila.gulyás@mail.hu</td><td>attila1</td></tr>",
                            "<tr><td>Baróti Attila</td><td>attila.baróti@mail.hu</td><td>attila4</td></tr>",
                            "<tr><td>Bozsik Balázs</td><td>balázs.bozsik@mail.hu</td><td>balazs1</td></tr>",
                            "<tr><td>Szűcs Balázs</td><td>balázs.szűcs@mail.hu</td><td>balazs2</td></tr>",
                            "<tr><td>Bakódy Balázs</td><td>balazs3@gmail.com</td><td>balazs3</td></tr>",
                            "<tr><td>Horváth Bálint</td><td>balint@gmail.com</td><td>balint</td></tr>",
                            "<tr><td>Molnár Bálint</td><td>balint1@gmail.com</td><td>balint1</td></tr>",
                            "<tr><td>Vukasinovity Bálint</td><td>balint2@gmail.com</td><td>balint2</td></tr>",
                            "<tr><td>Endresz Bálint</td><td>bálint.endresz@mail.hu</td><td>balu</td></tr>",
                            "<tr><td>Bagi Beáta</td><td>beáta.bagi@mail.hu</td><td>beata4</td></tr>",
                            "<tr><td>Kerényi Beatrix</td><td>beatrix.kerényi@mail.hu</td><td>BEATRIXK</td></tr>",
                            "<tr><td>Szekendi Beatrix</td><td>beatrix.szekendi@mail.hu</td><td>BEATRIXS</td></tr>",
                            "<tr><td>Farkas Béla</td><td>BELAF@gmail.com</td><td>BELAF</td></tr>",
                            "<tr><td>Győrffy Bence</td><td>bence@gmail.com</td><td>bence</td></tr>",
                            "<tr><td>Bajusz Bence</td><td>bence.bajusz@mail.hu</td><td>BENCEB</td></tr>",
                            "<tr><td>Simon Bernadett</td><td>bernadett1@gmail.com</td><td>bernadett1</td></tr>",
                            "<tr><td>Kovács Bernadett</td><td>bernadett.kovács@mail.hu</td><td>bernadett2</td></tr>",
                            "<tr><td>Orbán Bernadett</td><td>bernadett.orbán@mail.hu</td><td>BERNADETTO</td></tr>",
                            "<tr><td>Csiger Bertalan</td><td>bertalan@gmail.com</td><td>bertalan</td></tr>",
                            "<tr><td>Székely Brigitta</td><td>brigitta.székely@mail.hu</td><td>brigitta</td></tr>",
                            "<tr><td>Nagymihály Csongor</td><td>csongor.nagymihály@mail.hu</td><td>csongor3</td></tr>",
                            "<tr><td>Vörös Dániel</td><td>daniel@gmail.com</td><td>dani</td></tr>",
                            "<tr><td>Rácz Dániel</td><td>dániel.rácz@mail.hu</td><td>daniel</td></tr>",
                            "<tr><td>Keszler Dániel</td><td>dániel.keszler@mail.hu</td><td>daniel1</td></tr>",
                            "<tr><td>Ambrus Dávid</td><td>david@gmail.com</td><td>david</td></tr>",
                            "<tr><td>Sobják Dávid</td><td>david1@gmail.com</td><td>david1</td></tr>",
                            "<tr><td>Barna Debóra</td><td>debóra.barna@mail.hu</td><td>debora</td></tr>",
                            "<tr><td>Tömböly Dénes</td><td>denes@gmail.com</td><td>denes</td></tr>",
                            "<tr><td>Bittmann Edit</td><td>edit.bittmann@mail.hu</td><td>edit</td></tr>",
                            "<tr><td>Kuruc Emese</td><td>emese.kuruc@mail.hu</td><td>emese</td></tr>",
                            "<tr><td>Balogh Eszter</td><td>eszter.balogh@mail.hu</td><td>eszter2</td></tr>",
                            "<tr><td>Fülöp Eszter</td><td>eszter.fülöp@mail.hu</td><td>eszter4</td></tr>",
                            "<tr><td>Érsek Eszter</td><td>eszter.érsek@mail.hu</td><td>ESZTERE</td></tr>",
                            "<tr><td>Enyedi Éva</td><td>eva@gmail.com</td><td>eva</td></tr>",
                            "<tr><td>Perlinger Éva</td><td>eva2@gmail.com</td><td>eva2</td></tr>",
                            "<tr><td>Viktor Éva</td><td>EVAV@gmail.com</td><td>EVAV</td></tr>",
                            "<tr><td>Orosz Ferenc</td><td>ferenc.orosz@mail.hu</td><td>ferenc1</td></tr>",
                            "<tr><td>Frank Fruzsina</td><td>fruzsina4@gmail.com</td><td>fruzsina4</td></tr>",
                            "<tr><td>Köves Gábor</td><td>gabor1@gmail.com</td><td>gabor1</td></tr>",
                            "<tr><td>Telek Gábor</td><td>gábor.telek@mail.hu</td><td>gabor4</td></tr>",
                            "<tr><td>Nagy Gabriella</td><td>gabriella1@gmail.com</td><td>gabriella1</td></tr>",
                            "<tr><td>Nyíri Georgij</td><td>georgij.nyíri@mail.hu</td><td>georgij</td></tr>",
                            "<tr><td>Bárci Gusztáv</td><td>gusztav@gmail.com</td><td>gusztav</td></tr>",
                            "<tr><td>Kornseé Gyöngyi</td><td>gyöngyi.kornseé@mail.hu</td><td>GYONGYIK</td></tr>",
                            "<tr><td>Oroszi György</td><td>GYORGYO@gmail.com</td><td>GYORGYO</td></tr>",
                            "<tr><td>Nádudvari Henrik</td><td>henrik.nádudvari@mail.hu</td><td>henrik3</td></tr>",
                            "<tr><td>Andor Ibolya</td><td>ibolya.andor@mail.hu</td><td>IBOLYAA</td></tr>",
                            "<tr><td>Bosnyák Ilona</td><td>ilona3@gmail.com</td><td>ilona3</td></tr>",
                            "<tr><td>Búza Imre</td><td>imre.búza@mail.hu</td><td>imre</td></tr>",
                            "<tr><td>Papp Imre</td><td>imre.papp@mail.hu</td><td>imre1</td></tr>",
                            "<tr><td>Soós István</td><td>istvan@gmail.com</td><td>istvan</td></tr>",
                            "<tr><td>Vizi István</td><td>istván.vizi@mail.hu</td><td>istvan1</td></tr>",
                            "<tr><td>Varga István</td><td>ISTVANV@gmail.com</td><td>ISTVANV</td></tr>",
                            "<tr><td>Harangozó János</td><td>janos3@gmail.com</td><td>janos3</td></tr>",
                            "<tr><td>Giliga János</td><td>JANOSG@gmail.com</td><td>JANOSG</td></tr>",
                            "<tr><td>Pálinkás János</td><td>JANOSP@gmail.com</td><td>JANOSP</td></tr>",
                            "<tr><td>Gergely József</td><td>jozsef@gmail.com</td><td>jozsef</td></tr>",
                            "<tr><td>Vajda József</td><td>józsef.vajda@mail.hu</td><td>jozsef2</td></tr>",
                            "<tr><td>Hídasi Judit</td><td>JUDITH@gmail.com</td><td>JUDITH</td></tr>",
                            "<tr><td>Tóth Júlia</td><td>julia@gmail.com</td><td>julia</td></tr>",
                            "<tr><td>Nagy Júlia</td><td>julia4@gmail.com</td><td>julia4</td></tr>",
                            "<tr><td>Szabó Julianna</td><td>julianna4@gmail.com</td><td>julianna4</td></tr>",
                            "<tr><td>Gondos Katalin</td><td>katalin.gondos@mail.hu</td><td>kata</td></tr>",
                            "<tr><td>Horváth Katalin</td><td>katalin.horváth@mail.hu</td><td>katalin</td></tr>",
                            "<tr><td>Kertész Katalin</td><td>katalin4@gmail.com</td><td>katalin4</td></tr>",
                            "<tr><td>Kovács Katalin</td><td>katalin.kovács@mail.hu</td><td>katka</td></tr>",
                            "<tr><td>Bakó Klaudia</td><td>klaudia.bakó@mail.hu</td><td>klaudia2</td></tr>",
                            "<tr><td>Lukács Kornél</td><td>kornél.lukács@mail.hu</td><td>kornel4</td></tr>",
                            "<tr><td>Poprádi Kristóf</td><td>kristof4@gmail.com</td><td>kristof4</td></tr>",
                            "<tr><td>Horváth Krisztina</td><td>kriszti@gmail.com</td><td>kriszti</td></tr>",
                            "<tr><td>Czérna Krisztián</td><td>krisztián.czérna@mail.hu</td><td>krisztian4</td></tr>",
                            "<tr><td>Bori Krisztina</td><td>krisztina.bori@mail.hu</td><td>krisztina1</td></tr>",
                            "<tr><td>Gyárfás Krisztina</td><td>KRISZTINAG@gmail.com</td><td>KRISZTINAG</td></tr>",
                            "<tr><td>Kiss Lajos</td><td>lajos.kiss@mail.hu</td><td>lajos</td></tr>",
                            "<tr><td>Nagymihály Lajos</td><td>lajos.nagymihály@mail.hu</td><td>lala</td></tr>",
                            "<tr><td>Móra László</td><td>lászló.móra@mail.hu</td><td>laszlo2</td></tr>",
                            "<tr><td>Antal László</td><td>lászló.antal@mail.hu</td><td>LASZLOA</td></tr>",
                            "<tr><td>Nagy László</td><td>lászló.nagy@mail.hu</td><td>LASZLON</td></tr>",
                            "<tr><td>Baráth Mária</td><td>mária.baráth@mail.hu</td><td>maria1</td></tr>",
                            "<tr><td>Kispál Márk</td><td>márk.kispál@mail.hu</td><td>mark</td></tr>",
                            "<tr><td>Horváth Márk</td><td>márk.horváth@mail.hu</td><td>MARKH</td></tr>",
                            "<tr><td>Kalacsi Márton</td><td>marton@gmail.com</td><td>marton</td></tr>",
                            "<tr><td>Koza Máté</td><td>máté.koza@mail.hu</td><td>MATEK</td></tr>",
                            "<tr><td>Botka Mátyás</td><td>matyas2@gmail.com</td><td>matyas2</td></tr>",
                            "<tr><td>Szilágyi Mátyás</td><td>mátyás.szilágyi@mail.hu</td><td>MATYASS</td></tr>",
                            "<tr><td>Juhász Mihály</td><td>mihály.juhász@mail.hu</td><td>MIHALYJ</td></tr>",
                            "<tr><td>Gondos Miklós</td><td>miklos2@gmail.com</td><td>miklos2</td></tr>",
                            "<tr><td>Balla Miklós</td><td>miklós.balla@mail.hu</td><td>MIKLOSB</td></tr>",
                            "<tr><td>Mohos Mónika</td><td>mónika.mohos@mail.hu</td><td>MONIKAM</td></tr>",
                            "<tr><td>Fő Nándor</td><td>nándor.fő@mail.hu</td><td>NANDORF</td></tr>",
                            "<tr><td>Horváth Nikolett</td><td>nikolett3@gmail.com</td><td>nikolett3</td></tr>",
                            "<tr><td>Kő Nikoletta</td><td>nikoletta4@gmail.com</td><td>nikoletta4</td></tr>",
                            "<tr><td>Tatár Nikoletta</td><td>nikoletta.tatár@mail.hu</td><td>NIKOLETTAT</td></tr>",
                            "<tr><td>Szűcs Norbert</td><td>norbert@gmail.com</td><td>norbert</td></tr>",
                            "<tr><td>Hegedűs Norbert</td><td>norbert.hegedűs@mail.hu</td><td>norbert2</td></tr>",
                            "<tr><td>Mile Norbert</td><td>norbert4@gmail.com</td><td>norbert4</td></tr>",
                            "<tr><td>Béres Norbert</td><td>norbert5@gmail.com</td><td>norbert5</td></tr>",
                            "<tr><td>Barabás Pál</td><td>pál.barabás@mail.hu</td><td>pal</td></tr>",
                            "<tr><td>Kozma Péter</td><td>peter1@gmail.com</td><td>peter1</td></tr>",
                            "<tr><td>Bozsó Péter</td><td>peter2@gmail.com</td><td>peter2</td></tr>",
                            "<tr><td>Szalai Péter</td><td>peter3@gmail.com</td><td>peter3</td></tr>",
                            "<tr><td>Bíró Péter</td><td>péter.bíró@mail.hu</td><td>peter4</td></tr>",
                            "<tr><td>Berendi Péter</td><td>péter.berendi@mail.hu</td><td>PETERB</td></tr>",
                            "<tr><td>Palágyi Polla</td><td>polla@gmail.com</td><td>polla</td></tr>",
                            "<tr><td>Rácz Rajmond</td><td>rajmond.rácz@mail.hu</td><td>rajmond4</td></tr>",
                            "<tr><td>Szikszai Réka</td><td>réka.szikszai@mail.hu</td><td>reka4</td></tr>",
                            "<tr><td>Szirmai Renáta</td><td>RENATAS@gmail.com</td><td>RENATAS</td></tr>",
                            "<tr><td>Patay Róbert</td><td>robert2@gmail.com</td><td>robert2</td></tr>",
                            "<tr><td>Iván Róbert</td><td>róbert.iván@mail.hu</td><td>ROBERTI</td></tr>",
                            "<tr><td>Tóth Roland</td><td>roland@gmail.com</td><td>roland</td></tr>",
                            "<tr><td>Ferencz Roland</td><td>roland.ferencz@mail.hu</td><td>roland1</td></tr>",
                            "<tr><td>Bucskó Róza</td><td>roza2@gmail.com</td><td>roza2</td></tr>",
                            "<tr><td>Karasz Sándor</td><td>sandor@gmail.com</td><td>sandor</td></tr>",
                            "<tr><td>Farkas Sándor</td><td>sándor.farkas@mail.hu</td><td>sandor3</td></tr>",
                            "<tr><td>Nagy Sándor</td><td>sandor4@gmail.com</td><td>sandor4</td></tr>",
                            "<tr><td>Farkas Sára</td><td>sára.farkas@mail.hu</td><td>sara</td></tr>",
                            "<tr><td>Foltényi Sebastián</td><td>SEBASTIANF@gmail.com</td><td>SEBASTIANF</td></tr>",
                            "<tr><td>Rab Sebestyén</td><td>sebestyen@gmail.com</td><td>sebestyen</td></tr>",
                            "<tr><td>Miklós Szabolcs</td><td>szabolcs.miklós@mail.hu</td><td>SZABOLCSM</td></tr>",
                            "<tr><td>Szalai Szilárd</td><td>szilárd.szalai@mail.hu</td><td>SZILARDS</td></tr>",
                            "<tr><td>Tari Szilvia</td><td>szilvia.tari@mail.hu</td><td>szilvia1</td></tr>",
                            "<tr><td>Miklós Tamara</td><td>tamara.miklós@mail.hu</td><td>tamara2</td></tr>",
                            "<tr><td>Antal Tamás</td><td>tamás.antal@mail.hu</td><td>tamas</td></tr>",
                            "<tr><td>Fényes Tamás</td><td>TAMASF@gmail.com</td><td>TAMASF</td></tr>",
                            "<tr><td>Gombos Tibor</td><td>tibor.gombos@mail.hu</td><td>tibor</td></tr>",
                            "<tr><td>Kazy Tihamér</td><td>tihamér.kazy@mail.hu</td><td>tihamer</td></tr>",
                            "<tr><td>Dusha Tímea</td><td>tímea.dusha@mail.hu</td><td>timea2</td></tr>",
                            "<tr><td>Turcsik Tünde</td><td>tunde@gmail.com</td><td>tunde</td></tr>",
                            "<tr><td>Feró Valentin</td><td>valentin.feró@mail.hu</td><td>valentin</td></tr>",
                            "<tr><td>Tankó Veronika</td><td>veronika4@gmail.com</td><td>veronika4</td></tr>",
                            "<tr><td>Boros Vivien</td><td>vivien3@gmail.com</td><td>vivien3</td></tr>",
                            "<tr><td>Fodor Zoltán</td><td>zoltán.fodor@mail.hu</td><td>zoltan</td></tr>",
                            "<tr><td>Pintér Zoltán</td><td>zoltán.pintér@mail.hu</td><td>ZOLTANP</td></tr>",
                            "<tr><td>Tóth Zoltán</td><td>zoltán.tóth@mail.hu</td><td>ZOLTANT</td></tr>",
                            "<tr><td>Molnár Zsófi</td><td>zsofi1@gmail.com</td><td>zsofi1</td></tr>",
                            "<tr><td>Józsa Zsolt</td><td>ZSOLTJ@gmail.com</td><td>ZSOLTJ</td></tr>",
                            "<tr><td>Pusztai Zsuzsanna</td><td>zsuzsanna@gmail.com</td><td>zsuzsa</td></tr>",
                            "<tr><td>Varsányi Zsuzsa</td><td>zsuzsa.varsányi@mail.hu</td><td>zsuzsa3</td></tr>",
                            "<tr><td>Barta Zsuzsanna</td><td>zsuzsanna.barta@mail.hu</td><td>zsuzsanna</td></tr>",
                            "<tr><td>Vajda Zsuzsa</td><td>zsuzsa.vajda@mail.hu</td><td>ZSUZSAV</td></tr>",
                            "</table>"
                        ]
                    }
                }
            ],
            "execution_count": 29
        },
        {
            "cell_type": "markdown",
            "source": [
                "<span style=\"color: rgb(0, 0, 0); font-family: &quot;Open Sans&quot;, sans-serif; font-size: 14.44px; background-color: rgb(255, 255, 255);\">Listázzuk azon szálláshelyek azonosítóját és nevét, amelyek a saját helyükön (HELY) a legtöbb csillaggal rendelkeznek!</span>"
            ],
            "metadata": {
                "azdata_cell_guid": "e5217da0-894b-4785-958d-18ab08ffbabb"
            },
            "attachments": {}
        },
        {
            "cell_type": "code",
            "source": [
                "SELECT s.SZALLAS_ID AS 'Azonosító ', s.SZALLAS_NEV AS 'Szállás neve'\r\n",
                "FROM SZALLASHELY s\r\n",
                "WHERE s.CSILLAGOK_SZAMA = (\r\n",
                "    SELECT MAX(CSILLAGOK_SZAMA)\r\n",
                "    FROM SZALLASHELY\r\n",
                "    WHERE HELY = s.HELY\r\n",
                ")\r\n",
                ""
            ],
            "metadata": {
                "azdata_cell_guid": "9877ee3b-7bc0-4c59-a876-e4b82f7763b7",
                "language": "sql"
            },
            "outputs": [
                {
                    "output_type": "display_data",
                    "data": {
                        "text/html": "(11 rows affected)"
                    },
                    "metadata": {}
                },
                {
                    "output_type": "display_data",
                    "data": {
                        "text/html": "Total execution time: 00:00:00.005"
                    },
                    "metadata": {}
                },
                {
                    "output_type": "execute_result",
                    "metadata": {},
                    "execution_count": 6,
                    "data": {
                        "application/vnd.dataresource+json": {
                            "schema": {
                                "fields": [
                                    {
                                        "name": "Azonosító "
                                    },
                                    {
                                        "name": "Szállás neve"
                                    }
                                ]
                            },
                            "data": [
                                {
                                    "Azonosító ": "17",
                                    "Szállás neve": "Szarvas Hotel"
                                },
                                {
                                    "Azonosító ": "16",
                                    "Szállás neve": "Bagoly Hotel"
                                },
                                {
                                    "Azonosító ": "3",
                                    "Szállás neve": "Fortuna Apartman"
                                },
                                {
                                    "Azonosító ": "18",
                                    "Szállás neve": "Fortuna Apartman"
                                },
                                {
                                    "Azonosító ": "19",
                                    "Szállás neve": "Nyárfás Vendégház"
                                },
                                {
                                    "Azonosító ": "21",
                                    "Szállás neve": "Müller Vendégház"
                                },
                                {
                                    "Azonosító ": "13",
                                    "Szállás neve": "Riviéra Panzió"
                                },
                                {
                                    "Azonosító ": "10",
                                    "Szállás neve": "Lagúna Hotel"
                                },
                                {
                                    "Azonosító ": "5",
                                    "Szállás neve": "Fortuna Panzió"
                                },
                                {
                                    "Azonosító ": "11",
                                    "Szállás neve": "Partiszél Vendégház"
                                },
                                {
                                    "Azonosító ": "8",
                                    "Szállás neve": "Hotel Három Hattyú"
                                }
                            ]
                        },
                        "text/html": [
                            "<table>",
                            "<tr><th>Azonosító </th><th>Szállás neve</th></tr>",
                            "<tr><td>17</td><td>Szarvas Hotel</td></tr>",
                            "<tr><td>16</td><td>Bagoly Hotel</td></tr>",
                            "<tr><td>3</td><td>Fortuna Apartman</td></tr>",
                            "<tr><td>18</td><td>Fortuna Apartman</td></tr>",
                            "<tr><td>19</td><td>Nyárfás Vendégház</td></tr>",
                            "<tr><td>21</td><td>Müller Vendégház</td></tr>",
                            "<tr><td>13</td><td>Riviéra Panzió</td></tr>",
                            "<tr><td>10</td><td>Lagúna Hotel</td></tr>",
                            "<tr><td>5</td><td>Fortuna Panzió</td></tr>",
                            "<tr><td>11</td><td>Partiszél Vendégház</td></tr>",
                            "<tr><td>8</td><td>Hotel Három Hattyú</td></tr>",
                            "</table>"
                        ]
                    }
                }
            ],
            "execution_count": 6
        },
        {
            "cell_type": "markdown",
            "source": [
                "Jelenítsük meg, hogy az egyes szálláshelyek szobáit esetén a legutolsó 5 foglalás átlagosan hány főre történt!\n",
                "\n",
                "- A számításnál vegyük figyelembe a felnőtteket és a gyermekeket is\n",
                "- A foglalás dátumánál a METTOL mezőt használjuk"
            ],
            "metadata": {
                "azdata_cell_guid": "56448403-3d23-4788-8135-4ce0d22cc42e"
            },
            "attachments": {}
        },
        {
            "cell_type": "code",
            "source": [
                "SELECT szh.szallas_nev AS \"szálláshely neve\", szo.SZOBA_ID AS \"szoba azonosítója\", AVG(fog.FELNOTT_SZAM + fog.GYERMEK_SZAM) AS \"átlag létszám\"\r\n",
                "FROM SZOBA szo \r\n",
                "JOIN FOGLALAS fog ON szo.SZOBA_ID = fog.SZOBA_FK\r\n",
                "JOIN SZALLASHELY szh ON szo.SZALLAS_FK = szh.SZALLAS_ID \r\n",
                "WHERE fog.METTOL >= (\r\n",
                "    SELECT MAX(METTOL) \r\n",
                "    FROM (\r\n",
                "        SELECT TOP 5 METTOL \r\n",
                "        FROM FOGLALAS f2\r\n",
                "        WHERE f2.SZOBA_FK = fog.SZOBA_FK\r\n",
                "        ORDER BY METTOL DESC\r\n",
                "    ) AS last5\r\n",
                ")\r\n",
                "GROUP BY szh.szallas_nev, szo.SZOBA_ID; \r\n",
                ""
            ],
            "metadata": {
                "azdata_cell_guid": "18cf54cb-1046-4177-b3d7-7d661bd6c894",
                "language": "sql"
            },
            "outputs": [
                {
                    "output_type": "display_data",
                    "data": {
                        "text/html": "(197 rows affected)"
                    },
                    "metadata": {}
                },
                {
                    "output_type": "display_data",
                    "data": {
                        "text/html": "Total execution time: 00:00:00.036"
                    },
                    "metadata": {}
                },
                {
                    "output_type": "execute_result",
                    "metadata": {},
                    "execution_count": 30,
                    "data": {
                        "application/vnd.dataresource+json": {
                            "schema": {
                                "fields": [
                                    {
                                        "name": "szálláshely neve"
                                    },
                                    {
                                        "name": "szoba azonosítója"
                                    },
                                    {
                                        "name": "átlag létszám"
                                    }
                                ]
                            },
                            "data": [
                                {
                                    "szálláshely neve": "Sába-Ház",
                                    "szoba azonosítója": "1",
                                    "átlag létszám": "3"
                                },
                                {
                                    "szálláshely neve": "Sába-Ház",
                                    "szoba azonosítója": "2",
                                    "átlag létszám": "4"
                                },
                                {
                                    "szálláshely neve": "Sába-Ház",
                                    "szoba azonosítója": "3",
                                    "átlag létszám": "3"
                                },
                                {
                                    "szálláshely neve": "Sába-Ház",
                                    "szoba azonosítója": "4",
                                    "átlag létszám": "2"
                                },
                                {
                                    "szálláshely neve": "Sába-Ház",
                                    "szoba azonosítója": "5",
                                    "átlag létszám": "2"
                                },
                                {
                                    "szálláshely neve": "Sába-Ház",
                                    "szoba azonosítója": "6",
                                    "átlag létszám": "3"
                                },
                                {
                                    "szálláshely neve": "Sába-Ház",
                                    "szoba azonosítója": "7",
                                    "átlag létszám": "1"
                                },
                                {
                                    "szálláshely neve": "Sába-Ház",
                                    "szoba azonosítója": "8",
                                    "átlag létszám": "3"
                                },
                                {
                                    "szálláshely neve": "Sába-Ház",
                                    "szoba azonosítója": "9",
                                    "átlag létszám": "4"
                                },
                                {
                                    "szálláshely neve": "Sába-Ház",
                                    "szoba azonosítója": "10",
                                    "átlag létszám": "2"
                                },
                                {
                                    "szálláshely neve": "Sába-Ház",
                                    "szoba azonosítója": "11",
                                    "átlag létszám": "1"
                                },
                                {
                                    "szálláshely neve": "Sába-Ház",
                                    "szoba azonosítója": "12",
                                    "átlag létszám": "1"
                                },
                                {
                                    "szálláshely neve": "Családi Ház",
                                    "szoba azonosítója": "13",
                                    "átlag létszám": "1"
                                },
                                {
                                    "szálláshely neve": "Családi Ház",
                                    "szoba azonosítója": "14",
                                    "átlag létszám": "4"
                                },
                                {
                                    "szálláshely neve": "Családi Ház",
                                    "szoba azonosítója": "15",
                                    "átlag létszám": "3"
                                },
                                {
                                    "szálláshely neve": "Családi Ház",
                                    "szoba azonosítója": "16",
                                    "átlag létszám": "3"
                                },
                                {
                                    "szálláshely neve": "Fortuna Apartman",
                                    "szoba azonosítója": "17",
                                    "átlag létszám": "3"
                                },
                                {
                                    "szálláshely neve": "Fortuna Apartman",
                                    "szoba azonosítója": "18",
                                    "átlag létszám": "4"
                                },
                                {
                                    "szálláshely neve": "Fortuna Apartman",
                                    "szoba azonosítója": "19",
                                    "átlag létszám": "3"
                                },
                                {
                                    "szálláshely neve": "Fortuna Apartman",
                                    "szoba azonosítója": "20",
                                    "átlag létszám": "3"
                                },
                                {
                                    "szálláshely neve": "Fortuna Apartman",
                                    "szoba azonosítója": "21",
                                    "átlag létszám": "2"
                                },
                                {
                                    "szálláshely neve": "Fortuna Apartman",
                                    "szoba azonosítója": "22",
                                    "átlag létszám": "2"
                                },
                                {
                                    "szálláshely neve": "Fortuna Apartman",
                                    "szoba azonosítója": "23",
                                    "átlag létszám": "2"
                                },
                                {
                                    "szálláshely neve": "Fortuna Apartman",
                                    "szoba azonosítója": "24",
                                    "átlag létszám": "5"
                                },
                                {
                                    "szálláshely neve": "Fortuna panzió",
                                    "szoba azonosítója": "25",
                                    "átlag létszám": "4"
                                },
                                {
                                    "szálláshely neve": "Fortuna panzió",
                                    "szoba azonosítója": "26",
                                    "átlag létszám": "2"
                                },
                                {
                                    "szálláshely neve": "Fortuna panzió",
                                    "szoba azonosítója": "27",
                                    "átlag létszám": "3"
                                },
                                {
                                    "szálláshely neve": "Fortuna panzió",
                                    "szoba azonosítója": "28",
                                    "átlag létszám": "2"
                                },
                                {
                                    "szálláshely neve": "Fortuna panzió",
                                    "szoba azonosítója": "29",
                                    "átlag létszám": "1"
                                },
                                {
                                    "szálláshely neve": "Fortuna panzió",
                                    "szoba azonosítója": "30",
                                    "átlag létszám": "1"
                                },
                                {
                                    "szálláshely neve": "Fortuna panzió",
                                    "szoba azonosítója": "31",
                                    "átlag létszám": "4"
                                },
                                {
                                    "szálláshely neve": "Fortuna panzió",
                                    "szoba azonosítója": "32",
                                    "átlag létszám": "2"
                                },
                                {
                                    "szálláshely neve": "Fortuna panzió",
                                    "szoba azonosítója": "33",
                                    "átlag létszám": "2"
                                },
                                {
                                    "szálláshely neve": "Fortuna panzió",
                                    "szoba azonosítója": "34",
                                    "átlag létszám": "3"
                                },
                                {
                                    "szálláshely neve": "Fortuna panzió",
                                    "szoba azonosítója": "35",
                                    "átlag létszám": "1"
                                },
                                {
                                    "szálláshely neve": "Fortuna panzió",
                                    "szoba azonosítója": "36",
                                    "átlag létszám": "4"
                                },
                                {
                                    "szálláshely neve": "Fortuna panzió",
                                    "szoba azonosítója": "37",
                                    "átlag létszám": "2"
                                },
                                {
                                    "szálláshely neve": "Fortuna panzió",
                                    "szoba azonosítója": "38",
                                    "átlag létszám": "3"
                                },
                                {
                                    "szálláshely neve": "Fortuna panzió",
                                    "szoba azonosítója": "39",
                                    "átlag létszám": "2"
                                },
                                {
                                    "szálláshely neve": "Fortuna Panzió",
                                    "szoba azonosítója": "40",
                                    "átlag létszám": "3"
                                },
                                {
                                    "szálláshely neve": "Fortuna Panzió",
                                    "szoba azonosítója": "41",
                                    "átlag létszám": "3"
                                },
                                {
                                    "szálláshely neve": "Fortuna Panzió",
                                    "szoba azonosítója": "42",
                                    "átlag létszám": "2"
                                },
                                {
                                    "szálláshely neve": "Fortuna Panzió",
                                    "szoba azonosítója": "43",
                                    "átlag létszám": "2"
                                },
                                {
                                    "szálláshely neve": "Fortuna Panzió",
                                    "szoba azonosítója": "44",
                                    "átlag létszám": "3"
                                },
                                {
                                    "szálláshely neve": "Fortuna Panzió",
                                    "szoba azonosítója": "45",
                                    "átlag létszám": "2"
                                },
                                {
                                    "szálláshely neve": "Fortuna Panzió",
                                    "szoba azonosítója": "46",
                                    "átlag létszám": "3"
                                },
                                {
                                    "szálláshely neve": "Fortuna Panzió",
                                    "szoba azonosítója": "47",
                                    "átlag létszám": "1"
                                },
                                {
                                    "szálláshely neve": "Fortuna Panzió",
                                    "szoba azonosítója": "48",
                                    "átlag létszám": "1"
                                },
                                {
                                    "szálláshely neve": "Fortuna Panzió",
                                    "szoba azonosítója": "49",
                                    "átlag létszám": "2"
                                },
                                {
                                    "szálláshely neve": "Kentaur Hotel",
                                    "szoba azonosítója": "50",
                                    "átlag létszám": "2"
                                },
                                {
                                    "szálláshely neve": "Kentaur Hotel",
                                    "szoba azonosítója": "51",
                                    "átlag létszám": "4"
                                },
                                {
                                    "szálláshely neve": "Kentaur Hotel",
                                    "szoba azonosítója": "52",
                                    "átlag létszám": "3"
                                },
                                {
                                    "szálláshely neve": "Kentaur Hotel",
                                    "szoba azonosítója": "53",
                                    "átlag létszám": "2"
                                },
                                {
                                    "szálláshely neve": "Kentaur Hotel",
                                    "szoba azonosítója": "54",
                                    "átlag létszám": "2"
                                },
                                {
                                    "szálláshely neve": "Kentaur Hotel",
                                    "szoba azonosítója": "55",
                                    "átlag létszám": "3"
                                },
                                {
                                    "szálláshely neve": "Kentaur Hotel",
                                    "szoba azonosítója": "56",
                                    "átlag létszám": "2"
                                },
                                {
                                    "szálláshely neve": "Kentaur Hotel",
                                    "szoba azonosítója": "57",
                                    "átlag létszám": "1"
                                },
                                {
                                    "szálláshely neve": "Kentaur Hotel",
                                    "szoba azonosítója": "58",
                                    "átlag létszám": "2"
                                },
                                {
                                    "szálláshely neve": "Kentaur Hotel",
                                    "szoba azonosítója": "59",
                                    "átlag létszám": "3"
                                },
                                {
                                    "szálláshely neve": "Kentaur Hotel",
                                    "szoba azonosítója": "60",
                                    "átlag létszám": "2"
                                },
                                {
                                    "szálláshely neve": "Kentaur Hotel",
                                    "szoba azonosítója": "61",
                                    "átlag létszám": "3"
                                },
                                {
                                    "szálláshely neve": "Kentaur Hotel",
                                    "szoba azonosítója": "62",
                                    "átlag létszám": "2"
                                },
                                {
                                    "szálláshely neve": "Kentaur Hotel",
                                    "szoba azonosítója": "63",
                                    "átlag létszám": "1"
                                },
                                {
                                    "szálláshely neve": "Kentaur Hotel",
                                    "szoba azonosítója": "64",
                                    "átlag létszám": "2"
                                },
                                {
                                    "szálláshely neve": "Kentaur Hotel",
                                    "szoba azonosítója": "65",
                                    "átlag létszám": "2"
                                },
                                {
                                    "szálláshely neve": "Kentaur Hotel",
                                    "szoba azonosítója": "66",
                                    "átlag létszám": "3"
                                },
                                {
                                    "szálláshely neve": "Kentaur Hotel",
                                    "szoba azonosítója": "67",
                                    "átlag létszám": "3"
                                },
                                {
                                    "szálláshely neve": "Kentaur Hotel",
                                    "szoba azonosítója": "68",
                                    "átlag létszám": "4"
                                },
                                {
                                    "szálláshely neve": "Kentaur Hotel",
                                    "szoba azonosítója": "69",
                                    "átlag létszám": "4"
                                },
                                {
                                    "szálláshely neve": "Kentaur Hotel",
                                    "szoba azonosítója": "70",
                                    "átlag létszám": "2"
                                },
                                {
                                    "szálláshely neve": "Kentaur Hotel",
                                    "szoba azonosítója": "71",
                                    "átlag létszám": "3"
                                },
                                {
                                    "szálláshely neve": "Kentaur Hotel",
                                    "szoba azonosítója": "72",
                                    "átlag létszám": "1"
                                },
                                {
                                    "szálláshely neve": "Kentaur Hotel",
                                    "szoba azonosítója": "73",
                                    "átlag létszám": "2"
                                },
                                {
                                    "szálláshely neve": "Kentaur Hotel",
                                    "szoba azonosítója": "74",
                                    "átlag létszám": "3"
                                },
                                {
                                    "szálláshely neve": "Kentaur Hotel",
                                    "szoba azonosítója": "75",
                                    "átlag létszám": "3"
                                },
                                {
                                    "szálláshely neve": "Kentaur Hotel",
                                    "szoba azonosítója": "76",
                                    "átlag létszám": "2"
                                },
                                {
                                    "szálláshely neve": "Kentaur Hotel",
                                    "szoba azonosítója": "77",
                                    "átlag létszám": "1"
                                },
                                {
                                    "szálláshely neve": "Kentaur Hotel",
                                    "szoba azonosítója": "78",
                                    "átlag létszám": "3"
                                },
                                {
                                    "szálláshely neve": "Kentaur Hotel",
                                    "szoba azonosítója": "79",
                                    "átlag létszám": "2"
                                },
                                {
                                    "szálláshely neve": "Kentaur Hotel",
                                    "szoba azonosítója": "80",
                                    "átlag létszám": "1"
                                },
                                {
                                    "szálláshely neve": "Kentaur Hotel",
                                    "szoba azonosítója": "81",
                                    "átlag létszám": "2"
                                },
                                {
                                    "szálláshely neve": "Kentaur Hotel",
                                    "szoba azonosítója": "82",
                                    "átlag létszám": "3"
                                },
                                {
                                    "szálláshely neve": "Kentaur Hotel",
                                    "szoba azonosítója": "83",
                                    "átlag létszám": "1"
                                },
                                {
                                    "szálláshely neve": "Kentaur Hotel",
                                    "szoba azonosítója": "84",
                                    "átlag létszám": "1"
                                },
                                {
                                    "szálláshely neve": "Szieszta Apartmanház",
                                    "szoba azonosítója": "85",
                                    "átlag létszám": "2"
                                },
                                {
                                    "szálláshely neve": "Szieszta Apartmanház",
                                    "szoba azonosítója": "86",
                                    "átlag létszám": "3"
                                },
                                {
                                    "szálláshely neve": "Szieszta Apartmanház",
                                    "szoba azonosítója": "87",
                                    "átlag létszám": "3"
                                },
                                {
                                    "szálláshely neve": "Szieszta Apartmanház",
                                    "szoba azonosítója": "88",
                                    "átlag létszám": "2"
                                },
                                {
                                    "szálláshely neve": "Szieszta Apartmanház",
                                    "szoba azonosítója": "89",
                                    "átlag létszám": "3"
                                },
                                {
                                    "szálláshely neve": "Szieszta Apartmanház",
                                    "szoba azonosítója": "90",
                                    "átlag létszám": "3"
                                },
                                {
                                    "szálláshely neve": "Hotel Három Hattyú",
                                    "szoba azonosítója": "91",
                                    "átlag létszám": "2"
                                },
                                {
                                    "szálláshely neve": "Hotel Három Hattyú",
                                    "szoba azonosítója": "92",
                                    "átlag létszám": "4"
                                },
                                {
                                    "szálláshely neve": "Hotel Három Hattyú",
                                    "szoba azonosítója": "93",
                                    "átlag létszám": "5"
                                },
                                {
                                    "szálláshely neve": "Hotel Három Hattyú",
                                    "szoba azonosítója": "94",
                                    "átlag létszám": "2"
                                },
                                {
                                    "szálláshely neve": "Hotel Három Hattyú",
                                    "szoba azonosítója": "95",
                                    "átlag létszám": "1"
                                },
                                {
                                    "szálláshely neve": "Hotel Három Hattyú",
                                    "szoba azonosítója": "96",
                                    "átlag létszám": "3"
                                },
                                {
                                    "szálláshely neve": "Hotel Három Hattyú",
                                    "szoba azonosítója": "97",
                                    "átlag létszám": "3"
                                },
                                {
                                    "szálláshely neve": "Hotel Három Hattyú",
                                    "szoba azonosítója": "98",
                                    "átlag létszám": "2"
                                },
                                {
                                    "szálláshely neve": "Hotel Három Hattyú",
                                    "szoba azonosítója": "99",
                                    "átlag létszám": "2"
                                },
                                {
                                    "szálláshely neve": "Hotel Három Hattyú",
                                    "szoba azonosítója": "100",
                                    "átlag létszám": "3"
                                },
                                {
                                    "szálláshely neve": "Hotel Három Hattyú",
                                    "szoba azonosítója": "101",
                                    "átlag létszám": "2"
                                },
                                {
                                    "szálláshely neve": "Hotel Három Hattyú",
                                    "szoba azonosítója": "102",
                                    "átlag létszám": "2"
                                },
                                {
                                    "szálláshely neve": "Hotel Három Hattyú",
                                    "szoba azonosítója": "103",
                                    "átlag létszám": "2"
                                },
                                {
                                    "szálláshely neve": "Hotel Három Hattyú",
                                    "szoba azonosítója": "104",
                                    "átlag létszám": "2"
                                },
                                {
                                    "szálláshely neve": "Hotel Három Hattyú",
                                    "szoba azonosítója": "105",
                                    "átlag létszám": "2"
                                },
                                {
                                    "szálláshely neve": "Hotel Három Hattyú",
                                    "szoba azonosítója": "106",
                                    "átlag létszám": "2"
                                },
                                {
                                    "szálláshely neve": "Hotel Három Hattyú",
                                    "szoba azonosítója": "107",
                                    "átlag létszám": "3"
                                },
                                {
                                    "szálláshely neve": "Hotel Három Hattyú",
                                    "szoba azonosítója": "108",
                                    "átlag létszám": "2"
                                },
                                {
                                    "szálláshely neve": "Hotel Három Hattyú",
                                    "szoba azonosítója": "109",
                                    "átlag létszám": "2"
                                },
                                {
                                    "szálláshely neve": "Hotel Három Hattyú",
                                    "szoba azonosítója": "110",
                                    "átlag létszám": "2"
                                },
                                {
                                    "szálláshely neve": "Hotel Három Hattyú",
                                    "szoba azonosítója": "111",
                                    "átlag létszám": "3"
                                },
                                {
                                    "szálláshely neve": "Hotel Három Hattyú",
                                    "szoba azonosítója": "112",
                                    "átlag létszám": "3"
                                },
                                {
                                    "szálláshely neve": "Hotel Három Hattyú",
                                    "szoba azonosítója": "113",
                                    "átlag létszám": "4"
                                },
                                {
                                    "szálláshely neve": "Hotel Három Hattyú",
                                    "szoba azonosítója": "114",
                                    "átlag létszám": "3"
                                },
                                {
                                    "szálláshely neve": "Hotel Három Hattyú",
                                    "szoba azonosítója": "115",
                                    "átlag létszám": "3"
                                },
                                {
                                    "szálláshely neve": "Hotel Három Hattyú",
                                    "szoba azonosítója": "116",
                                    "átlag létszám": "3"
                                },
                                {
                                    "szálláshely neve": "Hotel Három Hattyú",
                                    "szoba azonosítója": "117",
                                    "átlag létszám": "4"
                                },
                                {
                                    "szálláshely neve": "Hotel Három Hattyú",
                                    "szoba azonosítója": "118",
                                    "átlag létszám": "2"
                                },
                                {
                                    "szálláshely neve": "Hotel Három Hattyú",
                                    "szoba azonosítója": "119",
                                    "átlag létszám": "2"
                                },
                                {
                                    "szálláshely neve": "Hotel Három Hattyú",
                                    "szoba azonosítója": "120",
                                    "átlag létszám": "4"
                                },
                                {
                                    "szálláshely neve": "Hotel Három Hattyú",
                                    "szoba azonosítója": "121",
                                    "átlag létszám": "3"
                                },
                                {
                                    "szálláshely neve": "Hotel Három Hattyú",
                                    "szoba azonosítója": "122",
                                    "átlag létszám": "4"
                                },
                                {
                                    "szálláshely neve": "Hotel Három Hattyú",
                                    "szoba azonosítója": "123",
                                    "átlag létszám": "3"
                                },
                                {
                                    "szálláshely neve": "Hotel Három Hattyú",
                                    "szoba azonosítója": "124",
                                    "átlag létszám": "3"
                                },
                                {
                                    "szálláshely neve": "Hotel Három Hattyú",
                                    "szoba azonosítója": "125",
                                    "átlag létszám": "3"
                                },
                                {
                                    "szálláshely neve": "Hotel Három Hattyú",
                                    "szoba azonosítója": "126",
                                    "átlag létszám": "3"
                                },
                                {
                                    "szálláshely neve": "Hotel Három Hattyú",
                                    "szoba azonosítója": "127",
                                    "átlag létszám": "3"
                                },
                                {
                                    "szálláshely neve": "Hotel Három Hattyú",
                                    "szoba azonosítója": "128",
                                    "átlag létszám": "2"
                                },
                                {
                                    "szálláshely neve": "Hotel Három Hattyú",
                                    "szoba azonosítója": "129",
                                    "átlag létszám": "3"
                                },
                                {
                                    "szálláshely neve": "Jáde panzió",
                                    "szoba azonosítója": "130",
                                    "átlag létszám": "2"
                                },
                                {
                                    "szálláshely neve": "Jáde panzió",
                                    "szoba azonosítója": "131",
                                    "átlag létszám": "2"
                                },
                                {
                                    "szálláshely neve": "Jáde panzió",
                                    "szoba azonosítója": "132",
                                    "átlag létszám": "3"
                                },
                                {
                                    "szálláshely neve": "Jáde panzió",
                                    "szoba azonosítója": "133",
                                    "átlag létszám": "3"
                                },
                                {
                                    "szálláshely neve": "Jáde panzió",
                                    "szoba azonosítója": "134",
                                    "átlag létszám": "2"
                                },
                                {
                                    "szálláshely neve": "Lagúna Hotel",
                                    "szoba azonosítója": "135",
                                    "átlag létszám": "3"
                                },
                                {
                                    "szálláshely neve": "Lagúna Hotel",
                                    "szoba azonosítója": "136",
                                    "átlag létszám": "2"
                                },
                                {
                                    "szálláshely neve": "Lagúna Hotel",
                                    "szoba azonosítója": "137",
                                    "átlag létszám": "2"
                                },
                                {
                                    "szálláshely neve": "Lagúna Hotel",
                                    "szoba azonosítója": "138",
                                    "átlag létszám": "4"
                                },
                                {
                                    "szálláshely neve": "Lagúna Hotel",
                                    "szoba azonosítója": "139",
                                    "átlag létszám": "1"
                                },
                                {
                                    "szálláshely neve": "Lagúna Hotel",
                                    "szoba azonosítója": "140",
                                    "átlag létszám": "2"
                                },
                                {
                                    "szálláshely neve": "Lagúna Hotel",
                                    "szoba azonosítója": "141",
                                    "átlag létszám": "2"
                                },
                                {
                                    "szálláshely neve": "Lagúna Hotel",
                                    "szoba azonosítója": "142",
                                    "átlag létszám": "2"
                                },
                                {
                                    "szálláshely neve": "Lagúna Hotel",
                                    "szoba azonosítója": "143",
                                    "átlag létszám": "2"
                                },
                                {
                                    "szálláshely neve": "Lagúna Hotel",
                                    "szoba azonosítója": "144",
                                    "átlag létszám": "4"
                                },
                                {
                                    "szálláshely neve": "Lagúna Hotel",
                                    "szoba azonosítója": "145",
                                    "átlag létszám": "3"
                                },
                                {
                                    "szálláshely neve": "Lagúna Hotel",
                                    "szoba azonosítója": "146",
                                    "átlag létszám": "2"
                                },
                                {
                                    "szálláshely neve": "Lagúna Hotel",
                                    "szoba azonosítója": "147",
                                    "átlag létszám": "2"
                                },
                                {
                                    "szálláshely neve": "Lagúna Hotel",
                                    "szoba azonosítója": "148",
                                    "átlag létszám": "1"
                                },
                                {
                                    "szálláshely neve": "Lagúna Hotel",
                                    "szoba azonosítója": "149",
                                    "átlag létszám": "2"
                                },
                                {
                                    "szálláshely neve": "Lagúna Hotel",
                                    "szoba azonosítója": "150",
                                    "átlag létszám": "2"
                                },
                                {
                                    "szálláshely neve": "Lagúna Hotel",
                                    "szoba azonosítója": "151",
                                    "átlag létszám": "2"
                                },
                                {
                                    "szálláshely neve": "Lagúna Hotel",
                                    "szoba azonosítója": "152",
                                    "átlag létszám": "2"
                                },
                                {
                                    "szálláshely neve": "Lagúna Hotel",
                                    "szoba azonosítója": "153",
                                    "átlag létszám": "3"
                                },
                                {
                                    "szálláshely neve": "Lagúna Hotel",
                                    "szoba azonosítója": "154",
                                    "átlag létszám": "2"
                                },
                                {
                                    "szálláshely neve": "Lagúna Hotel",
                                    "szoba azonosítója": "155",
                                    "átlag létszám": "1"
                                },
                                {
                                    "szálláshely neve": "Lagúna Hotel",
                                    "szoba azonosítója": "156",
                                    "átlag létszám": "3"
                                },
                                {
                                    "szálláshely neve": "Lagúna Hotel",
                                    "szoba azonosítója": "157",
                                    "átlag létszám": "2"
                                },
                                {
                                    "szálláshely neve": "Lagúna Hotel",
                                    "szoba azonosítója": "158",
                                    "átlag létszám": "3"
                                },
                                {
                                    "szálláshely neve": "Partiszél Vendégház",
                                    "szoba azonosítója": "160",
                                    "átlag létszám": "3"
                                },
                                {
                                    "szálláshely neve": "Partiszél Vendégház",
                                    "szoba azonosítója": "161",
                                    "átlag létszám": "3"
                                },
                                {
                                    "szálláshely neve": "Partiszél Vendégház",
                                    "szoba azonosítója": "162",
                                    "átlag létszám": "2"
                                },
                                {
                                    "szálláshely neve": "Partiszél Vendégház",
                                    "szoba azonosítója": "163",
                                    "átlag létszám": "2"
                                },
                                {
                                    "szálláshely neve": "Partiszél Vendégház",
                                    "szoba azonosítója": "164",
                                    "átlag létszám": "2"
                                },
                                {
                                    "szálláshely neve": "Gold Hotel",
                                    "szoba azonosítója": "165",
                                    "átlag létszám": "2"
                                },
                                {
                                    "szálláshely neve": "Gold Hotel",
                                    "szoba azonosítója": "166",
                                    "átlag létszám": "3"
                                },
                                {
                                    "szálláshely neve": "Gold Hotel",
                                    "szoba azonosítója": "167",
                                    "átlag létszám": "3"
                                },
                                {
                                    "szálláshely neve": "Gold Hotel",
                                    "szoba azonosítója": "168",
                                    "átlag létszám": "2"
                                },
                                {
                                    "szálláshely neve": "Gold Hotel",
                                    "szoba azonosítója": "169",
                                    "átlag létszám": "2"
                                },
                                {
                                    "szálláshely neve": "Gold Hotel",
                                    "szoba azonosítója": "170",
                                    "átlag létszám": "1"
                                },
                                {
                                    "szálláshely neve": "Gold Hotel",
                                    "szoba azonosítója": "171",
                                    "átlag létszám": "2"
                                },
                                {
                                    "szálláshely neve": "Gold Hotel",
                                    "szoba azonosítója": "172",
                                    "átlag létszám": "2"
                                },
                                {
                                    "szálláshely neve": "Gold Hotel",
                                    "szoba azonosítója": "173",
                                    "átlag létszám": "2"
                                },
                                {
                                    "szálláshely neve": "Gold Hotel",
                                    "szoba azonosítója": "174",
                                    "átlag létszám": "2"
                                },
                                {
                                    "szálláshely neve": "Gold Hotel",
                                    "szoba azonosítója": "175",
                                    "átlag létszám": "2"
                                },
                                {
                                    "szálláshely neve": "Gold Hotel",
                                    "szoba azonosítója": "176",
                                    "átlag létszám": "3"
                                },
                                {
                                    "szálláshely neve": "Gold Hotel",
                                    "szoba azonosítója": "177",
                                    "átlag létszám": "3"
                                },
                                {
                                    "szálláshely neve": "Gold Hotel",
                                    "szoba azonosítója": "178",
                                    "átlag létszám": "3"
                                },
                                {
                                    "szálláshely neve": "Gold Hotel",
                                    "szoba azonosítója": "179",
                                    "átlag létszám": "3"
                                },
                                {
                                    "szálláshely neve": "Gold Hotel",
                                    "szoba azonosítója": "180",
                                    "átlag létszám": "4"
                                },
                                {
                                    "szálláshely neve": "Gold Hotel",
                                    "szoba azonosítója": "181",
                                    "átlag létszám": "3"
                                },
                                {
                                    "szálláshely neve": "Gold Hotel",
                                    "szoba azonosítója": "182",
                                    "átlag létszám": "1"
                                },
                                {
                                    "szálláshely neve": "Gold Hotel",
                                    "szoba azonosítója": "183",
                                    "átlag létszám": "3"
                                },
                                {
                                    "szálláshely neve": "Gold Hotel",
                                    "szoba azonosítója": "184",
                                    "átlag létszám": "1"
                                },
                                {
                                    "szálláshely neve": "Gold Hotel",
                                    "szoba azonosítója": "185",
                                    "átlag létszám": "3"
                                },
                                {
                                    "szálláshely neve": "Gold Hotel",
                                    "szoba azonosítója": "186",
                                    "átlag létszám": "4"
                                },
                                {
                                    "szálláshely neve": "Gold Hotel",
                                    "szoba azonosítója": "187",
                                    "átlag létszám": "3"
                                },
                                {
                                    "szálláshely neve": "Gold Hotel",
                                    "szoba azonosítója": "188",
                                    "átlag létszám": "2"
                                },
                                {
                                    "szálláshely neve": "Gold Hotel",
                                    "szoba azonosítója": "189",
                                    "átlag létszám": "1"
                                },
                                {
                                    "szálláshely neve": "Gold Hotel",
                                    "szoba azonosítója": "190",
                                    "átlag létszám": "2"
                                },
                                {
                                    "szálláshely neve": "Gold Hotel",
                                    "szoba azonosítója": "191",
                                    "átlag létszám": "1"
                                },
                                {
                                    "szálláshely neve": "Gold Hotel",
                                    "szoba azonosítója": "192",
                                    "átlag létszám": "2"
                                },
                                {
                                    "szálláshely neve": "Gold Hotel",
                                    "szoba azonosítója": "193",
                                    "átlag létszám": "4"
                                },
                                {
                                    "szálláshely neve": "Gold Hotel",
                                    "szoba azonosítója": "194",
                                    "átlag létszám": "3"
                                },
                                {
                                    "szálláshely neve": "Gold Hotel",
                                    "szoba azonosítója": "195",
                                    "átlag létszám": "2"
                                },
                                {
                                    "szálláshely neve": "Gold Hotel",
                                    "szoba azonosítója": "196",
                                    "átlag létszám": "3"
                                },
                                {
                                    "szálláshely neve": "Gold Hotel",
                                    "szoba azonosítója": "197",
                                    "átlag létszám": "3"
                                },
                                {
                                    "szálláshely neve": "Gold Hotel",
                                    "szoba azonosítója": "198",
                                    "átlag létszám": "1"
                                }
                            ]
                        },
                        "text/html": [
                            "<table>",
                            "<tr><th>szálláshely neve</th><th>szoba azonosítója</th><th>átlag létszám</th></tr>",
                            "<tr><td>Sába-Ház</td><td>1</td><td>3</td></tr>",
                            "<tr><td>Sába-Ház</td><td>2</td><td>4</td></tr>",
                            "<tr><td>Sába-Ház</td><td>3</td><td>3</td></tr>",
                            "<tr><td>Sába-Ház</td><td>4</td><td>2</td></tr>",
                            "<tr><td>Sába-Ház</td><td>5</td><td>2</td></tr>",
                            "<tr><td>Sába-Ház</td><td>6</td><td>3</td></tr>",
                            "<tr><td>Sába-Ház</td><td>7</td><td>1</td></tr>",
                            "<tr><td>Sába-Ház</td><td>8</td><td>3</td></tr>",
                            "<tr><td>Sába-Ház</td><td>9</td><td>4</td></tr>",
                            "<tr><td>Sába-Ház</td><td>10</td><td>2</td></tr>",
                            "<tr><td>Sába-Ház</td><td>11</td><td>1</td></tr>",
                            "<tr><td>Sába-Ház</td><td>12</td><td>1</td></tr>",
                            "<tr><td>Családi Ház</td><td>13</td><td>1</td></tr>",
                            "<tr><td>Családi Ház</td><td>14</td><td>4</td></tr>",
                            "<tr><td>Családi Ház</td><td>15</td><td>3</td></tr>",
                            "<tr><td>Családi Ház</td><td>16</td><td>3</td></tr>",
                            "<tr><td>Fortuna Apartman</td><td>17</td><td>3</td></tr>",
                            "<tr><td>Fortuna Apartman</td><td>18</td><td>4</td></tr>",
                            "<tr><td>Fortuna Apartman</td><td>19</td><td>3</td></tr>",
                            "<tr><td>Fortuna Apartman</td><td>20</td><td>3</td></tr>",
                            "<tr><td>Fortuna Apartman</td><td>21</td><td>2</td></tr>",
                            "<tr><td>Fortuna Apartman</td><td>22</td><td>2</td></tr>",
                            "<tr><td>Fortuna Apartman</td><td>23</td><td>2</td></tr>",
                            "<tr><td>Fortuna Apartman</td><td>24</td><td>5</td></tr>",
                            "<tr><td>Fortuna panzió</td><td>25</td><td>4</td></tr>",
                            "<tr><td>Fortuna panzió</td><td>26</td><td>2</td></tr>",
                            "<tr><td>Fortuna panzió</td><td>27</td><td>3</td></tr>",
                            "<tr><td>Fortuna panzió</td><td>28</td><td>2</td></tr>",
                            "<tr><td>Fortuna panzió</td><td>29</td><td>1</td></tr>",
                            "<tr><td>Fortuna panzió</td><td>30</td><td>1</td></tr>",
                            "<tr><td>Fortuna panzió</td><td>31</td><td>4</td></tr>",
                            "<tr><td>Fortuna panzió</td><td>32</td><td>2</td></tr>",
                            "<tr><td>Fortuna panzió</td><td>33</td><td>2</td></tr>",
                            "<tr><td>Fortuna panzió</td><td>34</td><td>3</td></tr>",
                            "<tr><td>Fortuna panzió</td><td>35</td><td>1</td></tr>",
                            "<tr><td>Fortuna panzió</td><td>36</td><td>4</td></tr>",
                            "<tr><td>Fortuna panzió</td><td>37</td><td>2</td></tr>",
                            "<tr><td>Fortuna panzió</td><td>38</td><td>3</td></tr>",
                            "<tr><td>Fortuna panzió</td><td>39</td><td>2</td></tr>",
                            "<tr><td>Fortuna Panzió</td><td>40</td><td>3</td></tr>",
                            "<tr><td>Fortuna Panzió</td><td>41</td><td>3</td></tr>",
                            "<tr><td>Fortuna Panzió</td><td>42</td><td>2</td></tr>",
                            "<tr><td>Fortuna Panzió</td><td>43</td><td>2</td></tr>",
                            "<tr><td>Fortuna Panzió</td><td>44</td><td>3</td></tr>",
                            "<tr><td>Fortuna Panzió</td><td>45</td><td>2</td></tr>",
                            "<tr><td>Fortuna Panzió</td><td>46</td><td>3</td></tr>",
                            "<tr><td>Fortuna Panzió</td><td>47</td><td>1</td></tr>",
                            "<tr><td>Fortuna Panzió</td><td>48</td><td>1</td></tr>",
                            "<tr><td>Fortuna Panzió</td><td>49</td><td>2</td></tr>",
                            "<tr><td>Kentaur Hotel</td><td>50</td><td>2</td></tr>",
                            "<tr><td>Kentaur Hotel</td><td>51</td><td>4</td></tr>",
                            "<tr><td>Kentaur Hotel</td><td>52</td><td>3</td></tr>",
                            "<tr><td>Kentaur Hotel</td><td>53</td><td>2</td></tr>",
                            "<tr><td>Kentaur Hotel</td><td>54</td><td>2</td></tr>",
                            "<tr><td>Kentaur Hotel</td><td>55</td><td>3</td></tr>",
                            "<tr><td>Kentaur Hotel</td><td>56</td><td>2</td></tr>",
                            "<tr><td>Kentaur Hotel</td><td>57</td><td>1</td></tr>",
                            "<tr><td>Kentaur Hotel</td><td>58</td><td>2</td></tr>",
                            "<tr><td>Kentaur Hotel</td><td>59</td><td>3</td></tr>",
                            "<tr><td>Kentaur Hotel</td><td>60</td><td>2</td></tr>",
                            "<tr><td>Kentaur Hotel</td><td>61</td><td>3</td></tr>",
                            "<tr><td>Kentaur Hotel</td><td>62</td><td>2</td></tr>",
                            "<tr><td>Kentaur Hotel</td><td>63</td><td>1</td></tr>",
                            "<tr><td>Kentaur Hotel</td><td>64</td><td>2</td></tr>",
                            "<tr><td>Kentaur Hotel</td><td>65</td><td>2</td></tr>",
                            "<tr><td>Kentaur Hotel</td><td>66</td><td>3</td></tr>",
                            "<tr><td>Kentaur Hotel</td><td>67</td><td>3</td></tr>",
                            "<tr><td>Kentaur Hotel</td><td>68</td><td>4</td></tr>",
                            "<tr><td>Kentaur Hotel</td><td>69</td><td>4</td></tr>",
                            "<tr><td>Kentaur Hotel</td><td>70</td><td>2</td></tr>",
                            "<tr><td>Kentaur Hotel</td><td>71</td><td>3</td></tr>",
                            "<tr><td>Kentaur Hotel</td><td>72</td><td>1</td></tr>",
                            "<tr><td>Kentaur Hotel</td><td>73</td><td>2</td></tr>",
                            "<tr><td>Kentaur Hotel</td><td>74</td><td>3</td></tr>",
                            "<tr><td>Kentaur Hotel</td><td>75</td><td>3</td></tr>",
                            "<tr><td>Kentaur Hotel</td><td>76</td><td>2</td></tr>",
                            "<tr><td>Kentaur Hotel</td><td>77</td><td>1</td></tr>",
                            "<tr><td>Kentaur Hotel</td><td>78</td><td>3</td></tr>",
                            "<tr><td>Kentaur Hotel</td><td>79</td><td>2</td></tr>",
                            "<tr><td>Kentaur Hotel</td><td>80</td><td>1</td></tr>",
                            "<tr><td>Kentaur Hotel</td><td>81</td><td>2</td></tr>",
                            "<tr><td>Kentaur Hotel</td><td>82</td><td>3</td></tr>",
                            "<tr><td>Kentaur Hotel</td><td>83</td><td>1</td></tr>",
                            "<tr><td>Kentaur Hotel</td><td>84</td><td>1</td></tr>",
                            "<tr><td>Szieszta Apartmanház</td><td>85</td><td>2</td></tr>",
                            "<tr><td>Szieszta Apartmanház</td><td>86</td><td>3</td></tr>",
                            "<tr><td>Szieszta Apartmanház</td><td>87</td><td>3</td></tr>",
                            "<tr><td>Szieszta Apartmanház</td><td>88</td><td>2</td></tr>",
                            "<tr><td>Szieszta Apartmanház</td><td>89</td><td>3</td></tr>",
                            "<tr><td>Szieszta Apartmanház</td><td>90</td><td>3</td></tr>",
                            "<tr><td>Hotel Három Hattyú</td><td>91</td><td>2</td></tr>",
                            "<tr><td>Hotel Három Hattyú</td><td>92</td><td>4</td></tr>",
                            "<tr><td>Hotel Három Hattyú</td><td>93</td><td>5</td></tr>",
                            "<tr><td>Hotel Három Hattyú</td><td>94</td><td>2</td></tr>",
                            "<tr><td>Hotel Három Hattyú</td><td>95</td><td>1</td></tr>",
                            "<tr><td>Hotel Három Hattyú</td><td>96</td><td>3</td></tr>",
                            "<tr><td>Hotel Három Hattyú</td><td>97</td><td>3</td></tr>",
                            "<tr><td>Hotel Három Hattyú</td><td>98</td><td>2</td></tr>",
                            "<tr><td>Hotel Három Hattyú</td><td>99</td><td>2</td></tr>",
                            "<tr><td>Hotel Három Hattyú</td><td>100</td><td>3</td></tr>",
                            "<tr><td>Hotel Három Hattyú</td><td>101</td><td>2</td></tr>",
                            "<tr><td>Hotel Három Hattyú</td><td>102</td><td>2</td></tr>",
                            "<tr><td>Hotel Három Hattyú</td><td>103</td><td>2</td></tr>",
                            "<tr><td>Hotel Három Hattyú</td><td>104</td><td>2</td></tr>",
                            "<tr><td>Hotel Három Hattyú</td><td>105</td><td>2</td></tr>",
                            "<tr><td>Hotel Három Hattyú</td><td>106</td><td>2</td></tr>",
                            "<tr><td>Hotel Három Hattyú</td><td>107</td><td>3</td></tr>",
                            "<tr><td>Hotel Három Hattyú</td><td>108</td><td>2</td></tr>",
                            "<tr><td>Hotel Három Hattyú</td><td>109</td><td>2</td></tr>",
                            "<tr><td>Hotel Három Hattyú</td><td>110</td><td>2</td></tr>",
                            "<tr><td>Hotel Három Hattyú</td><td>111</td><td>3</td></tr>",
                            "<tr><td>Hotel Három Hattyú</td><td>112</td><td>3</td></tr>",
                            "<tr><td>Hotel Három Hattyú</td><td>113</td><td>4</td></tr>",
                            "<tr><td>Hotel Három Hattyú</td><td>114</td><td>3</td></tr>",
                            "<tr><td>Hotel Három Hattyú</td><td>115</td><td>3</td></tr>",
                            "<tr><td>Hotel Három Hattyú</td><td>116</td><td>3</td></tr>",
                            "<tr><td>Hotel Három Hattyú</td><td>117</td><td>4</td></tr>",
                            "<tr><td>Hotel Három Hattyú</td><td>118</td><td>2</td></tr>",
                            "<tr><td>Hotel Három Hattyú</td><td>119</td><td>2</td></tr>",
                            "<tr><td>Hotel Három Hattyú</td><td>120</td><td>4</td></tr>",
                            "<tr><td>Hotel Három Hattyú</td><td>121</td><td>3</td></tr>",
                            "<tr><td>Hotel Három Hattyú</td><td>122</td><td>4</td></tr>",
                            "<tr><td>Hotel Három Hattyú</td><td>123</td><td>3</td></tr>",
                            "<tr><td>Hotel Három Hattyú</td><td>124</td><td>3</td></tr>",
                            "<tr><td>Hotel Három Hattyú</td><td>125</td><td>3</td></tr>",
                            "<tr><td>Hotel Három Hattyú</td><td>126</td><td>3</td></tr>",
                            "<tr><td>Hotel Három Hattyú</td><td>127</td><td>3</td></tr>",
                            "<tr><td>Hotel Három Hattyú</td><td>128</td><td>2</td></tr>",
                            "<tr><td>Hotel Három Hattyú</td><td>129</td><td>3</td></tr>",
                            "<tr><td>Jáde panzió</td><td>130</td><td>2</td></tr>",
                            "<tr><td>Jáde panzió</td><td>131</td><td>2</td></tr>",
                            "<tr><td>Jáde panzió</td><td>132</td><td>3</td></tr>",
                            "<tr><td>Jáde panzió</td><td>133</td><td>3</td></tr>",
                            "<tr><td>Jáde panzió</td><td>134</td><td>2</td></tr>",
                            "<tr><td>Lagúna Hotel</td><td>135</td><td>3</td></tr>",
                            "<tr><td>Lagúna Hotel</td><td>136</td><td>2</td></tr>",
                            "<tr><td>Lagúna Hotel</td><td>137</td><td>2</td></tr>",
                            "<tr><td>Lagúna Hotel</td><td>138</td><td>4</td></tr>",
                            "<tr><td>Lagúna Hotel</td><td>139</td><td>1</td></tr>",
                            "<tr><td>Lagúna Hotel</td><td>140</td><td>2</td></tr>",
                            "<tr><td>Lagúna Hotel</td><td>141</td><td>2</td></tr>",
                            "<tr><td>Lagúna Hotel</td><td>142</td><td>2</td></tr>",
                            "<tr><td>Lagúna Hotel</td><td>143</td><td>2</td></tr>",
                            "<tr><td>Lagúna Hotel</td><td>144</td><td>4</td></tr>",
                            "<tr><td>Lagúna Hotel</td><td>145</td><td>3</td></tr>",
                            "<tr><td>Lagúna Hotel</td><td>146</td><td>2</td></tr>",
                            "<tr><td>Lagúna Hotel</td><td>147</td><td>2</td></tr>",
                            "<tr><td>Lagúna Hotel</td><td>148</td><td>1</td></tr>",
                            "<tr><td>Lagúna Hotel</td><td>149</td><td>2</td></tr>",
                            "<tr><td>Lagúna Hotel</td><td>150</td><td>2</td></tr>",
                            "<tr><td>Lagúna Hotel</td><td>151</td><td>2</td></tr>",
                            "<tr><td>Lagúna Hotel</td><td>152</td><td>2</td></tr>",
                            "<tr><td>Lagúna Hotel</td><td>153</td><td>3</td></tr>",
                            "<tr><td>Lagúna Hotel</td><td>154</td><td>2</td></tr>",
                            "<tr><td>Lagúna Hotel</td><td>155</td><td>1</td></tr>",
                            "<tr><td>Lagúna Hotel</td><td>156</td><td>3</td></tr>",
                            "<tr><td>Lagúna Hotel</td><td>157</td><td>2</td></tr>",
                            "<tr><td>Lagúna Hotel</td><td>158</td><td>3</td></tr>",
                            "<tr><td>Partiszél Vendégház</td><td>160</td><td>3</td></tr>",
                            "<tr><td>Partiszél Vendégház</td><td>161</td><td>3</td></tr>",
                            "<tr><td>Partiszél Vendégház</td><td>162</td><td>2</td></tr>",
                            "<tr><td>Partiszél Vendégház</td><td>163</td><td>2</td></tr>",
                            "<tr><td>Partiszél Vendégház</td><td>164</td><td>2</td></tr>",
                            "<tr><td>Gold Hotel</td><td>165</td><td>2</td></tr>",
                            "<tr><td>Gold Hotel</td><td>166</td><td>3</td></tr>",
                            "<tr><td>Gold Hotel</td><td>167</td><td>3</td></tr>",
                            "<tr><td>Gold Hotel</td><td>168</td><td>2</td></tr>",
                            "<tr><td>Gold Hotel</td><td>169</td><td>2</td></tr>",
                            "<tr><td>Gold Hotel</td><td>170</td><td>1</td></tr>",
                            "<tr><td>Gold Hotel</td><td>171</td><td>2</td></tr>",
                            "<tr><td>Gold Hotel</td><td>172</td><td>2</td></tr>",
                            "<tr><td>Gold Hotel</td><td>173</td><td>2</td></tr>",
                            "<tr><td>Gold Hotel</td><td>174</td><td>2</td></tr>",
                            "<tr><td>Gold Hotel</td><td>175</td><td>2</td></tr>",
                            "<tr><td>Gold Hotel</td><td>176</td><td>3</td></tr>",
                            "<tr><td>Gold Hotel</td><td>177</td><td>3</td></tr>",
                            "<tr><td>Gold Hotel</td><td>178</td><td>3</td></tr>",
                            "<tr><td>Gold Hotel</td><td>179</td><td>3</td></tr>",
                            "<tr><td>Gold Hotel</td><td>180</td><td>4</td></tr>",
                            "<tr><td>Gold Hotel</td><td>181</td><td>3</td></tr>",
                            "<tr><td>Gold Hotel</td><td>182</td><td>1</td></tr>",
                            "<tr><td>Gold Hotel</td><td>183</td><td>3</td></tr>",
                            "<tr><td>Gold Hotel</td><td>184</td><td>1</td></tr>",
                            "<tr><td>Gold Hotel</td><td>185</td><td>3</td></tr>",
                            "<tr><td>Gold Hotel</td><td>186</td><td>4</td></tr>",
                            "<tr><td>Gold Hotel</td><td>187</td><td>3</td></tr>",
                            "<tr><td>Gold Hotel</td><td>188</td><td>2</td></tr>",
                            "<tr><td>Gold Hotel</td><td>189</td><td>1</td></tr>",
                            "<tr><td>Gold Hotel</td><td>190</td><td>2</td></tr>",
                            "<tr><td>Gold Hotel</td><td>191</td><td>1</td></tr>",
                            "<tr><td>Gold Hotel</td><td>192</td><td>2</td></tr>",
                            "<tr><td>Gold Hotel</td><td>193</td><td>4</td></tr>",
                            "<tr><td>Gold Hotel</td><td>194</td><td>3</td></tr>",
                            "<tr><td>Gold Hotel</td><td>195</td><td>2</td></tr>",
                            "<tr><td>Gold Hotel</td><td>196</td><td>3</td></tr>",
                            "<tr><td>Gold Hotel</td><td>197</td><td>3</td></tr>",
                            "<tr><td>Gold Hotel</td><td>198</td><td>1</td></tr>",
                            "</table>"
                        ]
                    }
                }
            ],
            "execution_count": 30
        },
        {
            "cell_type": "markdown",
            "source": [
                "Készítsen lekérdezést, amely megjeleníti, hogy szálláshelyenként, azon belül a pótágyak száma szerint hány főre foglaltak összesen (felnőtt + gyermek)!\n",
                "\n",
                "- Jelenjenek meg a részösszegek és a végösszeg is!"
            ],
            "metadata": {
                "azdata_cell_guid": "d07d041e-8219-47d7-a449-c3e428ca3dc5"
            },
            "attachments": {}
        },
        {
            "cell_type": "code",
            "source": [
                "SELECT\r\n",
                "    szh.SZALLAS_NEV AS 'szállás neve',\r\n",
                "    szo.POTAGY AS 'pótágyak száma',\r\n",
                "    SUM(fog.felnott_szam + fog.gyermek_szam) AS 'összes foglalás'\r\n",
                "FROM SZALLASHELY szh JOIN SZOBA szo ON szh.SZALLAS_ID = szo.SZALLAS_FK\r\n",
                "                     JOIN FOGLALAS fog ON szo.SZOBA_ID = fog.SZOBA_FK\r\n",
                "\r\n",
                "GROUP BY ROLLUP(szh.SZALLAS_NEV, szo.POTAGY) \r\n",
                "\r\n",
                "ORDER BY szh.SZALLAS_NEV, szo.POTAGY;\r\n",
                ""
            ],
            "metadata": {
                "azdata_cell_guid": "0a35115b-b244-42c7-991c-c688949c54b9",
                "language": "sql"
            },
            "outputs": [
                {
                    "output_type": "display_data",
                    "data": {
                        "text/html": "(41 rows affected)"
                    },
                    "metadata": {}
                },
                {
                    "output_type": "display_data",
                    "data": {
                        "text/html": "Total execution time: 00:00:00.027"
                    },
                    "metadata": {}
                },
                {
                    "output_type": "execute_result",
                    "metadata": {},
                    "execution_count": 24,
                    "data": {
                        "application/vnd.dataresource+json": {
                            "schema": {
                                "fields": [
                                    {
                                        "name": "szállás neve"
                                    },
                                    {
                                        "name": "pótágyak száma"
                                    },
                                    {
                                        "name": "összes foglalas"
                                    }
                                ]
                            },
                            "data": [
                                {
                                    "szállás neve": "NULL",
                                    "pótágyak száma": "NULL",
                                    "összes foglalas": "2490"
                                },
                                {
                                    "szállás neve": "Családi Ház",
                                    "pótágyak száma": "NULL",
                                    "összes foglalas": "52"
                                },
                                {
                                    "szállás neve": "Családi Ház",
                                    "pótágyak száma": "0",
                                    "összes foglalas": "10"
                                },
                                {
                                    "szállás neve": "Családi Ház",
                                    "pótágyak száma": "1",
                                    "összes foglalas": "31"
                                },
                                {
                                    "szállás neve": "Családi Ház",
                                    "pótágyak száma": "2",
                                    "összes foglalas": "11"
                                },
                                {
                                    "szállás neve": "Fortuna Apartman",
                                    "pótágyak száma": "NULL",
                                    "összes foglalas": "106"
                                },
                                {
                                    "szállás neve": "Fortuna Apartman",
                                    "pótágyak száma": "0",
                                    "összes foglalas": "18"
                                },
                                {
                                    "szállás neve": "Fortuna Apartman",
                                    "pótágyak száma": "1",
                                    "összes foglalas": "52"
                                },
                                {
                                    "szállás neve": "Fortuna Apartman",
                                    "pótágyak száma": "2",
                                    "összes foglalas": "36"
                                },
                                {
                                    "szállás neve": "Fortuna Panzió",
                                    "pótágyak száma": "NULL",
                                    "összes foglalas": "311"
                                },
                                {
                                    "szállás neve": "Fortuna Panzió",
                                    "pótágyak száma": "0",
                                    "összes foglalas": "158"
                                },
                                {
                                    "szállás neve": "Fortuna panzió",
                                    "pótágyak száma": "1",
                                    "összes foglalas": "113"
                                },
                                {
                                    "szállás neve": "Fortuna panzió",
                                    "pótágyak száma": "2",
                                    "összes foglalas": "40"
                                },
                                {
                                    "szállás neve": "Gold Hotel",
                                    "pótágyak száma": "NULL",
                                    "összes foglalas": "428"
                                },
                                {
                                    "szállás neve": "Gold Hotel",
                                    "pótágyak száma": "0",
                                    "összes foglalas": "216"
                                },
                                {
                                    "szállás neve": "Gold Hotel",
                                    "pótágyak száma": "1",
                                    "összes foglalas": "93"
                                },
                                {
                                    "szállás neve": "Gold Hotel",
                                    "pótágyak száma": "2",
                                    "összes foglalas": "119"
                                },
                                {
                                    "szállás neve": "Hotel Három Hattyú",
                                    "pótágyak száma": "NULL",
                                    "összes foglalas": "504"
                                },
                                {
                                    "szállás neve": "Hotel Három Hattyú",
                                    "pótágyak száma": "0",
                                    "összes foglalas": "183"
                                },
                                {
                                    "szállás neve": "Hotel Három Hattyú",
                                    "pótágyak száma": "1",
                                    "összes foglalas": "258"
                                },
                                {
                                    "szállás neve": "Hotel Három Hattyú",
                                    "pótágyak száma": "2",
                                    "összes foglalas": "63"
                                },
                                {
                                    "szállás neve": "Jáde panzió",
                                    "pótágyak száma": "NULL",
                                    "összes foglalas": "66"
                                },
                                {
                                    "szállás neve": "Jáde panzió",
                                    "pótágyak száma": "0",
                                    "összes foglalas": "66"
                                },
                                {
                                    "szállás neve": "Kentaur Hotel",
                                    "pótágyak száma": "NULL",
                                    "összes foglalas": "420"
                                },
                                {
                                    "szállás neve": "Kentaur Hotel",
                                    "pótágyak száma": "0",
                                    "összes foglalas": "168"
                                },
                                {
                                    "szállás neve": "Kentaur Hotel",
                                    "pótágyak száma": "1",
                                    "összes foglalas": "224"
                                },
                                {
                                    "szállás neve": "Kentaur Hotel",
                                    "pótágyak száma": "2",
                                    "összes foglalas": "28"
                                },
                                {
                                    "szállás neve": "Lagúna Hotel",
                                    "pótágyak száma": "NULL",
                                    "összes foglalas": "291"
                                },
                                {
                                    "szállás neve": "Lagúna Hotel",
                                    "pótágyak száma": "0",
                                    "összes foglalas": "105"
                                },
                                {
                                    "szállás neve": "Lagúna Hotel",
                                    "pótágyak száma": "1",
                                    "összes foglalas": "150"
                                },
                                {
                                    "szállás neve": "Lagúna Hotel",
                                    "pótágyak száma": "2",
                                    "összes foglalas": "36"
                                },
                                {
                                    "szállás neve": "Partiszél Vendégház",
                                    "pótágyak száma": "NULL",
                                    "összes foglalas": "63"
                                },
                                {
                                    "szállás neve": "Partiszél Vendégház",
                                    "pótágyak száma": "0",
                                    "összes foglalas": "31"
                                },
                                {
                                    "szállás neve": "Partiszél Vendégház",
                                    "pótágyak száma": "1",
                                    "összes foglalas": "17"
                                },
                                {
                                    "szállás neve": "Partiszél Vendégház",
                                    "pótágyak száma": "2",
                                    "összes foglalas": "15"
                                },
                                {
                                    "szállás neve": "Sába-Ház",
                                    "pótágyak száma": "NULL",
                                    "összes foglalas": "166"
                                },
                                {
                                    "szállás neve": "Sába-Ház",
                                    "pótágyak száma": "0",
                                    "összes foglalas": "67"
                                },
                                {
                                    "szállás neve": "Sába-Ház",
                                    "pótágyak száma": "1",
                                    "összes foglalas": "99"
                                },
                                {
                                    "szállás neve": "Szieszta Apartmanház",
                                    "pótágyak száma": "NULL",
                                    "összes foglalas": "83"
                                },
                                {
                                    "szállás neve": "Szieszta Apartmanház",
                                    "pótágyak száma": "0",
                                    "összes foglalas": "64"
                                },
                                {
                                    "szállás neve": "Szieszta Apartmanház",
                                    "pótágyak száma": "1",
                                    "összes foglalas": "19"
                                }
                            ]
                        },
                        "text/html": [
                            "<table>",
                            "<tr><th>szállás neve</th><th>pótágyak száma</th><th>összes foglalas</th></tr>",
                            "<tr><td>NULL</td><td>NULL</td><td>2490</td></tr>",
                            "<tr><td>Családi Ház</td><td>NULL</td><td>52</td></tr>",
                            "<tr><td>Családi Ház</td><td>0</td><td>10</td></tr>",
                            "<tr><td>Családi Ház</td><td>1</td><td>31</td></tr>",
                            "<tr><td>Családi Ház</td><td>2</td><td>11</td></tr>",
                            "<tr><td>Fortuna Apartman</td><td>NULL</td><td>106</td></tr>",
                            "<tr><td>Fortuna Apartman</td><td>0</td><td>18</td></tr>",
                            "<tr><td>Fortuna Apartman</td><td>1</td><td>52</td></tr>",
                            "<tr><td>Fortuna Apartman</td><td>2</td><td>36</td></tr>",
                            "<tr><td>Fortuna Panzió</td><td>NULL</td><td>311</td></tr>",
                            "<tr><td>Fortuna Panzió</td><td>0</td><td>158</td></tr>",
                            "<tr><td>Fortuna panzió</td><td>1</td><td>113</td></tr>",
                            "<tr><td>Fortuna panzió</td><td>2</td><td>40</td></tr>",
                            "<tr><td>Gold Hotel</td><td>NULL</td><td>428</td></tr>",
                            "<tr><td>Gold Hotel</td><td>0</td><td>216</td></tr>",
                            "<tr><td>Gold Hotel</td><td>1</td><td>93</td></tr>",
                            "<tr><td>Gold Hotel</td><td>2</td><td>119</td></tr>",
                            "<tr><td>Hotel Három Hattyú</td><td>NULL</td><td>504</td></tr>",
                            "<tr><td>Hotel Három Hattyú</td><td>0</td><td>183</td></tr>",
                            "<tr><td>Hotel Három Hattyú</td><td>1</td><td>258</td></tr>",
                            "<tr><td>Hotel Három Hattyú</td><td>2</td><td>63</td></tr>",
                            "<tr><td>Jáde panzió</td><td>NULL</td><td>66</td></tr>",
                            "<tr><td>Jáde panzió</td><td>0</td><td>66</td></tr>",
                            "<tr><td>Kentaur Hotel</td><td>NULL</td><td>420</td></tr>",
                            "<tr><td>Kentaur Hotel</td><td>0</td><td>168</td></tr>",
                            "<tr><td>Kentaur Hotel</td><td>1</td><td>224</td></tr>",
                            "<tr><td>Kentaur Hotel</td><td>2</td><td>28</td></tr>",
                            "<tr><td>Lagúna Hotel</td><td>NULL</td><td>291</td></tr>",
                            "<tr><td>Lagúna Hotel</td><td>0</td><td>105</td></tr>",
                            "<tr><td>Lagúna Hotel</td><td>1</td><td>150</td></tr>",
                            "<tr><td>Lagúna Hotel</td><td>2</td><td>36</td></tr>",
                            "<tr><td>Partiszél Vendégház</td><td>NULL</td><td>63</td></tr>",
                            "<tr><td>Partiszél Vendégház</td><td>0</td><td>31</td></tr>",
                            "<tr><td>Partiszél Vendégház</td><td>1</td><td>17</td></tr>",
                            "<tr><td>Partiszél Vendégház</td><td>2</td><td>15</td></tr>",
                            "<tr><td>Sába-Ház</td><td>NULL</td><td>166</td></tr>",
                            "<tr><td>Sába-Ház</td><td>0</td><td>67</td></tr>",
                            "<tr><td>Sába-Ház</td><td>1</td><td>99</td></tr>",
                            "<tr><td>Szieszta Apartmanház</td><td>NULL</td><td>83</td></tr>",
                            "<tr><td>Szieszta Apartmanház</td><td>0</td><td>64</td></tr>",
                            "<tr><td>Szieszta Apartmanház</td><td>1</td><td>19</td></tr>",
                            "</table>"
                        ]
                    }
                }
            ],
            "execution_count": 24
        },
        {
            "cell_type": "markdown",
            "source": [
                "Készítsünk ideiglenes táblát #MASKED\\_GUEST néven, ahol \n",
                "\n",
                "- a tábla felépítése megegyezik a vendég tábláéval, DE\n",
                "- a vendégek nevének csak az első 2, és az utolsó 3 karaktere jelenjen meg, közötte X-ek legyenek!"
            ],
            "metadata": {
                "azdata_cell_guid": "d3d5fcc1-4eb5-4964-8721-b13631c3e806"
            },
            "attachments": {}
        },
        {
            "cell_type": "code",
            "source": [
                "CREATE TABLE #masked_guest\r\n",
                "(\r\n",
                "    usernev NVARCHAR(20) PRIMARY KEY,\r\n",
                "    nev NVARCHAR(50) MASKED WITH (FUNCTION = 'partial(2, \"XXXX\", 3)'),\r\n",
                "    email NVARCHAR(60),\r\n",
                "    szaml_cim NVARCHAR(100),\r\n",
                "    szul_dat DATE\r\n",
                "    \r\n",
                ")\r\n",
                ""
            ],
            "metadata": {
                "azdata_cell_guid": "9a582087-e22c-4dc2-a254-16177cfa7fd3",
                "language": "sql"
            },
            "outputs": [
                {
                    "output_type": "error",
                    "evalue": "Msg 2714, Level 16, State 6, Line 1\r\nThere is already an object named '#masked_guest' in the database.",
                    "ename": "",
                    "traceback": []
                },
                {
                    "output_type": "display_data",
                    "data": {
                        "text/html": "Total execution time: 00:00:00.016"
                    },
                    "metadata": {}
                }
            ],
            "execution_count": 26
        },
        {
            "cell_type": "markdown",
            "source": [
                "Valósítsa meg REDIS-ben a következő táblákat:\n",
                "\n",
                "- <span style=\"box-sizing: border-box; font-size: 0.9375rem;\">IRO(ID, nev, nemzetiseg)</span>\n",
                "- KONYV(ID, cim, mufaj, IRO\\_ID)\n",
                "\n",
                "Vigyen fel táblánként legalább 2-2 sornyi adatot!"
            ],
            "metadata": {
                "azdata_cell_guid": "1aad129c-8086-4500-b8fd-992b508eda16"
            },
            "attachments": {}
        },
        {
            "cell_type": "code",
            "source": [
                "\r\n",
                "HSET IRO:1 nev \"Czégány Pál\" nemzetiseg \"magyar\"\r\n",
                "HSET IRO:2 nev \"Stephen King\" nemzetiseg \"amerikai\"\r\n",
                "\r\n",
                "HSET KONYV:1 cim \"Fradista leszek! a kezdetek\" mufaj \"gyermekkönyv\" IRO_ID 1\r\n",
                "HSET KONYV:2 cim \"Az\" mufaj \"horror\" IRO_ID 2"
            ],
            "metadata": {
                "azdata_cell_guid": "e6c91f75-904f-426a-ab12-3920df3bcf3b",
                "language": "sql"
            },
            "outputs": [],
            "execution_count": null
        },
        {
            "cell_type": "markdown",
            "source": [
                "Cassandra CQL Shellben hozza létre a következő táblát:\n",
                "\n",
                "STUDENT(ID, Nev, Teljesitett\\_felevek, Eredmenyek, Nyelvtudas)\n",
                "\n",
                "- Az ID legyen az elsődleges kulcs\n",
                "- A Teljesitett félévek legyen LIST, tartalma egész számok, pl: 1, 2, 3\n",
                "- Az Eredmenyek legyen MAP, tartalma, hogy melyik félévben mennyi volt az átlag, pl: 1: 3,00, 2: 4.55, 3: 4,10\n",
                "- A Nyelvtudas legyen SET, tartalma a nyelvek megnevezése\n",
                "\n",
                "Vigyen fel legalább 2 rekordot!"
            ],
            "metadata": {
                "azdata_cell_guid": "037adf39-084a-4c28-b8cb-6e3efbccd780"
            },
            "attachments": {}
        },
        {
            "cell_type": "code",
            "source": [
                "CREATE TABLE STUDENT (\r\n",
                "    ID int PRIMARY KEY,\r\n",
                "    Nev text,\r\n",
                "    Teljesitett_felevevek list<int>,\r\n",
                "    Eredmenyek map<decimal>,\r\n",
                "    Nyelvtudas set<text>\r\n",
                ");\r\n",
                "\r\n",
                "INSERT INTO STUDENT (ID, Nev, Teljesitett_felevevek, Eredmenyek, Nyelvtudas)\r\n",
                "VALUES (1, 'Gera Zoltán', [1, 2, 3, 4], {1: 5.00, 2: 4.90, 3: 4.80}, {'magyar'});\r\n",
                "\r\n",
                "INSERT INTO STUDENT (ID, Nev, Teljesitett_felevevek, Eredmenyek, Nyelvtudas)\r\n",
                "VALUES (2, 'Albert Flórián', [1, 2], {1: 4.95, 2: 4.70}, {'magyar', 'német'});\r\n",
                "\r\n",
                ""
            ],
            "metadata": {
                "azdata_cell_guid": "eccd27a2-79f1-4925-81f2-7b3856ee74bf",
                "language": "sql",
                "tags": []
            },
            "outputs": [
                {
                    "output_type": "error",
                    "evalue": "Msg 102, Level 15, State 1, Line 4\r\nIncorrect syntax near '<'.",
                    "ename": "",
                    "traceback": []
                },
                {
                    "output_type": "error",
                    "evalue": "Msg 102, Level 15, State 1, Line 10\r\nIncorrect syntax near '1'.",
                    "ename": "",
                    "traceback": []
                },
                {
                    "output_type": "error",
                    "evalue": "Msg 102, Level 15, State 1, Line 13\r\nIncorrect syntax near '1'.",
                    "ename": "",
                    "traceback": []
                },
                {
                    "output_type": "display_data",
                    "data": {
                        "text/html": "Total execution time: 00:00:00.002"
                    },
                    "metadata": {}
                }
            ],
            "execution_count": 27
        },
        {
            "cell_type": "markdown",
            "source": [
                "A Neo4j Sandbox-ban vagy a Desktopban jelenítsük meg azon személyeket, akik egy filmben szerepeltek Tom Hanks-sel.\n",
                "\n",
                "- Egy szereplő neve csak egyszer jelenjen meg\n",
                "- Tom Hanks ne legyen benne a listában"
            ],
            "metadata": {
                "azdata_cell_guid": "6b991554-280d-4196-8f5c-7d5696d32e8a"
            },
            "attachments": {}
        },
        {
            "cell_type": "code",
            "source": [
                "MATCH (n:Person {name: \"Tom Hanks\"})-[:ACTED_IN]->(p:Movie)<-[:ACTED_IN]-(szereplő:Person)\r\n",
                "WHERE szereplő.name <> \"Tom Hanks\"\r\n",
                "RETURN DISTINCT szereplő.name\r\n",
                ""
            ],
            "metadata": {
                "azdata_cell_guid": "49df7eaa-ccff-45fc-accf-c1fe338fbfd2",
                "language": "sql"
            },
            "outputs": [],
            "execution_count": null
        }
    ]
}