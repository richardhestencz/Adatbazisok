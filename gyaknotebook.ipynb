{
    "metadata": {
        "kernelspec": {
            "name": "SQL",
            "display_name": "SQL",
            "language": "sql"
        },
        "language_info": {
            "name": "sql",
            "version": ""
        }
    },
    "nbformat_minor": 2,
    "nbformat": 4,
    "cells": [
        {
            "cell_type": "markdown",
            "source": [
                "Listázzuk \"laszlo2\" vendég gyermek nélküli foglalásainak adatait!\n",
                "\n",
                "a. Egy új oszlopban jelenítsük meg, hogy a foglalás a nyári szezonban (június, július, augusztus) történt-e (Igen/Nem). \n",
                "\n",
                "b. A foglalás dátumánál a METTOL oszlopot vegyük figyelembe"
            ],
            "metadata": {
                "azdata_cell_guid": "59498b4e-4aeb-4ddf-9800-0e7dbb7a5da4"
            },
            "attachments": {}
        },
        {
            "cell_type": "code",
            "source": [
                ""
            ],
            "metadata": {
                "azdata_cell_guid": "4fe25234-4ba5-4e1a-b678-f1235e1bc429",
                "language": "sql"
            },
            "outputs": [],
            "execution_count": null
        },
        {
            "cell_type": "code",
            "source": [
                ""
            ],
            "metadata": {
                "azdata_cell_guid": "290321d5-82e6-4b71-9a6a-91495f2d8321",
                "language": "sql"
            },
            "outputs": [],
            "execution_count": null
        }
    ]
}